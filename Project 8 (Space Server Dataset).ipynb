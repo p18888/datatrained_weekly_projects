{
 "cells": [
  {
   "cell_type": "code",
   "execution_count": 1,
   "metadata": {},
   "outputs": [],
   "source": [
    "import pandas as pd\n",
    "import numpy as np\n",
    "import matplotlib.pyplot as plt\n",
    "import seaborn as sns\n",
    "import datetime as dt\n",
    "%matplotlib inline\n",
    "import warnings\n",
    "warnings.simplefilter('ignore')"
   ]
  },
  {
   "cell_type": "code",
   "execution_count": 2,
   "metadata": {},
   "outputs": [
    {
     "data": {
      "text/html": [
       "<div>\n",
       "<style scoped>\n",
       "    .dataframe tbody tr th:only-of-type {\n",
       "        vertical-align: middle;\n",
       "    }\n",
       "\n",
       "    .dataframe tbody tr th {\n",
       "        vertical-align: top;\n",
       "    }\n",
       "\n",
       "    .dataframe thead th {\n",
       "        text-align: right;\n",
       "    }\n",
       "</style>\n",
       "<table border=\"1\" class=\"dataframe\">\n",
       "  <thead>\n",
       "    <tr style=\"text-align: right;\">\n",
       "      <th></th>\n",
       "      <th>objid</th>\n",
       "      <th>ra</th>\n",
       "      <th>dec</th>\n",
       "      <th>u</th>\n",
       "      <th>g</th>\n",
       "      <th>r</th>\n",
       "      <th>i</th>\n",
       "      <th>z</th>\n",
       "      <th>run</th>\n",
       "      <th>rerun</th>\n",
       "      <th>camcol</th>\n",
       "      <th>field</th>\n",
       "      <th>specobjid</th>\n",
       "      <th>class</th>\n",
       "      <th>redshift</th>\n",
       "      <th>plate</th>\n",
       "      <th>mjd</th>\n",
       "      <th>fiberid</th>\n",
       "    </tr>\n",
       "  </thead>\n",
       "  <tbody>\n",
       "    <tr>\n",
       "      <th>0</th>\n",
       "      <td>1.237650e+18</td>\n",
       "      <td>183.531326</td>\n",
       "      <td>0.089693</td>\n",
       "      <td>19.47406</td>\n",
       "      <td>17.04240</td>\n",
       "      <td>15.94699</td>\n",
       "      <td>15.50342</td>\n",
       "      <td>15.22531</td>\n",
       "      <td>752</td>\n",
       "      <td>301</td>\n",
       "      <td>4</td>\n",
       "      <td>267</td>\n",
       "      <td>3.722360e+18</td>\n",
       "      <td>STAR</td>\n",
       "      <td>-0.000009</td>\n",
       "      <td>3306</td>\n",
       "      <td>54922</td>\n",
       "      <td>491</td>\n",
       "    </tr>\n",
       "    <tr>\n",
       "      <th>1</th>\n",
       "      <td>1.237650e+18</td>\n",
       "      <td>183.598371</td>\n",
       "      <td>0.135285</td>\n",
       "      <td>18.66280</td>\n",
       "      <td>17.21449</td>\n",
       "      <td>16.67637</td>\n",
       "      <td>16.48922</td>\n",
       "      <td>16.39150</td>\n",
       "      <td>752</td>\n",
       "      <td>301</td>\n",
       "      <td>4</td>\n",
       "      <td>267</td>\n",
       "      <td>3.638140e+17</td>\n",
       "      <td>STAR</td>\n",
       "      <td>-0.000055</td>\n",
       "      <td>323</td>\n",
       "      <td>51615</td>\n",
       "      <td>541</td>\n",
       "    </tr>\n",
       "    <tr>\n",
       "      <th>2</th>\n",
       "      <td>1.237650e+18</td>\n",
       "      <td>183.680207</td>\n",
       "      <td>0.126185</td>\n",
       "      <td>19.38298</td>\n",
       "      <td>18.19169</td>\n",
       "      <td>17.47428</td>\n",
       "      <td>17.08732</td>\n",
       "      <td>16.80125</td>\n",
       "      <td>752</td>\n",
       "      <td>301</td>\n",
       "      <td>4</td>\n",
       "      <td>268</td>\n",
       "      <td>3.232740e+17</td>\n",
       "      <td>GALAXY</td>\n",
       "      <td>0.123111</td>\n",
       "      <td>287</td>\n",
       "      <td>52023</td>\n",
       "      <td>513</td>\n",
       "    </tr>\n",
       "    <tr>\n",
       "      <th>3</th>\n",
       "      <td>1.237650e+18</td>\n",
       "      <td>183.870529</td>\n",
       "      <td>0.049911</td>\n",
       "      <td>17.76536</td>\n",
       "      <td>16.60272</td>\n",
       "      <td>16.16116</td>\n",
       "      <td>15.98233</td>\n",
       "      <td>15.90438</td>\n",
       "      <td>752</td>\n",
       "      <td>301</td>\n",
       "      <td>4</td>\n",
       "      <td>269</td>\n",
       "      <td>3.722370e+18</td>\n",
       "      <td>STAR</td>\n",
       "      <td>-0.000111</td>\n",
       "      <td>3306</td>\n",
       "      <td>54922</td>\n",
       "      <td>510</td>\n",
       "    </tr>\n",
       "    <tr>\n",
       "      <th>4</th>\n",
       "      <td>1.237650e+18</td>\n",
       "      <td>183.883288</td>\n",
       "      <td>0.102557</td>\n",
       "      <td>17.55025</td>\n",
       "      <td>16.26342</td>\n",
       "      <td>16.43869</td>\n",
       "      <td>16.55492</td>\n",
       "      <td>16.61326</td>\n",
       "      <td>752</td>\n",
       "      <td>301</td>\n",
       "      <td>4</td>\n",
       "      <td>269</td>\n",
       "      <td>3.722370e+18</td>\n",
       "      <td>STAR</td>\n",
       "      <td>0.000590</td>\n",
       "      <td>3306</td>\n",
       "      <td>54922</td>\n",
       "      <td>512</td>\n",
       "    </tr>\n",
       "    <tr>\n",
       "      <th>...</th>\n",
       "      <td>...</td>\n",
       "      <td>...</td>\n",
       "      <td>...</td>\n",
       "      <td>...</td>\n",
       "      <td>...</td>\n",
       "      <td>...</td>\n",
       "      <td>...</td>\n",
       "      <td>...</td>\n",
       "      <td>...</td>\n",
       "      <td>...</td>\n",
       "      <td>...</td>\n",
       "      <td>...</td>\n",
       "      <td>...</td>\n",
       "      <td>...</td>\n",
       "      <td>...</td>\n",
       "      <td>...</td>\n",
       "      <td>...</td>\n",
       "      <td>...</td>\n",
       "    </tr>\n",
       "    <tr>\n",
       "      <th>9995</th>\n",
       "      <td>1.237650e+18</td>\n",
       "      <td>131.316413</td>\n",
       "      <td>51.539547</td>\n",
       "      <td>18.81777</td>\n",
       "      <td>17.47053</td>\n",
       "      <td>16.91508</td>\n",
       "      <td>16.68305</td>\n",
       "      <td>16.50570</td>\n",
       "      <td>1345</td>\n",
       "      <td>301</td>\n",
       "      <td>3</td>\n",
       "      <td>161</td>\n",
       "      <td>5.033450e+17</td>\n",
       "      <td>GALAXY</td>\n",
       "      <td>0.027583</td>\n",
       "      <td>447</td>\n",
       "      <td>51877</td>\n",
       "      <td>246</td>\n",
       "    </tr>\n",
       "    <tr>\n",
       "      <th>9996</th>\n",
       "      <td>1.237650e+18</td>\n",
       "      <td>131.306083</td>\n",
       "      <td>51.671341</td>\n",
       "      <td>18.27255</td>\n",
       "      <td>17.43849</td>\n",
       "      <td>17.07692</td>\n",
       "      <td>16.71661</td>\n",
       "      <td>16.69897</td>\n",
       "      <td>1345</td>\n",
       "      <td>301</td>\n",
       "      <td>3</td>\n",
       "      <td>162</td>\n",
       "      <td>5.033400e+17</td>\n",
       "      <td>GALAXY</td>\n",
       "      <td>0.117772</td>\n",
       "      <td>447</td>\n",
       "      <td>51877</td>\n",
       "      <td>228</td>\n",
       "    </tr>\n",
       "    <tr>\n",
       "      <th>9997</th>\n",
       "      <td>1.237650e+18</td>\n",
       "      <td>131.552562</td>\n",
       "      <td>51.666986</td>\n",
       "      <td>18.75818</td>\n",
       "      <td>17.77784</td>\n",
       "      <td>17.51872</td>\n",
       "      <td>17.43302</td>\n",
       "      <td>17.42048</td>\n",
       "      <td>1345</td>\n",
       "      <td>301</td>\n",
       "      <td>3</td>\n",
       "      <td>162</td>\n",
       "      <td>8.222620e+18</td>\n",
       "      <td>STAR</td>\n",
       "      <td>-0.000402</td>\n",
       "      <td>7303</td>\n",
       "      <td>57013</td>\n",
       "      <td>622</td>\n",
       "    </tr>\n",
       "    <tr>\n",
       "      <th>9998</th>\n",
       "      <td>1.237650e+18</td>\n",
       "      <td>131.477151</td>\n",
       "      <td>51.753068</td>\n",
       "      <td>18.88287</td>\n",
       "      <td>17.91068</td>\n",
       "      <td>17.53152</td>\n",
       "      <td>17.36284</td>\n",
       "      <td>17.13988</td>\n",
       "      <td>1345</td>\n",
       "      <td>301</td>\n",
       "      <td>3</td>\n",
       "      <td>163</td>\n",
       "      <td>5.033400e+17</td>\n",
       "      <td>GALAXY</td>\n",
       "      <td>0.014019</td>\n",
       "      <td>447</td>\n",
       "      <td>51877</td>\n",
       "      <td>229</td>\n",
       "    </tr>\n",
       "    <tr>\n",
       "      <th>9999</th>\n",
       "      <td>1.237650e+18</td>\n",
       "      <td>131.665012</td>\n",
       "      <td>51.805307</td>\n",
       "      <td>19.27586</td>\n",
       "      <td>17.37829</td>\n",
       "      <td>16.30542</td>\n",
       "      <td>15.83548</td>\n",
       "      <td>15.50588</td>\n",
       "      <td>1345</td>\n",
       "      <td>301</td>\n",
       "      <td>3</td>\n",
       "      <td>163</td>\n",
       "      <td>5.033410e+17</td>\n",
       "      <td>GALAXY</td>\n",
       "      <td>0.118417</td>\n",
       "      <td>447</td>\n",
       "      <td>51877</td>\n",
       "      <td>233</td>\n",
       "    </tr>\n",
       "  </tbody>\n",
       "</table>\n",
       "<p>10000 rows × 18 columns</p>\n",
       "</div>"
      ],
      "text/plain": [
       "             objid          ra        dec         u         g         r  \\\n",
       "0     1.237650e+18  183.531326   0.089693  19.47406  17.04240  15.94699   \n",
       "1     1.237650e+18  183.598371   0.135285  18.66280  17.21449  16.67637   \n",
       "2     1.237650e+18  183.680207   0.126185  19.38298  18.19169  17.47428   \n",
       "3     1.237650e+18  183.870529   0.049911  17.76536  16.60272  16.16116   \n",
       "4     1.237650e+18  183.883288   0.102557  17.55025  16.26342  16.43869   \n",
       "...            ...         ...        ...       ...       ...       ...   \n",
       "9995  1.237650e+18  131.316413  51.539547  18.81777  17.47053  16.91508   \n",
       "9996  1.237650e+18  131.306083  51.671341  18.27255  17.43849  17.07692   \n",
       "9997  1.237650e+18  131.552562  51.666986  18.75818  17.77784  17.51872   \n",
       "9998  1.237650e+18  131.477151  51.753068  18.88287  17.91068  17.53152   \n",
       "9999  1.237650e+18  131.665012  51.805307  19.27586  17.37829  16.30542   \n",
       "\n",
       "             i         z   run  rerun  camcol  field     specobjid   class  \\\n",
       "0     15.50342  15.22531   752    301       4    267  3.722360e+18    STAR   \n",
       "1     16.48922  16.39150   752    301       4    267  3.638140e+17    STAR   \n",
       "2     17.08732  16.80125   752    301       4    268  3.232740e+17  GALAXY   \n",
       "3     15.98233  15.90438   752    301       4    269  3.722370e+18    STAR   \n",
       "4     16.55492  16.61326   752    301       4    269  3.722370e+18    STAR   \n",
       "...        ...       ...   ...    ...     ...    ...           ...     ...   \n",
       "9995  16.68305  16.50570  1345    301       3    161  5.033450e+17  GALAXY   \n",
       "9996  16.71661  16.69897  1345    301       3    162  5.033400e+17  GALAXY   \n",
       "9997  17.43302  17.42048  1345    301       3    162  8.222620e+18    STAR   \n",
       "9998  17.36284  17.13988  1345    301       3    163  5.033400e+17  GALAXY   \n",
       "9999  15.83548  15.50588  1345    301       3    163  5.033410e+17  GALAXY   \n",
       "\n",
       "      redshift  plate    mjd  fiberid  \n",
       "0    -0.000009   3306  54922      491  \n",
       "1    -0.000055    323  51615      541  \n",
       "2     0.123111    287  52023      513  \n",
       "3    -0.000111   3306  54922      510  \n",
       "4     0.000590   3306  54922      512  \n",
       "...        ...    ...    ...      ...  \n",
       "9995  0.027583    447  51877      246  \n",
       "9996  0.117772    447  51877      228  \n",
       "9997 -0.000402   7303  57013      622  \n",
       "9998  0.014019    447  51877      229  \n",
       "9999  0.118417    447  51877      233  \n",
       "\n",
       "[10000 rows x 18 columns]"
      ]
     },
     "execution_count": 2,
     "metadata": {},
     "output_type": "execute_result"
    }
   ],
   "source": [
    "df = pd.read_csv(\"/home/pavankumar/data_sci_dec/datasets/space_server_dataset.csv\")\n",
    "df"
   ]
  },
  {
   "cell_type": "code",
   "execution_count": 3,
   "metadata": {},
   "outputs": [
    {
     "name": "stdout",
     "output_type": "stream",
     "text": [
      "<class 'pandas.core.frame.DataFrame'>\n",
      "RangeIndex: 10000 entries, 0 to 9999\n",
      "Data columns (total 18 columns):\n",
      " #   Column     Non-Null Count  Dtype  \n",
      "---  ------     --------------  -----  \n",
      " 0   objid      10000 non-null  float64\n",
      " 1   ra         10000 non-null  float64\n",
      " 2   dec        10000 non-null  float64\n",
      " 3   u          10000 non-null  float64\n",
      " 4   g          10000 non-null  float64\n",
      " 5   r          10000 non-null  float64\n",
      " 6   i          10000 non-null  float64\n",
      " 7   z          10000 non-null  float64\n",
      " 8   run        10000 non-null  int64  \n",
      " 9   rerun      10000 non-null  int64  \n",
      " 10  camcol     10000 non-null  int64  \n",
      " 11  field      10000 non-null  int64  \n",
      " 12  specobjid  10000 non-null  float64\n",
      " 13  class      10000 non-null  object \n",
      " 14  redshift   10000 non-null  float64\n",
      " 15  plate      10000 non-null  int64  \n",
      " 16  mjd        10000 non-null  int64  \n",
      " 17  fiberid    10000 non-null  int64  \n",
      "dtypes: float64(10), int64(7), object(1)\n",
      "memory usage: 1.4+ MB\n"
     ]
    }
   ],
   "source": [
    "df.info()"
   ]
  },
  {
   "cell_type": "markdown",
   "metadata": {},
   "source": [
    "##### Info shows that now single null values present in the dataset and having int and float dtype. Target column is in Obj"
   ]
  },
  {
   "cell_type": "markdown",
   "metadata": {},
   "source": [
    "### Summery statistic"
   ]
  },
  {
   "cell_type": "code",
   "execution_count": 4,
   "metadata": {},
   "outputs": [
    {
     "data": {
      "text/html": [
       "<div>\n",
       "<style scoped>\n",
       "    .dataframe tbody tr th:only-of-type {\n",
       "        vertical-align: middle;\n",
       "    }\n",
       "\n",
       "    .dataframe tbody tr th {\n",
       "        vertical-align: top;\n",
       "    }\n",
       "\n",
       "    .dataframe thead th {\n",
       "        text-align: right;\n",
       "    }\n",
       "</style>\n",
       "<table border=\"1\" class=\"dataframe\">\n",
       "  <thead>\n",
       "    <tr style=\"text-align: right;\">\n",
       "      <th></th>\n",
       "      <th>objid</th>\n",
       "      <th>ra</th>\n",
       "      <th>dec</th>\n",
       "      <th>u</th>\n",
       "      <th>g</th>\n",
       "      <th>r</th>\n",
       "      <th>i</th>\n",
       "      <th>z</th>\n",
       "      <th>run</th>\n",
       "      <th>rerun</th>\n",
       "      <th>camcol</th>\n",
       "      <th>field</th>\n",
       "      <th>specobjid</th>\n",
       "      <th>redshift</th>\n",
       "      <th>plate</th>\n",
       "      <th>mjd</th>\n",
       "      <th>fiberid</th>\n",
       "    </tr>\n",
       "  </thead>\n",
       "  <tbody>\n",
       "    <tr>\n",
       "      <th>count</th>\n",
       "      <td>1.000000e+04</td>\n",
       "      <td>10000.000000</td>\n",
       "      <td>10000.000000</td>\n",
       "      <td>10000.000000</td>\n",
       "      <td>10000.000000</td>\n",
       "      <td>10000.000000</td>\n",
       "      <td>10000.000000</td>\n",
       "      <td>10000.000000</td>\n",
       "      <td>10000.000000</td>\n",
       "      <td>10000.0</td>\n",
       "      <td>10000.000000</td>\n",
       "      <td>10000.000000</td>\n",
       "      <td>1.000000e+04</td>\n",
       "      <td>10000.000000</td>\n",
       "      <td>10000.000000</td>\n",
       "      <td>10000.000000</td>\n",
       "      <td>10000.000000</td>\n",
       "    </tr>\n",
       "    <tr>\n",
       "      <th>mean</th>\n",
       "      <td>1.237650e+18</td>\n",
       "      <td>175.529987</td>\n",
       "      <td>14.836148</td>\n",
       "      <td>18.619355</td>\n",
       "      <td>17.371931</td>\n",
       "      <td>16.840963</td>\n",
       "      <td>16.583579</td>\n",
       "      <td>16.422833</td>\n",
       "      <td>981.034800</td>\n",
       "      <td>301.0</td>\n",
       "      <td>3.648700</td>\n",
       "      <td>302.380100</td>\n",
       "      <td>1.645022e+18</td>\n",
       "      <td>0.143726</td>\n",
       "      <td>1460.986400</td>\n",
       "      <td>52943.533300</td>\n",
       "      <td>353.069400</td>\n",
       "    </tr>\n",
       "    <tr>\n",
       "      <th>std</th>\n",
       "      <td>1.577039e+05</td>\n",
       "      <td>47.783439</td>\n",
       "      <td>25.212207</td>\n",
       "      <td>0.828656</td>\n",
       "      <td>0.945457</td>\n",
       "      <td>1.067764</td>\n",
       "      <td>1.141805</td>\n",
       "      <td>1.203188</td>\n",
       "      <td>273.305024</td>\n",
       "      <td>0.0</td>\n",
       "      <td>1.666183</td>\n",
       "      <td>162.577763</td>\n",
       "      <td>2.013998e+18</td>\n",
       "      <td>0.388774</td>\n",
       "      <td>1788.778371</td>\n",
       "      <td>1511.150651</td>\n",
       "      <td>206.298149</td>\n",
       "    </tr>\n",
       "    <tr>\n",
       "      <th>min</th>\n",
       "      <td>1.237650e+18</td>\n",
       "      <td>8.235100</td>\n",
       "      <td>-5.382632</td>\n",
       "      <td>12.988970</td>\n",
       "      <td>12.799550</td>\n",
       "      <td>12.431600</td>\n",
       "      <td>11.947210</td>\n",
       "      <td>11.610410</td>\n",
       "      <td>308.000000</td>\n",
       "      <td>301.0</td>\n",
       "      <td>1.000000</td>\n",
       "      <td>11.000000</td>\n",
       "      <td>2.995780e+17</td>\n",
       "      <td>-0.004136</td>\n",
       "      <td>266.000000</td>\n",
       "      <td>51578.000000</td>\n",
       "      <td>1.000000</td>\n",
       "    </tr>\n",
       "    <tr>\n",
       "      <th>25%</th>\n",
       "      <td>1.237650e+18</td>\n",
       "      <td>157.370946</td>\n",
       "      <td>-0.539035</td>\n",
       "      <td>18.178035</td>\n",
       "      <td>16.815100</td>\n",
       "      <td>16.173333</td>\n",
       "      <td>15.853705</td>\n",
       "      <td>15.618285</td>\n",
       "      <td>752.000000</td>\n",
       "      <td>301.0</td>\n",
       "      <td>2.000000</td>\n",
       "      <td>184.000000</td>\n",
       "      <td>3.389248e+17</td>\n",
       "      <td>0.000081</td>\n",
       "      <td>301.000000</td>\n",
       "      <td>51900.000000</td>\n",
       "      <td>186.750000</td>\n",
       "    </tr>\n",
       "    <tr>\n",
       "      <th>50%</th>\n",
       "      <td>1.237650e+18</td>\n",
       "      <td>180.394514</td>\n",
       "      <td>0.404166</td>\n",
       "      <td>18.853095</td>\n",
       "      <td>17.495135</td>\n",
       "      <td>16.858770</td>\n",
       "      <td>16.554985</td>\n",
       "      <td>16.389945</td>\n",
       "      <td>756.000000</td>\n",
       "      <td>301.0</td>\n",
       "      <td>4.000000</td>\n",
       "      <td>299.000000</td>\n",
       "      <td>4.966580e+17</td>\n",
       "      <td>0.042591</td>\n",
       "      <td>441.000000</td>\n",
       "      <td>51997.000000</td>\n",
       "      <td>351.000000</td>\n",
       "    </tr>\n",
       "    <tr>\n",
       "      <th>75%</th>\n",
       "      <td>1.237650e+18</td>\n",
       "      <td>201.547279</td>\n",
       "      <td>35.649397</td>\n",
       "      <td>19.259232</td>\n",
       "      <td>18.010145</td>\n",
       "      <td>17.512675</td>\n",
       "      <td>17.258550</td>\n",
       "      <td>17.141447</td>\n",
       "      <td>1331.000000</td>\n",
       "      <td>301.0</td>\n",
       "      <td>5.000000</td>\n",
       "      <td>414.000000</td>\n",
       "      <td>2.881300e+18</td>\n",
       "      <td>0.092579</td>\n",
       "      <td>2559.000000</td>\n",
       "      <td>54468.000000</td>\n",
       "      <td>510.000000</td>\n",
       "    </tr>\n",
       "    <tr>\n",
       "      <th>max</th>\n",
       "      <td>1.237650e+18</td>\n",
       "      <td>260.884382</td>\n",
       "      <td>68.542265</td>\n",
       "      <td>19.599900</td>\n",
       "      <td>19.918970</td>\n",
       "      <td>24.802040</td>\n",
       "      <td>28.179630</td>\n",
       "      <td>22.833060</td>\n",
       "      <td>1412.000000</td>\n",
       "      <td>301.0</td>\n",
       "      <td>6.000000</td>\n",
       "      <td>768.000000</td>\n",
       "      <td>9.468830e+18</td>\n",
       "      <td>5.353854</td>\n",
       "      <td>8410.000000</td>\n",
       "      <td>57481.000000</td>\n",
       "      <td>1000.000000</td>\n",
       "    </tr>\n",
       "  </tbody>\n",
       "</table>\n",
       "</div>"
      ],
      "text/plain": [
       "              objid            ra           dec             u             g  \\\n",
       "count  1.000000e+04  10000.000000  10000.000000  10000.000000  10000.000000   \n",
       "mean   1.237650e+18    175.529987     14.836148     18.619355     17.371931   \n",
       "std    1.577039e+05     47.783439     25.212207      0.828656      0.945457   \n",
       "min    1.237650e+18      8.235100     -5.382632     12.988970     12.799550   \n",
       "25%    1.237650e+18    157.370946     -0.539035     18.178035     16.815100   \n",
       "50%    1.237650e+18    180.394514      0.404166     18.853095     17.495135   \n",
       "75%    1.237650e+18    201.547279     35.649397     19.259232     18.010145   \n",
       "max    1.237650e+18    260.884382     68.542265     19.599900     19.918970   \n",
       "\n",
       "                  r             i             z           run    rerun  \\\n",
       "count  10000.000000  10000.000000  10000.000000  10000.000000  10000.0   \n",
       "mean      16.840963     16.583579     16.422833    981.034800    301.0   \n",
       "std        1.067764      1.141805      1.203188    273.305024      0.0   \n",
       "min       12.431600     11.947210     11.610410    308.000000    301.0   \n",
       "25%       16.173333     15.853705     15.618285    752.000000    301.0   \n",
       "50%       16.858770     16.554985     16.389945    756.000000    301.0   \n",
       "75%       17.512675     17.258550     17.141447   1331.000000    301.0   \n",
       "max       24.802040     28.179630     22.833060   1412.000000    301.0   \n",
       "\n",
       "             camcol         field     specobjid      redshift         plate  \\\n",
       "count  10000.000000  10000.000000  1.000000e+04  10000.000000  10000.000000   \n",
       "mean       3.648700    302.380100  1.645022e+18      0.143726   1460.986400   \n",
       "std        1.666183    162.577763  2.013998e+18      0.388774   1788.778371   \n",
       "min        1.000000     11.000000  2.995780e+17     -0.004136    266.000000   \n",
       "25%        2.000000    184.000000  3.389248e+17      0.000081    301.000000   \n",
       "50%        4.000000    299.000000  4.966580e+17      0.042591    441.000000   \n",
       "75%        5.000000    414.000000  2.881300e+18      0.092579   2559.000000   \n",
       "max        6.000000    768.000000  9.468830e+18      5.353854   8410.000000   \n",
       "\n",
       "                mjd       fiberid  \n",
       "count  10000.000000  10000.000000  \n",
       "mean   52943.533300    353.069400  \n",
       "std     1511.150651    206.298149  \n",
       "min    51578.000000      1.000000  \n",
       "25%    51900.000000    186.750000  \n",
       "50%    51997.000000    351.000000  \n",
       "75%    54468.000000    510.000000  \n",
       "max    57481.000000   1000.000000  "
      ]
     },
     "execution_count": 4,
     "metadata": {},
     "output_type": "execute_result"
    }
   ],
   "source": [
    "df.describe()"
   ]
  },
  {
   "cell_type": "markdown",
   "metadata": {},
   "source": [
    "##### Observation: some of the columns having huge difference between mean and mode i.e 50% percentile so it means some columns have right skewness and left skewness"
   ]
  },
  {
   "cell_type": "code",
   "execution_count": 5,
   "metadata": {},
   "outputs": [
    {
     "data": {
      "text/plain": [
       "objid        0\n",
       "ra           0\n",
       "dec          0\n",
       "u            0\n",
       "g            0\n",
       "r            0\n",
       "i            0\n",
       "z            0\n",
       "run          0\n",
       "rerun        0\n",
       "camcol       0\n",
       "field        0\n",
       "specobjid    0\n",
       "class        0\n",
       "redshift     0\n",
       "plate        0\n",
       "mjd          0\n",
       "fiberid      0\n",
       "dtype: int64"
      ]
     },
     "execution_count": 5,
     "metadata": {},
     "output_type": "execute_result"
    }
   ],
   "source": [
    "df.isnull().sum()"
   ]
  },
  {
   "cell_type": "code",
   "execution_count": 6,
   "metadata": {},
   "outputs": [
    {
     "data": {
      "text/plain": [
       "<matplotlib.axes._subplots.AxesSubplot at 0x7f3c58107f10>"
      ]
     },
     "execution_count": 6,
     "metadata": {},
     "output_type": "execute_result"
    },
    {
     "data": {
      "image/png": "[encoded data removed]",
      "text/plain": [
       "<Figure size 432x288 with 2 Axes>"
      ]
     },
     "metadata": {
      "needs_background": "light"
     },
     "output_type": "display_data"
    }
   ],
   "source": [
    "sns.heatmap(df.isnull())"
   ]
  },
  {
   "cell_type": "markdown",
   "metadata": {},
   "source": [
    "###### heatmap shows that no null values are present in the dataset"
   ]
  },
  {
   "cell_type": "code",
   "execution_count": null,
   "metadata": {},
   "outputs": [],
   "source": []
  },
  {
   "cell_type": "markdown",
   "metadata": {},
   "source": [
    "#### Lable encoding on Target column"
   ]
  },
  {
   "cell_type": "code",
   "execution_count": 7,
   "metadata": {},
   "outputs": [],
   "source": [
    "from sklearn.preprocessing import LabelEncoder\n",
    "le=LabelEncoder()\n",
    "df['class']=le.fit_transform(df['class'])"
   ]
  },
  {
   "cell_type": "code",
   "execution_count": 8,
   "metadata": {},
   "outputs": [
    {
     "data": {
      "text/plain": [
       "0    4998\n",
       "2    4152\n",
       "1     850\n",
       "Name: class, dtype: int64"
      ]
     },
     "execution_count": 8,
     "metadata": {},
     "output_type": "execute_result"
    }
   ],
   "source": [
    "df['class'].value_counts()"
   ]
  },
  {
   "cell_type": "code",
   "execution_count": 9,
   "metadata": {},
   "outputs": [],
   "source": [
    "target=df['class']"
   ]
  },
  {
   "cell_type": "code",
   "execution_count": null,
   "metadata": {},
   "outputs": [],
   "source": []
  },
  {
   "cell_type": "markdown",
   "metadata": {},
   "source": [
    "#### collecting the categorised columns from the dataset"
   ]
  },
  {
   "cell_type": "code",
   "execution_count": 10,
   "metadata": {
    "scrolled": false
   },
   "outputs": [
    {
     "name": "stdout",
     "output_type": "stream",
     "text": [
      "Column name is  objid\n",
      "1.237650e+18    10000\n",
      "Name: objid, dtype: int64 \n",
      "\n",
      "\n",
      " Total Number of Categoricals in objid ==> 1\n",
      "\n",
      "==============================\n",
      "Column name is  ra\n",
      "226.511352    1\n",
      "186.864198    1\n",
      "162.412783    1\n",
      "242.416598    1\n",
      "25.765495     1\n",
      "             ..\n",
      "218.427367    1\n",
      "179.365032    1\n",
      "187.113033    1\n",
      "235.913493    1\n",
      "182.372733    1\n",
      "Name: ra, Length: 10000, dtype: int64 \n",
      "\n",
      "\n",
      " Total Number of Categoricals in ra ==> 10000\n",
      "\n",
      "==============================\n",
      "Column name is  dec\n",
      " 0.701145     1\n",
      " 0.031148     1\n",
      " 0.322301     1\n",
      "-0.728211     1\n",
      " 60.960316    1\n",
      "             ..\n",
      "-0.048648     1\n",
      " 0.321775     1\n",
      "-3.512726     1\n",
      " 57.641016    1\n",
      " 0.661888     1\n",
      "Name: dec, Length: 10000, dtype: int64 \n",
      "\n",
      "\n",
      " Total Number of Categoricals in dec ==> 10000\n",
      "\n",
      "==============================\n",
      "Column name is  u\n",
      "18.90212    3\n",
      "18.99697    3\n",
      "18.98400    3\n",
      "19.53507    3\n",
      "19.56350    3\n",
      "           ..\n",
      "19.27596    1\n",
      "19.51822    1\n",
      "18.23952    1\n",
      "18.47838    1\n",
      "18.77445    1\n",
      "Name: u, Length: 9730, dtype: int64 \n",
      "\n",
      "\n",
      " Total Number of Categoricals in u ==> 9730\n",
      "\n",
      "==============================\n",
      "Column name is  g\n",
      "17.55623    3\n",
      "17.75478    3\n",
      "17.60766    3\n",
      "18.31910    3\n",
      "17.53612    2\n",
      "           ..\n",
      "16.79101    1\n",
      "18.01411    1\n",
      "16.93613    1\n",
      "17.68695    1\n",
      "17.87934    1\n",
      "Name: g, Length: 9817, dtype: int64 \n",
      "\n",
      "\n",
      " Total Number of Categoricals in g ==> 9817\n",
      "\n",
      "==============================\n",
      "Column name is  r\n",
      "15.99986    3\n",
      "16.48978    3\n",
      "16.70929    2\n",
      "17.21182    2\n",
      "16.27899    2\n",
      "           ..\n",
      "19.18255    1\n",
      "16.03177    1\n",
      "16.27091    1\n",
      "17.45321    1\n",
      "17.05181    1\n",
      "Name: r, Length: 9852, dtype: int64 \n",
      "\n",
      "\n",
      " Total Number of Categoricals in r ==> 9852\n",
      "\n",
      "==============================\n",
      "Column name is  i\n",
      "18.77594    2\n",
      "16.70494    2\n",
      "16.91346    2\n",
      "15.61870    2\n",
      "17.19571    2\n",
      "           ..\n",
      "15.41105    1\n",
      "16.61259    1\n",
      "16.52959    1\n",
      "15.61332    1\n",
      "17.93967    1\n",
      "Name: i, Length: 9890, dtype: int64 \n",
      "\n",
      "\n",
      " Total Number of Categoricals in i ==> 9890\n",
      "\n",
      "==============================\n",
      "Column name is  z\n",
      "17.18764    2\n",
      "17.15916    2\n",
      "16.57886    2\n",
      "17.30935    2\n",
      "16.42915    2\n",
      "           ..\n",
      "16.58965    1\n",
      "13.45055    1\n",
      "16.96533    1\n",
      "17.53121    1\n",
      "17.83702    1\n",
      "Name: z, Length: 9896, dtype: int64 \n",
      "\n",
      "\n",
      " Total Number of Categoricals in z ==> 9896\n",
      "\n",
      "==============================\n",
      "Column name is  run\n",
      "756     3060\n",
      "752     2086\n",
      "1345     915\n",
      "1350     540\n",
      "1140     527\n",
      "745      453\n",
      "1035     396\n",
      "1412     347\n",
      "1302     246\n",
      "1331     245\n",
      "1231     245\n",
      "1334     212\n",
      "1239     197\n",
      "1336     182\n",
      "1404     137\n",
      "1045     112\n",
      "1402      49\n",
      "308       31\n",
      "1411      10\n",
      "1356       4\n",
      "727        4\n",
      "1119       1\n",
      "1332       1\n",
      "Name: run, dtype: int64 \n",
      "\n",
      "\n",
      " Total Number of Categoricals in run ==> 23\n",
      "\n",
      "==============================\n",
      "Column name is  rerun\n",
      "301    10000\n",
      "Name: rerun, dtype: int64 \n",
      "\n",
      "\n",
      " Total Number of Categoricals in rerun ==> 1\n",
      "\n",
      "==============================\n",
      "Column name is  camcol\n",
      "4    1834\n",
      "5    1827\n",
      "6    1769\n",
      "2    1712\n",
      "3    1560\n",
      "1    1298\n",
      "Name: camcol, dtype: int64 \n",
      "\n",
      "\n",
      " Total Number of Categoricals in camcol ==> 6\n",
      "\n",
      "==============================\n",
      "Column name is  field\n",
      "301    62\n",
      "302    58\n",
      "304    56\n",
      "305    55\n",
      "309    54\n",
      "       ..\n",
      "499     1\n",
      "676     1\n",
      "507     1\n",
      "660     1\n",
      "503     1\n",
      "Name: field, Length: 703, dtype: int64 \n",
      "\n",
      "\n",
      " Total Number of Categoricals in field ==> 703\n",
      "\n",
      "==============================\n",
      "Column name is  specobjid\n",
      "2.881270e+18    18\n",
      "2.881220e+18    18\n",
      "3.722230e+18    18\n",
      "3.222410e+18    17\n",
      "2.880120e+18    17\n",
      "                ..\n",
      "3.885350e+17     1\n",
      "4.841730e+17     1\n",
      "4.988460e+17     1\n",
      "4.315780e+18     1\n",
      "3.716180e+17     1\n",
      "Name: specobjid, Length: 6349, dtype: int64 \n",
      "\n",
      "\n",
      " Total Number of Categoricals in specobjid ==> 6349\n",
      "\n",
      "==============================\n",
      "Column name is  class\n",
      "0    4998\n",
      "2    4152\n",
      "1     850\n",
      "Name: class, dtype: int64 \n",
      "\n",
      "\n",
      " Total Number of Categoricals in class ==> 3\n",
      "\n",
      "==============================\n",
      "Column name is  redshift\n",
      " 0.000000    19\n",
      "-0.000020     6\n",
      "-0.000062     5\n",
      "-0.000010     4\n",
      "-0.000033     4\n",
      "             ..\n",
      " 0.060941     1\n",
      " 1.269727     1\n",
      " 1.912334     1\n",
      "-0.000522     1\n",
      "-0.000424     1\n",
      "Name: redshift, Length: 9637, dtype: int64 \n",
      "\n",
      "\n",
      " Total Number of Categoricals in redshift ==> 9637\n",
      "\n",
      "==============================\n",
      "Column name is  plate\n",
      "2558    222\n",
      "2559    221\n",
      "2895    166\n",
      "276     156\n",
      "7456    139\n",
      "       ... \n",
      "7319      1\n",
      "2952      1\n",
      "7090      1\n",
      "7562      1\n",
      "1635      1\n",
      "Name: plate, Length: 487, dtype: int64 \n",
      "\n",
      "\n",
      " Total Number of Categoricals in plate ==> 487\n",
      "\n",
      "==============================\n",
      "Column name is  mjd\n",
      "52000    312\n",
      "54140    222\n",
      "51909    222\n",
      "54208    221\n",
      "51908    214\n",
      "        ... \n",
      "53299      1\n",
      "55618      1\n",
      "56991      1\n",
      "51696      1\n",
      "53053      1\n",
      "Name: mjd, Length: 355, dtype: int64 \n",
      "\n",
      "\n",
      " Total Number of Categoricals in mjd ==> 355\n",
      "\n",
      "==============================\n",
      "Column name is  fiberid\n",
      "155    29\n",
      "138    28\n",
      "454    27\n",
      "249    26\n",
      "11     26\n",
      "       ..\n",
      "866     1\n",
      "858     1\n",
      "850     1\n",
      "842     1\n",
      "915     1\n",
      "Name: fiberid, Length: 892, dtype: int64 \n",
      "\n",
      "\n",
      " Total Number of Categoricals in fiberid ==> 892\n",
      "\n",
      "==============================\n"
     ]
    }
   ],
   "source": [
    "only_one_categories=[]\n",
    "categorical=[]\n",
    "for i in df.columns:\n",
    "    print(\"Column name is \",i)\n",
    "    print(df[i].value_counts(),'\\n')\n",
    "    print(f'\\n Total Number of Categoricals in {i} ==> {len(df[i].value_counts())}\\n')\n",
    "    print(\"==============================\")\n",
    "    if len(df[i].value_counts()) == 1:\n",
    "        only_one_categories.append(i)\n",
    "    if len(df[i].value_counts()) < 100 and i not in only_one_categories:\n",
    "        categorical.append(i)"
   ]
  },
  {
   "cell_type": "code",
   "execution_count": 11,
   "metadata": {},
   "outputs": [
    {
     "data": {
      "text/plain": [
       "['objid', 'rerun']"
      ]
     },
     "execution_count": 11,
     "metadata": {},
     "output_type": "execute_result"
    }
   ],
   "source": [
    "only_one_categories  #### this columns having single value to all the rows"
   ]
  },
  {
   "cell_type": "code",
   "execution_count": 12,
   "metadata": {},
   "outputs": [
    {
     "data": {
      "text/plain": [
       "['run', 'camcol', 'class']"
      ]
     },
     "execution_count": 12,
     "metadata": {},
     "output_type": "execute_result"
    }
   ],
   "source": [
    "categorical  ### these columns are in categorical form"
   ]
  },
  {
   "cell_type": "code",
   "execution_count": 13,
   "metadata": {},
   "outputs": [
    {
     "data": {
      "text/plain": [
       "<matplotlib.axes._subplots.AxesSubplot at 0x7f3c8403af40>"
      ]
     },
     "execution_count": 13,
     "metadata": {},
     "output_type": "execute_result"
    },
    {
     "data": {
      "image/png": "[encoded data removed]",
      "text/plain": [
       "<Figure size 864x576 with 1 Axes>"
      ]
     },
     "metadata": {
      "needs_background": "light"
     },
     "output_type": "display_data"
    }
   ],
   "source": [
    "plt.figure(figsize=(12,8))\n",
    "sns.countplot('run',data=df)"
   ]
  },
  {
   "cell_type": "code",
   "execution_count": 14,
   "metadata": {},
   "outputs": [
    {
     "data": {
      "text/plain": [
       "<matplotlib.axes._subplots.AxesSubplot at 0x7f3c55512220>"
      ]
     },
     "execution_count": 14,
     "metadata": {},
     "output_type": "execute_result"
    },
    {
     "data": {
      "image/png": "[encoded data removed]",
      "text/plain": [
       "<Figure size 864x576 with 1 Axes>"
      ]
     },
     "metadata": {
      "needs_background": "light"
     },
     "output_type": "display_data"
    }
   ],
   "source": [
    "plt.figure(figsize=(12,8))\n",
    "sns.countplot('camcol',hue='class',data=df)"
   ]
  },
  {
   "cell_type": "code",
   "execution_count": 15,
   "metadata": {},
   "outputs": [
    {
     "data": {
      "text/plain": [
       "<matplotlib.axes._subplots.AxesSubplot at 0x7f3c5541ee80>"
      ]
     },
     "execution_count": 15,
     "metadata": {},
     "output_type": "execute_result"
    },
    {
     "data": {
      "image/png": "[encoded data removed]",
      "text/plain": [
       "<Figure size 864x576 with 1 Axes>"
      ]
     },
     "metadata": {
      "needs_background": "light"
     },
     "output_type": "display_data"
    }
   ],
   "source": [
    "plt.figure(figsize=(12,8))\n",
    "sns.boxplot(x='class',y='camcol',data=df)"
   ]
  },
  {
   "cell_type": "code",
   "execution_count": 16,
   "metadata": {},
   "outputs": [
    {
     "data": {
      "text/plain": [
       "<matplotlib.axes._subplots.AxesSubplot at 0x7f3c553be820>"
      ]
     },
     "execution_count": 16,
     "metadata": {},
     "output_type": "execute_result"
    },
    {
     "data": {
      "image/png": "[encoded data removed]",
      "text/plain": [
       "<Figure size 864x576 with 1 Axes>"
      ]
     },
     "metadata": {
      "needs_background": "light"
     },
     "output_type": "display_data"
    }
   ],
   "source": [
    "plt.figure(figsize=(12,8))\n",
    "sns.boxplot(x='class',y='run',data=df)"
   ]
  },
  {
   "cell_type": "code",
   "execution_count": 17,
   "metadata": {},
   "outputs": [
    {
     "data": {
      "text/plain": [
       "<matplotlib.axes._subplots.AxesSubplot at 0x7f3c5532c880>"
      ]
     },
     "execution_count": 17,
     "metadata": {},
     "output_type": "execute_result"
    },
    {
     "data": {
      "image/png": "[encoded data removed]",
      "text/plain": [
       "<Figure size 864x576 with 1 Axes>"
      ]
     },
     "metadata": {
      "needs_background": "light"
     },
     "output_type": "display_data"
    }
   ],
   "source": [
    "plt.figure(figsize=(12,8))\n",
    "sns.boxplot('run',data=df)"
   ]
  },
  {
   "cell_type": "code",
   "execution_count": 18,
   "metadata": {},
   "outputs": [],
   "source": [
    "### No Outliers are present from above observations"
   ]
  },
  {
   "cell_type": "markdown",
   "metadata": {},
   "source": [
    "##### Box Plot Checking outliers"
   ]
  },
  {
   "cell_type": "code",
   "execution_count": 19,
   "metadata": {},
   "outputs": [
    {
     "data": {
      "text/plain": [
       "<matplotlib.axes._subplots.AxesSubplot at 0x7f3c54a2edc0>"
      ]
     },
     "execution_count": 19,
     "metadata": {},
     "output_type": "execute_result"
    },
    {
     "data": {
      "image/png": "[encoded data removed]",
      "text/plain": [
       "<Figure size 1296x576 with 1 Axes>"
      ]
     },
     "metadata": {
      "needs_background": "light"
     },
     "output_type": "display_data"
    }
   ],
   "source": [
    "df.boxplot(figsize=(18,8))"
   ]
  },
  {
   "cell_type": "code",
   "execution_count": 20,
   "metadata": {},
   "outputs": [
    {
     "data": {
      "text/plain": [
       "<matplotlib.axes._subplots.AxesSubplot at 0x7f3c5480f760>"
      ]
     },
     "execution_count": 20,
     "metadata": {},
     "output_type": "execute_result"
    },
    {
     "data": {
      "image/png": "[encoded data removed]",
      "text/plain": [
       "<Figure size 432x288 with 1 Axes>"
      ]
     },
     "metadata": {
      "needs_background": "light"
     },
     "output_type": "display_data"
    }
   ],
   "source": [
    "sns.boxplot(x=df['class'],y=df['specobjid'])"
   ]
  },
  {
   "cell_type": "code",
   "execution_count": 21,
   "metadata": {},
   "outputs": [
    {
     "data": {
      "text/plain": [
       "<matplotlib.collections.PathCollection at 0x7f3c54807d00>"
      ]
     },
     "execution_count": 21,
     "metadata": {},
     "output_type": "execute_result"
    },
    {
     "data": {
      "image/png": "[encoded data removed]",
      "text/plain": [
       "<Figure size 432x288 with 1 Axes>"
      ]
     },
     "metadata": {
      "needs_background": "light"
     },
     "output_type": "display_data"
    }
   ],
   "source": [
    "plt.scatter(df['mjd'],df['specobjid'])"
   ]
  },
  {
   "cell_type": "code",
   "execution_count": 22,
   "metadata": {},
   "outputs": [
    {
     "data": {
      "text/plain": [
       "<matplotlib.collections.PathCollection at 0x7f3c5475bd30>"
      ]
     },
     "execution_count": 22,
     "metadata": {},
     "output_type": "execute_result"
    },
    {
     "data": {
      "image/png": "[encoded data removed]",
      "text/plain": [
       "<Figure size 432x288 with 1 Axes>"
      ]
     },
     "metadata": {
      "needs_background": "light"
     },
     "output_type": "display_data"
    }
   ],
   "source": [
    "plt.scatter(df['fiberid'],df['specobjid'])"
   ]
  },
  {
   "cell_type": "code",
   "execution_count": 23,
   "metadata": {},
   "outputs": [
    {
     "data": {
      "text/plain": [
       "9.46883e+18"
      ]
     },
     "execution_count": 23,
     "metadata": {},
     "output_type": "execute_result"
    }
   ],
   "source": [
    "df['specobjid'].max()"
   ]
  },
  {
   "cell_type": "code",
   "execution_count": 24,
   "metadata": {},
   "outputs": [
    {
     "data": {
      "text/plain": [
       "<matplotlib.axes._subplots.AxesSubplot at 0x7f3c5531c940>"
      ]
     },
     "execution_count": 24,
     "metadata": {},
     "output_type": "execute_result"
    },
    {
     "data": {
      "image/png": "[encoded data removed]",
      "text/plain": [
       "<Figure size 432x288 with 1 Axes>"
      ]
     },
     "metadata": {
      "needs_background": "light"
     },
     "output_type": "display_data"
    }
   ],
   "source": [
    "sns.distplot(df['specobjid'],)"
   ]
  },
  {
   "cell_type": "code",
   "execution_count": 25,
   "metadata": {},
   "outputs": [],
   "source": [
    "# Standardizong the column specobjid "
   ]
  },
  {
   "cell_type": "code",
   "execution_count": 26,
   "metadata": {},
   "outputs": [
    {
     "data": {
      "text/plain": [
       "3.8849083937622813"
      ]
     },
     "execution_count": 26,
     "metadata": {},
     "output_type": "execute_result"
    }
   ],
   "source": [
    "from sklearn.preprocessing import StandardScaler\n",
    "ss=StandardScaler()\n",
    "spec=ss.fit_transform(pd.DataFrame(df['specobjid']))\n",
    "df['specobjid']=spec\n",
    "df['specobjid'].max()"
   ]
  },
  {
   "cell_type": "code",
   "execution_count": 27,
   "metadata": {},
   "outputs": [
    {
     "data": {
      "text/plain": [
       "<matplotlib.axes._subplots.AxesSubplot at 0x7f3c54649160>"
      ]
     },
     "execution_count": 27,
     "metadata": {},
     "output_type": "execute_result"
    },
    {
     "data": {
      "image/png": "[encoded data removed]",
      "text/plain": [
       "<Figure size 432x288 with 1 Axes>"
      ]
     },
     "metadata": {
      "needs_background": "light"
     },
     "output_type": "display_data"
    }
   ],
   "source": [
    "sns.distplot(df['specobjid'])"
   ]
  },
  {
   "cell_type": "code",
   "execution_count": 28,
   "metadata": {},
   "outputs": [
    {
     "data": {
      "text/plain": [
       "<matplotlib.axes._subplots.AxesSubplot at 0x7f3c5462a490>"
      ]
     },
     "execution_count": 28,
     "metadata": {},
     "output_type": "execute_result"
    },
    {
     "data": {
      "image/png": "[encoded data removed]",
      "text/plain": [
       "<Figure size 432x288 with 1 Axes>"
      ]
     },
     "metadata": {
      "needs_background": "light"
     },
     "output_type": "display_data"
    }
   ],
   "source": [
    "sns.boxplot(df['specobjid'])"
   ]
  },
  {
   "cell_type": "code",
   "execution_count": 29,
   "metadata": {},
   "outputs": [
    {
     "data": {
      "text/plain": [
       "<matplotlib.collections.PathCollection at 0x7f3c544fe580>"
      ]
     },
     "execution_count": 29,
     "metadata": {},
     "output_type": "execute_result"
    },
    {
     "data": {
      "image/png": "[encoded data removed]",
      "text/plain": [
       "<Figure size 432x288 with 1 Axes>"
      ]
     },
     "metadata": {
      "needs_background": "light"
     },
     "output_type": "display_data"
    }
   ],
   "source": [
    "plt.scatter(df['mjd'],df['specobjid'])"
   ]
  },
  {
   "cell_type": "markdown",
   "metadata": {},
   "source": [
    "###### scatter plot showing that mjd ia heighly correlating with specobjid"
   ]
  },
  {
   "cell_type": "markdown",
   "metadata": {},
   "source": [
    "### Removing skewness"
   ]
  },
  {
   "cell_type": "code",
   "execution_count": 30,
   "metadata": {},
   "outputs": [
    {
     "data": {
      "image/png": "[encoded data removed]",
      "text/plain": [
       "<Figure size 432x288 with 1 Axes>"
      ]
     },
     "metadata": {
      "needs_background": "light"
     },
     "output_type": "display_data"
    },
    {
     "data": {
      "text/plain": [
       "<matplotlib.axes._subplots.AxesSubplot at 0x7f3c544b1b50>"
      ]
     },
     "execution_count": 30,
     "metadata": {},
     "output_type": "execute_result"
    },
    {
     "data": {
      "image/png": "[encoded data removed]",
      "text/plain": [
       "<Figure size 432x288 with 1 Axes>"
      ]
     },
     "metadata": {
      "needs_background": "light"
     },
     "output_type": "display_data"
    }
   ],
   "source": [
    "from sklearn.preprocessing import PowerTransformer\n",
    "pt=PowerTransformer()\n",
    "spec=pt.fit_transform(pd.DataFrame(df['specobjid']))\n",
    "sns.distplot(spec)\n",
    "plt.show()\n",
    "sns.boxplot(spec)"
   ]
  },
  {
   "cell_type": "code",
   "execution_count": 31,
   "metadata": {},
   "outputs": [],
   "source": [
    "df['specobjid']=spec"
   ]
  },
  {
   "cell_type": "code",
   "execution_count": 32,
   "metadata": {},
   "outputs": [
    {
     "data": {
      "text/plain": [
       "0.6590392924345136"
      ]
     },
     "execution_count": 32,
     "metadata": {},
     "output_type": "execute_result"
    }
   ],
   "source": [
    "df['specobjid'].skew()"
   ]
  },
  {
   "cell_type": "code",
   "execution_count": null,
   "metadata": {},
   "outputs": [],
   "source": []
  },
  {
   "cell_type": "markdown",
   "metadata": {},
   "source": [
    "### Checking and removing skewness in all the columns"
   ]
  },
  {
   "cell_type": "code",
   "execution_count": 33,
   "metadata": {},
   "outputs": [
    {
     "name": "stdout",
     "output_type": "stream",
     "text": [
      "ra ==> -1.2273504070233294\n",
      "dec ==> 1.1915436677350355\n",
      "u ==> -1.2197948126863523\n",
      "g ==> -0.5362927436919477\n",
      "r ==> -0.021672902438911602\n",
      "i ==> 0.28644190573920003\n",
      "z ==> 0.2143128272724939\n",
      "field ==> 0.24979529914600934\n",
      "specobjid ==> 0.6590392924345136\n",
      "redshift ==> 4.26572914322377\n",
      "plate ==> 1.7946094444631788\n",
      "mjd ==> 1.0396102031129317\n",
      "fiberid ==> 0.3080532503622125\n"
     ]
    },
    {
     "data": {
      "text/plain": [
       "['ra', 'dec', 'u', 'redshift', 'plate', 'mjd']"
      ]
     },
     "execution_count": 33,
     "metadata": {},
     "output_type": "execute_result"
    }
   ],
   "source": [
    "lis=[]\n",
    "for i in df.columns:\n",
    "    if (i not in only_one_categories) and (i not in categorical):\n",
    "        print(i,'==>',df[i].skew())\n",
    "        if np.abs(df[i].skew())>0.66:\n",
    "            lis.append(i)\n",
    "lis            "
   ]
  },
  {
   "cell_type": "code",
   "execution_count": 34,
   "metadata": {},
   "outputs": [
    {
     "data": {
      "text/plain": [
       "objid        1.000150\n",
       "ra          -1.227350\n",
       "dec          1.191544\n",
       "u           -1.219795\n",
       "g           -0.536293\n",
       "r           -0.021673\n",
       "i            0.286442\n",
       "z            0.214313\n",
       "run          0.412555\n",
       "rerun        0.000000\n",
       "camcol      -0.100220\n",
       "field        0.249795\n",
       "specobjid    0.659039\n",
       "class        0.169292\n",
       "redshift     4.265729\n",
       "plate        1.794609\n",
       "mjd          1.039610\n",
       "fiberid      0.308053\n",
       "dtype: float64"
      ]
     },
     "execution_count": 34,
     "metadata": {},
     "output_type": "execute_result"
    }
   ],
   "source": [
    "df.skew()"
   ]
  },
  {
   "cell_type": "code",
   "execution_count": 35,
   "metadata": {},
   "outputs": [
    {
     "data": {
      "text/plain": [
       "<matplotlib.axes._subplots.AxesSubplot at 0x7f3c54471190>"
      ]
     },
     "execution_count": 35,
     "metadata": {},
     "output_type": "execute_result"
    },
    {
     "data": {
      "image/png": "[encoded data removed]",
      "text/plain": [
       "<Figure size 432x288 with 1 Axes>"
      ]
     },
     "metadata": {
      "needs_background": "light"
     },
     "output_type": "display_data"
    }
   ],
   "source": [
    "sns.distplot(np.sqrt(df['redshift']))"
   ]
  },
  {
   "cell_type": "code",
   "execution_count": 36,
   "metadata": {},
   "outputs": [
    {
     "data": {
      "text/plain": [
       "2.268173025011335"
      ]
     },
     "execution_count": 36,
     "metadata": {},
     "output_type": "execute_result"
    }
   ],
   "source": [
    "np.sqrt(df['redshift']).skew()"
   ]
  },
  {
   "cell_type": "code",
   "execution_count": 37,
   "metadata": {},
   "outputs": [
    {
     "data": {
      "text/plain": [
       "<matplotlib.axes._subplots.AxesSubplot at 0x7f3c54365ca0>"
      ]
     },
     "execution_count": 37,
     "metadata": {},
     "output_type": "execute_result"
    },
    {
     "data": {
      "image/png": "[encoded data removed]",
      "text/plain": [
       "<Figure size 432x288 with 1 Axes>"
      ]
     },
     "metadata": {
      "needs_background": "light"
     },
     "output_type": "display_data"
    }
   ],
   "source": [
    "sns.distplot(np.sqrt(df['mjd']))"
   ]
  },
  {
   "cell_type": "code",
   "execution_count": 38,
   "metadata": {},
   "outputs": [
    {
     "data": {
      "text/plain": [
       "1.0251841966404796"
      ]
     },
     "execution_count": 38,
     "metadata": {},
     "output_type": "execute_result"
    }
   ],
   "source": [
    "np.sqrt(df['mjd']).skew()"
   ]
  },
  {
   "cell_type": "code",
   "execution_count": null,
   "metadata": {},
   "outputs": [],
   "source": []
  },
  {
   "cell_type": "code",
   "execution_count": null,
   "metadata": {},
   "outputs": [],
   "source": []
  },
  {
   "cell_type": "code",
   "execution_count": null,
   "metadata": {},
   "outputs": [],
   "source": []
  },
  {
   "cell_type": "code",
   "execution_count": 39,
   "metadata": {
    "scrolled": false
   },
   "outputs": [
    {
     "data": {
      "image/png": "[encoded data removed]",
      "text/plain": [
       "<Figure size 432x288 with 1 Axes>"
      ]
     },
     "metadata": {
      "needs_background": "light"
     },
     "output_type": "display_data"
    },
    {
     "name": "stdout",
     "output_type": "stream",
     "text": [
      "Column Name is ra ==================Before removing Skewness is  -1.2273504070233294\n"
     ]
    },
    {
     "data": {
      "image/png": "[encoded data removed]",
      "text/plain": [
       "<Figure size 432x288 with 1 Axes>"
      ]
     },
     "metadata": {
      "needs_background": "light"
     },
     "output_type": "display_data"
    },
    {
     "name": "stdout",
     "output_type": "stream",
     "text": [
      "Column Name is ra ====================After removing Skewness is  -0.15457608153492583\n"
     ]
    },
    {
     "data": {
      "image/png": "[encoded data removed]",
      "text/plain": [
       "<Figure size 432x288 with 1 Axes>"
      ]
     },
     "metadata": {
      "needs_background": "light"
     },
     "output_type": "display_data"
    },
    {
     "name": "stdout",
     "output_type": "stream",
     "text": [
      "Column Name is dec ==================Before removing Skewness is  1.1915436677350355\n"
     ]
    },
    {
     "data": {
      "image/png": "[encoded data removed]",
      "text/plain": [
       "<Figure size 432x288 with 1 Axes>"
      ]
     },
     "metadata": {
      "needs_background": "light"
     },
     "output_type": "display_data"
    },
    {
     "name": "stdout",
     "output_type": "stream",
     "text": [
      "Column Name is dec ====================After removing Skewness is  -0.4832461740287174\n"
     ]
    },
    {
     "data": {
      "image/png": "[encoded data removed]",
      "text/plain": [
       "<Figure size 432x288 with 1 Axes>"
      ]
     },
     "metadata": {
      "needs_background": "light"
     },
     "output_type": "display_data"
    },
    {
     "name": "stdout",
     "output_type": "stream",
     "text": [
      "Column Name is u ==================Before removing Skewness is  -1.2197948126863523\n"
     ]
    },
    {
     "data": {
      "image/png": "[encoded data removed]",
      "text/plain": [
       "<Figure size 432x288 with 1 Axes>"
      ]
     },
     "metadata": {
      "needs_background": "light"
     },
     "output_type": "display_data"
    },
    {
     "name": "stdout",
     "output_type": "stream",
     "text": [
      "Column Name is u ====================After removing Skewness is  -0.23085706143140353\n"
     ]
    },
    {
     "data": {
      "image/png": "[encoded data removed]",
      "text/plain": [
       "<Figure size 432x288 with 1 Axes>"
      ]
     },
     "metadata": {
      "needs_background": "light"
     },
     "output_type": "display_data"
    },
    {
     "name": "stdout",
     "output_type": "stream",
     "text": [
      "Column Name is redshift ==================Before removing Skewness is  4.26572914322377\n"
     ]
    },
    {
     "data": {
      "image/png": "[encoded data removed]",
      "text/plain": [
       "<Figure size 432x288 with 1 Axes>"
      ]
     },
     "metadata": {
      "needs_background": "light"
     },
     "output_type": "display_data"
    },
    {
     "name": "stdout",
     "output_type": "stream",
     "text": [
      "Column Name is redshift ====================After removing Skewness is  0.85876513720573\n"
     ]
    },
    {
     "data": {
      "image/png": "[encoded data removed]",
      "text/plain": [
       "<Figure size 432x288 with 1 Axes>"
      ]
     },
     "metadata": {
      "needs_background": "light"
     },
     "output_type": "display_data"
    },
    {
     "name": "stdout",
     "output_type": "stream",
     "text": [
      "Column Name is plate ==================Before removing Skewness is  1.7946094444631788\n"
     ]
    },
    {
     "data": {
      "image/png": "[encoded data removed]",
      "text/plain": [
       "<Figure size 432x288 with 1 Axes>"
      ]
     },
     "metadata": {
      "needs_background": "light"
     },
     "output_type": "display_data"
    },
    {
     "name": "stdout",
     "output_type": "stream",
     "text": [
      "Column Name is plate ====================After removing Skewness is  0.40424157644652214\n"
     ]
    },
    {
     "data": {
      "image/png": "[encoded data removed]",
      "text/plain": [
       "<Figure size 432x288 with 1 Axes>"
      ]
     },
     "metadata": {
      "needs_background": "light"
     },
     "output_type": "display_data"
    },
    {
     "name": "stdout",
     "output_type": "stream",
     "text": [
      "Column Name is mjd ==================Before removing Skewness is  1.0396102031129317\n"
     ]
    },
    {
     "data": {
      "image/png": "[encoded data removed]",
      "text/plain": [
       "<Figure size 432x288 with 1 Axes>"
      ]
     },
     "metadata": {
      "needs_background": "light"
     },
     "output_type": "display_data"
    },
    {
     "name": "stdout",
     "output_type": "stream",
     "text": [
      "Column Name is mjd ====================After removing Skewness is  0.9390983786424764\n"
     ]
    }
   ],
   "source": [
    "for col in lis:\n",
    "    sns.distplot(df[col])\n",
    "    plt.show()\n",
    "    print('Column Name is '+col+' ==================Before removing Skewness is ',df[col].skew())\n",
    "    df[col] =pt.fit_transform(pd.DataFrame(df[col]),0.5)\n",
    "    sns.distplot(df[col])\n",
    "    plt.show()\n",
    "    print('Column Name is '+col+' ====================After removing Skewness is ',df[col].skew())"
   ]
  },
  {
   "cell_type": "code",
   "execution_count": 40,
   "metadata": {},
   "outputs": [
    {
     "data": {
      "text/plain": [
       "objid        0\n",
       "ra           0\n",
       "dec          0\n",
       "u            0\n",
       "g            0\n",
       "r            0\n",
       "i            0\n",
       "z            0\n",
       "run          0\n",
       "rerun        0\n",
       "camcol       0\n",
       "field        0\n",
       "specobjid    0\n",
       "class        0\n",
       "redshift     0\n",
       "plate        0\n",
       "mjd          0\n",
       "fiberid      0\n",
       "dtype: int64"
      ]
     },
     "execution_count": 40,
     "metadata": {},
     "output_type": "execute_result"
    }
   ],
   "source": [
    "df.isnull().sum()"
   ]
  },
  {
   "cell_type": "code",
   "execution_count": null,
   "metadata": {},
   "outputs": [],
   "source": []
  },
  {
   "cell_type": "code",
   "execution_count": null,
   "metadata": {},
   "outputs": [],
   "source": []
  },
  {
   "cell_type": "markdown",
   "metadata": {},
   "source": [
    "### Correlation table "
   ]
  },
  {
   "cell_type": "code",
   "execution_count": 41,
   "metadata": {},
   "outputs": [
    {
     "data": {
      "text/html": [
       "<div>\n",
       "<style scoped>\n",
       "    .dataframe tbody tr th:only-of-type {\n",
       "        vertical-align: middle;\n",
       "    }\n",
       "\n",
       "    .dataframe tbody tr th {\n",
       "        vertical-align: top;\n",
       "    }\n",
       "\n",
       "    .dataframe thead th {\n",
       "        text-align: right;\n",
       "    }\n",
       "</style>\n",
       "<table border=\"1\" class=\"dataframe\">\n",
       "  <thead>\n",
       "    <tr style=\"text-align: right;\">\n",
       "      <th></th>\n",
       "      <th>objid</th>\n",
       "      <th>ra</th>\n",
       "      <th>dec</th>\n",
       "      <th>u</th>\n",
       "      <th>g</th>\n",
       "      <th>r</th>\n",
       "      <th>i</th>\n",
       "      <th>z</th>\n",
       "      <th>run</th>\n",
       "      <th>rerun</th>\n",
       "      <th>camcol</th>\n",
       "      <th>field</th>\n",
       "      <th>specobjid</th>\n",
       "      <th>class</th>\n",
       "      <th>redshift</th>\n",
       "      <th>plate</th>\n",
       "      <th>mjd</th>\n",
       "      <th>fiberid</th>\n",
       "    </tr>\n",
       "  </thead>\n",
       "  <tbody>\n",
       "    <tr>\n",
       "      <th>objid</th>\n",
       "      <td>1.000000e+00</td>\n",
       "      <td>-3.547177e-17</td>\n",
       "      <td>-3.644254e-16</td>\n",
       "      <td>-6.644036e-17</td>\n",
       "      <td>1.001149e-13</td>\n",
       "      <td>2.995673e-14</td>\n",
       "      <td>2.212198e-14</td>\n",
       "      <td>-4.107700e-14</td>\n",
       "      <td>-1.553011e-14</td>\n",
       "      <td>NaN</td>\n",
       "      <td>1.921887e-15</td>\n",
       "      <td>5.938881e-16</td>\n",
       "      <td>-2.488284e-16</td>\n",
       "      <td>-3.355500e-15</td>\n",
       "      <td>-9.984510e-18</td>\n",
       "      <td>2.600217e-16</td>\n",
       "      <td>1.687607e-16</td>\n",
       "      <td>4.665195e-15</td>\n",
       "    </tr>\n",
       "    <tr>\n",
       "      <th>ra</th>\n",
       "      <td>-3.547177e-17</td>\n",
       "      <td>1.000000e+00</td>\n",
       "      <td>2.833206e-03</td>\n",
       "      <td>3.451709e-02</td>\n",
       "      <td>4.458956e-02</td>\n",
       "      <td>4.603922e-02</td>\n",
       "      <td>4.391811e-02</td>\n",
       "      <td>4.068596e-02</td>\n",
       "      <td>-7.688970e-02</td>\n",
       "      <td>NaN</td>\n",
       "      <td>-3.092235e-02</td>\n",
       "      <td>6.205178e-01</td>\n",
       "      <td>-1.189228e-01</td>\n",
       "      <td>-4.252333e-02</td>\n",
       "      <td>4.841912e-02</td>\n",
       "      <td>-1.187279e-01</td>\n",
       "      <td>-1.064747e-01</td>\n",
       "      <td>3.470899e-02</td>\n",
       "    </tr>\n",
       "    <tr>\n",
       "      <th>dec</th>\n",
       "      <td>-3.644254e-16</td>\n",
       "      <td>2.833206e-03</td>\n",
       "      <td>1.000000e+00</td>\n",
       "      <td>3.126802e-02</td>\n",
       "      <td>5.453505e-02</td>\n",
       "      <td>5.376531e-02</td>\n",
       "      <td>5.019754e-02</td>\n",
       "      <td>4.828523e-02</td>\n",
       "      <td>5.492202e-01</td>\n",
       "      <td>NaN</td>\n",
       "      <td>1.619688e-01</td>\n",
       "      <td>-7.562321e-02</td>\n",
       "      <td>9.675943e-02</td>\n",
       "      <td>-3.613360e-02</td>\n",
       "      <td>5.944186e-02</td>\n",
       "      <td>1.755200e-01</td>\n",
       "      <td>4.509383e-02</td>\n",
       "      <td>1.562025e-01</td>\n",
       "    </tr>\n",
       "    <tr>\n",
       "      <th>u</th>\n",
       "      <td>-6.644036e-17</td>\n",
       "      <td>3.451709e-02</td>\n",
       "      <td>3.126802e-02</td>\n",
       "      <td>1.000000e+00</td>\n",
       "      <td>8.127104e-01</td>\n",
       "      <td>6.602864e-01</td>\n",
       "      <td>5.794445e-01</td>\n",
       "      <td>5.245717e-01</td>\n",
       "      <td>3.305221e-02</td>\n",
       "      <td>NaN</td>\n",
       "      <td>9.863362e-03</td>\n",
       "      <td>9.319260e-03</td>\n",
       "      <td>-1.966507e-01</td>\n",
       "      <td>-2.592012e-01</td>\n",
       "      <td>3.679878e-01</td>\n",
       "      <td>-1.963543e-01</td>\n",
       "      <td>-1.656866e-01</td>\n",
       "      <td>8.382883e-03</td>\n",
       "    </tr>\n",
       "    <tr>\n",
       "      <th>g</th>\n",
       "      <td>1.001149e-13</td>\n",
       "      <td>4.458956e-02</td>\n",
       "      <td>5.453505e-02</td>\n",
       "      <td>8.127104e-01</td>\n",
       "      <td>1.000000e+00</td>\n",
       "      <td>9.581062e-01</td>\n",
       "      <td>9.074187e-01</td>\n",
       "      <td>8.796222e-01</td>\n",
       "      <td>5.844630e-02</td>\n",
       "      <td>NaN</td>\n",
       "      <td>1.022304e-02</td>\n",
       "      <td>1.465110e-02</td>\n",
       "      <td>-1.420640e-01</td>\n",
       "      <td>-9.921163e-02</td>\n",
       "      <td>4.597785e-01</td>\n",
       "      <td>-1.426900e-01</td>\n",
       "      <td>-1.011287e-01</td>\n",
       "      <td>4.718739e-02</td>\n",
       "    </tr>\n",
       "    <tr>\n",
       "      <th>r</th>\n",
       "      <td>2.995673e-14</td>\n",
       "      <td>4.603922e-02</td>\n",
       "      <td>5.376531e-02</td>\n",
       "      <td>6.602864e-01</td>\n",
       "      <td>9.581062e-01</td>\n",
       "      <td>1.000000e+00</td>\n",
       "      <td>9.776718e-01</td>\n",
       "      <td>9.691967e-01</td>\n",
       "      <td>5.726060e-02</td>\n",
       "      <td>NaN</td>\n",
       "      <td>1.074725e-02</td>\n",
       "      <td>1.713294e-02</td>\n",
       "      <td>-5.441997e-02</td>\n",
       "      <td>4.962769e-02</td>\n",
       "      <td>3.784699e-01</td>\n",
       "      <td>-5.644647e-02</td>\n",
       "      <td>-1.671245e-02</td>\n",
       "      <td>6.108141e-02</td>\n",
       "    </tr>\n",
       "    <tr>\n",
       "      <th>i</th>\n",
       "      <td>2.212198e-14</td>\n",
       "      <td>4.391811e-02</td>\n",
       "      <td>5.019754e-02</td>\n",
       "      <td>5.794445e-01</td>\n",
       "      <td>9.074187e-01</td>\n",
       "      <td>9.776718e-01</td>\n",
       "      <td>1.000000e+00</td>\n",
       "      <td>9.815066e-01</td>\n",
       "      <td>4.976478e-02</td>\n",
       "      <td>NaN</td>\n",
       "      <td>1.346079e-02</td>\n",
       "      <td>1.978147e-02</td>\n",
       "      <td>1.027408e-02</td>\n",
       "      <td>1.467908e-01</td>\n",
       "      <td>3.072161e-01</td>\n",
       "      <td>6.666558e-03</td>\n",
       "      <td>4.447120e-02</td>\n",
       "      <td>6.997739e-02</td>\n",
       "    </tr>\n",
       "    <tr>\n",
       "      <th>z</th>\n",
       "      <td>-4.107700e-14</td>\n",
       "      <td>4.068596e-02</td>\n",
       "      <td>4.828523e-02</td>\n",
       "      <td>5.245717e-01</td>\n",
       "      <td>8.796222e-01</td>\n",
       "      <td>9.691967e-01</td>\n",
       "      <td>9.815066e-01</td>\n",
       "      <td>1.000000e+00</td>\n",
       "      <td>4.825225e-02</td>\n",
       "      <td>NaN</td>\n",
       "      <td>1.092981e-02</td>\n",
       "      <td>1.824845e-02</td>\n",
       "      <td>5.980781e-02</td>\n",
       "      <td>2.157584e-01</td>\n",
       "      <td>2.547434e-01</td>\n",
       "      <td>5.535810e-02</td>\n",
       "      <td>9.012198e-02</td>\n",
       "      <td>6.797999e-02</td>\n",
       "    </tr>\n",
       "    <tr>\n",
       "      <th>run</th>\n",
       "      <td>-1.553011e-14</td>\n",
       "      <td>-7.688970e-02</td>\n",
       "      <td>5.492202e-01</td>\n",
       "      <td>3.305221e-02</td>\n",
       "      <td>5.844630e-02</td>\n",
       "      <td>5.726060e-02</td>\n",
       "      <td>4.976478e-02</td>\n",
       "      <td>4.825225e-02</td>\n",
       "      <td>1.000000e+00</td>\n",
       "      <td>NaN</td>\n",
       "      <td>1.518143e-01</td>\n",
       "      <td>-4.638975e-01</td>\n",
       "      <td>6.951743e-02</td>\n",
       "      <td>-7.816172e-02</td>\n",
       "      <td>1.030489e-01</td>\n",
       "      <td>1.640502e-01</td>\n",
       "      <td>6.696581e-02</td>\n",
       "      <td>1.385659e-01</td>\n",
       "    </tr>\n",
       "    <tr>\n",
       "      <th>rerun</th>\n",
       "      <td>NaN</td>\n",
       "      <td>NaN</td>\n",
       "      <td>NaN</td>\n",
       "      <td>NaN</td>\n",
       "      <td>NaN</td>\n",
       "      <td>NaN</td>\n",
       "      <td>NaN</td>\n",
       "      <td>NaN</td>\n",
       "      <td>NaN</td>\n",
       "      <td>NaN</td>\n",
       "      <td>NaN</td>\n",
       "      <td>NaN</td>\n",
       "      <td>NaN</td>\n",
       "      <td>NaN</td>\n",
       "      <td>NaN</td>\n",
       "      <td>NaN</td>\n",
       "      <td>NaN</td>\n",
       "      <td>NaN</td>\n",
       "    </tr>\n",
       "    <tr>\n",
       "      <th>camcol</th>\n",
       "      <td>1.921887e-15</td>\n",
       "      <td>-3.092235e-02</td>\n",
       "      <td>1.619688e-01</td>\n",
       "      <td>9.863362e-03</td>\n",
       "      <td>1.022304e-02</td>\n",
       "      <td>1.074725e-02</td>\n",
       "      <td>1.346079e-02</td>\n",
       "      <td>1.092981e-02</td>\n",
       "      <td>1.518143e-01</td>\n",
       "      <td>NaN</td>\n",
       "      <td>1.000000e+00</td>\n",
       "      <td>-6.792055e-02</td>\n",
       "      <td>1.417738e-02</td>\n",
       "      <td>-6.185920e-03</td>\n",
       "      <td>1.060864e-02</td>\n",
       "      <td>3.739151e-02</td>\n",
       "      <td>2.471747e-02</td>\n",
       "      <td>5.356292e-01</td>\n",
       "    </tr>\n",
       "    <tr>\n",
       "      <th>field</th>\n",
       "      <td>5.938881e-16</td>\n",
       "      <td>6.205178e-01</td>\n",
       "      <td>-7.562321e-02</td>\n",
       "      <td>9.319260e-03</td>\n",
       "      <td>1.465110e-02</td>\n",
       "      <td>1.713294e-02</td>\n",
       "      <td>1.978147e-02</td>\n",
       "      <td>1.824845e-02</td>\n",
       "      <td>-4.638975e-01</td>\n",
       "      <td>NaN</td>\n",
       "      <td>-6.792055e-02</td>\n",
       "      <td>1.000000e+00</td>\n",
       "      <td>-6.156730e-02</td>\n",
       "      <td>7.712555e-03</td>\n",
       "      <td>-4.240439e-03</td>\n",
       "      <td>-6.787668e-02</td>\n",
       "      <td>-8.518776e-02</td>\n",
       "      <td>-4.049295e-02</td>\n",
       "    </tr>\n",
       "    <tr>\n",
       "      <th>specobjid</th>\n",
       "      <td>-2.488284e-16</td>\n",
       "      <td>-1.189228e-01</td>\n",
       "      <td>9.675943e-02</td>\n",
       "      <td>-1.966507e-01</td>\n",
       "      <td>-1.420640e-01</td>\n",
       "      <td>-5.441997e-02</td>\n",
       "      <td>1.027408e-02</td>\n",
       "      <td>5.980781e-02</td>\n",
       "      <td>6.951743e-02</td>\n",
       "      <td>NaN</td>\n",
       "      <td>1.417738e-02</td>\n",
       "      <td>-6.156730e-02</td>\n",
       "      <td>1.000000e+00</td>\n",
       "      <td>7.013139e-01</td>\n",
       "      <td>-4.977240e-01</td>\n",
       "      <td>9.827030e-01</td>\n",
       "      <td>9.708272e-01</td>\n",
       "      <td>1.377494e-01</td>\n",
       "    </tr>\n",
       "    <tr>\n",
       "      <th>class</th>\n",
       "      <td>-3.355500e-15</td>\n",
       "      <td>-4.252333e-02</td>\n",
       "      <td>-3.613360e-02</td>\n",
       "      <td>-2.592012e-01</td>\n",
       "      <td>-9.921163e-02</td>\n",
       "      <td>4.962769e-02</td>\n",
       "      <td>1.467908e-01</td>\n",
       "      <td>2.157584e-01</td>\n",
       "      <td>-7.816172e-02</td>\n",
       "      <td>NaN</td>\n",
       "      <td>-6.185920e-03</td>\n",
       "      <td>7.712555e-03</td>\n",
       "      <td>7.013139e-01</td>\n",
       "      <td>1.000000e+00</td>\n",
       "      <td>-6.167753e-01</td>\n",
       "      <td>6.811019e-01</td>\n",
       "      <td>6.580563e-01</td>\n",
       "      <td>5.359261e-02</td>\n",
       "    </tr>\n",
       "    <tr>\n",
       "      <th>redshift</th>\n",
       "      <td>-9.984510e-18</td>\n",
       "      <td>4.841912e-02</td>\n",
       "      <td>5.944186e-02</td>\n",
       "      <td>3.679878e-01</td>\n",
       "      <td>4.597785e-01</td>\n",
       "      <td>3.784699e-01</td>\n",
       "      <td>3.072161e-01</td>\n",
       "      <td>2.547434e-01</td>\n",
       "      <td>1.030489e-01</td>\n",
       "      <td>NaN</td>\n",
       "      <td>1.060864e-02</td>\n",
       "      <td>-4.240439e-03</td>\n",
       "      <td>-4.977240e-01</td>\n",
       "      <td>-6.167753e-01</td>\n",
       "      <td>1.000000e+00</td>\n",
       "      <td>-4.812464e-01</td>\n",
       "      <td>-4.525723e-01</td>\n",
       "      <td>-3.778706e-03</td>\n",
       "    </tr>\n",
       "    <tr>\n",
       "      <th>plate</th>\n",
       "      <td>2.600217e-16</td>\n",
       "      <td>-1.187279e-01</td>\n",
       "      <td>1.755200e-01</td>\n",
       "      <td>-1.963543e-01</td>\n",
       "      <td>-1.426900e-01</td>\n",
       "      <td>-5.644647e-02</td>\n",
       "      <td>6.666558e-03</td>\n",
       "      <td>5.535810e-02</td>\n",
       "      <td>1.640502e-01</td>\n",
       "      <td>NaN</td>\n",
       "      <td>3.739151e-02</td>\n",
       "      <td>-6.787668e-02</td>\n",
       "      <td>9.827030e-01</td>\n",
       "      <td>6.811019e-01</td>\n",
       "      <td>-4.812464e-01</td>\n",
       "      <td>1.000000e+00</td>\n",
       "      <td>9.297182e-01</td>\n",
       "      <td>1.285187e-01</td>\n",
       "    </tr>\n",
       "    <tr>\n",
       "      <th>mjd</th>\n",
       "      <td>1.687607e-16</td>\n",
       "      <td>-1.064747e-01</td>\n",
       "      <td>4.509383e-02</td>\n",
       "      <td>-1.656866e-01</td>\n",
       "      <td>-1.011287e-01</td>\n",
       "      <td>-1.671245e-02</td>\n",
       "      <td>4.447120e-02</td>\n",
       "      <td>9.012198e-02</td>\n",
       "      <td>6.696581e-02</td>\n",
       "      <td>NaN</td>\n",
       "      <td>2.471747e-02</td>\n",
       "      <td>-8.518776e-02</td>\n",
       "      <td>9.708272e-01</td>\n",
       "      <td>6.580563e-01</td>\n",
       "      <td>-4.525723e-01</td>\n",
       "      <td>9.297182e-01</td>\n",
       "      <td>1.000000e+00</td>\n",
       "      <td>1.818576e-01</td>\n",
       "    </tr>\n",
       "    <tr>\n",
       "      <th>fiberid</th>\n",
       "      <td>4.665195e-15</td>\n",
       "      <td>3.470899e-02</td>\n",
       "      <td>1.562025e-01</td>\n",
       "      <td>8.382883e-03</td>\n",
       "      <td>4.718739e-02</td>\n",
       "      <td>6.108141e-02</td>\n",
       "      <td>6.997739e-02</td>\n",
       "      <td>6.797999e-02</td>\n",
       "      <td>1.385659e-01</td>\n",
       "      <td>NaN</td>\n",
       "      <td>5.356292e-01</td>\n",
       "      <td>-4.049295e-02</td>\n",
       "      <td>1.377494e-01</td>\n",
       "      <td>5.359261e-02</td>\n",
       "      <td>-3.778706e-03</td>\n",
       "      <td>1.285187e-01</td>\n",
       "      <td>1.818576e-01</td>\n",
       "      <td>1.000000e+00</td>\n",
       "    </tr>\n",
       "  </tbody>\n",
       "</table>\n",
       "</div>"
      ],
      "text/plain": [
       "                  objid            ra           dec             u  \\\n",
       "objid      1.000000e+00 -3.547177e-17 -3.644254e-16 -6.644036e-17   \n",
       "ra        -3.547177e-17  1.000000e+00  2.833206e-03  3.451709e-02   \n",
       "dec       -3.644254e-16  2.833206e-03  1.000000e+00  3.126802e-02   \n",
       "u         -6.644036e-17  3.451709e-02  3.126802e-02  1.000000e+00   \n",
       "g          1.001149e-13  4.458956e-02  5.453505e-02  8.127104e-01   \n",
       "r          2.995673e-14  4.603922e-02  5.376531e-02  6.602864e-01   \n",
       "i          2.212198e-14  4.391811e-02  5.019754e-02  5.794445e-01   \n",
       "z         -4.107700e-14  4.068596e-02  4.828523e-02  5.245717e-01   \n",
       "run       -1.553011e-14 -7.688970e-02  5.492202e-01  3.305221e-02   \n",
       "rerun               NaN           NaN           NaN           NaN   \n",
       "camcol     1.921887e-15 -3.092235e-02  1.619688e-01  9.863362e-03   \n",
       "field      5.938881e-16  6.205178e-01 -7.562321e-02  9.319260e-03   \n",
       "specobjid -2.488284e-16 -1.189228e-01  9.675943e-02 -1.966507e-01   \n",
       "class     -3.355500e-15 -4.252333e-02 -3.613360e-02 -2.592012e-01   \n",
       "redshift  -9.984510e-18  4.841912e-02  5.944186e-02  3.679878e-01   \n",
       "plate      2.600217e-16 -1.187279e-01  1.755200e-01 -1.963543e-01   \n",
       "mjd        1.687607e-16 -1.064747e-01  4.509383e-02 -1.656866e-01   \n",
       "fiberid    4.665195e-15  3.470899e-02  1.562025e-01  8.382883e-03   \n",
       "\n",
       "                      g             r             i             z  \\\n",
       "objid      1.001149e-13  2.995673e-14  2.212198e-14 -4.107700e-14   \n",
       "ra         4.458956e-02  4.603922e-02  4.391811e-02  4.068596e-02   \n",
       "dec        5.453505e-02  5.376531e-02  5.019754e-02  4.828523e-02   \n",
       "u          8.127104e-01  6.602864e-01  5.794445e-01  5.245717e-01   \n",
       "g          1.000000e+00  9.581062e-01  9.074187e-01  8.796222e-01   \n",
       "r          9.581062e-01  1.000000e+00  9.776718e-01  9.691967e-01   \n",
       "i          9.074187e-01  9.776718e-01  1.000000e+00  9.815066e-01   \n",
       "z          8.796222e-01  9.691967e-01  9.815066e-01  1.000000e+00   \n",
       "run        5.844630e-02  5.726060e-02  4.976478e-02  4.825225e-02   \n",
       "rerun               NaN           NaN           NaN           NaN   \n",
       "camcol     1.022304e-02  1.074725e-02  1.346079e-02  1.092981e-02   \n",
       "field      1.465110e-02  1.713294e-02  1.978147e-02  1.824845e-02   \n",
       "specobjid -1.420640e-01 -5.441997e-02  1.027408e-02  5.980781e-02   \n",
       "class     -9.921163e-02  4.962769e-02  1.467908e-01  2.157584e-01   \n",
       "redshift   4.597785e-01  3.784699e-01  3.072161e-01  2.547434e-01   \n",
       "plate     -1.426900e-01 -5.644647e-02  6.666558e-03  5.535810e-02   \n",
       "mjd       -1.011287e-01 -1.671245e-02  4.447120e-02  9.012198e-02   \n",
       "fiberid    4.718739e-02  6.108141e-02  6.997739e-02  6.797999e-02   \n",
       "\n",
       "                    run  rerun        camcol         field     specobjid  \\\n",
       "objid     -1.553011e-14    NaN  1.921887e-15  5.938881e-16 -2.488284e-16   \n",
       "ra        -7.688970e-02    NaN -3.092235e-02  6.205178e-01 -1.189228e-01   \n",
       "dec        5.492202e-01    NaN  1.619688e-01 -7.562321e-02  9.675943e-02   \n",
       "u          3.305221e-02    NaN  9.863362e-03  9.319260e-03 -1.966507e-01   \n",
       "g          5.844630e-02    NaN  1.022304e-02  1.465110e-02 -1.420640e-01   \n",
       "r          5.726060e-02    NaN  1.074725e-02  1.713294e-02 -5.441997e-02   \n",
       "i          4.976478e-02    NaN  1.346079e-02  1.978147e-02  1.027408e-02   \n",
       "z          4.825225e-02    NaN  1.092981e-02  1.824845e-02  5.980781e-02   \n",
       "run        1.000000e+00    NaN  1.518143e-01 -4.638975e-01  6.951743e-02   \n",
       "rerun               NaN    NaN           NaN           NaN           NaN   \n",
       "camcol     1.518143e-01    NaN  1.000000e+00 -6.792055e-02  1.417738e-02   \n",
       "field     -4.638975e-01    NaN -6.792055e-02  1.000000e+00 -6.156730e-02   \n",
       "specobjid  6.951743e-02    NaN  1.417738e-02 -6.156730e-02  1.000000e+00   \n",
       "class     -7.816172e-02    NaN -6.185920e-03  7.712555e-03  7.013139e-01   \n",
       "redshift   1.030489e-01    NaN  1.060864e-02 -4.240439e-03 -4.977240e-01   \n",
       "plate      1.640502e-01    NaN  3.739151e-02 -6.787668e-02  9.827030e-01   \n",
       "mjd        6.696581e-02    NaN  2.471747e-02 -8.518776e-02  9.708272e-01   \n",
       "fiberid    1.385659e-01    NaN  5.356292e-01 -4.049295e-02  1.377494e-01   \n",
       "\n",
       "                  class      redshift         plate           mjd  \\\n",
       "objid     -3.355500e-15 -9.984510e-18  2.600217e-16  1.687607e-16   \n",
       "ra        -4.252333e-02  4.841912e-02 -1.187279e-01 -1.064747e-01   \n",
       "dec       -3.613360e-02  5.944186e-02  1.755200e-01  4.509383e-02   \n",
       "u         -2.592012e-01  3.679878e-01 -1.963543e-01 -1.656866e-01   \n",
       "g         -9.921163e-02  4.597785e-01 -1.426900e-01 -1.011287e-01   \n",
       "r          4.962769e-02  3.784699e-01 -5.644647e-02 -1.671245e-02   \n",
       "i          1.467908e-01  3.072161e-01  6.666558e-03  4.447120e-02   \n",
       "z          2.157584e-01  2.547434e-01  5.535810e-02  9.012198e-02   \n",
       "run       -7.816172e-02  1.030489e-01  1.640502e-01  6.696581e-02   \n",
       "rerun               NaN           NaN           NaN           NaN   \n",
       "camcol    -6.185920e-03  1.060864e-02  3.739151e-02  2.471747e-02   \n",
       "field      7.712555e-03 -4.240439e-03 -6.787668e-02 -8.518776e-02   \n",
       "specobjid  7.013139e-01 -4.977240e-01  9.827030e-01  9.708272e-01   \n",
       "class      1.000000e+00 -6.167753e-01  6.811019e-01  6.580563e-01   \n",
       "redshift  -6.167753e-01  1.000000e+00 -4.812464e-01 -4.525723e-01   \n",
       "plate      6.811019e-01 -4.812464e-01  1.000000e+00  9.297182e-01   \n",
       "mjd        6.580563e-01 -4.525723e-01  9.297182e-01  1.000000e+00   \n",
       "fiberid    5.359261e-02 -3.778706e-03  1.285187e-01  1.818576e-01   \n",
       "\n",
       "                fiberid  \n",
       "objid      4.665195e-15  \n",
       "ra         3.470899e-02  \n",
       "dec        1.562025e-01  \n",
       "u          8.382883e-03  \n",
       "g          4.718739e-02  \n",
       "r          6.108141e-02  \n",
       "i          6.997739e-02  \n",
       "z          6.797999e-02  \n",
       "run        1.385659e-01  \n",
       "rerun               NaN  \n",
       "camcol     5.356292e-01  \n",
       "field     -4.049295e-02  \n",
       "specobjid  1.377494e-01  \n",
       "class      5.359261e-02  \n",
       "redshift  -3.778706e-03  \n",
       "plate      1.285187e-01  \n",
       "mjd        1.818576e-01  \n",
       "fiberid    1.000000e+00  "
      ]
     },
     "execution_count": 41,
     "metadata": {},
     "output_type": "execute_result"
    }
   ],
   "source": [
    "df.corr()"
   ]
  },
  {
   "cell_type": "code",
   "execution_count": 42,
   "metadata": {},
   "outputs": [
    {
     "data": {
      "text/plain": [
       "<matplotlib.axes._subplots.AxesSubplot at 0x7f3c53c2dd30>"
      ]
     },
     "execution_count": 42,
     "metadata": {},
     "output_type": "execute_result"
    },
    {
     "data": {
      "image/png": "[encoded data removed]",
      "text/plain": [
       "<Figure size 1152x576 with 2 Axes>"
      ]
     },
     "metadata": {
      "needs_background": "light"
     },
     "output_type": "display_data"
    }
   ],
   "source": [
    "plt.figure(figsize=(16,8))\n",
    "sns.heatmap(df.corr(),annot=True,linewidths=0.5,fmt='0.2%')"
   ]
  },
  {
   "cell_type": "markdown",
   "metadata": {},
   "source": [
    "##### Heatmap shows that objid and rerun has no correlation with target column i.e class"
   ]
  },
  {
   "cell_type": "code",
   "execution_count": 43,
   "metadata": {},
   "outputs": [
    {
     "data": {
      "text/html": [
       "<div>\n",
       "<style scoped>\n",
       "    .dataframe tbody tr th:only-of-type {\n",
       "        vertical-align: middle;\n",
       "    }\n",
       "\n",
       "    .dataframe tbody tr th {\n",
       "        vertical-align: top;\n",
       "    }\n",
       "\n",
       "    .dataframe thead th {\n",
       "        text-align: right;\n",
       "    }\n",
       "</style>\n",
       "<table border=\"1\" class=\"dataframe\">\n",
       "  <thead>\n",
       "    <tr style=\"text-align: right;\">\n",
       "      <th></th>\n",
       "      <th>ra</th>\n",
       "      <th>dec</th>\n",
       "      <th>u</th>\n",
       "      <th>g</th>\n",
       "      <th>r</th>\n",
       "      <th>i</th>\n",
       "      <th>z</th>\n",
       "      <th>run</th>\n",
       "      <th>camcol</th>\n",
       "      <th>field</th>\n",
       "      <th>specobjid</th>\n",
       "      <th>class</th>\n",
       "      <th>redshift</th>\n",
       "      <th>plate</th>\n",
       "      <th>mjd</th>\n",
       "      <th>fiberid</th>\n",
       "    </tr>\n",
       "  </thead>\n",
       "  <tbody>\n",
       "    <tr>\n",
       "      <th>0</th>\n",
       "      <td>0.074086</td>\n",
       "      <td>-0.298528</td>\n",
       "      <td>1.324181</td>\n",
       "      <td>17.04240</td>\n",
       "      <td>15.94699</td>\n",
       "      <td>15.50342</td>\n",
       "      <td>15.22531</td>\n",
       "      <td>752</td>\n",
       "      <td>4</td>\n",
       "      <td>267</td>\n",
       "      <td>1.391174</td>\n",
       "      <td>2</td>\n",
       "      <td>-0.938967</td>\n",
       "      <td>1.326782</td>\n",
       "      <td>1.338791</td>\n",
       "      <td>491</td>\n",
       "    </tr>\n",
       "    <tr>\n",
       "      <th>1</th>\n",
       "      <td>0.075736</td>\n",
       "      <td>-0.286965</td>\n",
       "      <td>-0.203686</td>\n",
       "      <td>17.21449</td>\n",
       "      <td>16.67637</td>\n",
       "      <td>16.48922</td>\n",
       "      <td>16.39150</td>\n",
       "      <td>752</td>\n",
       "      <td>4</td>\n",
       "      <td>267</td>\n",
       "      <td>-0.782518</td>\n",
       "      <td>2</td>\n",
       "      <td>-0.940055</td>\n",
       "      <td>-0.806801</td>\n",
       "      <td>-0.924403</td>\n",
       "      <td>541</td>\n",
       "    </tr>\n",
       "    <tr>\n",
       "      <th>2</th>\n",
       "      <td>0.077749</td>\n",
       "      <td>-0.289243</td>\n",
       "      <td>1.112203</td>\n",
       "      <td>18.19169</td>\n",
       "      <td>17.47428</td>\n",
       "      <td>17.08732</td>\n",
       "      <td>16.80125</td>\n",
       "      <td>752</td>\n",
       "      <td>4</td>\n",
       "      <td>268</td>\n",
       "      <td>-0.850654</td>\n",
       "      <td>0</td>\n",
       "      <td>0.939831</td>\n",
       "      <td>-1.017960</td>\n",
       "      <td>-0.621582</td>\n",
       "      <td>513</td>\n",
       "    </tr>\n",
       "    <tr>\n",
       "      <th>3</th>\n",
       "      <td>0.082435</td>\n",
       "      <td>-0.308940</td>\n",
       "      <td>-1.190591</td>\n",
       "      <td>16.60272</td>\n",
       "      <td>16.16116</td>\n",
       "      <td>15.98233</td>\n",
       "      <td>15.90438</td>\n",
       "      <td>752</td>\n",
       "      <td>4</td>\n",
       "      <td>269</td>\n",
       "      <td>1.391175</td>\n",
       "      <td>2</td>\n",
       "      <td>-0.941375</td>\n",
       "      <td>1.326782</td>\n",
       "      <td>1.338791</td>\n",
       "      <td>510</td>\n",
       "    </tr>\n",
       "    <tr>\n",
       "      <th>4</th>\n",
       "      <td>0.082749</td>\n",
       "      <td>-0.295227</td>\n",
       "      <td>-1.352749</td>\n",
       "      <td>16.26342</td>\n",
       "      <td>16.43869</td>\n",
       "      <td>16.55492</td>\n",
       "      <td>16.61326</td>\n",
       "      <td>752</td>\n",
       "      <td>4</td>\n",
       "      <td>269</td>\n",
       "      <td>1.391175</td>\n",
       "      <td>2</td>\n",
       "      <td>-0.924806</td>\n",
       "      <td>1.326782</td>\n",
       "      <td>1.338791</td>\n",
       "      <td>512</td>\n",
       "    </tr>\n",
       "    <tr>\n",
       "      <th>...</th>\n",
       "      <td>...</td>\n",
       "      <td>...</td>\n",
       "      <td>...</td>\n",
       "      <td>...</td>\n",
       "      <td>...</td>\n",
       "      <td>...</td>\n",
       "      <td>...</td>\n",
       "      <td>...</td>\n",
       "      <td>...</td>\n",
       "      <td>...</td>\n",
       "      <td>...</td>\n",
       "      <td>...</td>\n",
       "      <td>...</td>\n",
       "      <td>...</td>\n",
       "      <td>...</td>\n",
       "      <td>...</td>\n",
       "    </tr>\n",
       "    <tr>\n",
       "      <th>9995</th>\n",
       "      <td>-1.071857</td>\n",
       "      <td>1.336087</td>\n",
       "      <td>0.031851</td>\n",
       "      <td>17.47053</td>\n",
       "      <td>16.91508</td>\n",
       "      <td>16.68305</td>\n",
       "      <td>16.50570</td>\n",
       "      <td>1345</td>\n",
       "      <td>3</td>\n",
       "      <td>161</td>\n",
       "      <td>-0.559572</td>\n",
       "      <td>0</td>\n",
       "      <td>-0.352316</td>\n",
       "      <td>-0.299123</td>\n",
       "      <td>-0.717210</td>\n",
       "      <td>246</td>\n",
       "    </tr>\n",
       "    <tr>\n",
       "      <th>9996</th>\n",
       "      <td>-1.072055</td>\n",
       "      <td>1.337599</td>\n",
       "      <td>-0.703598</td>\n",
       "      <td>17.43849</td>\n",
       "      <td>17.07692</td>\n",
       "      <td>16.71661</td>\n",
       "      <td>16.69897</td>\n",
       "      <td>1345</td>\n",
       "      <td>3</td>\n",
       "      <td>162</td>\n",
       "      <td>-0.559579</td>\n",
       "      <td>0</td>\n",
       "      <td>0.889145</td>\n",
       "      <td>-0.299123</td>\n",
       "      <td>-0.717210</td>\n",
       "      <td>228</td>\n",
       "    </tr>\n",
       "    <tr>\n",
       "      <th>9997</th>\n",
       "      <td>-1.067315</td>\n",
       "      <td>1.337549</td>\n",
       "      <td>-0.061450</td>\n",
       "      <td>17.77784</td>\n",
       "      <td>17.51872</td>\n",
       "      <td>17.43302</td>\n",
       "      <td>17.42048</td>\n",
       "      <td>1345</td>\n",
       "      <td>3</td>\n",
       "      <td>162</td>\n",
       "      <td>1.802500</td>\n",
       "      <td>2</td>\n",
       "      <td>-0.948280</td>\n",
       "      <td>1.585300</td>\n",
       "      <td>2.518202</td>\n",
       "      <td>622</td>\n",
       "    </tr>\n",
       "    <tr>\n",
       "      <th>9998</th>\n",
       "      <td>-1.068766</td>\n",
       "      <td>1.338535</td>\n",
       "      <td>0.137848</td>\n",
       "      <td>17.91068</td>\n",
       "      <td>17.53152</td>\n",
       "      <td>17.36284</td>\n",
       "      <td>17.13988</td>\n",
       "      <td>1345</td>\n",
       "      <td>3</td>\n",
       "      <td>163</td>\n",
       "      <td>-0.559579</td>\n",
       "      <td>0</td>\n",
       "      <td>-0.624694</td>\n",
       "      <td>-0.299123</td>\n",
       "      <td>-0.717210</td>\n",
       "      <td>229</td>\n",
       "    </tr>\n",
       "    <tr>\n",
       "      <th>9999</th>\n",
       "      <td>-1.065149</td>\n",
       "      <td>1.339132</td>\n",
       "      <td>0.877519</td>\n",
       "      <td>17.37829</td>\n",
       "      <td>16.30542</td>\n",
       "      <td>15.83548</td>\n",
       "      <td>15.50588</td>\n",
       "      <td>1345</td>\n",
       "      <td>3</td>\n",
       "      <td>163</td>\n",
       "      <td>-0.559578</td>\n",
       "      <td>0</td>\n",
       "      <td>0.895373</td>\n",
       "      <td>-0.299123</td>\n",
       "      <td>-0.717210</td>\n",
       "      <td>233</td>\n",
       "    </tr>\n",
       "  </tbody>\n",
       "</table>\n",
       "<p>10000 rows × 16 columns</p>\n",
       "</div>"
      ],
      "text/plain": [
       "            ra       dec         u         g         r         i         z  \\\n",
       "0     0.074086 -0.298528  1.324181  17.04240  15.94699  15.50342  15.22531   \n",
       "1     0.075736 -0.286965 -0.203686  17.21449  16.67637  16.48922  16.39150   \n",
       "2     0.077749 -0.289243  1.112203  18.19169  17.47428  17.08732  16.80125   \n",
       "3     0.082435 -0.308940 -1.190591  16.60272  16.16116  15.98233  15.90438   \n",
       "4     0.082749 -0.295227 -1.352749  16.26342  16.43869  16.55492  16.61326   \n",
       "...        ...       ...       ...       ...       ...       ...       ...   \n",
       "9995 -1.071857  1.336087  0.031851  17.47053  16.91508  16.68305  16.50570   \n",
       "9996 -1.072055  1.337599 -0.703598  17.43849  17.07692  16.71661  16.69897   \n",
       "9997 -1.067315  1.337549 -0.061450  17.77784  17.51872  17.43302  17.42048   \n",
       "9998 -1.068766  1.338535  0.137848  17.91068  17.53152  17.36284  17.13988   \n",
       "9999 -1.065149  1.339132  0.877519  17.37829  16.30542  15.83548  15.50588   \n",
       "\n",
       "       run  camcol  field  specobjid  class  redshift     plate       mjd  \\\n",
       "0      752       4    267   1.391174      2 -0.938967  1.326782  1.338791   \n",
       "1      752       4    267  -0.782518      2 -0.940055 -0.806801 -0.924403   \n",
       "2      752       4    268  -0.850654      0  0.939831 -1.017960 -0.621582   \n",
       "3      752       4    269   1.391175      2 -0.941375  1.326782  1.338791   \n",
       "4      752       4    269   1.391175      2 -0.924806  1.326782  1.338791   \n",
       "...    ...     ...    ...        ...    ...       ...       ...       ...   \n",
       "9995  1345       3    161  -0.559572      0 -0.352316 -0.299123 -0.717210   \n",
       "9996  1345       3    162  -0.559579      0  0.889145 -0.299123 -0.717210   \n",
       "9997  1345       3    162   1.802500      2 -0.948280  1.585300  2.518202   \n",
       "9998  1345       3    163  -0.559579      0 -0.624694 -0.299123 -0.717210   \n",
       "9999  1345       3    163  -0.559578      0  0.895373 -0.299123 -0.717210   \n",
       "\n",
       "      fiberid  \n",
       "0         491  \n",
       "1         541  \n",
       "2         513  \n",
       "3         510  \n",
       "4         512  \n",
       "...       ...  \n",
       "9995      246  \n",
       "9996      228  \n",
       "9997      622  \n",
       "9998      229  \n",
       "9999      233  \n",
       "\n",
       "[10000 rows x 16 columns]"
      ]
     },
     "execution_count": 43,
     "metadata": {},
     "output_type": "execute_result"
    }
   ],
   "source": [
    "df1=df.drop(['objid','rerun'],axis=1)\n",
    "df1"
   ]
  },
  {
   "cell_type": "code",
   "execution_count": null,
   "metadata": {},
   "outputs": [],
   "source": []
  },
  {
   "cell_type": "code",
   "execution_count": null,
   "metadata": {},
   "outputs": [],
   "source": []
  },
  {
   "cell_type": "markdown",
   "metadata": {},
   "source": [
    "### Applying Standard scaller on this dataset"
   ]
  },
  {
   "cell_type": "code",
   "execution_count": 44,
   "metadata": {},
   "outputs": [
    {
     "data": {
      "text/html": [
       "<div>\n",
       "<style scoped>\n",
       "    .dataframe tbody tr th:only-of-type {\n",
       "        vertical-align: middle;\n",
       "    }\n",
       "\n",
       "    .dataframe tbody tr th {\n",
       "        vertical-align: top;\n",
       "    }\n",
       "\n",
       "    .dataframe thead th {\n",
       "        text-align: right;\n",
       "    }\n",
       "</style>\n",
       "<table border=\"1\" class=\"dataframe\">\n",
       "  <thead>\n",
       "    <tr style=\"text-align: right;\">\n",
       "      <th></th>\n",
       "      <th>0</th>\n",
       "      <th>1</th>\n",
       "      <th>2</th>\n",
       "      <th>3</th>\n",
       "      <th>4</th>\n",
       "      <th>5</th>\n",
       "      <th>6</th>\n",
       "      <th>7</th>\n",
       "      <th>8</th>\n",
       "      <th>9</th>\n",
       "      <th>10</th>\n",
       "      <th>11</th>\n",
       "      <th>12</th>\n",
       "      <th>13</th>\n",
       "      <th>14</th>\n",
       "    </tr>\n",
       "  </thead>\n",
       "  <tbody>\n",
       "    <tr>\n",
       "      <th>0</th>\n",
       "      <td>0.0</td>\n",
       "      <td>0.074086</td>\n",
       "      <td>-0.298528</td>\n",
       "      <td>1.324181</td>\n",
       "      <td>-0.348559</td>\n",
       "      <td>-0.837280</td>\n",
       "      <td>-0.946058</td>\n",
       "      <td>-0.995342</td>\n",
       "      <td>0.0</td>\n",
       "      <td>-0.217630</td>\n",
       "      <td>1.391174</td>\n",
       "      <td>-0.938967</td>\n",
       "      <td>1.326782</td>\n",
       "      <td>1.343947</td>\n",
       "      <td>0.668632</td>\n",
       "    </tr>\n",
       "    <tr>\n",
       "      <th>1</th>\n",
       "      <td>0.0</td>\n",
       "      <td>0.075736</td>\n",
       "      <td>-0.286965</td>\n",
       "      <td>-0.203686</td>\n",
       "      <td>-0.166533</td>\n",
       "      <td>-0.154155</td>\n",
       "      <td>-0.082645</td>\n",
       "      <td>-0.026043</td>\n",
       "      <td>0.0</td>\n",
       "      <td>-0.217630</td>\n",
       "      <td>-0.782518</td>\n",
       "      <td>-0.940055</td>\n",
       "      <td>-0.806801</td>\n",
       "      <td>-0.919277</td>\n",
       "      <td>0.911012</td>\n",
       "    </tr>\n",
       "    <tr>\n",
       "      <th>2</th>\n",
       "      <td>0.0</td>\n",
       "      <td>0.077749</td>\n",
       "      <td>-0.289243</td>\n",
       "      <td>1.112203</td>\n",
       "      <td>0.867093</td>\n",
       "      <td>0.593154</td>\n",
       "      <td>0.441201</td>\n",
       "      <td>0.314528</td>\n",
       "      <td>0.0</td>\n",
       "      <td>-0.211479</td>\n",
       "      <td>-0.850654</td>\n",
       "      <td>0.939831</td>\n",
       "      <td>-1.017960</td>\n",
       "      <td>-0.616451</td>\n",
       "      <td>0.775279</td>\n",
       "    </tr>\n",
       "    <tr>\n",
       "      <th>3</th>\n",
       "      <td>0.0</td>\n",
       "      <td>0.082435</td>\n",
       "      <td>-0.308940</td>\n",
       "      <td>-1.190591</td>\n",
       "      <td>-0.813627</td>\n",
       "      <td>-0.636692</td>\n",
       "      <td>-0.526604</td>\n",
       "      <td>-0.430921</td>\n",
       "      <td>0.0</td>\n",
       "      <td>-0.205328</td>\n",
       "      <td>1.391175</td>\n",
       "      <td>-0.941375</td>\n",
       "      <td>1.326782</td>\n",
       "      <td>1.343947</td>\n",
       "      <td>0.760736</td>\n",
       "    </tr>\n",
       "    <tr>\n",
       "      <th>4</th>\n",
       "      <td>0.0</td>\n",
       "      <td>0.082749</td>\n",
       "      <td>-0.295227</td>\n",
       "      <td>-1.352749</td>\n",
       "      <td>-1.172519</td>\n",
       "      <td>-0.376762</td>\n",
       "      <td>-0.025101</td>\n",
       "      <td>0.158276</td>\n",
       "      <td>0.0</td>\n",
       "      <td>-0.205328</td>\n",
       "      <td>1.391175</td>\n",
       "      <td>-0.924806</td>\n",
       "      <td>1.326782</td>\n",
       "      <td>1.343947</td>\n",
       "      <td>0.770431</td>\n",
       "    </tr>\n",
       "  </tbody>\n",
       "</table>\n",
       "</div>"
      ],
      "text/plain": [
       "     0         1         2         3         4         5         6         7  \\\n",
       "0  0.0  0.074086 -0.298528  1.324181 -0.348559 -0.837280 -0.946058 -0.995342   \n",
       "1  0.0  0.075736 -0.286965 -0.203686 -0.166533 -0.154155 -0.082645 -0.026043   \n",
       "2  0.0  0.077749 -0.289243  1.112203  0.867093  0.593154  0.441201  0.314528   \n",
       "3  0.0  0.082435 -0.308940 -1.190591 -0.813627 -0.636692 -0.526604 -0.430921   \n",
       "4  0.0  0.082749 -0.295227 -1.352749 -1.172519 -0.376762 -0.025101  0.158276   \n",
       "\n",
       "     8         9        10        11        12        13        14  \n",
       "0  0.0 -0.217630  1.391174 -0.938967  1.326782  1.343947  0.668632  \n",
       "1  0.0 -0.217630 -0.782518 -0.940055 -0.806801 -0.919277  0.911012  \n",
       "2  0.0 -0.211479 -0.850654  0.939831 -1.017960 -0.616451  0.775279  \n",
       "3  0.0 -0.205328  1.391175 -0.941375  1.326782  1.343947  0.760736  \n",
       "4  0.0 -0.205328  1.391175 -0.924806  1.326782  1.343947  0.770431  "
      ]
     },
     "execution_count": 44,
     "metadata": {},
     "output_type": "execute_result"
    }
   ],
   "source": [
    "target=df['class']\n",
    "x=df.drop(['class','run','camcol'],axis=1)\n",
    "X=ss.fit_transform(x)\n",
    "df=pd.DataFrame(X)\n",
    "df.head()"
   ]
  },
  {
   "cell_type": "code",
   "execution_count": 45,
   "metadata": {},
   "outputs": [
    {
     "data": {
      "text/html": [
       "<div>\n",
       "<style scoped>\n",
       "    .dataframe tbody tr th:only-of-type {\n",
       "        vertical-align: middle;\n",
       "    }\n",
       "\n",
       "    .dataframe tbody tr th {\n",
       "        vertical-align: top;\n",
       "    }\n",
       "\n",
       "    .dataframe thead th {\n",
       "        text-align: right;\n",
       "    }\n",
       "</style>\n",
       "<table border=\"1\" class=\"dataframe\">\n",
       "  <thead>\n",
       "    <tr style=\"text-align: right;\">\n",
       "      <th></th>\n",
       "      <th>0</th>\n",
       "      <th>1</th>\n",
       "      <th>2</th>\n",
       "      <th>3</th>\n",
       "      <th>4</th>\n",
       "      <th>5</th>\n",
       "      <th>6</th>\n",
       "      <th>7</th>\n",
       "      <th>8</th>\n",
       "      <th>9</th>\n",
       "      <th>10</th>\n",
       "      <th>11</th>\n",
       "      <th>12</th>\n",
       "    </tr>\n",
       "  </thead>\n",
       "  <tbody>\n",
       "    <tr>\n",
       "      <th>0</th>\n",
       "      <td>0.074086</td>\n",
       "      <td>-0.298528</td>\n",
       "      <td>1.324181</td>\n",
       "      <td>-0.348559</td>\n",
       "      <td>-0.837280</td>\n",
       "      <td>-0.946058</td>\n",
       "      <td>-0.995342</td>\n",
       "      <td>-0.217630</td>\n",
       "      <td>1.391174</td>\n",
       "      <td>-0.938967</td>\n",
       "      <td>1.326782</td>\n",
       "      <td>1.343947</td>\n",
       "      <td>0.668632</td>\n",
       "    </tr>\n",
       "    <tr>\n",
       "      <th>1</th>\n",
       "      <td>0.075736</td>\n",
       "      <td>-0.286965</td>\n",
       "      <td>-0.203686</td>\n",
       "      <td>-0.166533</td>\n",
       "      <td>-0.154155</td>\n",
       "      <td>-0.082645</td>\n",
       "      <td>-0.026043</td>\n",
       "      <td>-0.217630</td>\n",
       "      <td>-0.782518</td>\n",
       "      <td>-0.940055</td>\n",
       "      <td>-0.806801</td>\n",
       "      <td>-0.919277</td>\n",
       "      <td>0.911012</td>\n",
       "    </tr>\n",
       "    <tr>\n",
       "      <th>2</th>\n",
       "      <td>0.077749</td>\n",
       "      <td>-0.289243</td>\n",
       "      <td>1.112203</td>\n",
       "      <td>0.867093</td>\n",
       "      <td>0.593154</td>\n",
       "      <td>0.441201</td>\n",
       "      <td>0.314528</td>\n",
       "      <td>-0.211479</td>\n",
       "      <td>-0.850654</td>\n",
       "      <td>0.939831</td>\n",
       "      <td>-1.017960</td>\n",
       "      <td>-0.616451</td>\n",
       "      <td>0.775279</td>\n",
       "    </tr>\n",
       "    <tr>\n",
       "      <th>3</th>\n",
       "      <td>0.082435</td>\n",
       "      <td>-0.308940</td>\n",
       "      <td>-1.190591</td>\n",
       "      <td>-0.813627</td>\n",
       "      <td>-0.636692</td>\n",
       "      <td>-0.526604</td>\n",
       "      <td>-0.430921</td>\n",
       "      <td>-0.205328</td>\n",
       "      <td>1.391175</td>\n",
       "      <td>-0.941375</td>\n",
       "      <td>1.326782</td>\n",
       "      <td>1.343947</td>\n",
       "      <td>0.760736</td>\n",
       "    </tr>\n",
       "    <tr>\n",
       "      <th>4</th>\n",
       "      <td>0.082749</td>\n",
       "      <td>-0.295227</td>\n",
       "      <td>-1.352749</td>\n",
       "      <td>-1.172519</td>\n",
       "      <td>-0.376762</td>\n",
       "      <td>-0.025101</td>\n",
       "      <td>0.158276</td>\n",
       "      <td>-0.205328</td>\n",
       "      <td>1.391175</td>\n",
       "      <td>-0.924806</td>\n",
       "      <td>1.326782</td>\n",
       "      <td>1.343947</td>\n",
       "      <td>0.770431</td>\n",
       "    </tr>\n",
       "  </tbody>\n",
       "</table>\n",
       "</div>"
      ],
      "text/plain": [
       "          0         1         2         3         4         5         6  \\\n",
       "0  0.074086 -0.298528  1.324181 -0.348559 -0.837280 -0.946058 -0.995342   \n",
       "1  0.075736 -0.286965 -0.203686 -0.166533 -0.154155 -0.082645 -0.026043   \n",
       "2  0.077749 -0.289243  1.112203  0.867093  0.593154  0.441201  0.314528   \n",
       "3  0.082435 -0.308940 -1.190591 -0.813627 -0.636692 -0.526604 -0.430921   \n",
       "4  0.082749 -0.295227 -1.352749 -1.172519 -0.376762 -0.025101  0.158276   \n",
       "\n",
       "          7         8         9        10        11        12  \n",
       "0 -0.217630  1.391174 -0.938967  1.326782  1.343947  0.668632  \n",
       "1 -0.217630 -0.782518 -0.940055 -0.806801 -0.919277  0.911012  \n",
       "2 -0.211479 -0.850654  0.939831 -1.017960 -0.616451  0.775279  \n",
       "3 -0.205328  1.391175 -0.941375  1.326782  1.343947  0.760736  \n",
       "4 -0.205328  1.391175 -0.924806  1.326782  1.343947  0.770431  "
      ]
     },
     "execution_count": 45,
     "metadata": {},
     "output_type": "execute_result"
    }
   ],
   "source": [
    "target=df1['class']\n",
    "x=df1.drop(['class','run','camcol'],axis=1)\n",
    "X=ss.fit_transform(x)\n",
    "df1=pd.DataFrame(X)\n",
    "df1.head()"
   ]
  },
  {
   "cell_type": "markdown",
   "metadata": {},
   "source": [
    "# Models Generations\n"
   ]
  },
  {
   "cell_type": "code",
   "execution_count": 46,
   "metadata": {},
   "outputs": [],
   "source": [
    "from sklearn.linear_model import LogisticRegression\n",
    "from sklearn.naive_bayes import GaussianNB,MultinomialNB\n",
    "from sklearn.svm import SVC\n",
    "from sklearn.ensemble import RandomForestClassifier\n",
    "from sklearn.ensemble import AdaBoostClassifier\n",
    "from sklearn.tree import DecisionTreeClassifier\n",
    "from sklearn.neighbors import KNeighborsClassifier\n",
    "from sklearn.model_selection import GridSearchCV\n",
    "from sklearn.pipeline import Pipeline\n",
    "\n",
    "from sklearn.model_selection import train_test_split\n",
    "from sklearn.metrics import classification_report,confusion_matrix,accuracy_score\n",
    "from sklearn.model_selection import cross_val_score"
   ]
  },
  {
   "cell_type": "code",
   "execution_count": 47,
   "metadata": {},
   "outputs": [
    {
     "name": "stdout",
     "output_type": "stream",
     "text": [
      "Final accuracy is0.992 and best random state is 57\n"
     ]
    }
   ],
   "source": [
    "# for best random state after standard scaller\n",
    "best_state=0\n",
    "accu=0\n",
    "for i in range(30,250):\n",
    "    X_train, X_test, y_train, y_test = train_test_split(df1, \n",
    "                                                    target, test_size=0.30, \n",
    "                                                    random_state=i)\n",
    "    logmodel = LogisticRegression()\n",
    "    logmodel.fit(X_train,y_train)\n",
    "    predictions = logmodel.predict(X_test)\n",
    "    accuracy=accuracy_score(y_test,predictions)\n",
    "    if accuracy>accu:\n",
    "        accu=accuracy\n",
    "        best_state=i\n",
    "print(f\"Final accuracy is{accu} and best random state is {best_state}\")"
   ]
  },
  {
   "cell_type": "code",
   "execution_count": 48,
   "metadata": {},
   "outputs": [],
   "source": [
    "X_train, X_test, y_train, y_test = train_test_split(df1, \n",
    "                                                    target, test_size=0.30, \n",
    "                                                    random_state=57)"
   ]
  },
  {
   "cell_type": "markdown",
   "metadata": {},
   "source": [
    "### Pipeline"
   ]
  },
  {
   "cell_type": "code",
   "execution_count": 49,
   "metadata": {},
   "outputs": [],
   "source": [
    "parameters_deci_c={\n",
    " 'criterion': ['gini','entropy'],\n",
    " 'splitter':['best','random'],\n",
    " 'max_features': ['auto','sqrt'],\n",
    " 'max_depth':[5],\n",
    " 'random_state': [233]}\n",
    "\n",
    "parameters_knn_c={\n",
    "    'n_neighbors': list(np.arange(5,10)),\n",
    "    'weights':['uniform','distance'],\n",
    "#     'algorithm':['auto','ball_tree','kd_tree','brute']\n",
    "    \n",
    "}\n",
    "parameters_svc={\n",
    "    'kernel': ['linear','poly','rbf','sigmoid'],\n",
    "    'gamma':['auto','scale'],\n",
    "#     'max_iter':[500,700,900,1100,1300,1500,1700],\n",
    "    'max_iter':[500,700],\n",
    "    \n",
    "}\n",
    "parameters_log_reg = {'penalty':['l1', 'l2', 'elasticnet'],\n",
    "                      'solver':['newton-cg','lbfgs','liblinear','sag','saga']\n",
    "                     }"
   ]
  },
  {
   "cell_type": "code",
   "execution_count": 50,
   "metadata": {},
   "outputs": [
    {
     "name": "stdout",
     "output_type": "stream",
     "text": [
      "Accuracy  Score is :  99.26666666666667 %\n",
      "[[1522    3   11]\n",
      " [   8  248    0]\n",
      " [   0    0 1208]]\n",
      "              precision    recall  f1-score   support\n",
      "\n",
      "           0       0.99      0.99      0.99      1536\n",
      "           1       0.99      0.97      0.98       256\n",
      "           2       0.99      1.00      1.00      1208\n",
      "\n",
      "    accuracy                           0.99      3000\n",
      "   macro avg       0.99      0.99      0.99      3000\n",
      "weighted avg       0.99      0.99      0.99      3000\n",
      "\n",
      "Best Parameters are :  {'penalty': 'l1', 'solver': 'saga'}\n",
      "Cross Validation Score is : 0.9830000000000001\n",
      "Model name is Pipeline(steps=[('LogisticRegression',\n",
      "                 GridSearchCV(cv=5, estimator=LogisticRegression(),\n",
      "                              param_grid={'penalty': ['l1', 'l2', 'elasticnet'],\n",
      "                                          'solver': ['newton-cg', 'lbfgs',\n",
      "                                                     'liblinear', 'sag',\n",
      "                                                     'saga']},\n",
      "                              scoring='accuracy'))])\n",
      "==============================================================================\n",
      "Accuracy  Score is :  97.43333333333334 %\n",
      "[[1496    6   34]\n",
      " [  14  242    0]\n",
      " [  23    0 1185]]\n",
      "              precision    recall  f1-score   support\n",
      "\n",
      "           0       0.98      0.97      0.97      1536\n",
      "           1       0.98      0.95      0.96       256\n",
      "           2       0.97      0.98      0.98      1208\n",
      "\n",
      "    accuracy                           0.97      3000\n",
      "   macro avg       0.97      0.97      0.97      3000\n",
      "weighted avg       0.97      0.97      0.97      3000\n",
      "\n",
      "Best Parameters are :  {'n_neighbors': 6, 'weights': 'distance'}\n",
      "Cross Validation Score is : 0.9544285714285714\n",
      "Model name is Pipeline(steps=[('KNeighborsClassifier',\n",
      "                 GridSearchCV(cv=5, estimator=KNeighborsClassifier(),\n",
      "                              param_grid={'n_neighbors': [5, 6, 7, 8, 9],\n",
      "                                          'weights': ['uniform', 'distance']},\n",
      "                              scoring='accuracy'))])\n",
      "==============================================================================\n",
      "Accuracy  Score is :  99.26666666666667 %\n",
      "[[1523    4    9]\n",
      " [   9  247    0]\n",
      " [   0    0 1208]]\n",
      "              precision    recall  f1-score   support\n",
      "\n",
      "           0       0.99      0.99      0.99      1536\n",
      "           1       0.98      0.96      0.97       256\n",
      "           2       0.99      1.00      1.00      1208\n",
      "\n",
      "    accuracy                           0.99      3000\n",
      "   macro avg       0.99      0.99      0.99      3000\n",
      "weighted avg       0.99      0.99      0.99      3000\n",
      "\n",
      "Best Parameters are :  {'gamma': 'auto', 'kernel': 'linear', 'max_iter': 700}\n",
      "Cross Validation Score is : 0.9845714285714287\n",
      "Model name is Pipeline(steps=[('SVC',\n",
      "                 GridSearchCV(cv=5, estimator=SVC(),\n",
      "                              param_grid={'gamma': ['auto', 'scale'],\n",
      "                                          'kernel': ['linear', 'poly', 'rbf',\n",
      "                                                     'sigmoid'],\n",
      "                                          'max_iter': [500, 700]},\n",
      "                              scoring='accuracy'))])\n",
      "==============================================================================\n",
      "Accuracy  Score is :  97.86666666666667 %\n",
      "[[1515   14    7]\n",
      " [  35  221    0]\n",
      " [   8    0 1200]]\n",
      "              precision    recall  f1-score   support\n",
      "\n",
      "           0       0.97      0.99      0.98      1536\n",
      "           1       0.94      0.86      0.90       256\n",
      "           2       0.99      0.99      0.99      1208\n",
      "\n",
      "    accuracy                           0.98      3000\n",
      "   macro avg       0.97      0.95      0.96      3000\n",
      "weighted avg       0.98      0.98      0.98      3000\n",
      "\n",
      "Best Parameters are :  {'criterion': 'entropy', 'max_depth': 5, 'max_features': 'auto', 'random_state': 233, 'splitter': 'best'}\n",
      "Cross Validation Score is : 0.9827142857142857\n",
      "Model name is Pipeline(steps=[('DecisionTreeClassifier',\n",
      "                 GridSearchCV(cv=5, estimator=DecisionTreeClassifier(),\n",
      "                              param_grid={'criterion': ['gini', 'entropy'],\n",
      "                                          'max_depth': [5],\n",
      "                                          'max_features': ['auto', 'sqrt'],\n",
      "                                          'random_state': [233],\n",
      "                                          'splitter': ['best', 'random']},\n",
      "                              scoring='accuracy'))])\n",
      "==============================================================================\n",
      "Best model name is :  GridSearchCV(cv=5, estimator=LogisticRegression(),\n",
      "             param_grid={'penalty': ['l1', 'l2', 'elasticnet'],\n",
      "                         'solver': ['newton-cg', 'lbfgs', 'liblinear', 'sag',\n",
      "                                    'saga']},\n",
      "             scoring='accuracy')\n"
     ]
    }
   ],
   "source": [
    "parameter_lis=[parameters_log_reg,parameters_knn_c,parameters_svc,parameters_deci_c]\n",
    "models=[LogisticRegression(),KNeighborsClassifier(),SVC(),DecisionTreeClassifier()]\n",
    "models_name=['LogisticRegression','KNeighborsClassifier','SVC','DecisionTreeClassifier']\n",
    "lis_pipes=[]    \n",
    "best_score=0\n",
    "best_model_name=''\n",
    "cv_score=0\n",
    "for n,model,model_name,parameter in zip(np.arange(1,6),models,models_name,parameter_lis):\n",
    "    lis_pipes.append(Pipeline([(model_name,GridSearchCV(estimator=model,param_grid=parameter,cv=5,scoring='accuracy'))]))\n",
    "\n",
    "for model in lis_pipes:\n",
    "    gsv=model.fit(X_train,y_train)\n",
    "    pred=gsv[0].best_estimator_.predict(X_test)\n",
    "    crv=cross_val_score(model,X_train,y_train,cv=2).mean()\n",
    "    accuracy=accuracy_score(y_test,pred)\n",
    "    print('Accuracy  Score is : ',accuracy_score(y_test,pred)*100,'%')\n",
    "    print(confusion_matrix(y_test,pred))\n",
    "    print(classification_report(y_test,pred))\n",
    "    print('Best Parameters are : ',gsv[0].best_params_)\n",
    "    print(f'Cross Validation Score is : {crv}\\nModel name is {gsv}\\n==============================================================================')\n",
    "    if accuracy>best_score:\n",
    "        best_score=accuracy\n",
    "        best_model_name=[]\n",
    "        best_model_name.append(gsv[0])\n",
    "        \n",
    "print(f\"Best model name is :  {best_model_name[0]}\")\n",
    "    "
   ]
  },
  {
   "cell_type": "code",
   "execution_count": 51,
   "metadata": {},
   "outputs": [],
   "source": [
    "######  'criterion': ['gini','entropy'], default=”mse”\n",
    "def rndtree(a,b):\n",
    "    accu=0\n",
    "    best_n=0\n",
    "    for i in a:\n",
    "        mod=RandomForestClassifier(n_estimators=i,random_state=b)\n",
    "        mod.fit(X_train,y_train)\n",
    "        pred = mod.predict(X_test)\n",
    "        accuracy=accuracy_score(y_test,pred)\n",
    "        if accuracy>accu:\n",
    "            accu=accuracy\n",
    "            best_n=i\n",
    "    mod=RandomForestClassifier(n_estimators=best_n,random_state=b)\n",
    "    mod.fit(X_train,y_train)\n",
    "    predictions = mod.predict(X_test)\n",
    "    print('Accuracy  Score is : ',accuracy_score(y_test,pred))\n",
    "    print(confusion_matrix(y_test,pred))\n",
    "    print(classification_report(y_test,pred))\n",
    "    print((cross_val_score(RandomForestClassifier(),X_train,y_train,cv=5).mean()*100))\n",
    "    print(\"best n is \", best_n)"
   ]
  },
  {
   "cell_type": "code",
   "execution_count": 52,
   "metadata": {},
   "outputs": [
    {
     "name": "stdout",
     "output_type": "stream",
     "text": [
      "Accuracy  Score is :  0.992\n",
      "[[1526    3    7]\n",
      " [  12  244    0]\n",
      " [   2    0 1206]]\n",
      "              precision    recall  f1-score   support\n",
      "\n",
      "           0       0.99      0.99      0.99      1536\n",
      "           1       0.99      0.95      0.97       256\n",
      "           2       0.99      1.00      1.00      1208\n",
      "\n",
      "    accuracy                           0.99      3000\n",
      "   macro avg       0.99      0.98      0.99      3000\n",
      "weighted avg       0.99      0.99      0.99      3000\n",
      "\n",
      "98.74285714285713\n",
      "best n is  120\n"
     ]
    }
   ],
   "source": [
    "rndtree(list(np.arange(120,170)),57)"
   ]
  },
  {
   "cell_type": "code",
   "execution_count": 53,
   "metadata": {},
   "outputs": [],
   "source": [
    "def rftree(a,b,c):\n",
    "    mod=RandomForestClassifier(n_estimators=a,random_state=b,criterion=c)\n",
    "    mod.fit(X_train,y_train)\n",
    "    pred = mod.predict(X_test)\n",
    "    print('Accuracy  Score is : ',accuracy_score(y_test,pred))\n",
    "    print(confusion_matrix(y_test,pred))\n",
    "    print(classification_report(y_test,pred))\n",
    "    print((cross_val_score(RandomForestClassifier(n_estimators=i,random_state=b,criterion=c),X_train,y_train,cv=5).mean()*100))"
   ]
  },
  {
   "cell_type": "code",
   "execution_count": 54,
   "metadata": {},
   "outputs": [
    {
     "name": "stdout",
     "output_type": "stream",
     "text": [
      "Accuracy  Score is :  0.9926666666666667\n",
      "[[1526    3    7]\n",
      " [  10  246    0]\n",
      " [   2    0 1206]]\n",
      "              precision    recall  f1-score   support\n",
      "\n",
      "           0       0.99      0.99      0.99      1536\n",
      "           1       0.99      0.96      0.97       256\n",
      "           2       0.99      1.00      1.00      1208\n",
      "\n",
      "    accuracy                           0.99      3000\n",
      "   macro avg       0.99      0.98      0.99      3000\n",
      "weighted avg       0.99      0.99      0.99      3000\n",
      "\n",
      "98.81428571428572\n"
     ]
    }
   ],
   "source": [
    "rftree(120,57,'gini')"
   ]
  },
  {
   "cell_type": "code",
   "execution_count": 55,
   "metadata": {},
   "outputs": [
    {
     "name": "stdout",
     "output_type": "stream",
     "text": [
      "Accuracy  Score is :  0.992\n",
      "[[1526    3    7]\n",
      " [  12  244    0]\n",
      " [   2    0 1206]]\n",
      "              precision    recall  f1-score   support\n",
      "\n",
      "           0       0.99      0.99      0.99      1536\n",
      "           1       0.99      0.95      0.97       256\n",
      "           2       0.99      1.00      1.00      1208\n",
      "\n",
      "    accuracy                           0.99      3000\n",
      "   macro avg       0.99      0.98      0.99      3000\n",
      "weighted avg       0.99      0.99      0.99      3000\n",
      "\n",
      "98.65714285714287\n"
     ]
    }
   ],
   "source": [
    "rftree(120,57,'entropy')"
   ]
  },
  {
   "cell_type": "code",
   "execution_count": 58,
   "metadata": {},
   "outputs": [
    {
     "data": {
      "text/plain": [
       "RandomForestClassifier(n_estimators=120, random_state=57)"
      ]
     },
     "execution_count": 58,
     "metadata": {},
     "output_type": "execute_result"
    }
   ],
   "source": [
    "rfc = RandomForestClassifier(n_estimators=120,random_state=57,criterion='gini')\n",
    "rfc.fit(X_train,y_train)"
   ]
  },
  {
   "cell_type": "markdown",
   "metadata": {},
   "source": [
    "# Conclusion  Best model is Random Forest Classifier\n"
   ]
  },
  {
   "cell_type": "code",
   "execution_count": 59,
   "metadata": {},
   "outputs": [],
   "source": [
    "import pickle\n",
    "file_name='space_server.pkl'\n",
    "pickle.dump(rfc,open(file_name,'wb'))"
   ]
  },
  {
   "cell_type": "code",
   "execution_count": null,
   "metadata": {},
   "outputs": [],
   "source": []
  }
 ],
 "metadata": {
  "kernelspec": {
   "display_name": "Python 3",
   "language": "python",
   "name": "python3"
  },
  "language_info": {
   "codemirror_mode": {
    "name": "ipython",
    "version": 3
   },
   "file_extension": ".py",
   "mimetype": "text/x-python",
   "name": "python",
   "nbconvert_exporter": "python",
   "pygments_lexer": "ipython3",
   "version": "3.8.3"
  }
 },
 "nbformat": 4,
 "nbformat_minor": 4
}
