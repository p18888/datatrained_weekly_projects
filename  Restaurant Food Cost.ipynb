{
 "cells": [
  {
   "cell_type": "code",
   "execution_count": 1,
   "metadata": {},
   "outputs": [],
   "source": [
    "import pandas as pd\n",
    "import numpy as np\n",
    "import matplotlib.pyplot as plt\n",
    "import seaborn as sns\n",
    "import datetime as dt\n",
    "%matplotlib inline\n",
    "import warnings\n",
    "warnings.simplefilter('ignore')"
   ]
  },
  {
   "cell_type": "code",
   "execution_count": 2,
   "metadata": {},
   "outputs": [
    {
     "data": {
      "text/html": [
       "<div>\n",
       "<style scoped>\n",
       "    .dataframe tbody tr th:only-of-type {\n",
       "        vertical-align: middle;\n",
       "    }\n",
       "\n",
       "    .dataframe tbody tr th {\n",
       "        vertical-align: top;\n",
       "    }\n",
       "\n",
       "    .dataframe thead th {\n",
       "        text-align: right;\n",
       "    }\n",
       "</style>\n",
       "<table border=\"1\" class=\"dataframe\">\n",
       "  <thead>\n",
       "    <tr style=\"text-align: right;\">\n",
       "      <th></th>\n",
       "      <th>TITLE</th>\n",
       "      <th>RESTAURANT_ID</th>\n",
       "      <th>CUISINES</th>\n",
       "      <th>TIME</th>\n",
       "      <th>CITY</th>\n",
       "      <th>LOCALITY</th>\n",
       "      <th>RATING</th>\n",
       "      <th>VOTES</th>\n",
       "      <th>COST</th>\n",
       "    </tr>\n",
       "  </thead>\n",
       "  <tbody>\n",
       "    <tr>\n",
       "      <th>0</th>\n",
       "      <td>CASUAL DINING</td>\n",
       "      <td>9438</td>\n",
       "      <td>Malwani, Goan, North Indian</td>\n",
       "      <td>11am – 4pm, 7:30pm – 11:30pm (Mon-Sun)</td>\n",
       "      <td>Thane</td>\n",
       "      <td>Dombivali East</td>\n",
       "      <td>3.6</td>\n",
       "      <td>49 votes</td>\n",
       "      <td>1200</td>\n",
       "    </tr>\n",
       "    <tr>\n",
       "      <th>1</th>\n",
       "      <td>CASUAL DINING,BAR</td>\n",
       "      <td>13198</td>\n",
       "      <td>Asian, Modern Indian, Japanese</td>\n",
       "      <td>6pm – 11pm (Mon-Sun)</td>\n",
       "      <td>Chennai</td>\n",
       "      <td>Ramapuram</td>\n",
       "      <td>4.2</td>\n",
       "      <td>30 votes</td>\n",
       "      <td>1500</td>\n",
       "    </tr>\n",
       "    <tr>\n",
       "      <th>2</th>\n",
       "      <td>CASUAL DINING</td>\n",
       "      <td>10915</td>\n",
       "      <td>North Indian, Chinese, Biryani, Hyderabadi</td>\n",
       "      <td>11am – 3:30pm, 7pm – 11pm (Mon-Sun)</td>\n",
       "      <td>Chennai</td>\n",
       "      <td>Saligramam</td>\n",
       "      <td>3.8</td>\n",
       "      <td>221 votes</td>\n",
       "      <td>800</td>\n",
       "    </tr>\n",
       "    <tr>\n",
       "      <th>3</th>\n",
       "      <td>QUICK BITES</td>\n",
       "      <td>6346</td>\n",
       "      <td>Tibetan, Chinese</td>\n",
       "      <td>11:30am – 1am (Mon-Sun)</td>\n",
       "      <td>Mumbai</td>\n",
       "      <td>Bandra West</td>\n",
       "      <td>4.1</td>\n",
       "      <td>24 votes</td>\n",
       "      <td>800</td>\n",
       "    </tr>\n",
       "    <tr>\n",
       "      <th>4</th>\n",
       "      <td>DESSERT PARLOR</td>\n",
       "      <td>15387</td>\n",
       "      <td>Desserts</td>\n",
       "      <td>11am – 1am (Mon-Sun)</td>\n",
       "      <td>Mumbai</td>\n",
       "      <td>Lower Parel</td>\n",
       "      <td>3.8</td>\n",
       "      <td>165 votes</td>\n",
       "      <td>300</td>\n",
       "    </tr>\n",
       "    <tr>\n",
       "      <th>...</th>\n",
       "      <td>...</td>\n",
       "      <td>...</td>\n",
       "      <td>...</td>\n",
       "      <td>...</td>\n",
       "      <td>...</td>\n",
       "      <td>...</td>\n",
       "      <td>...</td>\n",
       "      <td>...</td>\n",
       "      <td>...</td>\n",
       "    </tr>\n",
       "    <tr>\n",
       "      <th>12685</th>\n",
       "      <td>QUICK BITES</td>\n",
       "      <td>13228</td>\n",
       "      <td>North Indian, Burger, Kebab</td>\n",
       "      <td>12noon – 12midnight (Mon, Tue, Wed, Thu, Sun)...</td>\n",
       "      <td>Hyderabad</td>\n",
       "      <td>Gachibowli</td>\n",
       "      <td>3.8</td>\n",
       "      <td>546 votes</td>\n",
       "      <td>500</td>\n",
       "    </tr>\n",
       "    <tr>\n",
       "      <th>12686</th>\n",
       "      <td>CASUAL DINING,BAR</td>\n",
       "      <td>9686</td>\n",
       "      <td>Goan, Continental</td>\n",
       "      <td>12noon – 1am (Mon-Fri),11am – 5pm, 7pm – 1am...</td>\n",
       "      <td>Mumbai</td>\n",
       "      <td>Bandra Kurla Complex</td>\n",
       "      <td>4.3</td>\n",
       "      <td>1214 votes</td>\n",
       "      <td>1800</td>\n",
       "    </tr>\n",
       "    <tr>\n",
       "      <th>12687</th>\n",
       "      <td>LOUNGE</td>\n",
       "      <td>11133</td>\n",
       "      <td>Finger Food, Continental, Asian, Chinese</td>\n",
       "      <td>12noon – 12:30AM (Mon-Sun)</td>\n",
       "      <td>Navi Mumbai</td>\n",
       "      <td>Vashi</td>\n",
       "      <td>4.0</td>\n",
       "      <td>608 votes</td>\n",
       "      <td>1300</td>\n",
       "    </tr>\n",
       "    <tr>\n",
       "      <th>12688</th>\n",
       "      <td>CASUAL DINING</td>\n",
       "      <td>6134</td>\n",
       "      <td>North Indian, South Indian, Chinese, Street Food</td>\n",
       "      <td>6am – 10:45pm (Mon-Sun)</td>\n",
       "      <td>Chennai</td>\n",
       "      <td>Maduravoyal</td>\n",
       "      <td>3.5</td>\n",
       "      <td>32 votes</td>\n",
       "      <td>400</td>\n",
       "    </tr>\n",
       "    <tr>\n",
       "      <th>12689</th>\n",
       "      <td>CASUAL DINING</td>\n",
       "      <td>6430</td>\n",
       "      <td>North Indian, Chinese</td>\n",
       "      <td>12:30pm – 11pm (Mon-Sun)</td>\n",
       "      <td>Hyderabad</td>\n",
       "      <td>Vanasthalipuram</td>\n",
       "      <td>3.4</td>\n",
       "      <td>677 votes</td>\n",
       "      <td>600</td>\n",
       "    </tr>\n",
       "  </tbody>\n",
       "</table>\n",
       "<p>12690 rows × 9 columns</p>\n",
       "</div>"
      ],
      "text/plain": [
       "                   TITLE  RESTAURANT_ID  \\\n",
       "0          CASUAL DINING           9438   \n",
       "1      CASUAL DINING,BAR          13198   \n",
       "2          CASUAL DINING          10915   \n",
       "3            QUICK BITES           6346   \n",
       "4         DESSERT PARLOR          15387   \n",
       "...                  ...            ...   \n",
       "12685        QUICK BITES          13228   \n",
       "12686  CASUAL DINING,BAR           9686   \n",
       "12687             LOUNGE          11133   \n",
       "12688      CASUAL DINING           6134   \n",
       "12689      CASUAL DINING           6430   \n",
       "\n",
       "                                               CUISINES  \\\n",
       "0                           Malwani, Goan, North Indian   \n",
       "1                        Asian, Modern Indian, Japanese   \n",
       "2            North Indian, Chinese, Biryani, Hyderabadi   \n",
       "3                                      Tibetan, Chinese   \n",
       "4                                              Desserts   \n",
       "...                                                 ...   \n",
       "12685                       North Indian, Burger, Kebab   \n",
       "12686                                 Goan, Continental   \n",
       "12687          Finger Food, Continental, Asian, Chinese   \n",
       "12688  North Indian, South Indian, Chinese, Street Food   \n",
       "12689                             North Indian, Chinese   \n",
       "\n",
       "                                                   TIME         CITY  \\\n",
       "0                11am – 4pm, 7:30pm – 11:30pm (Mon-Sun)        Thane   \n",
       "1                                  6pm – 11pm (Mon-Sun)      Chennai   \n",
       "2                   11am – 3:30pm, 7pm – 11pm (Mon-Sun)      Chennai   \n",
       "3                               11:30am – 1am (Mon-Sun)       Mumbai   \n",
       "4                                  11am – 1am (Mon-Sun)       Mumbai   \n",
       "...                                                 ...          ...   \n",
       "12685  12noon – 12midnight (Mon, Tue, Wed, Thu, Sun)...    Hyderabad   \n",
       "12686   12noon – 1am (Mon-Fri),11am – 5pm, 7pm – 1am...       Mumbai   \n",
       "12687                        12noon – 12:30AM (Mon-Sun)  Navi Mumbai   \n",
       "12688                           6am – 10:45pm (Mon-Sun)      Chennai   \n",
       "12689                          12:30pm – 11pm (Mon-Sun)    Hyderabad   \n",
       "\n",
       "                   LOCALITY RATING       VOTES  COST  \n",
       "0            Dombivali East    3.6    49 votes  1200  \n",
       "1                 Ramapuram    4.2    30 votes  1500  \n",
       "2                Saligramam    3.8   221 votes   800  \n",
       "3               Bandra West    4.1    24 votes   800  \n",
       "4               Lower Parel    3.8   165 votes   300  \n",
       "...                     ...    ...         ...   ...  \n",
       "12685            Gachibowli    3.8   546 votes   500  \n",
       "12686  Bandra Kurla Complex    4.3  1214 votes  1800  \n",
       "12687                 Vashi    4.0   608 votes  1300  \n",
       "12688           Maduravoyal    3.5    32 votes   400  \n",
       "12689       Vanasthalipuram    3.4   677 votes   600  \n",
       "\n",
       "[12690 rows x 9 columns]"
      ]
     },
     "execution_count": 2,
     "metadata": {},
     "output_type": "execute_result"
    }
   ],
   "source": [
    "df = pd.read_excel(\"/home/pavankumar/data_sci_dec/datasets/Participants_Data_Final/Data_Train.xlsx\")\n",
    "df"
   ]
  },
  {
   "cell_type": "code",
   "execution_count": 3,
   "metadata": {},
   "outputs": [
    {
     "data": {
      "text/plain": [
       "(12690, 9)"
      ]
     },
     "execution_count": 3,
     "metadata": {},
     "output_type": "execute_result"
    }
   ],
   "source": [
    "df.shape"
   ]
  },
  {
   "cell_type": "code",
   "execution_count": 4,
   "metadata": {},
   "outputs": [
    {
     "name": "stdout",
     "output_type": "stream",
     "text": [
      "<class 'pandas.core.frame.DataFrame'>\n",
      "RangeIndex: 12690 entries, 0 to 12689\n",
      "Data columns (total 9 columns):\n",
      " #   Column         Non-Null Count  Dtype \n",
      "---  ------         --------------  ----- \n",
      " 0   TITLE          12690 non-null  object\n",
      " 1   RESTAURANT_ID  12690 non-null  int64 \n",
      " 2   CUISINES       12690 non-null  object\n",
      " 3   TIME           12690 non-null  object\n",
      " 4   CITY           12578 non-null  object\n",
      " 5   LOCALITY       12592 non-null  object\n",
      " 6   RATING         12688 non-null  object\n",
      " 7   VOTES          11486 non-null  object\n",
      " 8   COST           12690 non-null  int64 \n",
      "dtypes: int64(2), object(7)\n",
      "memory usage: 892.4+ KB\n"
     ]
    }
   ],
   "source": [
    "df.info()"
   ]
  },
  {
   "cell_type": "code",
   "execution_count": 5,
   "metadata": {},
   "outputs": [
    {
     "data": {
      "text/plain": [
       "TITLE               0\n",
       "RESTAURANT_ID       0\n",
       "CUISINES            0\n",
       "TIME                0\n",
       "CITY              112\n",
       "LOCALITY           98\n",
       "RATING              2\n",
       "VOTES            1204\n",
       "COST                0\n",
       "dtype: int64"
      ]
     },
     "execution_count": 5,
     "metadata": {},
     "output_type": "execute_result"
    }
   ],
   "source": [
    "df.isna().sum()"
   ]
  },
  {
   "cell_type": "code",
   "execution_count": 6,
   "metadata": {},
   "outputs": [
    {
     "data": {
      "text/plain": [
       "<matplotlib.axes._subplots.AxesSubplot at 0x7f7c3a5593a0>"
      ]
     },
     "execution_count": 6,
     "metadata": {},
     "output_type": "execute_result"
    },
    {
     "data": {
      "image/png": "[encoded data removed]",
      "text/plain": [
       "<Figure size 432x288 with 2 Axes>"
      ]
     },
     "metadata": {
      "needs_background": "light"
     },
     "output_type": "display_data"
    }
   ],
   "source": [
    "sns.heatmap(df.isna())"
   ]
  },
  {
   "cell_type": "markdown",
   "metadata": {},
   "source": [
    "##### Heatmap shows that CITY, LOCALITY and VOTES having some null values"
   ]
  },
  {
   "cell_type": "code",
   "execution_count": 7,
   "metadata": {
    "scrolled": false
   },
   "outputs": [
    {
     "name": "stdout",
     "output_type": "stream",
     "text": [
      "Column name is  TITLE\n",
      "QUICK BITES                 4218\n",
      "CASUAL DINING               3652\n",
      "None                        1003\n",
      "CAFÉ                         607\n",
      "DESSERT PARLOR               382\n",
      "                            ... \n",
      "PUB,CAFÉ                       1\n",
      "CAFÉ,LOUNGE                    1\n",
      "BAKERY,FOOD COURT              1\n",
      "SWEET SHOP,CONFECTIONERY       1\n",
      "SWEET SHOP,BEVERAGE SHOP       1\n",
      "Name: TITLE, Length: 113, dtype: int64 \n",
      "\n",
      "\n",
      " Total Number of Categoricals in TITLE ==> 113\n",
      "\n",
      "==============================\n",
      "Column name is  CUISINES\n",
      "South Indian                                        532\n",
      "North Indian                                        526\n",
      "North Indian, Chinese                               501\n",
      "Fast Food                                           286\n",
      "Chinese                                             167\n",
      "                                                   ... \n",
      "North Indian, Mughlai, BBQ                            1\n",
      "North Indian, Chinese, Pizza, Sandwich, Desserts      1\n",
      "North Indian, Gujarati, Italian, Parsi, Lebanese      1\n",
      "Mexican, American, Pizza, Italian                     1\n",
      "Healthy Food, Beverages, Fast Food                    1\n",
      "Name: CUISINES, Length: 4155, dtype: int64 \n",
      "\n",
      "\n",
      " Total Number of Categoricals in CUISINES ==> 4155\n",
      "\n",
      "==============================\n",
      "Column name is  TIME\n",
      "11am – 11pm (Mon-Sun)                               1415\n",
      "12noon – 12midnight (Mon-Sun)                        469\n",
      "12noon – 11pm (Mon-Sun)                              407\n",
      "11am – 12midnight (Mon-Sun)                          310\n",
      "10am – 10pm (Mon-Sun)                                221\n",
      "                                                    ... \n",
      "12midnight – 4am, 11am – 12midnight (Mon-Sun)          1\n",
      "3pm – 9pm (Mon-Sat),Closed (Sun)                       1\n",
      "6pm – 5am (Mon-Sun)                                    1\n",
      "4pm – 9:30pm (Mon-Sun)                                 1\n",
      "10:30am – 12midnight (Mon, Tue, Wed, Thu, Sat...       1\n",
      "Name: TIME, Length: 2689, dtype: int64 \n",
      "\n",
      "\n",
      " Total Number of Categoricals in TIME ==> 2689\n",
      "\n",
      "==============================\n",
      "Column name is  CITY\n",
      "Chennai           2174\n",
      "Bangalore         2149\n",
      "Hyderabad         1819\n",
      "Mumbai            1722\n",
      "New Delhi         1321\n",
      "                  ... \n",
      "Perumbavoor          1\n",
      "Masab Tank           1\n",
      "Wagle Estate         1\n",
      "Kochi Kakkanad       1\n",
      "Champapet            1\n",
      "Name: CITY, Length: 359, dtype: int64 \n",
      "\n",
      "\n",
      " Total Number of Categoricals in CITY ==> 359\n",
      "\n",
      "==============================\n",
      "Column name is  LOCALITY\n",
      "Gachibowli                   166\n",
      "Indiranagar                  138\n",
      "Edappally                    122\n",
      "Kakkanad                     121\n",
      "HSR                          120\n",
      "                            ... \n",
      "New Colony                     1\n",
      "Oasis Complex                  1\n",
      "Eri Scheme                     1\n",
      "Tambaram Senatorium            1\n",
      "Inirapuram Habitat Centre      1\n",
      "Name: LOCALITY, Length: 1416, dtype: int64 \n",
      "\n",
      "\n",
      " Total Number of Categoricals in LOCALITY ==> 1416\n",
      "\n",
      "==============================\n",
      "Column name is  RATING\n",
      "3.9    1238\n",
      "3.8    1190\n",
      "4.0    1099\n",
      "3.7    1086\n",
      "3.6     951\n",
      "4.1     936\n",
      "3.5     771\n",
      "4.2     723\n",
      "NEW     707\n",
      "3.4     575\n",
      "4.3     556\n",
      "-       495\n",
      "3.3     365\n",
      "4.4     362\n",
      "3.2     266\n",
      "4.5     199\n",
      "3.1     186\n",
      "2.9     186\n",
      "3.0     170\n",
      "2.8     146\n",
      "4.6     141\n",
      "2.7      89\n",
      "4.7      69\n",
      "2.6      61\n",
      "2.5      35\n",
      "4.8      32\n",
      "4.9      22\n",
      "2.4      15\n",
      "2.3      10\n",
      "2.1       3\n",
      "2.2       2\n",
      "2.0       2\n",
      "Name: RATING, dtype: int64 \n",
      "\n",
      "\n",
      " Total Number of Categoricals in RATING ==> 32\n",
      "\n",
      "==============================\n",
      "Column name is  VOTES\n",
      "44 votes      71\n",
      "29 votes      66\n",
      "28 votes      66\n",
      "38 votes      65\n",
      "35 votes      64\n",
      "              ..\n",
      "1835 votes     1\n",
      "2542 votes     1\n",
      "1278 votes     1\n",
      "1600 votes     1\n",
      "2500 votes     1\n",
      "Name: VOTES, Length: 1847, dtype: int64 \n",
      "\n",
      "\n",
      " Total Number of Categoricals in VOTES ==> 1847\n",
      "\n",
      "==============================\n"
     ]
    }
   ],
   "source": [
    "\n",
    "for i in df.select_dtypes('object').columns:\n",
    "    print(\"Column name is \",i)\n",
    "    print(df[i].value_counts(),'\\n')\n",
    "    print(f'\\n Total Number of Categoricals in {i} ==> {len(df[i].value_counts())}\\n')\n",
    "    print(\"==============================\")"
   ]
  },
  {
   "cell_type": "markdown",
   "metadata": {},
   "source": [
    "### Handeling Null values"
   ]
  },
  {
   "cell_type": "code",
   "execution_count": 8,
   "metadata": {},
   "outputs": [
    {
     "data": {
      "text/plain": [
       "<matplotlib.axes._subplots.AxesSubplot at 0x7f7c3a9d8550>"
      ]
     },
     "execution_count": 8,
     "metadata": {},
     "output_type": "execute_result"
    },
    {
     "data": {
      "image/png": "[encoded data removed]",
      "text/plain": [
       "<Figure size 1584x576 with 1 Axes>"
      ]
     },
     "metadata": {
      "needs_background": "light"
     },
     "output_type": "display_data"
    }
   ],
   "source": [
    "plt.figure(figsize=(22,8))\n",
    "sns.scatterplot(x=df['VOTES'],y=df['COST'])"
   ]
  },
  {
   "cell_type": "code",
   "execution_count": 9,
   "metadata": {},
   "outputs": [
    {
     "data": {
      "text/plain": [
       "1475"
      ]
     },
     "execution_count": 9,
     "metadata": {},
     "output_type": "execute_result"
    }
   ],
   "source": [
    "df['COST'].argmax()"
   ]
  },
  {
   "cell_type": "code",
   "execution_count": 10,
   "metadata": {},
   "outputs": [
    {
     "data": {
      "text/plain": [
       "TITLE                          FINE DINING\n",
       "RESTAURANT_ID                         4687\n",
       "CUISINES         Continental, North Indian\n",
       "TIME                  2pm – 11pm (Mon-Sun)\n",
       "CITY                             Bangalore\n",
       "LOCALITY                          Nagawara\n",
       "RATING                                 3.9\n",
       "VOTES                            126 votes\n",
       "COST                                 14000\n",
       "Name: 1475, dtype: object"
      ]
     },
     "execution_count": 10,
     "metadata": {},
     "output_type": "execute_result"
    }
   ],
   "source": [
    "df.loc[1475,]"
   ]
  },
  {
   "cell_type": "code",
   "execution_count": 11,
   "metadata": {},
   "outputs": [
    {
     "data": {
      "text/plain": [
       "71"
      ]
     },
     "execution_count": 11,
     "metadata": {},
     "output_type": "execute_result"
    }
   ],
   "source": [
    "(df['VOTES'].value_counts().values).max()"
   ]
  },
  {
   "cell_type": "code",
   "execution_count": 12,
   "metadata": {},
   "outputs": [
    {
     "data": {
      "text/plain": [
       "25"
      ]
     },
     "execution_count": 12,
     "metadata": {},
     "output_type": "execute_result"
    }
   ],
   "source": [
    "len(df[df['VOTES']=='126 votes'])"
   ]
  },
  {
   "cell_type": "code",
   "execution_count": 13,
   "metadata": {},
   "outputs": [
    {
     "data": {
      "text/plain": [
       "<matplotlib.axes._subplots.AxesSubplot at 0x7f7c3a909c10>"
      ]
     },
     "execution_count": 13,
     "metadata": {},
     "output_type": "execute_result"
    },
    {
     "data": {
      "image/png": "[encoded data removed]",
      "text/plain": [
       "<Figure size 432x288 with 2 Axes>"
      ]
     },
     "metadata": {
      "needs_background": "light"
     },
     "output_type": "display_data"
    }
   ],
   "source": [
    "sns.heatmap(df.corr())"
   ]
  },
  {
   "cell_type": "markdown",
   "metadata": {},
   "source": [
    "### Handeling RATING column"
   ]
  },
  {
   "cell_type": "code",
   "execution_count": 14,
   "metadata": {},
   "outputs": [
    {
     "name": "stdout",
     "output_type": "stream",
     "text": [
      "NEW 707\n"
     ]
    }
   ],
   "source": [
    "import string\n",
    "for i,j in df['RATING'].value_counts().items():\n",
    "    if i[0] in list(string.ascii_uppercase):\n",
    "        print(i,j)\n",
    "    if i[0] in list(string.ascii_lowercase):\n",
    "        print(i)\n",
    "    else:\n",
    "        pass"
   ]
  },
  {
   "cell_type": "code",
   "execution_count": 15,
   "metadata": {},
   "outputs": [
    {
     "name": "stdout",
     "output_type": "stream",
     "text": [
      "NEW\n",
      "-\n"
     ]
    }
   ],
   "source": [
    "import string\n",
    "for i,j in df['RATING'].value_counts().items():\n",
    "    if i[0].isnumeric():\n",
    "        pass\n",
    "    else:\n",
    "        print(i)"
   ]
  },
  {
   "cell_type": "code",
   "execution_count": 16,
   "metadata": {},
   "outputs": [
    {
     "data": {
      "text/plain": [
       "495"
      ]
     },
     "execution_count": 16,
     "metadata": {},
     "output_type": "execute_result"
    }
   ],
   "source": [
    "len(df[df['RATING']=='-'])"
   ]
  },
  {
   "cell_type": "code",
   "execution_count": 17,
   "metadata": {},
   "outputs": [
    {
     "data": {
      "text/plain": [
       "707"
      ]
     },
     "execution_count": 17,
     "metadata": {},
     "output_type": "execute_result"
    }
   ],
   "source": [
    "len(df[df['RATING']=='NEW'])"
   ]
  },
  {
   "cell_type": "code",
   "execution_count": 18,
   "metadata": {},
   "outputs": [
    {
     "data": {
      "text/plain": [
       "1202"
      ]
     },
     "execution_count": 18,
     "metadata": {},
     "output_type": "execute_result"
    }
   ],
   "source": [
    "495+707"
   ]
  },
  {
   "cell_type": "code",
   "execution_count": 19,
   "metadata": {},
   "outputs": [
    {
     "data": {
      "text/plain": [
       "1204"
      ]
     },
     "execution_count": 19,
     "metadata": {},
     "output_type": "execute_result"
    }
   ],
   "source": [
    "df['VOTES'].isnull().sum()"
   ]
  },
  {
   "cell_type": "code",
   "execution_count": 20,
   "metadata": {},
   "outputs": [
    {
     "data": {
      "text/plain": [
       "(12690, 9)"
      ]
     },
     "execution_count": 20,
     "metadata": {},
     "output_type": "execute_result"
    }
   ],
   "source": [
    "df.shape"
   ]
  },
  {
   "cell_type": "code",
   "execution_count": 21,
   "metadata": {},
   "outputs": [],
   "source": [
    "rating_df=df[(df['RATING'].isin(['NEW','-']))]"
   ]
  },
  {
   "cell_type": "code",
   "execution_count": 22,
   "metadata": {},
   "outputs": [
    {
     "data": {
      "text/html": [
       "<div>\n",
       "<style scoped>\n",
       "    .dataframe tbody tr th:only-of-type {\n",
       "        vertical-align: middle;\n",
       "    }\n",
       "\n",
       "    .dataframe tbody tr th {\n",
       "        vertical-align: top;\n",
       "    }\n",
       "\n",
       "    .dataframe thead th {\n",
       "        text-align: right;\n",
       "    }\n",
       "</style>\n",
       "<table border=\"1\" class=\"dataframe\">\n",
       "  <thead>\n",
       "    <tr style=\"text-align: right;\">\n",
       "      <th></th>\n",
       "      <th>TITLE</th>\n",
       "      <th>RESTAURANT_ID</th>\n",
       "      <th>CUISINES</th>\n",
       "      <th>TIME</th>\n",
       "      <th>CITY</th>\n",
       "      <th>LOCALITY</th>\n",
       "      <th>RATING</th>\n",
       "      <th>VOTES</th>\n",
       "      <th>COST</th>\n",
       "    </tr>\n",
       "  </thead>\n",
       "  <tbody>\n",
       "    <tr>\n",
       "      <th>13</th>\n",
       "      <td>CASUAL DINING</td>\n",
       "      <td>4319</td>\n",
       "      <td>South Indian</td>\n",
       "      <td>11am – 11:30pm (Mon-Sun)</td>\n",
       "      <td>Kochi</td>\n",
       "      <td>Edappally</td>\n",
       "      <td>-</td>\n",
       "      <td>NaN</td>\n",
       "      <td>400</td>\n",
       "    </tr>\n",
       "    <tr>\n",
       "      <th>62</th>\n",
       "      <td>QUICK BITES</td>\n",
       "      <td>7841</td>\n",
       "      <td>North Indian, Beverages</td>\n",
       "      <td>11am – 11pm (Mon-Sun)</td>\n",
       "      <td>Kochi</td>\n",
       "      <td>Kalamassery</td>\n",
       "      <td>NEW</td>\n",
       "      <td>NaN</td>\n",
       "      <td>200</td>\n",
       "    </tr>\n",
       "    <tr>\n",
       "      <th>69</th>\n",
       "      <td>None</td>\n",
       "      <td>11096</td>\n",
       "      <td>Pizza, Fast Food</td>\n",
       "      <td>11am – 11pm (Mon-Sun)</td>\n",
       "      <td>New Delhi</td>\n",
       "      <td>Kalkaji</td>\n",
       "      <td>NEW</td>\n",
       "      <td>NaN</td>\n",
       "      <td>200</td>\n",
       "    </tr>\n",
       "    <tr>\n",
       "      <th>85</th>\n",
       "      <td>QUICK BITES</td>\n",
       "      <td>12657</td>\n",
       "      <td>North Indian, South Indian</td>\n",
       "      <td>Closed (Mon),7:30am – 10:30pm (Tue-Sun)</td>\n",
       "      <td>Bangalore</td>\n",
       "      <td>Vijay Nagar</td>\n",
       "      <td>-</td>\n",
       "      <td>NaN</td>\n",
       "      <td>300</td>\n",
       "    </tr>\n",
       "    <tr>\n",
       "      <th>111</th>\n",
       "      <td>CASUAL DINING</td>\n",
       "      <td>7095</td>\n",
       "      <td>Gujarati, Rajasthani, North Indian</td>\n",
       "      <td>11:30am – 3:30pm, 7pm – 11pm (Mon-Sun)</td>\n",
       "      <td>Mumbai</td>\n",
       "      <td>Borivali West</td>\n",
       "      <td>NEW</td>\n",
       "      <td>NaN</td>\n",
       "      <td>800</td>\n",
       "    </tr>\n",
       "    <tr>\n",
       "      <th>...</th>\n",
       "      <td>...</td>\n",
       "      <td>...</td>\n",
       "      <td>...</td>\n",
       "      <td>...</td>\n",
       "      <td>...</td>\n",
       "      <td>...</td>\n",
       "      <td>...</td>\n",
       "      <td>...</td>\n",
       "      <td>...</td>\n",
       "    </tr>\n",
       "    <tr>\n",
       "      <th>12630</th>\n",
       "      <td>CASUAL DINING</td>\n",
       "      <td>9959</td>\n",
       "      <td>Tex-Mex, Italian, Coffee</td>\n",
       "      <td>8am – 10:30pm (Mon-Sun)</td>\n",
       "      <td>Gurgaon</td>\n",
       "      <td>Golf Course Road</td>\n",
       "      <td>NEW</td>\n",
       "      <td>NaN</td>\n",
       "      <td>1200</td>\n",
       "    </tr>\n",
       "    <tr>\n",
       "      <th>12641</th>\n",
       "      <td>CASUAL DINING</td>\n",
       "      <td>8312</td>\n",
       "      <td>Kerala</td>\n",
       "      <td>7:30am – 11:30pm (Mon-Sun)</td>\n",
       "      <td>Kochi</td>\n",
       "      <td>Pallimukku</td>\n",
       "      <td>-</td>\n",
       "      <td>NaN</td>\n",
       "      <td>300</td>\n",
       "    </tr>\n",
       "    <tr>\n",
       "      <th>12646</th>\n",
       "      <td>QUICK BITES</td>\n",
       "      <td>6050</td>\n",
       "      <td>Kerala, Chinese</td>\n",
       "      <td>11am – 11pm (Mon-Sun)</td>\n",
       "      <td>Ernakulam</td>\n",
       "      <td>Market Road</td>\n",
       "      <td>-</td>\n",
       "      <td>NaN</td>\n",
       "      <td>300</td>\n",
       "    </tr>\n",
       "    <tr>\n",
       "      <th>12658</th>\n",
       "      <td>None</td>\n",
       "      <td>9384</td>\n",
       "      <td>Kerala, South Indian</td>\n",
       "      <td>11am – 5pm (Mon-Sun)</td>\n",
       "      <td>Kochi</td>\n",
       "      <td>Chittoor Road</td>\n",
       "      <td>NEW</td>\n",
       "      <td>NaN</td>\n",
       "      <td>400</td>\n",
       "    </tr>\n",
       "    <tr>\n",
       "      <th>12660</th>\n",
       "      <td>CASUAL DINING,BAR</td>\n",
       "      <td>1439</td>\n",
       "      <td>North Indian, Continental, Chinese, Beverages</td>\n",
       "      <td>5pm – 1:30am (Mon-Sun)</td>\n",
       "      <td>Mumbai</td>\n",
       "      <td>Bandra West</td>\n",
       "      <td>NEW</td>\n",
       "      <td>NaN</td>\n",
       "      <td>1200</td>\n",
       "    </tr>\n",
       "  </tbody>\n",
       "</table>\n",
       "<p>1202 rows × 9 columns</p>\n",
       "</div>"
      ],
      "text/plain": [
       "                   TITLE  RESTAURANT_ID  \\\n",
       "13         CASUAL DINING           4319   \n",
       "62           QUICK BITES           7841   \n",
       "69                  None          11096   \n",
       "85           QUICK BITES          12657   \n",
       "111        CASUAL DINING           7095   \n",
       "...                  ...            ...   \n",
       "12630      CASUAL DINING           9959   \n",
       "12641      CASUAL DINING           8312   \n",
       "12646        QUICK BITES           6050   \n",
       "12658               None           9384   \n",
       "12660  CASUAL DINING,BAR           1439   \n",
       "\n",
       "                                            CUISINES  \\\n",
       "13                                      South Indian   \n",
       "62                           North Indian, Beverages   \n",
       "69                                  Pizza, Fast Food   \n",
       "85                        North Indian, South Indian   \n",
       "111               Gujarati, Rajasthani, North Indian   \n",
       "...                                              ...   \n",
       "12630                       Tex-Mex, Italian, Coffee   \n",
       "12641                                         Kerala   \n",
       "12646                                Kerala, Chinese   \n",
       "12658                           Kerala, South Indian   \n",
       "12660  North Indian, Continental, Chinese, Beverages   \n",
       "\n",
       "                                          TIME       CITY          LOCALITY  \\\n",
       "13                    11am – 11:30pm (Mon-Sun)      Kochi         Edappally   \n",
       "62                       11am – 11pm (Mon-Sun)      Kochi       Kalamassery   \n",
       "69                       11am – 11pm (Mon-Sun)  New Delhi           Kalkaji   \n",
       "85     Closed (Mon),7:30am – 10:30pm (Tue-Sun)  Bangalore       Vijay Nagar   \n",
       "111     11:30am – 3:30pm, 7pm – 11pm (Mon-Sun)     Mumbai     Borivali West   \n",
       "...                                        ...        ...               ...   \n",
       "12630                  8am – 10:30pm (Mon-Sun)    Gurgaon  Golf Course Road   \n",
       "12641               7:30am – 11:30pm (Mon-Sun)      Kochi        Pallimukku   \n",
       "12646                    11am – 11pm (Mon-Sun)  Ernakulam       Market Road   \n",
       "12658                     11am – 5pm (Mon-Sun)      Kochi     Chittoor Road   \n",
       "12660                   5pm – 1:30am (Mon-Sun)     Mumbai       Bandra West   \n",
       "\n",
       "      RATING VOTES  COST  \n",
       "13         -   NaN   400  \n",
       "62       NEW   NaN   200  \n",
       "69       NEW   NaN   200  \n",
       "85         -   NaN   300  \n",
       "111      NEW   NaN   800  \n",
       "...      ...   ...   ...  \n",
       "12630    NEW   NaN  1200  \n",
       "12641      -   NaN   300  \n",
       "12646      -   NaN   300  \n",
       "12658    NEW   NaN   400  \n",
       "12660    NEW   NaN  1200  \n",
       "\n",
       "[1202 rows x 9 columns]"
      ]
     },
     "execution_count": 22,
     "metadata": {},
     "output_type": "execute_result"
    }
   ],
   "source": [
    "rating_df"
   ]
  },
  {
   "cell_type": "code",
   "execution_count": 23,
   "metadata": {},
   "outputs": [
    {
     "data": {
      "text/plain": [
       "<matplotlib.axes._subplots.AxesSubplot at 0x7f7c36f94640>"
      ]
     },
     "execution_count": 23,
     "metadata": {},
     "output_type": "execute_result"
    },
    {
     "data": {
      "image/png": "[encoded data removed]",
      "text/plain": [
       "<Figure size 432x288 with 1 Axes>"
      ]
     },
     "metadata": {
      "needs_background": "light"
     },
     "output_type": "display_data"
    }
   ],
   "source": [
    "sns.countplot(rating_df['RATING'])"
   ]
  },
  {
   "cell_type": "code",
   "execution_count": 24,
   "metadata": {},
   "outputs": [
    {
     "data": {
      "text/plain": [
       "<matplotlib.axes._subplots.AxesSubplot at 0x7f7c36a8da30>"
      ]
     },
     "execution_count": 24,
     "metadata": {},
     "output_type": "execute_result"
    },
    {
     "data": {
      "image/png": "[encoded data removed]",
      "text/plain": [
       "<Figure size 432x288 with 1 Axes>"
      ]
     },
     "metadata": {
      "needs_background": "light"
     },
     "output_type": "display_data"
    }
   ],
   "source": [
    "sns.barplot(x=rating_df['RATING'],y=rating_df['VOTES'])"
   ]
  },
  {
   "cell_type": "code",
   "execution_count": 25,
   "metadata": {},
   "outputs": [
    {
     "data": {
      "text/plain": [
       "1202"
      ]
     },
     "execution_count": 25,
     "metadata": {},
     "output_type": "execute_result"
    }
   ],
   "source": [
    "rating_df['VOTES'].isnull().sum()"
   ]
  },
  {
   "cell_type": "code",
   "execution_count": 26,
   "metadata": {},
   "outputs": [
    {
     "data": {
      "text/plain": [
       "1204"
      ]
     },
     "execution_count": 26,
     "metadata": {},
     "output_type": "execute_result"
    }
   ],
   "source": [
    "df['VOTES'].isnull().sum() ## TWQ Rows having extra nulls because RATING havinh also have null"
   ]
  },
  {
   "cell_type": "code",
   "execution_count": 27,
   "metadata": {},
   "outputs": [
    {
     "data": {
      "text/plain": [
       "<matplotlib.axes._subplots.AxesSubplot at 0x7f7c65680130>"
      ]
     },
     "execution_count": 27,
     "metadata": {},
     "output_type": "execute_result"
    },
    {
     "data": {
      "image/png": "[encoded data removed]",
      "text/plain": [
       "<Figure size 432x288 with 2 Axes>"
      ]
     },
     "metadata": {
      "needs_background": "light"
     },
     "output_type": "display_data"
    }
   ],
   "source": [
    "sns.heatmap(rating_df.isnull())"
   ]
  },
  {
   "cell_type": "markdown",
   "metadata": {},
   "source": [
    "###### Observation : Where RATING is NEW or - VOTES having null"
   ]
  },
  {
   "cell_type": "code",
   "execution_count": 28,
   "metadata": {},
   "outputs": [
    {
     "data": {
      "text/plain": [
       "11488"
      ]
     },
     "execution_count": 28,
     "metadata": {},
     "output_type": "execute_result"
    }
   ],
   "source": [
    "len(df[~df['RATING'].isin(['NEW','-'])]['RATING'])"
   ]
  },
  {
   "cell_type": "code",
   "execution_count": 29,
   "metadata": {},
   "outputs": [
    {
     "data": {
      "text/plain": [
       "11486"
      ]
     },
     "execution_count": 29,
     "metadata": {},
     "output_type": "execute_result"
    }
   ],
   "source": [
    "len(df[~df['RATING'].isin(['NEW','-'])]['RATING'].dropna(axis=0))"
   ]
  },
  {
   "cell_type": "code",
   "execution_count": 30,
   "metadata": {},
   "outputs": [
    {
     "data": {
      "text/plain": [
       "3.9    1238\n",
       "3.8    1190\n",
       "4.0    1099\n",
       "3.7    1086\n",
       "3.6     951\n",
       "4.1     936\n",
       "3.5     771\n",
       "4.2     723\n",
       "NEW     707\n",
       "3.4     575\n",
       "4.3     556\n",
       "-       495\n",
       "3.3     365\n",
       "4.4     362\n",
       "3.2     266\n",
       "4.5     199\n",
       "3.1     186\n",
       "2.9     186\n",
       "3.0     170\n",
       "2.8     146\n",
       "4.6     141\n",
       "2.7      89\n",
       "4.7      69\n",
       "2.6      61\n",
       "2.5      35\n",
       "4.8      32\n",
       "4.9      22\n",
       "2.4      15\n",
       "2.3      10\n",
       "2.1       3\n",
       "2.2       2\n",
       "2.0       2\n",
       "Name: RATING, dtype: int64"
      ]
     },
     "execution_count": 30,
     "metadata": {},
     "output_type": "execute_result"
    }
   ],
   "source": [
    "df['RATING'].value_counts()"
   ]
  },
  {
   "cell_type": "code",
   "execution_count": 31,
   "metadata": {},
   "outputs": [
    {
     "data": {
      "text/plain": [
       "8        101 votes\n",
       "23       533 votes\n",
       "47       985 votes\n",
       "52       739 votes\n",
       "59       196 votes\n",
       "           ...    \n",
       "12610    238 votes\n",
       "12634    205 votes\n",
       "12665     38 votes\n",
       "12667    146 votes\n",
       "12678     59 votes\n",
       "Name: VOTES, Length: 1238, dtype: object"
      ]
     },
     "execution_count": 31,
     "metadata": {},
     "output_type": "execute_result"
    }
   ],
   "source": [
    "df[df['RATING']=='3.9']['VOTES']"
   ]
  },
  {
   "cell_type": "code",
   "execution_count": 32,
   "metadata": {},
   "outputs": [
    {
     "data": {
      "text/plain": [
       "CASUAL DINING,BAR    2\n",
       "LOUNGE,BAR           1\n",
       "Name: TITLE, dtype: int64"
      ]
     },
     "execution_count": 32,
     "metadata": {},
     "output_type": "execute_result"
    }
   ],
   "source": [
    "df[df['VOTES']=='985 votes']['TITLE'].value_counts()"
   ]
  },
  {
   "cell_type": "code",
   "execution_count": 33,
   "metadata": {},
   "outputs": [
    {
     "data": {
      "text/plain": [
       "47       3.9\n",
       "2711     4.3\n",
       "10753    4.2\n",
       "Name: RATING, dtype: object"
      ]
     },
     "execution_count": 33,
     "metadata": {},
     "output_type": "execute_result"
    }
   ],
   "source": [
    "df[df['VOTES']=='985 votes']['RATING']"
   ]
  },
  {
   "cell_type": "code",
   "execution_count": 34,
   "metadata": {},
   "outputs": [
    {
     "data": {
      "text/plain": [
       "QUICK BITES                     190\n",
       "CASUAL DINING                   154\n",
       "BAKERY                           47\n",
       "CAFÉ                             26\n",
       "DESSERT PARLOR                   20\n",
       "BEVERAGE SHOP                    14\n",
       "None                             11\n",
       "BAKERY,QUICK BITES                5\n",
       "BEVERAGE SHOP,QUICK BITES         4\n",
       "QUICK BITES,BAKERY                3\n",
       "FOOD COURT                        2\n",
       "DESSERT PARLOR,BEVERAGE SHOP      2\n",
       "DESSERT PARLOR,QUICK BITES        2\n",
       "QUICK BITES,DESSERT PARLOR        1\n",
       "FOOD COURT,QUICK BITES            1\n",
       "CAFÉ,DESSERT PARLOR               1\n",
       "CAFÉ,FINE DINING                  1\n",
       "DESSERT PARLOR,BAKERY             1\n",
       "CAFÉ,BEVERAGE SHOP                1\n",
       "SWEET SHOP,BAKERY                 1\n",
       "FOOD TRUCK                        1\n",
       "KIOSK                             1\n",
       "BAKERY,CAFÉ                       1\n",
       "BAR                               1\n",
       "CASUAL DINING,CAFÉ                1\n",
       "FINE DINING                       1\n",
       "PAAN SHOP                         1\n",
       "BEVERAGE SHOP,FOOD COURT          1\n",
       "Name: TITLE, dtype: int64"
      ]
     },
     "execution_count": 34,
     "metadata": {},
     "output_type": "execute_result"
    }
   ],
   "source": [
    "df[df['RATING']=='-'][\"TITLE\"].value_counts()"
   ]
  },
  {
   "cell_type": "code",
   "execution_count": 35,
   "metadata": {},
   "outputs": [
    {
     "data": {
      "text/html": [
       "<div>\n",
       "<style scoped>\n",
       "    .dataframe tbody tr th:only-of-type {\n",
       "        vertical-align: middle;\n",
       "    }\n",
       "\n",
       "    .dataframe tbody tr th {\n",
       "        vertical-align: top;\n",
       "    }\n",
       "\n",
       "    .dataframe thead th {\n",
       "        text-align: right;\n",
       "    }\n",
       "</style>\n",
       "<table border=\"1\" class=\"dataframe\">\n",
       "  <thead>\n",
       "    <tr style=\"text-align: right;\">\n",
       "      <th></th>\n",
       "      <th>TITLE</th>\n",
       "      <th>VOTES</th>\n",
       "    </tr>\n",
       "  </thead>\n",
       "  <tbody>\n",
       "    <tr>\n",
       "      <th>13</th>\n",
       "      <td>CASUAL DINING</td>\n",
       "      <td>NaN</td>\n",
       "    </tr>\n",
       "    <tr>\n",
       "      <th>85</th>\n",
       "      <td>QUICK BITES</td>\n",
       "      <td>NaN</td>\n",
       "    </tr>\n",
       "    <tr>\n",
       "      <th>156</th>\n",
       "      <td>QUICK BITES</td>\n",
       "      <td>NaN</td>\n",
       "    </tr>\n",
       "    <tr>\n",
       "      <th>178</th>\n",
       "      <td>CASUAL DINING</td>\n",
       "      <td>NaN</td>\n",
       "    </tr>\n",
       "    <tr>\n",
       "      <th>235</th>\n",
       "      <td>QUICK BITES</td>\n",
       "      <td>NaN</td>\n",
       "    </tr>\n",
       "    <tr>\n",
       "      <th>...</th>\n",
       "      <td>...</td>\n",
       "      <td>...</td>\n",
       "    </tr>\n",
       "    <tr>\n",
       "      <th>12584</th>\n",
       "      <td>QUICK BITES</td>\n",
       "      <td>NaN</td>\n",
       "    </tr>\n",
       "    <tr>\n",
       "      <th>12585</th>\n",
       "      <td>CASUAL DINING</td>\n",
       "      <td>NaN</td>\n",
       "    </tr>\n",
       "    <tr>\n",
       "      <th>12591</th>\n",
       "      <td>BEVERAGE SHOP</td>\n",
       "      <td>NaN</td>\n",
       "    </tr>\n",
       "    <tr>\n",
       "      <th>12641</th>\n",
       "      <td>CASUAL DINING</td>\n",
       "      <td>NaN</td>\n",
       "    </tr>\n",
       "    <tr>\n",
       "      <th>12646</th>\n",
       "      <td>QUICK BITES</td>\n",
       "      <td>NaN</td>\n",
       "    </tr>\n",
       "  </tbody>\n",
       "</table>\n",
       "<p>495 rows × 2 columns</p>\n",
       "</div>"
      ],
      "text/plain": [
       "               TITLE VOTES\n",
       "13     CASUAL DINING   NaN\n",
       "85       QUICK BITES   NaN\n",
       "156      QUICK BITES   NaN\n",
       "178    CASUAL DINING   NaN\n",
       "235      QUICK BITES   NaN\n",
       "...              ...   ...\n",
       "12584    QUICK BITES   NaN\n",
       "12585  CASUAL DINING   NaN\n",
       "12591  BEVERAGE SHOP   NaN\n",
       "12641  CASUAL DINING   NaN\n",
       "12646    QUICK BITES   NaN\n",
       "\n",
       "[495 rows x 2 columns]"
      ]
     },
     "execution_count": 35,
     "metadata": {},
     "output_type": "execute_result"
    }
   ],
   "source": [
    "df[df['RATING']=='-'][[\"TITLE\",'VOTES']]"
   ]
  },
  {
   "cell_type": "code",
   "execution_count": 36,
   "metadata": {},
   "outputs": [
    {
     "data": {
      "text/plain": [
       "QUICK BITES                   345\n",
       "None                          126\n",
       "CASUAL DINING                  92\n",
       "CAFÉ                           35\n",
       "BEVERAGE SHOP                  21\n",
       "DESSERT PARLOR                 21\n",
       "CASUAL DINING,BAR              13\n",
       "BAKERY                         11\n",
       "BAR,CASUAL DINING               8\n",
       "FOOD TRUCK                      3\n",
       "BEVERAGE SHOP,QUICK BITES       3\n",
       "BAR                             3\n",
       "BAKERY,QUICK BITES              2\n",
       "MICROBREWERY,CASUAL DINING      2\n",
       "CAFÉ,BAKERY                     2\n",
       "LOUNGE                          2\n",
       "SWEET SHOP,QUICK BITES          2\n",
       "CAFÉ,CASUAL DINING              1\n",
       "CASUAL DINING,CLUB              1\n",
       "QUICK BITES,DESSERT PARLOR      1\n",
       "FOOD COURT                      1\n",
       "DHABA                           1\n",
       "SWEET SHOP                      1\n",
       "DESSERT PARLOR,QUICK BITES      1\n",
       "COCKTAIL BAR                    1\n",
       "COCKTAIL BAR,CASUAL DINING      1\n",
       "PUB,CASUAL DINING               1\n",
       "CLUB                            1\n",
       "CAFÉ,QUICK BITES                1\n",
       "LOUNGE,BAR                      1\n",
       "MESS                            1\n",
       "CASUAL DINING,BAKERY            1\n",
       "DESSERT PARLOR,CAFÉ             1\n",
       "Name: TITLE, dtype: int64"
      ]
     },
     "execution_count": 36,
     "metadata": {},
     "output_type": "execute_result"
    }
   ],
   "source": [
    "df[df['RATING']=='NEW'][\"TITLE\"].value_counts()"
   ]
  },
  {
   "cell_type": "markdown",
   "metadata": {},
   "source": [
    "###### Replacing NEW to 1.0 Rating and - to 0.0 "
   ]
  },
  {
   "cell_type": "code",
   "execution_count": 37,
   "metadata": {},
   "outputs": [],
   "source": [
    "df[\"RATING\"].replace(\"NEW\",'1.0',inplace=True)"
   ]
  },
  {
   "cell_type": "code",
   "execution_count": 38,
   "metadata": {},
   "outputs": [],
   "source": [
    "df[\"RATING\"].replace(\"-\",'0.0',inplace=True)"
   ]
  },
  {
   "cell_type": "code",
   "execution_count": 39,
   "metadata": {},
   "outputs": [],
   "source": [
    "df.dropna(subset=['RATING'],axis=0,inplace=True)"
   ]
  },
  {
   "cell_type": "code",
   "execution_count": 40,
   "metadata": {},
   "outputs": [],
   "source": [
    "df['RATING']=df['RATING'].astype('float')"
   ]
  },
  {
   "cell_type": "code",
   "execution_count": 41,
   "metadata": {},
   "outputs": [
    {
     "data": {
      "text/plain": [
       "TITLE               0\n",
       "RESTAURANT_ID       0\n",
       "CUISINES            0\n",
       "TIME                0\n",
       "CITY              112\n",
       "LOCALITY           98\n",
       "RATING              0\n",
       "VOTES            1202\n",
       "COST                0\n",
       "dtype: int64"
      ]
     },
     "execution_count": 41,
     "metadata": {},
     "output_type": "execute_result"
    }
   ],
   "source": [
    "df.isnull().sum()"
   ]
  },
  {
   "cell_type": "markdown",
   "metadata": {},
   "source": [
    "##### Handeling null values in VOTES"
   ]
  },
  {
   "cell_type": "code",
   "execution_count": 42,
   "metadata": {},
   "outputs": [
    {
     "data": {
      "text/plain": [
       "dtype('float64')"
      ]
     },
     "execution_count": 42,
     "metadata": {},
     "output_type": "execute_result"
    }
   ],
   "source": [
    "df['RATING'].dtype"
   ]
  },
  {
   "cell_type": "code",
   "execution_count": 43,
   "metadata": {},
   "outputs": [
    {
     "data": {
      "text/plain": [
       "TITLE                       CASUAL DINING\n",
       "RESTAURANT_ID                        4319\n",
       "CUISINES                     South Indian\n",
       "TIME             11am – 11:30pm (Mon-Sun)\n",
       "CITY                                Kochi\n",
       "LOCALITY                        Edappally\n",
       "RATING                                  0\n",
       "VOTES                                 NaN\n",
       "COST                                  400\n",
       "Name: 13, dtype: object"
      ]
     },
     "execution_count": 43,
     "metadata": {},
     "output_type": "execute_result"
    }
   ],
   "source": [
    "df.loc[13,]"
   ]
  },
  {
   "cell_type": "code",
   "execution_count": 44,
   "metadata": {},
   "outputs": [
    {
     "data": {
      "text/plain": [
       "TITLE                        QUICK BITES\n",
       "RESTAURANT_ID                       7841\n",
       "CUISINES         North Indian, Beverages\n",
       "TIME               11am – 11pm (Mon-Sun)\n",
       "CITY                               Kochi\n",
       "LOCALITY                     Kalamassery\n",
       "RATING                                 1\n",
       "VOTES                                NaN\n",
       "COST                                 200\n",
       "Name: 62, dtype: object"
      ]
     },
     "execution_count": 44,
     "metadata": {},
     "output_type": "execute_result"
    }
   ],
   "source": [
    "df.loc[62,]"
   ]
  },
  {
   "cell_type": "code",
   "execution_count": 45,
   "metadata": {},
   "outputs": [
    {
     "data": {
      "text/plain": [
       "Index(['QUICK BITES', 'None', 'CASUAL DINING', 'CAFÉ', 'BEVERAGE SHOP',\n",
       "       'DESSERT PARLOR', 'CASUAL DINING,BAR', 'BAKERY', 'BAR,CASUAL DINING',\n",
       "       'FOOD TRUCK', 'BEVERAGE SHOP,QUICK BITES', 'BAR', 'BAKERY,QUICK BITES',\n",
       "       'MICROBREWERY,CASUAL DINING', 'CAFÉ,BAKERY', 'LOUNGE',\n",
       "       'SWEET SHOP,QUICK BITES', 'CAFÉ,CASUAL DINING', 'CASUAL DINING,CLUB',\n",
       "       'QUICK BITES,DESSERT PARLOR', 'FOOD COURT', 'DHABA', 'SWEET SHOP',\n",
       "       'DESSERT PARLOR,QUICK BITES', 'COCKTAIL BAR',\n",
       "       'COCKTAIL BAR,CASUAL DINING', 'PUB,CASUAL DINING', 'CLUB',\n",
       "       'CAFÉ,QUICK BITES', 'LOUNGE,BAR', 'MESS', 'CASUAL DINING,BAKERY',\n",
       "       'DESSERT PARLOR,CAFÉ'],\n",
       "      dtype='object')"
      ]
     },
     "execution_count": 45,
     "metadata": {},
     "output_type": "execute_result"
    }
   ],
   "source": [
    "df[df['RATING']==1][\"TITLE\"].value_counts().keys()"
   ]
  },
  {
   "cell_type": "code",
   "execution_count": 46,
   "metadata": {},
   "outputs": [
    {
     "data": {
      "text/plain": [
       "QUICK BITES                   345\n",
       "None                          126\n",
       "CASUAL DINING                  92\n",
       "CAFÉ                           35\n",
       "BEVERAGE SHOP                  21\n",
       "DESSERT PARLOR                 21\n",
       "CASUAL DINING,BAR              13\n",
       "BAKERY                         11\n",
       "BAR,CASUAL DINING               8\n",
       "FOOD TRUCK                      3\n",
       "BEVERAGE SHOP,QUICK BITES       3\n",
       "BAR                             3\n",
       "BAKERY,QUICK BITES              2\n",
       "MICROBREWERY,CASUAL DINING      2\n",
       "CAFÉ,BAKERY                     2\n",
       "LOUNGE                          2\n",
       "SWEET SHOP,QUICK BITES          2\n",
       "CAFÉ,CASUAL DINING              1\n",
       "CASUAL DINING,CLUB              1\n",
       "QUICK BITES,DESSERT PARLOR      1\n",
       "FOOD COURT                      1\n",
       "DHABA                           1\n",
       "SWEET SHOP                      1\n",
       "DESSERT PARLOR,QUICK BITES      1\n",
       "COCKTAIL BAR                    1\n",
       "COCKTAIL BAR,CASUAL DINING      1\n",
       "PUB,CASUAL DINING               1\n",
       "CLUB                            1\n",
       "CAFÉ,QUICK BITES                1\n",
       "LOUNGE,BAR                      1\n",
       "MESS                            1\n",
       "CASUAL DINING,BAKERY            1\n",
       "DESSERT PARLOR,CAFÉ             1\n",
       "Name: TITLE, dtype: int64"
      ]
     },
     "execution_count": 46,
     "metadata": {},
     "output_type": "execute_result"
    }
   ],
   "source": [
    "df[df['RATING']==1.0][\"TITLE\"].value_counts()"
   ]
  },
  {
   "cell_type": "code",
   "execution_count": 47,
   "metadata": {},
   "outputs": [
    {
     "data": {
      "text/html": [
       "<div>\n",
       "<style scoped>\n",
       "    .dataframe tbody tr th:only-of-type {\n",
       "        vertical-align: middle;\n",
       "    }\n",
       "\n",
       "    .dataframe tbody tr th {\n",
       "        vertical-align: top;\n",
       "    }\n",
       "\n",
       "    .dataframe thead th {\n",
       "        text-align: right;\n",
       "    }\n",
       "</style>\n",
       "<table border=\"1\" class=\"dataframe\">\n",
       "  <thead>\n",
       "    <tr style=\"text-align: right;\">\n",
       "      <th></th>\n",
       "      <th>TITLE</th>\n",
       "      <th>RESTAURANT_ID</th>\n",
       "      <th>CUISINES</th>\n",
       "      <th>TIME</th>\n",
       "      <th>CITY</th>\n",
       "      <th>LOCALITY</th>\n",
       "      <th>RATING</th>\n",
       "      <th>VOTES</th>\n",
       "      <th>COST</th>\n",
       "    </tr>\n",
       "  </thead>\n",
       "  <tbody>\n",
       "    <tr>\n",
       "      <th>8847</th>\n",
       "      <td>CAFÉ,FINE DINING</td>\n",
       "      <td>8855</td>\n",
       "      <td>Cafe</td>\n",
       "      <td>24 Hours (Mon-Sun)</td>\n",
       "      <td>Kochi International Airport VIP Road</td>\n",
       "      <td>Courtyard by Marriott</td>\n",
       "      <td>0.0</td>\n",
       "      <td>NaN</td>\n",
       "      <td>1500</td>\n",
       "    </tr>\n",
       "  </tbody>\n",
       "</table>\n",
       "</div>"
      ],
      "text/plain": [
       "                 TITLE  RESTAURANT_ID CUISINES                TIME  \\\n",
       "8847  CAFÉ,FINE DINING           8855     Cafe  24 Hours (Mon-Sun)   \n",
       "\n",
       "                                      CITY               LOCALITY  RATING  \\\n",
       "8847  Kochi International Airport VIP Road  Courtyard by Marriott     0.0   \n",
       "\n",
       "     VOTES  COST  \n",
       "8847   NaN  1500  "
      ]
     },
     "execution_count": 47,
     "metadata": {},
     "output_type": "execute_result"
    }
   ],
   "source": [
    "df[(df['TITLE']=='CAFÉ,FINE DINING')]"
   ]
  },
  {
   "cell_type": "code",
   "execution_count": 48,
   "metadata": {
    "scrolled": false
   },
   "outputs": [
    {
     "name": "stdout",
     "output_type": "stream",
     "text": [
      "Column name is QUICK BITES and 44 votes\n",
      "====================================\n",
      "Column name is None and 15 votes\n",
      "====================================\n",
      "Column name is CASUAL DINING and 39 votes\n",
      "====================================\n",
      "Column name is CAFÉ and 58 votes\n",
      "====================================\n",
      "Column name is BEVERAGE SHOP and 46 votes\n",
      "====================================\n",
      "Column name is DESSERT PARLOR and 10 votes\n",
      "====================================\n",
      "Column name is CASUAL DINING,BAR and 109 votes\n",
      "====================================\n",
      "Column name is BAKERY and 128 votes\n",
      "====================================\n",
      "Column name is BAR,CASUAL DINING and 1153 votes\n",
      "====================================\n",
      "Column name is FOOD TRUCK and 211 votes\n",
      "====================================\n",
      "Column name is BEVERAGE SHOP,QUICK BITES and 14 votes\n",
      "====================================\n",
      "Column name is BAR and 46 votes\n",
      "====================================\n",
      "Column name is BAKERY,QUICK BITES and 117 votes\n",
      "====================================\n",
      "Column name is MICROBREWERY,CASUAL DINING and 636 votes\n",
      "====================================\n",
      "Column name is CAFÉ,BAKERY and 100 votes\n",
      "====================================\n",
      "Column name is LOUNGE and 388 votes\n",
      "====================================\n",
      "Column name is SWEET SHOP,QUICK BITES and 73 votes\n",
      "====================================\n",
      "Column name is CAFÉ,CASUAL DINING and 1002 votes\n",
      "====================================\n",
      "Column name is CASUAL DINING,CLUB and 209 votes\n",
      "====================================\n",
      "Column name is QUICK BITES,DESSERT PARLOR and 10 votes\n",
      "====================================\n",
      "Column name is FOOD COURT and 48 votes\n",
      "====================================\n",
      "Column name is DHABA and 169 votes\n",
      "====================================\n",
      "Column name is SWEET SHOP and 106 votes\n",
      "====================================\n",
      "Column name is DESSERT PARLOR,QUICK BITES and 11 votes\n",
      "====================================\n",
      "Column name is COCKTAIL BAR and 1190 votes\n",
      "====================================\n",
      "Column name is COCKTAIL BAR,CASUAL DINING and 157 votes\n",
      "====================================\n",
      "Column name is PUB,CASUAL DINING and 1103 votes\n",
      "====================================\n",
      "Column name is CLUB and 1040 votes\n",
      "====================================\n",
      "Column name is CAFÉ,QUICK BITES and 107 votes\n",
      "====================================\n",
      "Column name is LOUNGE,BAR and 116 votes\n",
      "====================================\n",
      "Column name is MESS and 104 votes\n",
      "====================================\n",
      "Column name is CASUAL DINING,BAKERY and 200 votes\n",
      "====================================\n",
      "Column name is DESSERT PARLOR,CAFÉ and 121 votes\n",
      "====================================\n"
     ]
    }
   ],
   "source": [
    "impute_vote1={}\n",
    "for i in df[df['RATING']==1.0][\"TITLE\"].value_counts().keys():    \n",
    "    print('Column name is',i,'and',df[(df['TITLE']==i)]['VOTES'].mode()[0])\n",
    "    print('====================================')\n",
    "    impute_vote1[i]=df[(df['TITLE']==i)]['VOTES'].mode()[0]"
   ]
  },
  {
   "cell_type": "code",
   "execution_count": 49,
   "metadata": {},
   "outputs": [
    {
     "data": {
      "text/plain": [
       "QUICK BITES                     190\n",
       "CASUAL DINING                   154\n",
       "BAKERY                           47\n",
       "CAFÉ                             26\n",
       "DESSERT PARLOR                   20\n",
       "BEVERAGE SHOP                    14\n",
       "None                             11\n",
       "BAKERY,QUICK BITES                5\n",
       "BEVERAGE SHOP,QUICK BITES         4\n",
       "QUICK BITES,BAKERY                3\n",
       "FOOD COURT                        2\n",
       "DESSERT PARLOR,BEVERAGE SHOP      2\n",
       "DESSERT PARLOR,QUICK BITES        2\n",
       "QUICK BITES,DESSERT PARLOR        1\n",
       "FOOD COURT,QUICK BITES            1\n",
       "CAFÉ,DESSERT PARLOR               1\n",
       "CAFÉ,FINE DINING                  1\n",
       "DESSERT PARLOR,BAKERY             1\n",
       "CAFÉ,BEVERAGE SHOP                1\n",
       "SWEET SHOP,BAKERY                 1\n",
       "FOOD TRUCK                        1\n",
       "KIOSK                             1\n",
       "BAKERY,CAFÉ                       1\n",
       "BAR                               1\n",
       "CASUAL DINING,CAFÉ                1\n",
       "FINE DINING                       1\n",
       "PAAN SHOP                         1\n",
       "BEVERAGE SHOP,FOOD COURT          1\n",
       "Name: TITLE, dtype: int64"
      ]
     },
     "execution_count": 49,
     "metadata": {},
     "output_type": "execute_result"
    }
   ],
   "source": [
    "df[df['RATING']==0.0][\"TITLE\"].value_counts()"
   ]
  },
  {
   "cell_type": "code",
   "execution_count": 50,
   "metadata": {
    "scrolled": false
   },
   "outputs": [
    {
     "data": {
      "text/plain": [
       "TITLE              0\n",
       "RESTAURANT_ID      0\n",
       "CUISINES           0\n",
       "TIME               0\n",
       "CITY               0\n",
       "LOCALITY           0\n",
       "RATING             0\n",
       "VOTES            345\n",
       "COST               0\n",
       "dtype: int64"
      ]
     },
     "execution_count": 50,
     "metadata": {},
     "output_type": "execute_result"
    }
   ],
   "source": [
    "df[(df['RATING']==1.0) & (df['TITLE']=='QUICK BITES')].isnull().sum()"
   ]
  },
  {
   "cell_type": "code",
   "execution_count": 51,
   "metadata": {},
   "outputs": [
    {
     "data": {
      "text/plain": [
       "QUICK BITES                 4218\n",
       "CASUAL DINING               3652\n",
       "None                        1003\n",
       "CAFÉ                         606\n",
       "DESSERT PARLOR               382\n",
       "                            ... \n",
       "PUB,CAFÉ                       1\n",
       "CAFÉ,LOUNGE                    1\n",
       "BAKERY,FOOD COURT              1\n",
       "SWEET SHOP,CONFECTIONERY       1\n",
       "SWEET SHOP,BEVERAGE SHOP       1\n",
       "Name: TITLE, Length: 113, dtype: int64"
      ]
     },
     "execution_count": 51,
     "metadata": {},
     "output_type": "execute_result"
    }
   ],
   "source": [
    "df['TITLE'].value_counts()"
   ]
  },
  {
   "cell_type": "code",
   "execution_count": 52,
   "metadata": {},
   "outputs": [
    {
     "name": "stdout",
     "output_type": "stream",
     "text": [
      "Column name is QUICK BITES and 44 votes\n",
      "====================================\n",
      "Column name is CASUAL DINING and 39 votes\n",
      "====================================\n",
      "Column name is BAKERY and 128 votes\n",
      "====================================\n",
      "Column name is CAFÉ and 58 votes\n",
      "====================================\n",
      "Column name is DESSERT PARLOR and 10 votes\n",
      "====================================\n",
      "Column name is BEVERAGE SHOP and 46 votes\n",
      "====================================\n",
      "Column name is None and 15 votes\n",
      "====================================\n",
      "Column name is BAKERY,QUICK BITES and 117 votes\n",
      "====================================\n",
      "Column name is BEVERAGE SHOP,QUICK BITES and 14 votes\n",
      "====================================\n",
      "Column name is QUICK BITES,BAKERY and 68 votes\n",
      "====================================\n",
      "Column name is FOOD COURT and 48 votes\n",
      "====================================\n",
      "Column name is DESSERT PARLOR,BEVERAGE SHOP and 228 votes\n",
      "====================================\n",
      "Column name is DESSERT PARLOR,QUICK BITES and 11 votes\n",
      "====================================\n",
      "Column name is QUICK BITES,DESSERT PARLOR and 10 votes\n",
      "====================================\n",
      "Column name is FOOD COURT,QUICK BITES and 137 votes\n",
      "====================================\n",
      "Column name is CAFÉ,DESSERT PARLOR and 40 votes\n",
      "====================================\n",
      "Column name is DESSERT PARLOR,BAKERY and 187 votes\n",
      "====================================\n",
      "Column name is CAFÉ,BEVERAGE SHOP and 157 votes\n",
      "====================================\n",
      "Column name is SWEET SHOP,BAKERY and 184 votes\n",
      "====================================\n",
      "Column name is FOOD TRUCK and 211 votes\n",
      "====================================\n",
      "Column name is KIOSK and 20 votes\n",
      "====================================\n",
      "Column name is BAKERY,CAFÉ and 118 votes\n",
      "====================================\n",
      "Column name is BAR and 46 votes\n",
      "====================================\n",
      "Column name is CASUAL DINING,CAFÉ and 165 votes\n",
      "====================================\n",
      "Column name is FINE DINING and 365 votes\n",
      "====================================\n",
      "Column name is PAAN SHOP and 334 votes\n",
      "====================================\n"
     ]
    }
   ],
   "source": [
    "impute_vote0={}\n",
    "for i in df[df['RATING']==0.0][\"TITLE\"].value_counts().keys():    \n",
    "    if df[(df['TITLE']==i)]['VOTES'].mode().empty==False:\n",
    "        print('Column name is',i,'and',df[(df['TITLE']==i)]['VOTES'].mode()[0])\n",
    "        print('====================================')\n",
    "        impute_vote0[i]=df[(df['TITLE']==i)]['VOTES'].mode()[0]"
   ]
  },
  {
   "cell_type": "code",
   "execution_count": 53,
   "metadata": {},
   "outputs": [
    {
     "name": "stdout",
     "output_type": "stream",
     "text": [
      "Empty\n"
     ]
    }
   ],
   "source": [
    "if df[(df['TITLE']=='CAFÉ,FINE DINING')]['VOTES'].mode().empty==True:\n",
    "    print('Empty')"
   ]
  },
  {
   "cell_type": "code",
   "execution_count": 54,
   "metadata": {},
   "outputs": [
    {
     "data": {
      "text/plain": [
       "TITLE                           QUICK BITES\n",
       "RESTAURANT_ID                          7062\n",
       "CUISINES         South Indian, North Indian\n",
       "TIME                7am – 10:30pm (Mon-Sun)\n",
       "CITY                              Bangalore\n",
       "LOCALITY                  Bannerghatta Road\n",
       "RATING                                  3.9\n",
       "VOTES                             101 votes\n",
       "COST                                    300\n",
       "Name: 8, dtype: object"
      ]
     },
     "execution_count": 54,
     "metadata": {},
     "output_type": "execute_result"
    }
   ],
   "source": [
    "df.iloc[8,:]"
   ]
  },
  {
   "cell_type": "code",
   "execution_count": 55,
   "metadata": {},
   "outputs": [
    {
     "data": {
      "text/html": [
       "<div>\n",
       "<style scoped>\n",
       "    .dataframe tbody tr th:only-of-type {\n",
       "        vertical-align: middle;\n",
       "    }\n",
       "\n",
       "    .dataframe tbody tr th {\n",
       "        vertical-align: top;\n",
       "    }\n",
       "\n",
       "    .dataframe thead th {\n",
       "        text-align: right;\n",
       "    }\n",
       "</style>\n",
       "<table border=\"1\" class=\"dataframe\">\n",
       "  <thead>\n",
       "    <tr style=\"text-align: right;\">\n",
       "      <th></th>\n",
       "      <th>VOTES</th>\n",
       "    </tr>\n",
       "  </thead>\n",
       "  <tbody>\n",
       "    <tr>\n",
       "      <th>13</th>\n",
       "      <td>asssd</td>\n",
       "    </tr>\n",
       "    <tr>\n",
       "      <th>62</th>\n",
       "      <td>asssd</td>\n",
       "    </tr>\n",
       "    <tr>\n",
       "      <th>69</th>\n",
       "      <td>asssd</td>\n",
       "    </tr>\n",
       "    <tr>\n",
       "      <th>85</th>\n",
       "      <td>asssd</td>\n",
       "    </tr>\n",
       "    <tr>\n",
       "      <th>111</th>\n",
       "      <td>asssd</td>\n",
       "    </tr>\n",
       "    <tr>\n",
       "      <th>...</th>\n",
       "      <td>...</td>\n",
       "    </tr>\n",
       "    <tr>\n",
       "      <th>12630</th>\n",
       "      <td>asssd</td>\n",
       "    </tr>\n",
       "    <tr>\n",
       "      <th>12641</th>\n",
       "      <td>asssd</td>\n",
       "    </tr>\n",
       "    <tr>\n",
       "      <th>12646</th>\n",
       "      <td>asssd</td>\n",
       "    </tr>\n",
       "    <tr>\n",
       "      <th>12658</th>\n",
       "      <td>asssd</td>\n",
       "    </tr>\n",
       "    <tr>\n",
       "      <th>12660</th>\n",
       "      <td>asssd</td>\n",
       "    </tr>\n",
       "  </tbody>\n",
       "</table>\n",
       "<p>1202 rows × 1 columns</p>\n",
       "</div>"
      ],
      "text/plain": [
       "       VOTES\n",
       "13     asssd\n",
       "62     asssd\n",
       "69     asssd\n",
       "85     asssd\n",
       "111    asssd\n",
       "...      ...\n",
       "12630  asssd\n",
       "12641  asssd\n",
       "12646  asssd\n",
       "12658  asssd\n",
       "12660  asssd\n",
       "\n",
       "[1202 rows x 1 columns]"
      ]
     },
     "execution_count": 55,
     "metadata": {},
     "output_type": "execute_result"
    }
   ],
   "source": [
    "df.loc[df['VOTES'].isnull(),['VOTES']].replace(np.nan,\"asssd\")"
   ]
  },
  {
   "cell_type": "code",
   "execution_count": 56,
   "metadata": {},
   "outputs": [
    {
     "data": {
      "text/plain": [
       "62    asssd\n",
       "Name: VOTES, dtype: object"
      ]
     },
     "execution_count": 56,
     "metadata": {},
     "output_type": "execute_result"
    }
   ],
   "source": [
    "lis=[62]\n",
    "df['VOTES'][lis].replace(np.nan,\"asssd\")"
   ]
  },
  {
   "cell_type": "code",
   "execution_count": 57,
   "metadata": {},
   "outputs": [],
   "source": [
    "for i in df.index:\n",
    "    if (df[\"TITLE\"][i] in impute_vote1.keys()) and (pd.isnull(df['VOTES'][i])) and (df['RATING'][i]==1.0):\n",
    "        if df[(df['TITLE']==df[\"TITLE\"][i])]['VOTES'].mode().empty==False:\n",
    "            df['VOTES'][i]=impute_vote1[df[\"TITLE\"][i]]    \n",
    "    if (df[\"TITLE\"][i] in impute_vote0.keys()) and (pd.isnull(df['VOTES'][i])) and (df['RATING'][i]==0.0):\n",
    "        if df[(df['TITLE']==df[\"TITLE\"][i])]['VOTES'].mode().empty==False:\n",
    "            df['VOTES'][i]=impute_vote0[df[\"TITLE\"][i]]"
   ]
  },
  {
   "cell_type": "code",
   "execution_count": null,
   "metadata": {},
   "outputs": [],
   "source": []
  },
  {
   "cell_type": "code",
   "execution_count": null,
   "metadata": {},
   "outputs": [],
   "source": []
  },
  {
   "cell_type": "code",
   "execution_count": 58,
   "metadata": {},
   "outputs": [
    {
     "data": {
      "text/plain": [
       "0    39 votes\n",
       "dtype: object"
      ]
     },
     "execution_count": 58,
     "metadata": {},
     "output_type": "execute_result"
    }
   ],
   "source": [
    "df[(df['TITLE']=='QUICK BITES') & df['RATING']==0 ]['VOTES'].mode()"
   ]
  },
  {
   "cell_type": "code",
   "execution_count": 59,
   "metadata": {},
   "outputs": [
    {
     "data": {
      "text/plain": [
       "0"
      ]
     },
     "execution_count": 59,
     "metadata": {},
     "output_type": "execute_result"
    }
   ],
   "source": [
    "df[(df['TITLE']=='QUICK BITES') & (df['RATING']==1)]['VOTES'].isnull().sum()"
   ]
  },
  {
   "cell_type": "code",
   "execution_count": 60,
   "metadata": {},
   "outputs": [
    {
     "data": {
      "text/plain": [
       "345"
      ]
     },
     "execution_count": 60,
     "metadata": {},
     "output_type": "execute_result"
    }
   ],
   "source": [
    "len(df[(df['TITLE']=='QUICK BITES') & (df['RATING']==1.0)]['VOTES'])"
   ]
  },
  {
   "cell_type": "code",
   "execution_count": 61,
   "metadata": {},
   "outputs": [
    {
     "data": {
      "text/plain": [
       "85       44 votes\n",
       "156      44 votes\n",
       "235      44 votes\n",
       "392      44 votes\n",
       "452      44 votes\n",
       "           ...   \n",
       "12320    44 votes\n",
       "12395    44 votes\n",
       "12551    44 votes\n",
       "12584    44 votes\n",
       "12646    44 votes\n",
       "Name: VOTES, Length: 190, dtype: object"
      ]
     },
     "execution_count": 61,
     "metadata": {},
     "output_type": "execute_result"
    }
   ],
   "source": [
    "df[(df['TITLE']=='QUICK BITES') & (df['RATING']==0.0)]['VOTES']"
   ]
  },
  {
   "cell_type": "code",
   "execution_count": 62,
   "metadata": {},
   "outputs": [
    {
     "data": {
      "text/plain": [
       "62       44 votes\n",
       "117      44 votes\n",
       "120      44 votes\n",
       "165      44 votes\n",
       "194      44 votes\n",
       "           ...   \n",
       "12390    44 votes\n",
       "12407    44 votes\n",
       "12471    44 votes\n",
       "12565    44 votes\n",
       "12602    44 votes\n",
       "Name: VOTES, Length: 345, dtype: object"
      ]
     },
     "execution_count": 62,
     "metadata": {},
     "output_type": "execute_result"
    }
   ],
   "source": [
    "df[(df['TITLE']=='QUICK BITES') & (df['RATING']==1.0)]['VOTES']"
   ]
  },
  {
   "cell_type": "code",
   "execution_count": 63,
   "metadata": {},
   "outputs": [
    {
     "data": {
      "text/plain": [
       "TITLE                        QUICK BITES\n",
       "RESTAURANT_ID                       7841\n",
       "CUISINES         North Indian, Beverages\n",
       "TIME               11am – 11pm (Mon-Sun)\n",
       "CITY                               Kochi\n",
       "LOCALITY                     Kalamassery\n",
       "RATING                                 1\n",
       "VOTES                           44 votes\n",
       "COST                                 200\n",
       "Name: 62, dtype: object"
      ]
     },
     "execution_count": 63,
     "metadata": {},
     "output_type": "execute_result"
    }
   ],
   "source": [
    "df.iloc[62,:]"
   ]
  },
  {
   "cell_type": "code",
   "execution_count": 64,
   "metadata": {},
   "outputs": [
    {
     "data": {
      "text/plain": [
       "TITLE              0\n",
       "RESTAURANT_ID      0\n",
       "CUISINES           0\n",
       "TIME               0\n",
       "CITY             112\n",
       "LOCALITY          98\n",
       "RATING             0\n",
       "VOTES              2\n",
       "COST               0\n",
       "dtype: int64"
      ]
     },
     "execution_count": 64,
     "metadata": {},
     "output_type": "execute_result"
    }
   ],
   "source": [
    "df.isnull().sum()"
   ]
  },
  {
   "cell_type": "code",
   "execution_count": 65,
   "metadata": {},
   "outputs": [
    {
     "data": {
      "text/html": [
       "<div>\n",
       "<style scoped>\n",
       "    .dataframe tbody tr th:only-of-type {\n",
       "        vertical-align: middle;\n",
       "    }\n",
       "\n",
       "    .dataframe tbody tr th {\n",
       "        vertical-align: top;\n",
       "    }\n",
       "\n",
       "    .dataframe thead th {\n",
       "        text-align: right;\n",
       "    }\n",
       "</style>\n",
       "<table border=\"1\" class=\"dataframe\">\n",
       "  <thead>\n",
       "    <tr style=\"text-align: right;\">\n",
       "      <th></th>\n",
       "      <th>TITLE</th>\n",
       "      <th>VOTES</th>\n",
       "    </tr>\n",
       "  </thead>\n",
       "  <tbody>\n",
       "    <tr>\n",
       "      <th>253</th>\n",
       "      <td>BEVERAGE SHOP,FOOD COURT</td>\n",
       "      <td>NaN</td>\n",
       "    </tr>\n",
       "    <tr>\n",
       "      <th>8847</th>\n",
       "      <td>CAFÉ,FINE DINING</td>\n",
       "      <td>NaN</td>\n",
       "    </tr>\n",
       "  </tbody>\n",
       "</table>\n",
       "</div>"
      ],
      "text/plain": [
       "                         TITLE VOTES\n",
       "253   BEVERAGE SHOP,FOOD COURT   NaN\n",
       "8847          CAFÉ,FINE DINING   NaN"
      ]
     },
     "execution_count": 65,
     "metadata": {},
     "output_type": "execute_result"
    }
   ],
   "source": [
    "df.loc[df['VOTES'].isnull(),['TITLE','VOTES']]"
   ]
  },
  {
   "cell_type": "code",
   "execution_count": 66,
   "metadata": {},
   "outputs": [
    {
     "data": {
      "text/html": [
       "<div>\n",
       "<style scoped>\n",
       "    .dataframe tbody tr th:only-of-type {\n",
       "        vertical-align: middle;\n",
       "    }\n",
       "\n",
       "    .dataframe tbody tr th {\n",
       "        vertical-align: top;\n",
       "    }\n",
       "\n",
       "    .dataframe thead th {\n",
       "        text-align: right;\n",
       "    }\n",
       "</style>\n",
       "<table border=\"1\" class=\"dataframe\">\n",
       "  <thead>\n",
       "    <tr style=\"text-align: right;\">\n",
       "      <th></th>\n",
       "      <th>TITLE</th>\n",
       "      <th>RESTAURANT_ID</th>\n",
       "      <th>CUISINES</th>\n",
       "      <th>TIME</th>\n",
       "      <th>CITY</th>\n",
       "      <th>LOCALITY</th>\n",
       "      <th>RATING</th>\n",
       "      <th>VOTES</th>\n",
       "      <th>COST</th>\n",
       "    </tr>\n",
       "  </thead>\n",
       "  <tbody>\n",
       "    <tr>\n",
       "      <th>8847</th>\n",
       "      <td>CAFÉ,FINE DINING</td>\n",
       "      <td>8855</td>\n",
       "      <td>Cafe</td>\n",
       "      <td>24 Hours (Mon-Sun)</td>\n",
       "      <td>Kochi International Airport VIP Road</td>\n",
       "      <td>Courtyard by Marriott</td>\n",
       "      <td>0.0</td>\n",
       "      <td>NaN</td>\n",
       "      <td>1500</td>\n",
       "    </tr>\n",
       "  </tbody>\n",
       "</table>\n",
       "</div>"
      ],
      "text/plain": [
       "                 TITLE  RESTAURANT_ID CUISINES                TIME  \\\n",
       "8847  CAFÉ,FINE DINING           8855     Cafe  24 Hours (Mon-Sun)   \n",
       "\n",
       "                                      CITY               LOCALITY  RATING  \\\n",
       "8847  Kochi International Airport VIP Road  Courtyard by Marriott     0.0   \n",
       "\n",
       "     VOTES  COST  \n",
       "8847   NaN  1500  "
      ]
     },
     "execution_count": 66,
     "metadata": {},
     "output_type": "execute_result"
    }
   ],
   "source": [
    "df[df['TITLE']=='CAFÉ,FINE DINING']"
   ]
  },
  {
   "cell_type": "code",
   "execution_count": null,
   "metadata": {},
   "outputs": [],
   "source": []
  },
  {
   "cell_type": "code",
   "execution_count": 67,
   "metadata": {},
   "outputs": [
    {
     "data": {
      "text/html": [
       "<div>\n",
       "<style scoped>\n",
       "    .dataframe tbody tr th:only-of-type {\n",
       "        vertical-align: middle;\n",
       "    }\n",
       "\n",
       "    .dataframe tbody tr th {\n",
       "        vertical-align: top;\n",
       "    }\n",
       "\n",
       "    .dataframe thead th {\n",
       "        text-align: right;\n",
       "    }\n",
       "</style>\n",
       "<table border=\"1\" class=\"dataframe\">\n",
       "  <thead>\n",
       "    <tr style=\"text-align: right;\">\n",
       "      <th></th>\n",
       "      <th>TITLE</th>\n",
       "      <th>RESTAURANT_ID</th>\n",
       "      <th>CUISINES</th>\n",
       "      <th>TIME</th>\n",
       "      <th>CITY</th>\n",
       "      <th>LOCALITY</th>\n",
       "      <th>RATING</th>\n",
       "      <th>VOTES</th>\n",
       "      <th>COST</th>\n",
       "    </tr>\n",
       "  </thead>\n",
       "  <tbody>\n",
       "    <tr>\n",
       "      <th>253</th>\n",
       "      <td>BEVERAGE SHOP,FOOD COURT</td>\n",
       "      <td>6840</td>\n",
       "      <td>Juices</td>\n",
       "      <td>11am – 10pm (Mon-Sun)</td>\n",
       "      <td>Kochi</td>\n",
       "      <td>Edappally</td>\n",
       "      <td>0.0</td>\n",
       "      <td>NaN</td>\n",
       "      <td>150</td>\n",
       "    </tr>\n",
       "  </tbody>\n",
       "</table>\n",
       "</div>"
      ],
      "text/plain": [
       "                        TITLE  RESTAURANT_ID CUISINES                   TIME  \\\n",
       "253  BEVERAGE SHOP,FOOD COURT           6840   Juices  11am – 10pm (Mon-Sun)   \n",
       "\n",
       "      CITY   LOCALITY  RATING VOTES  COST  \n",
       "253  Kochi  Edappally     0.0   NaN   150  "
      ]
     },
     "execution_count": 67,
     "metadata": {},
     "output_type": "execute_result"
    }
   ],
   "source": [
    "df[df['TITLE']=='BEVERAGE SHOP,FOOD COURT']"
   ]
  },
  {
   "cell_type": "code",
   "execution_count": 68,
   "metadata": {},
   "outputs": [
    {
     "data": {
      "text/html": [
       "<div>\n",
       "<style scoped>\n",
       "    .dataframe tbody tr th:only-of-type {\n",
       "        vertical-align: middle;\n",
       "    }\n",
       "\n",
       "    .dataframe tbody tr th {\n",
       "        vertical-align: top;\n",
       "    }\n",
       "\n",
       "    .dataframe thead th {\n",
       "        text-align: right;\n",
       "    }\n",
       "</style>\n",
       "<table border=\"1\" class=\"dataframe\">\n",
       "  <thead>\n",
       "    <tr style=\"text-align: right;\">\n",
       "      <th></th>\n",
       "      <th>TITLE</th>\n",
       "      <th>RESTAURANT_ID</th>\n",
       "      <th>CUISINES</th>\n",
       "      <th>TIME</th>\n",
       "      <th>CITY</th>\n",
       "      <th>LOCALITY</th>\n",
       "      <th>RATING</th>\n",
       "      <th>VOTES</th>\n",
       "      <th>COST</th>\n",
       "    </tr>\n",
       "  </thead>\n",
       "  <tbody>\n",
       "    <tr>\n",
       "      <th>34</th>\n",
       "      <td>BEVERAGE SHOP</td>\n",
       "      <td>1494</td>\n",
       "      <td>Beverages, Coffee, Tea</td>\n",
       "      <td>6am – 11pm (Mon-Sun)</td>\n",
       "      <td>Chennai</td>\n",
       "      <td>Besant Nagar</td>\n",
       "      <td>2.7</td>\n",
       "      <td>132 votes</td>\n",
       "      <td>500</td>\n",
       "    </tr>\n",
       "    <tr>\n",
       "      <th>78</th>\n",
       "      <td>BEVERAGE SHOP</td>\n",
       "      <td>7739</td>\n",
       "      <td>Beverages</td>\n",
       "      <td>10am – 11pm (Mon-Sun)</td>\n",
       "      <td>Bangalore</td>\n",
       "      <td>Kengeri</td>\n",
       "      <td>3.9</td>\n",
       "      <td>8 votes</td>\n",
       "      <td>150</td>\n",
       "    </tr>\n",
       "    <tr>\n",
       "      <th>101</th>\n",
       "      <td>BEVERAGE SHOP</td>\n",
       "      <td>13927</td>\n",
       "      <td>Juices, Fast Food, Sandwich, Beverages</td>\n",
       "      <td>10am – 10pm (Mon),9:30am – 10pm (Tue),9:30am –...</td>\n",
       "      <td>Chennai</td>\n",
       "      <td>Poonamalle</td>\n",
       "      <td>3.4</td>\n",
       "      <td>19 votes</td>\n",
       "      <td>250</td>\n",
       "    </tr>\n",
       "    <tr>\n",
       "      <th>130</th>\n",
       "      <td>BEVERAGE SHOP</td>\n",
       "      <td>4940</td>\n",
       "      <td>Beverages, Desserts, Ice Cream</td>\n",
       "      <td>11am – 1:30am (Mon-Sun)</td>\n",
       "      <td>Andheri West</td>\n",
       "      <td>Shastri Nagar - Lokhandwala</td>\n",
       "      <td>4.2</td>\n",
       "      <td>317 votes</td>\n",
       "      <td>200</td>\n",
       "    </tr>\n",
       "    <tr>\n",
       "      <th>176</th>\n",
       "      <td>BEVERAGE SHOP</td>\n",
       "      <td>2680</td>\n",
       "      <td>Juices</td>\n",
       "      <td>9:30am – 10:30pm (Mon-Sun)</td>\n",
       "      <td>Bangalore</td>\n",
       "      <td>Jayanagar</td>\n",
       "      <td>4.1</td>\n",
       "      <td>88 votes</td>\n",
       "      <td>100</td>\n",
       "    </tr>\n",
       "    <tr>\n",
       "      <th>...</th>\n",
       "      <td>...</td>\n",
       "      <td>...</td>\n",
       "      <td>...</td>\n",
       "      <td>...</td>\n",
       "      <td>...</td>\n",
       "      <td>...</td>\n",
       "      <td>...</td>\n",
       "      <td>...</td>\n",
       "      <td>...</td>\n",
       "    </tr>\n",
       "    <tr>\n",
       "      <th>12226</th>\n",
       "      <td>BEVERAGE SHOP</td>\n",
       "      <td>7747</td>\n",
       "      <td>Beverages, Juices</td>\n",
       "      <td>12noon – 12midnight (Mon-Sun)</td>\n",
       "      <td>Hyderabad</td>\n",
       "      <td>Tolichowki</td>\n",
       "      <td>3.8</td>\n",
       "      <td>45 votes</td>\n",
       "      <td>150</td>\n",
       "    </tr>\n",
       "    <tr>\n",
       "      <th>12239</th>\n",
       "      <td>BEVERAGE SHOP</td>\n",
       "      <td>11915</td>\n",
       "      <td>Beverages, Fast Food</td>\n",
       "      <td>11am – 11pm (Mon-Sun)</td>\n",
       "      <td>New Delhi</td>\n",
       "      <td>Yusuf Sarai</td>\n",
       "      <td>4.0</td>\n",
       "      <td>67 votes</td>\n",
       "      <td>300</td>\n",
       "    </tr>\n",
       "    <tr>\n",
       "      <th>12307</th>\n",
       "      <td>BEVERAGE SHOP</td>\n",
       "      <td>3479</td>\n",
       "      <td>Beverages</td>\n",
       "      <td>10am – 12midnight (Mon-Sun)</td>\n",
       "      <td>Hyderabad</td>\n",
       "      <td>Banjara Hills</td>\n",
       "      <td>3.6</td>\n",
       "      <td>139 votes</td>\n",
       "      <td>250</td>\n",
       "    </tr>\n",
       "    <tr>\n",
       "      <th>12421</th>\n",
       "      <td>BEVERAGE SHOP</td>\n",
       "      <td>2677</td>\n",
       "      <td>Juices, Beverages</td>\n",
       "      <td>9am – 10pm (Mon-Sun)</td>\n",
       "      <td>Chennai</td>\n",
       "      <td>Velachery</td>\n",
       "      <td>4.0</td>\n",
       "      <td>70 votes</td>\n",
       "      <td>200</td>\n",
       "    </tr>\n",
       "    <tr>\n",
       "      <th>12591</th>\n",
       "      <td>BEVERAGE SHOP</td>\n",
       "      <td>1167</td>\n",
       "      <td>Beverages, Juices, Desserts</td>\n",
       "      <td>9am – 10pm (Mon-Sun)</td>\n",
       "      <td>Kochi</td>\n",
       "      <td>Edappally</td>\n",
       "      <td>0.0</td>\n",
       "      <td>46 votes</td>\n",
       "      <td>150</td>\n",
       "    </tr>\n",
       "  </tbody>\n",
       "</table>\n",
       "<p>156 rows × 9 columns</p>\n",
       "</div>"
      ],
      "text/plain": [
       "               TITLE  RESTAURANT_ID                                CUISINES  \\\n",
       "34     BEVERAGE SHOP           1494                  Beverages, Coffee, Tea   \n",
       "78     BEVERAGE SHOP           7739                               Beverages   \n",
       "101    BEVERAGE SHOP          13927  Juices, Fast Food, Sandwich, Beverages   \n",
       "130    BEVERAGE SHOP           4940          Beverages, Desserts, Ice Cream   \n",
       "176    BEVERAGE SHOP           2680                                  Juices   \n",
       "...              ...            ...                                     ...   \n",
       "12226  BEVERAGE SHOP           7747                       Beverages, Juices   \n",
       "12239  BEVERAGE SHOP          11915                    Beverages, Fast Food   \n",
       "12307  BEVERAGE SHOP           3479                               Beverages   \n",
       "12421  BEVERAGE SHOP           2677                       Juices, Beverages   \n",
       "12591  BEVERAGE SHOP           1167             Beverages, Juices, Desserts   \n",
       "\n",
       "                                                    TIME          CITY  \\\n",
       "34                                  6am – 11pm (Mon-Sun)       Chennai   \n",
       "78                                 10am – 11pm (Mon-Sun)     Bangalore   \n",
       "101    10am – 10pm (Mon),9:30am – 10pm (Tue),9:30am –...       Chennai   \n",
       "130                              11am – 1:30am (Mon-Sun)  Andheri West   \n",
       "176                           9:30am – 10:30pm (Mon-Sun)     Bangalore   \n",
       "...                                                  ...           ...   \n",
       "12226                      12noon – 12midnight (Mon-Sun)     Hyderabad   \n",
       "12239                              11am – 11pm (Mon-Sun)     New Delhi   \n",
       "12307                        10am – 12midnight (Mon-Sun)     Hyderabad   \n",
       "12421                               9am – 10pm (Mon-Sun)       Chennai   \n",
       "12591                               9am – 10pm (Mon-Sun)         Kochi   \n",
       "\n",
       "                          LOCALITY  RATING      VOTES  COST  \n",
       "34                    Besant Nagar     2.7  132 votes   500  \n",
       "78                         Kengeri     3.9    8 votes   150  \n",
       "101                     Poonamalle     3.4   19 votes   250  \n",
       "130    Shastri Nagar - Lokhandwala     4.2  317 votes   200  \n",
       "176                      Jayanagar     4.1   88 votes   100  \n",
       "...                            ...     ...        ...   ...  \n",
       "12226                   Tolichowki     3.8   45 votes   150  \n",
       "12239                  Yusuf Sarai     4.0   67 votes   300  \n",
       "12307                Banjara Hills     3.6  139 votes   250  \n",
       "12421                    Velachery     4.0   70 votes   200  \n",
       "12591                    Edappally     0.0   46 votes   150  \n",
       "\n",
       "[156 rows x 9 columns]"
      ]
     },
     "execution_count": 68,
     "metadata": {},
     "output_type": "execute_result"
    }
   ],
   "source": [
    "df[df['TITLE']=='BEVERAGE SHOP']"
   ]
  },
  {
   "cell_type": "code",
   "execution_count": 69,
   "metadata": {},
   "outputs": [
    {
     "data": {
      "text/html": [
       "<div>\n",
       "<style scoped>\n",
       "    .dataframe tbody tr th:only-of-type {\n",
       "        vertical-align: middle;\n",
       "    }\n",
       "\n",
       "    .dataframe tbody tr th {\n",
       "        vertical-align: top;\n",
       "    }\n",
       "\n",
       "    .dataframe thead th {\n",
       "        text-align: right;\n",
       "    }\n",
       "</style>\n",
       "<table border=\"1\" class=\"dataframe\">\n",
       "  <thead>\n",
       "    <tr style=\"text-align: right;\">\n",
       "      <th></th>\n",
       "      <th>TITLE</th>\n",
       "      <th>RESTAURANT_ID</th>\n",
       "      <th>CUISINES</th>\n",
       "      <th>TIME</th>\n",
       "      <th>CITY</th>\n",
       "      <th>LOCALITY</th>\n",
       "      <th>RATING</th>\n",
       "      <th>VOTES</th>\n",
       "      <th>COST</th>\n",
       "    </tr>\n",
       "  </thead>\n",
       "  <tbody>\n",
       "    <tr>\n",
       "      <th>133</th>\n",
       "      <td>FOOD COURT</td>\n",
       "      <td>5171</td>\n",
       "      <td>Desserts</td>\n",
       "      <td>11am – 11pm (Mon-Sun)</td>\n",
       "      <td>Hyderabad</td>\n",
       "      <td>Hitech City</td>\n",
       "      <td>3.8</td>\n",
       "      <td>52 votes</td>\n",
       "      <td>180</td>\n",
       "    </tr>\n",
       "    <tr>\n",
       "      <th>222</th>\n",
       "      <td>FOOD COURT</td>\n",
       "      <td>12024</td>\n",
       "      <td>Hyderabadi, Biryani</td>\n",
       "      <td>7am – 3am (Mon-Fri),12noon – 3am (Sat-Sun)</td>\n",
       "      <td>Hyderabad</td>\n",
       "      <td>Madhapur</td>\n",
       "      <td>3.5</td>\n",
       "      <td>103 votes</td>\n",
       "      <td>300</td>\n",
       "    </tr>\n",
       "    <tr>\n",
       "      <th>470</th>\n",
       "      <td>FOOD COURT</td>\n",
       "      <td>15108</td>\n",
       "      <td>Tibetan, Momos</td>\n",
       "      <td>11am – 11pm (Mon-Sun)</td>\n",
       "      <td>Bangalore</td>\n",
       "      <td>Whitefield</td>\n",
       "      <td>3.6</td>\n",
       "      <td>67 votes</td>\n",
       "      <td>400</td>\n",
       "    </tr>\n",
       "    <tr>\n",
       "      <th>1037</th>\n",
       "      <td>FOOD COURT</td>\n",
       "      <td>10040</td>\n",
       "      <td>South Indian</td>\n",
       "      <td>10am – 10pm (Mon-Sun)</td>\n",
       "      <td>Chennai</td>\n",
       "      <td>Vadapalani</td>\n",
       "      <td>3.4</td>\n",
       "      <td>47 votes</td>\n",
       "      <td>500</td>\n",
       "    </tr>\n",
       "    <tr>\n",
       "      <th>1309</th>\n",
       "      <td>FOOD COURT</td>\n",
       "      <td>724</td>\n",
       "      <td>North Indian</td>\n",
       "      <td>11am – 11pm (Mon-Sun)</td>\n",
       "      <td>Dwarka</td>\n",
       "      <td>Sector 12</td>\n",
       "      <td>3.5</td>\n",
       "      <td>119 votes</td>\n",
       "      <td>400</td>\n",
       "    </tr>\n",
       "    <tr>\n",
       "      <th>...</th>\n",
       "      <td>...</td>\n",
       "      <td>...</td>\n",
       "      <td>...</td>\n",
       "      <td>...</td>\n",
       "      <td>...</td>\n",
       "      <td>...</td>\n",
       "      <td>...</td>\n",
       "      <td>...</td>\n",
       "      <td>...</td>\n",
       "    </tr>\n",
       "    <tr>\n",
       "      <th>11642</th>\n",
       "      <td>FOOD COURT</td>\n",
       "      <td>6305</td>\n",
       "      <td>Continental, Fast Food</td>\n",
       "      <td>8am – 11pm (Mon-Sun)</td>\n",
       "      <td>Bangalore</td>\n",
       "      <td>Whitefield</td>\n",
       "      <td>3.9</td>\n",
       "      <td>85 votes</td>\n",
       "      <td>500</td>\n",
       "    </tr>\n",
       "    <tr>\n",
       "      <th>12052</th>\n",
       "      <td>FOOD COURT</td>\n",
       "      <td>3962</td>\n",
       "      <td>North Indian</td>\n",
       "      <td>11am – 11pm (Mon-Sun)</td>\n",
       "      <td>Hyderabad</td>\n",
       "      <td>3rd Floor Sujana Mall Kukatpally</td>\n",
       "      <td>3.8</td>\n",
       "      <td>31 votes</td>\n",
       "      <td>1000</td>\n",
       "    </tr>\n",
       "    <tr>\n",
       "      <th>12129</th>\n",
       "      <td>FOOD COURT</td>\n",
       "      <td>13667</td>\n",
       "      <td>Chinese</td>\n",
       "      <td>11am – 11:55pm (Mon-Sun)</td>\n",
       "      <td>Secunderabad</td>\n",
       "      <td>Uppal</td>\n",
       "      <td>3.0</td>\n",
       "      <td>86 votes</td>\n",
       "      <td>400</td>\n",
       "    </tr>\n",
       "    <tr>\n",
       "      <th>12194</th>\n",
       "      <td>FOOD COURT</td>\n",
       "      <td>11400</td>\n",
       "      <td>Street Food</td>\n",
       "      <td>12:5pm – 11:56pm (Mon),12:5pm – 11:55pm...</td>\n",
       "      <td>Secunderabad</td>\n",
       "      <td>Uppal</td>\n",
       "      <td>2.9</td>\n",
       "      <td>221 votes</td>\n",
       "      <td>200</td>\n",
       "    </tr>\n",
       "    <tr>\n",
       "      <th>12336</th>\n",
       "      <td>FOOD COURT</td>\n",
       "      <td>15564</td>\n",
       "      <td>Fast Food</td>\n",
       "      <td>6pm – 4am (Mon-Sun)</td>\n",
       "      <td>Hyderabad</td>\n",
       "      <td>Banjara Hills</td>\n",
       "      <td>2.7</td>\n",
       "      <td>96 votes</td>\n",
       "      <td>300</td>\n",
       "    </tr>\n",
       "  </tbody>\n",
       "</table>\n",
       "<p>78 rows × 9 columns</p>\n",
       "</div>"
      ],
      "text/plain": [
       "            TITLE  RESTAURANT_ID                CUISINES  \\\n",
       "133    FOOD COURT           5171                Desserts   \n",
       "222    FOOD COURT          12024     Hyderabadi, Biryani   \n",
       "470    FOOD COURT          15108          Tibetan, Momos   \n",
       "1037   FOOD COURT          10040            South Indian   \n",
       "1309   FOOD COURT            724            North Indian   \n",
       "...           ...            ...                     ...   \n",
       "11642  FOOD COURT           6305  Continental, Fast Food   \n",
       "12052  FOOD COURT           3962            North Indian   \n",
       "12129  FOOD COURT          13667                 Chinese   \n",
       "12194  FOOD COURT          11400             Street Food   \n",
       "12336  FOOD COURT          15564               Fast Food   \n",
       "\n",
       "                                             TIME          CITY  \\\n",
       "133                         11am – 11pm (Mon-Sun)     Hyderabad   \n",
       "222    7am – 3am (Mon-Fri),12noon – 3am (Sat-Sun)     Hyderabad   \n",
       "470                         11am – 11pm (Mon-Sun)     Bangalore   \n",
       "1037                        10am – 10pm (Mon-Sun)       Chennai   \n",
       "1309                        11am – 11pm (Mon-Sun)        Dwarka   \n",
       "...                                           ...           ...   \n",
       "11642                        8am – 11pm (Mon-Sun)     Bangalore   \n",
       "12052                       11am – 11pm (Mon-Sun)     Hyderabad   \n",
       "12129                    11am – 11:55pm (Mon-Sun)  Secunderabad   \n",
       "12194  12:5pm – 11:56pm (Mon),12:5pm – 11:55pm...  Secunderabad   \n",
       "12336                         6pm – 4am (Mon-Sun)     Hyderabad   \n",
       "\n",
       "                               LOCALITY  RATING      VOTES  COST  \n",
       "133                         Hitech City     3.8   52 votes   180  \n",
       "222                            Madhapur     3.5  103 votes   300  \n",
       "470                          Whitefield     3.6   67 votes   400  \n",
       "1037                         Vadapalani     3.4   47 votes   500  \n",
       "1309                          Sector 12     3.5  119 votes   400  \n",
       "...                                 ...     ...        ...   ...  \n",
       "11642                        Whitefield     3.9   85 votes   500  \n",
       "12052  3rd Floor Sujana Mall Kukatpally     3.8   31 votes  1000  \n",
       "12129                             Uppal     3.0   86 votes   400  \n",
       "12194                             Uppal     2.9  221 votes   200  \n",
       "12336                     Banjara Hills     2.7   96 votes   300  \n",
       "\n",
       "[78 rows x 9 columns]"
      ]
     },
     "execution_count": 69,
     "metadata": {},
     "output_type": "execute_result"
    }
   ],
   "source": [
    "df[df['TITLE']=='FOOD COURT']"
   ]
  },
  {
   "cell_type": "code",
   "execution_count": 70,
   "metadata": {},
   "outputs": [],
   "source": [
    "df1=df.copy()"
   ]
  },
  {
   "cell_type": "code",
   "execution_count": 71,
   "metadata": {},
   "outputs": [],
   "source": [
    "df1.dropna(subset=['VOTES'],axis=0,inplace=True)"
   ]
  },
  {
   "cell_type": "code",
   "execution_count": 72,
   "metadata": {},
   "outputs": [
    {
     "data": {
      "text/plain": [
       "TITLE              0\n",
       "RESTAURANT_ID      0\n",
       "CUISINES           0\n",
       "TIME               0\n",
       "CITY             112\n",
       "LOCALITY          98\n",
       "RATING             0\n",
       "VOTES              0\n",
       "COST               0\n",
       "dtype: int64"
      ]
     },
     "execution_count": 72,
     "metadata": {},
     "output_type": "execute_result"
    }
   ],
   "source": [
    "df1.isnull().sum()"
   ]
  },
  {
   "cell_type": "code",
   "execution_count": 73,
   "metadata": {},
   "outputs": [],
   "source": [
    "for i in range(len(df1['VOTES'])) :\n",
    "    try:\n",
    "       df1['VOTES'][i] = int(df1['VOTES'][i].split(\" \")[0].strip())\n",
    "    except :\n",
    "       pass "
   ]
  },
  {
   "cell_type": "code",
   "execution_count": 74,
   "metadata": {},
   "outputs": [],
   "source": [
    "# for i in df1.index:\n",
    "#     df1['VOTES']=df1['VOTES'][i].split(' ')[0]\n",
    "# df1['VOTES']=df1['VOTES'].astype('int')"
   ]
  },
  {
   "cell_type": "code",
   "execution_count": 75,
   "metadata": {},
   "outputs": [
    {
     "data": {
      "text/plain": [
       "548.1233766233767"
      ]
     },
     "execution_count": 75,
     "metadata": {},
     "output_type": "execute_result"
    }
   ],
   "source": [
    "df1[df1['TITLE']=='FINE DINING']['VOTES'].mean()"
   ]
  },
  {
   "cell_type": "code",
   "execution_count": 76,
   "metadata": {},
   "outputs": [
    {
     "data": {
      "text/html": [
       "<div>\n",
       "<style scoped>\n",
       "    .dataframe tbody tr th:only-of-type {\n",
       "        vertical-align: middle;\n",
       "    }\n",
       "\n",
       "    .dataframe tbody tr th {\n",
       "        vertical-align: top;\n",
       "    }\n",
       "\n",
       "    .dataframe thead th {\n",
       "        text-align: right;\n",
       "    }\n",
       "</style>\n",
       "<table border=\"1\" class=\"dataframe\">\n",
       "  <thead>\n",
       "    <tr style=\"text-align: right;\">\n",
       "      <th></th>\n",
       "      <th>TITLE</th>\n",
       "      <th>RESTAURANT_ID</th>\n",
       "      <th>CUISINES</th>\n",
       "      <th>TIME</th>\n",
       "      <th>CITY</th>\n",
       "      <th>LOCALITY</th>\n",
       "      <th>RATING</th>\n",
       "      <th>VOTES</th>\n",
       "      <th>COST</th>\n",
       "    </tr>\n",
       "  </thead>\n",
       "  <tbody>\n",
       "  </tbody>\n",
       "</table>\n",
       "</div>"
      ],
      "text/plain": [
       "Empty DataFrame\n",
       "Columns: [TITLE, RESTAURANT_ID, CUISINES, TIME, CITY, LOCALITY, RATING, VOTES, COST]\n",
       "Index: []"
      ]
     },
     "execution_count": 76,
     "metadata": {},
     "output_type": "execute_result"
    }
   ],
   "source": [
    "df1[df1['TITLE']=='CAFE']"
   ]
  },
  {
   "cell_type": "code",
   "execution_count": 77,
   "metadata": {},
   "outputs": [
    {
     "data": {
      "text/html": [
       "<div>\n",
       "<style scoped>\n",
       "    .dataframe tbody tr th:only-of-type {\n",
       "        vertical-align: middle;\n",
       "    }\n",
       "\n",
       "    .dataframe tbody tr th {\n",
       "        vertical-align: top;\n",
       "    }\n",
       "\n",
       "    .dataframe thead th {\n",
       "        text-align: right;\n",
       "    }\n",
       "</style>\n",
       "<table border=\"1\" class=\"dataframe\">\n",
       "  <thead>\n",
       "    <tr style=\"text-align: right;\">\n",
       "      <th></th>\n",
       "      <th>TITLE</th>\n",
       "      <th>RESTAURANT_ID</th>\n",
       "      <th>CUISINES</th>\n",
       "      <th>TIME</th>\n",
       "      <th>CITY</th>\n",
       "      <th>LOCALITY</th>\n",
       "      <th>RATING</th>\n",
       "      <th>VOTES</th>\n",
       "      <th>COST</th>\n",
       "    </tr>\n",
       "  </thead>\n",
       "  <tbody>\n",
       "    <tr>\n",
       "      <th>0</th>\n",
       "      <td>CASUAL DINING</td>\n",
       "      <td>9438</td>\n",
       "      <td>Malwani, Goan, North Indian</td>\n",
       "      <td>11am – 4pm, 7:30pm – 11:30pm (Mon-Sun)</td>\n",
       "      <td>Thane</td>\n",
       "      <td>Dombivali East</td>\n",
       "      <td>3.6</td>\n",
       "      <td>49</td>\n",
       "      <td>1200</td>\n",
       "    </tr>\n",
       "    <tr>\n",
       "      <th>1</th>\n",
       "      <td>CASUAL DINING,BAR</td>\n",
       "      <td>13198</td>\n",
       "      <td>Asian, Modern Indian, Japanese</td>\n",
       "      <td>6pm – 11pm (Mon-Sun)</td>\n",
       "      <td>Chennai</td>\n",
       "      <td>Ramapuram</td>\n",
       "      <td>4.2</td>\n",
       "      <td>30</td>\n",
       "      <td>1500</td>\n",
       "    </tr>\n",
       "    <tr>\n",
       "      <th>2</th>\n",
       "      <td>CASUAL DINING</td>\n",
       "      <td>10915</td>\n",
       "      <td>North Indian, Chinese, Biryani, Hyderabadi</td>\n",
       "      <td>11am – 3:30pm, 7pm – 11pm (Mon-Sun)</td>\n",
       "      <td>Chennai</td>\n",
       "      <td>Saligramam</td>\n",
       "      <td>3.8</td>\n",
       "      <td>221</td>\n",
       "      <td>800</td>\n",
       "    </tr>\n",
       "    <tr>\n",
       "      <th>3</th>\n",
       "      <td>QUICK BITES</td>\n",
       "      <td>6346</td>\n",
       "      <td>Tibetan, Chinese</td>\n",
       "      <td>11:30am – 1am (Mon-Sun)</td>\n",
       "      <td>Mumbai</td>\n",
       "      <td>Bandra West</td>\n",
       "      <td>4.1</td>\n",
       "      <td>24</td>\n",
       "      <td>800</td>\n",
       "    </tr>\n",
       "    <tr>\n",
       "      <th>4</th>\n",
       "      <td>DESSERT PARLOR</td>\n",
       "      <td>15387</td>\n",
       "      <td>Desserts</td>\n",
       "      <td>11am – 1am (Mon-Sun)</td>\n",
       "      <td>Mumbai</td>\n",
       "      <td>Lower Parel</td>\n",
       "      <td>3.8</td>\n",
       "      <td>165</td>\n",
       "      <td>300</td>\n",
       "    </tr>\n",
       "    <tr>\n",
       "      <th>...</th>\n",
       "      <td>...</td>\n",
       "      <td>...</td>\n",
       "      <td>...</td>\n",
       "      <td>...</td>\n",
       "      <td>...</td>\n",
       "      <td>...</td>\n",
       "      <td>...</td>\n",
       "      <td>...</td>\n",
       "      <td>...</td>\n",
       "    </tr>\n",
       "    <tr>\n",
       "      <th>12685</th>\n",
       "      <td>QUICK BITES</td>\n",
       "      <td>13228</td>\n",
       "      <td>North Indian, Burger, Kebab</td>\n",
       "      <td>12noon – 12midnight (Mon, Tue, Wed, Thu, Sun)...</td>\n",
       "      <td>Hyderabad</td>\n",
       "      <td>Gachibowli</td>\n",
       "      <td>3.8</td>\n",
       "      <td>546</td>\n",
       "      <td>500</td>\n",
       "    </tr>\n",
       "    <tr>\n",
       "      <th>12686</th>\n",
       "      <td>CASUAL DINING,BAR</td>\n",
       "      <td>9686</td>\n",
       "      <td>Goan, Continental</td>\n",
       "      <td>12noon – 1am (Mon-Fri),11am – 5pm, 7pm – 1am...</td>\n",
       "      <td>Mumbai</td>\n",
       "      <td>Bandra Kurla Complex</td>\n",
       "      <td>4.3</td>\n",
       "      <td>1214 votes</td>\n",
       "      <td>1800</td>\n",
       "    </tr>\n",
       "    <tr>\n",
       "      <th>12687</th>\n",
       "      <td>LOUNGE</td>\n",
       "      <td>11133</td>\n",
       "      <td>Finger Food, Continental, Asian, Chinese</td>\n",
       "      <td>12noon – 12:30AM (Mon-Sun)</td>\n",
       "      <td>Navi Mumbai</td>\n",
       "      <td>Vashi</td>\n",
       "      <td>4.0</td>\n",
       "      <td>608 votes</td>\n",
       "      <td>1300</td>\n",
       "    </tr>\n",
       "    <tr>\n",
       "      <th>12688</th>\n",
       "      <td>CASUAL DINING</td>\n",
       "      <td>6134</td>\n",
       "      <td>North Indian, South Indian, Chinese, Street Food</td>\n",
       "      <td>6am – 10:45pm (Mon-Sun)</td>\n",
       "      <td>Chennai</td>\n",
       "      <td>Maduravoyal</td>\n",
       "      <td>3.5</td>\n",
       "      <td>32 votes</td>\n",
       "      <td>400</td>\n",
       "    </tr>\n",
       "    <tr>\n",
       "      <th>12689</th>\n",
       "      <td>CASUAL DINING</td>\n",
       "      <td>6430</td>\n",
       "      <td>North Indian, Chinese</td>\n",
       "      <td>12:30pm – 11pm (Mon-Sun)</td>\n",
       "      <td>Hyderabad</td>\n",
       "      <td>Vanasthalipuram</td>\n",
       "      <td>3.4</td>\n",
       "      <td>677 votes</td>\n",
       "      <td>600</td>\n",
       "    </tr>\n",
       "  </tbody>\n",
       "</table>\n",
       "<p>12686 rows × 9 columns</p>\n",
       "</div>"
      ],
      "text/plain": [
       "                   TITLE  RESTAURANT_ID  \\\n",
       "0          CASUAL DINING           9438   \n",
       "1      CASUAL DINING,BAR          13198   \n",
       "2          CASUAL DINING          10915   \n",
       "3            QUICK BITES           6346   \n",
       "4         DESSERT PARLOR          15387   \n",
       "...                  ...            ...   \n",
       "12685        QUICK BITES          13228   \n",
       "12686  CASUAL DINING,BAR           9686   \n",
       "12687             LOUNGE          11133   \n",
       "12688      CASUAL DINING           6134   \n",
       "12689      CASUAL DINING           6430   \n",
       "\n",
       "                                               CUISINES  \\\n",
       "0                           Malwani, Goan, North Indian   \n",
       "1                        Asian, Modern Indian, Japanese   \n",
       "2            North Indian, Chinese, Biryani, Hyderabadi   \n",
       "3                                      Tibetan, Chinese   \n",
       "4                                              Desserts   \n",
       "...                                                 ...   \n",
       "12685                       North Indian, Burger, Kebab   \n",
       "12686                                 Goan, Continental   \n",
       "12687          Finger Food, Continental, Asian, Chinese   \n",
       "12688  North Indian, South Indian, Chinese, Street Food   \n",
       "12689                             North Indian, Chinese   \n",
       "\n",
       "                                                   TIME         CITY  \\\n",
       "0                11am – 4pm, 7:30pm – 11:30pm (Mon-Sun)        Thane   \n",
       "1                                  6pm – 11pm (Mon-Sun)      Chennai   \n",
       "2                   11am – 3:30pm, 7pm – 11pm (Mon-Sun)      Chennai   \n",
       "3                               11:30am – 1am (Mon-Sun)       Mumbai   \n",
       "4                                  11am – 1am (Mon-Sun)       Mumbai   \n",
       "...                                                 ...          ...   \n",
       "12685  12noon – 12midnight (Mon, Tue, Wed, Thu, Sun)...    Hyderabad   \n",
       "12686   12noon – 1am (Mon-Fri),11am – 5pm, 7pm – 1am...       Mumbai   \n",
       "12687                        12noon – 12:30AM (Mon-Sun)  Navi Mumbai   \n",
       "12688                           6am – 10:45pm (Mon-Sun)      Chennai   \n",
       "12689                          12:30pm – 11pm (Mon-Sun)    Hyderabad   \n",
       "\n",
       "                   LOCALITY  RATING       VOTES  COST  \n",
       "0            Dombivali East     3.6          49  1200  \n",
       "1                 Ramapuram     4.2          30  1500  \n",
       "2                Saligramam     3.8         221   800  \n",
       "3               Bandra West     4.1          24   800  \n",
       "4               Lower Parel     3.8         165   300  \n",
       "...                     ...     ...         ...   ...  \n",
       "12685            Gachibowli     3.8         546   500  \n",
       "12686  Bandra Kurla Complex     4.3  1214 votes  1800  \n",
       "12687                 Vashi     4.0   608 votes  1300  \n",
       "12688           Maduravoyal     3.5    32 votes   400  \n",
       "12689       Vanasthalipuram     3.4   677 votes   600  \n",
       "\n",
       "[12686 rows x 9 columns]"
      ]
     },
     "execution_count": 77,
     "metadata": {},
     "output_type": "execute_result"
    }
   ],
   "source": [
    "df1"
   ]
  },
  {
   "cell_type": "code",
   "execution_count": 78,
   "metadata": {},
   "outputs": [
    {
     "data": {
      "text/plain": [
       "121.30128205128206"
      ]
     },
     "execution_count": 78,
     "metadata": {},
     "output_type": "execute_result"
    }
   ],
   "source": [
    "df1[df1['TITLE']=='BEVERAGE SHOP']['VOTES'].mean()"
   ]
  },
  {
   "cell_type": "code",
   "execution_count": 79,
   "metadata": {},
   "outputs": [
    {
     "data": {
      "text/plain": [
       "119.21794871794872"
      ]
     },
     "execution_count": 79,
     "metadata": {},
     "output_type": "execute_result"
    }
   ],
   "source": [
    "df1[df1['TITLE']=='FOOD COURT']['VOTES'].mean()"
   ]
  },
  {
   "cell_type": "code",
   "execution_count": 80,
   "metadata": {},
   "outputs": [
    {
     "data": {
      "text/plain": [
       "120.0"
      ]
     },
     "execution_count": 80,
     "metadata": {},
     "output_type": "execute_result"
    }
   ],
   "source": [
    "(121+119)/2"
   ]
  },
  {
   "cell_type": "code",
   "execution_count": 81,
   "metadata": {},
   "outputs": [
    {
     "data": {
      "text/plain": [
       "548.1233766233767"
      ]
     },
     "execution_count": 81,
     "metadata": {},
     "output_type": "execute_result"
    }
   ],
   "source": [
    "df1[df1['TITLE']=='FINE DINING']['VOTES'].mean()"
   ]
  },
  {
   "cell_type": "code",
   "execution_count": 82,
   "metadata": {},
   "outputs": [],
   "source": [
    "df[df['TITLE']=='BEVERAGE SHOP,FOOD COURT']['VOTES']='120 votes'"
   ]
  },
  {
   "cell_type": "code",
   "execution_count": 83,
   "metadata": {},
   "outputs": [],
   "source": [
    "df[df['TITLE']=='CAFÉ,FINE DINING']['VOTES']='548 votes'"
   ]
  },
  {
   "cell_type": "code",
   "execution_count": 84,
   "metadata": {},
   "outputs": [
    {
     "data": {
      "text/plain": [
       "TITLE              0\n",
       "RESTAURANT_ID      0\n",
       "CUISINES           0\n",
       "TIME               0\n",
       "CITY             112\n",
       "LOCALITY          98\n",
       "RATING             0\n",
       "VOTES              2\n",
       "COST               0\n",
       "dtype: int64"
      ]
     },
     "execution_count": 84,
     "metadata": {},
     "output_type": "execute_result"
    }
   ],
   "source": [
    "df.isnull().sum()"
   ]
  },
  {
   "cell_type": "code",
   "execution_count": 85,
   "metadata": {},
   "outputs": [],
   "source": [
    "# df.dropna(subset=['VOTES'],axis=0,inplace=True)"
   ]
  },
  {
   "cell_type": "code",
   "execution_count": null,
   "metadata": {},
   "outputs": [],
   "source": []
  },
  {
   "cell_type": "code",
   "execution_count": null,
   "metadata": {},
   "outputs": [],
   "source": []
  },
  {
   "cell_type": "code",
   "execution_count": 86,
   "metadata": {},
   "outputs": [
    {
     "data": {
      "text/plain": [
       "253    NaN\n",
       "Name: VOTES, dtype: object"
      ]
     },
     "execution_count": 86,
     "metadata": {},
     "output_type": "execute_result"
    }
   ],
   "source": [
    "df[df['TITLE']=='BEVERAGE SHOP,FOOD COURT']['VOTES']"
   ]
  },
  {
   "cell_type": "code",
   "execution_count": 87,
   "metadata": {},
   "outputs": [
    {
     "data": {
      "text/plain": [
       "8847    NaN\n",
       "Name: VOTES, dtype: object"
      ]
     },
     "execution_count": 87,
     "metadata": {},
     "output_type": "execute_result"
    }
   ],
   "source": [
    "df[df['TITLE']=='CAFÉ,FINE DINING']['VOTES']"
   ]
  },
  {
   "cell_type": "code",
   "execution_count": 88,
   "metadata": {},
   "outputs": [],
   "source": [
    "df[\"VOTES\"][8847]='548 votes'\n",
    "df[\"VOTES\"][253]='120 votes'"
   ]
  },
  {
   "cell_type": "code",
   "execution_count": 89,
   "metadata": {},
   "outputs": [
    {
     "data": {
      "text/plain": [
       "TITLE              0\n",
       "RESTAURANT_ID      0\n",
       "CUISINES           0\n",
       "TIME               0\n",
       "CITY             112\n",
       "LOCALITY          98\n",
       "RATING             0\n",
       "VOTES              0\n",
       "COST               0\n",
       "dtype: int64"
      ]
     },
     "execution_count": 89,
     "metadata": {},
     "output_type": "execute_result"
    }
   ],
   "source": [
    "df.isnull().sum()"
   ]
  },
  {
   "cell_type": "code",
   "execution_count": 90,
   "metadata": {},
   "outputs": [],
   "source": [
    "for i in range(len(df['VOTES'])) :\n",
    "    try:\n",
    "       df['VOTES'][i] = int(df['VOTES'][i].split(\" \")[0].strip())\n",
    "    except :\n",
    "       pass "
   ]
  },
  {
   "cell_type": "code",
   "execution_count": 91,
   "metadata": {},
   "outputs": [
    {
     "data": {
      "text/plain": [
       "<matplotlib.axes._subplots.AxesSubplot at 0x7f7c36adcd30>"
      ]
     },
     "execution_count": 91,
     "metadata": {},
     "output_type": "execute_result"
    },
    {
     "data": {
      "image/png": "[encoded data removed]",
      "text/plain": [
       "<Figure size 432x288 with 2 Axes>"
      ]
     },
     "metadata": {
      "needs_background": "light"
     },
     "output_type": "display_data"
    }
   ],
   "source": [
    "sns.heatmap(df.isnull())"
   ]
  },
  {
   "cell_type": "code",
   "execution_count": 92,
   "metadata": {},
   "outputs": [
    {
     "data": {
      "text/html": [
       "<div>\n",
       "<style scoped>\n",
       "    .dataframe tbody tr th:only-of-type {\n",
       "        vertical-align: middle;\n",
       "    }\n",
       "\n",
       "    .dataframe tbody tr th {\n",
       "        vertical-align: top;\n",
       "    }\n",
       "\n",
       "    .dataframe thead th {\n",
       "        text-align: right;\n",
       "    }\n",
       "</style>\n",
       "<table border=\"1\" class=\"dataframe\">\n",
       "  <thead>\n",
       "    <tr style=\"text-align: right;\">\n",
       "      <th></th>\n",
       "      <th>TITLE</th>\n",
       "      <th>RESTAURANT_ID</th>\n",
       "      <th>CUISINES</th>\n",
       "      <th>TIME</th>\n",
       "      <th>CITY</th>\n",
       "      <th>LOCALITY</th>\n",
       "      <th>RATING</th>\n",
       "      <th>VOTES</th>\n",
       "      <th>COST</th>\n",
       "    </tr>\n",
       "  </thead>\n",
       "  <tbody>\n",
       "    <tr>\n",
       "      <th>129</th>\n",
       "      <td>None</td>\n",
       "      <td>9101</td>\n",
       "      <td>North Indian, South Indian, Chinese, Continental</td>\n",
       "      <td>12noon – 3pm, 7pm – 2am (Mon-Sun)</td>\n",
       "      <td>NaN</td>\n",
       "      <td>NaN</td>\n",
       "      <td>3.6</td>\n",
       "      <td>728</td>\n",
       "      <td>500</td>\n",
       "    </tr>\n",
       "    <tr>\n",
       "      <th>246</th>\n",
       "      <td>QUICK BITES</td>\n",
       "      <td>14502</td>\n",
       "      <td>Biryani</td>\n",
       "      <td>12noon – 11pm (Mon-Sun)</td>\n",
       "      <td>NaN</td>\n",
       "      <td>Palarivattom Kochi</td>\n",
       "      <td>3.4</td>\n",
       "      <td>82</td>\n",
       "      <td>300</td>\n",
       "    </tr>\n",
       "    <tr>\n",
       "      <th>411</th>\n",
       "      <td>None</td>\n",
       "      <td>6313</td>\n",
       "      <td>North Indian, Chinese, Pizza, Burger, Fast Food</td>\n",
       "      <td>7pm – 4am (Mon-Sun)</td>\n",
       "      <td>NaN</td>\n",
       "      <td>NaN</td>\n",
       "      <td>4.0</td>\n",
       "      <td>29</td>\n",
       "      <td>600</td>\n",
       "    </tr>\n",
       "    <tr>\n",
       "      <th>466</th>\n",
       "      <td>None</td>\n",
       "      <td>1133</td>\n",
       "      <td>North Indian</td>\n",
       "      <td>4pm – 9pm (Mon-Sun)</td>\n",
       "      <td>NaN</td>\n",
       "      <td>NaN</td>\n",
       "      <td>4.2</td>\n",
       "      <td>55</td>\n",
       "      <td>200</td>\n",
       "    </tr>\n",
       "    <tr>\n",
       "      <th>481</th>\n",
       "      <td>None</td>\n",
       "      <td>4788</td>\n",
       "      <td>Street Food</td>\n",
       "      <td>11am – 11pm (Mon),9:30am – 12midnight (Tue-Sun)</td>\n",
       "      <td>NaN</td>\n",
       "      <td>NaN</td>\n",
       "      <td>3.7</td>\n",
       "      <td>616</td>\n",
       "      <td>250</td>\n",
       "    </tr>\n",
       "    <tr>\n",
       "      <th>...</th>\n",
       "      <td>...</td>\n",
       "      <td>...</td>\n",
       "      <td>...</td>\n",
       "      <td>...</td>\n",
       "      <td>...</td>\n",
       "      <td>...</td>\n",
       "      <td>...</td>\n",
       "      <td>...</td>\n",
       "      <td>...</td>\n",
       "    </tr>\n",
       "    <tr>\n",
       "      <th>12280</th>\n",
       "      <td>None</td>\n",
       "      <td>3446</td>\n",
       "      <td>North Indian, Chinese</td>\n",
       "      <td>5pm – 5am (Mon-Sun)</td>\n",
       "      <td>NaN</td>\n",
       "      <td>NaN</td>\n",
       "      <td>3.7</td>\n",
       "      <td>281</td>\n",
       "      <td>500</td>\n",
       "    </tr>\n",
       "    <tr>\n",
       "      <th>12314</th>\n",
       "      <td>CASUAL DINING</td>\n",
       "      <td>11724</td>\n",
       "      <td>North Indian, Bengali</td>\n",
       "      <td>11am – 3:30pm, 7pm – 11pm (Mon-Sun)</td>\n",
       "      <td>NaN</td>\n",
       "      <td>Opposite to corporation bank and LIC office ba...</td>\n",
       "      <td>4.3</td>\n",
       "      <td>775</td>\n",
       "      <td>650</td>\n",
       "    </tr>\n",
       "    <tr>\n",
       "      <th>12447</th>\n",
       "      <td>QUICK BITES</td>\n",
       "      <td>7314</td>\n",
       "      <td>North Indian, Chinese, Mughlai, Seafood</td>\n",
       "      <td>12:30pm – 12midnight (Mon-Sun)</td>\n",
       "      <td>NaN</td>\n",
       "      <td>Hyderabad</td>\n",
       "      <td>3.1</td>\n",
       "      <td>44</td>\n",
       "      <td>350</td>\n",
       "    </tr>\n",
       "    <tr>\n",
       "      <th>12567</th>\n",
       "      <td>None</td>\n",
       "      <td>15532</td>\n",
       "      <td>Biryani, Chinese, Fast Food, North Indian</td>\n",
       "      <td>11am – 1am (Mon, Sun), 11am – 12:15AM (Tue-Sat)</td>\n",
       "      <td>NaN</td>\n",
       "      <td>NaN</td>\n",
       "      <td>3.7</td>\n",
       "      <td>656</td>\n",
       "      <td>300</td>\n",
       "    </tr>\n",
       "    <tr>\n",
       "      <th>12615</th>\n",
       "      <td>None</td>\n",
       "      <td>13734</td>\n",
       "      <td>Healthy Food, Salad</td>\n",
       "      <td>9am – 8pm (Mon-Sun)</td>\n",
       "      <td>NaN</td>\n",
       "      <td>NaN</td>\n",
       "      <td>3.6</td>\n",
       "      <td>40</td>\n",
       "      <td>400</td>\n",
       "    </tr>\n",
       "  </tbody>\n",
       "</table>\n",
       "<p>112 rows × 9 columns</p>\n",
       "</div>"
      ],
      "text/plain": [
       "               TITLE  RESTAURANT_ID  \\\n",
       "129             None           9101   \n",
       "246      QUICK BITES          14502   \n",
       "411             None           6313   \n",
       "466             None           1133   \n",
       "481             None           4788   \n",
       "...              ...            ...   \n",
       "12280           None           3446   \n",
       "12314  CASUAL DINING          11724   \n",
       "12447    QUICK BITES           7314   \n",
       "12567           None          15532   \n",
       "12615           None          13734   \n",
       "\n",
       "                                               CUISINES  \\\n",
       "129    North Indian, South Indian, Chinese, Continental   \n",
       "246                                             Biryani   \n",
       "411     North Indian, Chinese, Pizza, Burger, Fast Food   \n",
       "466                                        North Indian   \n",
       "481                                         Street Food   \n",
       "...                                                 ...   \n",
       "12280                             North Indian, Chinese   \n",
       "12314                             North Indian, Bengali   \n",
       "12447           North Indian, Chinese, Mughlai, Seafood   \n",
       "12567         Biryani, Chinese, Fast Food, North Indian   \n",
       "12615                               Healthy Food, Salad   \n",
       "\n",
       "                                                  TIME CITY  \\\n",
       "129                  12noon – 3pm, 7pm – 2am (Mon-Sun)  NaN   \n",
       "246                            12noon – 11pm (Mon-Sun)  NaN   \n",
       "411                                7pm – 4am (Mon-Sun)  NaN   \n",
       "466                                4pm – 9pm (Mon-Sun)  NaN   \n",
       "481    11am – 11pm (Mon),9:30am – 12midnight (Tue-Sun)  NaN   \n",
       "...                                                ...  ...   \n",
       "12280                              5pm – 5am (Mon-Sun)  NaN   \n",
       "12314              11am – 3:30pm, 7pm – 11pm (Mon-Sun)  NaN   \n",
       "12447                   12:30pm – 12midnight (Mon-Sun)  NaN   \n",
       "12567  11am – 1am (Mon, Sun), 11am – 12:15AM (Tue-Sat)  NaN   \n",
       "12615                              9am – 8pm (Mon-Sun)  NaN   \n",
       "\n",
       "                                                LOCALITY  RATING VOTES  COST  \n",
       "129                                                  NaN     3.6   728   500  \n",
       "246                                   Palarivattom Kochi     3.4    82   300  \n",
       "411                                                  NaN     4.0    29   600  \n",
       "466                                                  NaN     4.2    55   200  \n",
       "481                                                  NaN     3.7   616   250  \n",
       "...                                                  ...     ...   ...   ...  \n",
       "12280                                                NaN     3.7   281   500  \n",
       "12314  Opposite to corporation bank and LIC office ba...     4.3   775   650  \n",
       "12447                                          Hyderabad     3.1    44   350  \n",
       "12567                                                NaN     3.7   656   300  \n",
       "12615                                                NaN     3.6    40   400  \n",
       "\n",
       "[112 rows x 9 columns]"
      ]
     },
     "execution_count": 92,
     "metadata": {},
     "output_type": "execute_result"
    }
   ],
   "source": [
    "df.loc[df['CITY'].isnull(),:]"
   ]
  },
  {
   "cell_type": "code",
   "execution_count": 93,
   "metadata": {},
   "outputs": [
    {
     "data": {
      "text/html": [
       "<div>\n",
       "<style scoped>\n",
       "    .dataframe tbody tr th:only-of-type {\n",
       "        vertical-align: middle;\n",
       "    }\n",
       "\n",
       "    .dataframe tbody tr th {\n",
       "        vertical-align: top;\n",
       "    }\n",
       "\n",
       "    .dataframe thead th {\n",
       "        text-align: right;\n",
       "    }\n",
       "</style>\n",
       "<table border=\"1\" class=\"dataframe\">\n",
       "  <thead>\n",
       "    <tr style=\"text-align: right;\">\n",
       "      <th></th>\n",
       "      <th>TITLE</th>\n",
       "      <th>RESTAURANT_ID</th>\n",
       "      <th>CUISINES</th>\n",
       "      <th>TIME</th>\n",
       "      <th>CITY</th>\n",
       "      <th>LOCALITY</th>\n",
       "      <th>RATING</th>\n",
       "      <th>VOTES</th>\n",
       "      <th>COST</th>\n",
       "    </tr>\n",
       "  </thead>\n",
       "  <tbody>\n",
       "    <tr>\n",
       "      <th>129</th>\n",
       "      <td>None</td>\n",
       "      <td>9101</td>\n",
       "      <td>North Indian, South Indian, Chinese, Continental</td>\n",
       "      <td>12noon – 3pm, 7pm – 2am (Mon-Sun)</td>\n",
       "      <td>NaN</td>\n",
       "      <td>NaN</td>\n",
       "      <td>3.6</td>\n",
       "      <td>728</td>\n",
       "      <td>500</td>\n",
       "    </tr>\n",
       "    <tr>\n",
       "      <th>411</th>\n",
       "      <td>None</td>\n",
       "      <td>6313</td>\n",
       "      <td>North Indian, Chinese, Pizza, Burger, Fast Food</td>\n",
       "      <td>7pm – 4am (Mon-Sun)</td>\n",
       "      <td>NaN</td>\n",
       "      <td>NaN</td>\n",
       "      <td>4.0</td>\n",
       "      <td>29</td>\n",
       "      <td>600</td>\n",
       "    </tr>\n",
       "    <tr>\n",
       "      <th>466</th>\n",
       "      <td>None</td>\n",
       "      <td>1133</td>\n",
       "      <td>North Indian</td>\n",
       "      <td>4pm – 9pm (Mon-Sun)</td>\n",
       "      <td>NaN</td>\n",
       "      <td>NaN</td>\n",
       "      <td>4.2</td>\n",
       "      <td>55</td>\n",
       "      <td>200</td>\n",
       "    </tr>\n",
       "    <tr>\n",
       "      <th>481</th>\n",
       "      <td>None</td>\n",
       "      <td>4788</td>\n",
       "      <td>Street Food</td>\n",
       "      <td>11am – 11pm (Mon),9:30am – 12midnight (Tue-Sun)</td>\n",
       "      <td>NaN</td>\n",
       "      <td>NaN</td>\n",
       "      <td>3.7</td>\n",
       "      <td>616</td>\n",
       "      <td>250</td>\n",
       "    </tr>\n",
       "    <tr>\n",
       "      <th>534</th>\n",
       "      <td>None</td>\n",
       "      <td>3233</td>\n",
       "      <td>Healthy Food, Salad, Juices</td>\n",
       "      <td>11am – 10pm (Mon-Sun)</td>\n",
       "      <td>NaN</td>\n",
       "      <td>NaN</td>\n",
       "      <td>3.6</td>\n",
       "      <td>30</td>\n",
       "      <td>600</td>\n",
       "    </tr>\n",
       "    <tr>\n",
       "      <th>...</th>\n",
       "      <td>...</td>\n",
       "      <td>...</td>\n",
       "      <td>...</td>\n",
       "      <td>...</td>\n",
       "      <td>...</td>\n",
       "      <td>...</td>\n",
       "      <td>...</td>\n",
       "      <td>...</td>\n",
       "      <td>...</td>\n",
       "    </tr>\n",
       "    <tr>\n",
       "      <th>12181</th>\n",
       "      <td>None</td>\n",
       "      <td>3861</td>\n",
       "      <td>Asian</td>\n",
       "      <td>11am – 11pm (Mon, Tue, Thu, Sun), 11am – 3pm...</td>\n",
       "      <td>Kadubesanahalli Bangalore</td>\n",
       "      <td>NaN</td>\n",
       "      <td>1.0</td>\n",
       "      <td>15</td>\n",
       "      <td>300</td>\n",
       "    </tr>\n",
       "    <tr>\n",
       "      <th>12268</th>\n",
       "      <td>None</td>\n",
       "      <td>2177</td>\n",
       "      <td>Desserts</td>\n",
       "      <td>10am – 10pm (Mon-Sun)</td>\n",
       "      <td>NaN</td>\n",
       "      <td>NaN</td>\n",
       "      <td>1.0</td>\n",
       "      <td>15</td>\n",
       "      <td>200</td>\n",
       "    </tr>\n",
       "    <tr>\n",
       "      <th>12280</th>\n",
       "      <td>None</td>\n",
       "      <td>3446</td>\n",
       "      <td>North Indian, Chinese</td>\n",
       "      <td>5pm – 5am (Mon-Sun)</td>\n",
       "      <td>NaN</td>\n",
       "      <td>NaN</td>\n",
       "      <td>3.7</td>\n",
       "      <td>281</td>\n",
       "      <td>500</td>\n",
       "    </tr>\n",
       "    <tr>\n",
       "      <th>12567</th>\n",
       "      <td>None</td>\n",
       "      <td>15532</td>\n",
       "      <td>Biryani, Chinese, Fast Food, North Indian</td>\n",
       "      <td>11am – 1am (Mon, Sun), 11am – 12:15AM (Tue-Sat)</td>\n",
       "      <td>NaN</td>\n",
       "      <td>NaN</td>\n",
       "      <td>3.7</td>\n",
       "      <td>656</td>\n",
       "      <td>300</td>\n",
       "    </tr>\n",
       "    <tr>\n",
       "      <th>12615</th>\n",
       "      <td>None</td>\n",
       "      <td>13734</td>\n",
       "      <td>Healthy Food, Salad</td>\n",
       "      <td>9am – 8pm (Mon-Sun)</td>\n",
       "      <td>NaN</td>\n",
       "      <td>NaN</td>\n",
       "      <td>3.6</td>\n",
       "      <td>40</td>\n",
       "      <td>400</td>\n",
       "    </tr>\n",
       "  </tbody>\n",
       "</table>\n",
       "<p>98 rows × 9 columns</p>\n",
       "</div>"
      ],
      "text/plain": [
       "      TITLE  RESTAURANT_ID                                          CUISINES  \\\n",
       "129    None           9101  North Indian, South Indian, Chinese, Continental   \n",
       "411    None           6313   North Indian, Chinese, Pizza, Burger, Fast Food   \n",
       "466    None           1133                                      North Indian   \n",
       "481    None           4788                                       Street Food   \n",
       "534    None           3233                       Healthy Food, Salad, Juices   \n",
       "...     ...            ...                                               ...   \n",
       "12181  None           3861                                             Asian   \n",
       "12268  None           2177                                          Desserts   \n",
       "12280  None           3446                             North Indian, Chinese   \n",
       "12567  None          15532         Biryani, Chinese, Fast Food, North Indian   \n",
       "12615  None          13734                               Healthy Food, Salad   \n",
       "\n",
       "                                                  TIME  \\\n",
       "129                  12noon – 3pm, 7pm – 2am (Mon-Sun)   \n",
       "411                                7pm – 4am (Mon-Sun)   \n",
       "466                                4pm – 9pm (Mon-Sun)   \n",
       "481    11am – 11pm (Mon),9:30am – 12midnight (Tue-Sun)   \n",
       "534                              11am – 10pm (Mon-Sun)   \n",
       "...                                                ...   \n",
       "12181  11am – 11pm (Mon, Tue, Thu, Sun), 11am – 3pm...   \n",
       "12268                            10am – 10pm (Mon-Sun)   \n",
       "12280                              5pm – 5am (Mon-Sun)   \n",
       "12567  11am – 1am (Mon, Sun), 11am – 12:15AM (Tue-Sat)   \n",
       "12615                              9am – 8pm (Mon-Sun)   \n",
       "\n",
       "                            CITY LOCALITY  RATING VOTES  COST  \n",
       "129                          NaN      NaN     3.6   728   500  \n",
       "411                          NaN      NaN     4.0    29   600  \n",
       "466                          NaN      NaN     4.2    55   200  \n",
       "481                          NaN      NaN     3.7   616   250  \n",
       "534                          NaN      NaN     3.6    30   600  \n",
       "...                          ...      ...     ...   ...   ...  \n",
       "12181  Kadubesanahalli Bangalore      NaN     1.0    15   300  \n",
       "12268                        NaN      NaN     1.0    15   200  \n",
       "12280                        NaN      NaN     3.7   281   500  \n",
       "12567                        NaN      NaN     3.7   656   300  \n",
       "12615                        NaN      NaN     3.6    40   400  \n",
       "\n",
       "[98 rows x 9 columns]"
      ]
     },
     "execution_count": 93,
     "metadata": {},
     "output_type": "execute_result"
    }
   ],
   "source": [
    "df.loc[df['LOCALITY'].isnull(),:]"
   ]
  },
  {
   "cell_type": "code",
   "execution_count": 94,
   "metadata": {},
   "outputs": [
    {
     "data": {
      "text/plain": [
       "1.6679904686258935"
      ]
     },
     "execution_count": 94,
     "metadata": {},
     "output_type": "execute_result"
    }
   ],
   "source": [
    "(112+98)*100/12590"
   ]
  },
  {
   "cell_type": "code",
   "execution_count": 95,
   "metadata": {},
   "outputs": [],
   "source": [
    "df.replace(np.nan,'None',inplace=True)"
   ]
  },
  {
   "cell_type": "code",
   "execution_count": 96,
   "metadata": {
    "scrolled": false
   },
   "outputs": [
    {
     "data": {
      "text/plain": [
       "<matplotlib.axes._subplots.AxesSubplot at 0x7f7c34e79970>"
      ]
     },
     "execution_count": 96,
     "metadata": {},
     "output_type": "execute_result"
    },
    {
     "data": {
      "image/png": "[encoded data removed]",
      "text/plain": [
       "<Figure size 432x288 with 2 Axes>"
      ]
     },
     "metadata": {
      "needs_background": "light"
     },
     "output_type": "display_data"
    }
   ],
   "source": [
    "sns.heatmap(df.isnull())"
   ]
  },
  {
   "cell_type": "markdown",
   "metadata": {},
   "source": [
    "### Handeling TIME column"
   ]
  },
  {
   "cell_type": "code",
   "execution_count": 97,
   "metadata": {},
   "outputs": [],
   "source": [
    "import re"
   ]
  },
  {
   "cell_type": "code",
   "execution_count": 98,
   "metadata": {
    "scrolled": false
   },
   "outputs": [
    {
     "data": {
      "text/html": [
       "<div>\n",
       "<style scoped>\n",
       "    .dataframe tbody tr th:only-of-type {\n",
       "        vertical-align: middle;\n",
       "    }\n",
       "\n",
       "    .dataframe tbody tr th {\n",
       "        vertical-align: top;\n",
       "    }\n",
       "\n",
       "    .dataframe thead th {\n",
       "        text-align: right;\n",
       "    }\n",
       "</style>\n",
       "<table border=\"1\" class=\"dataframe\">\n",
       "  <thead>\n",
       "    <tr style=\"text-align: right;\">\n",
       "      <th></th>\n",
       "      <th>0</th>\n",
       "    </tr>\n",
       "  </thead>\n",
       "  <tbody>\n",
       "    <tr>\n",
       "      <th>0</th>\n",
       "      <td>(Mon-Sun)</td>\n",
       "    </tr>\n",
       "    <tr>\n",
       "      <th>1</th>\n",
       "      <td>(Mon-Sun)</td>\n",
       "    </tr>\n",
       "    <tr>\n",
       "      <th>2</th>\n",
       "      <td>(Mon-Sun)</td>\n",
       "    </tr>\n",
       "    <tr>\n",
       "      <th>3</th>\n",
       "      <td>(Mon-Sun)</td>\n",
       "    </tr>\n",
       "    <tr>\n",
       "      <th>4</th>\n",
       "      <td>(Mon-Sun)</td>\n",
       "    </tr>\n",
       "    <tr>\n",
       "      <th>...</th>\n",
       "      <td>...</td>\n",
       "    </tr>\n",
       "    <tr>\n",
       "      <th>12415</th>\n",
       "      <td>(Mon, Tue, Wed, Thu, Sun)</td>\n",
       "    </tr>\n",
       "    <tr>\n",
       "      <th>12416</th>\n",
       "      <td>(Mon-Fri)</td>\n",
       "    </tr>\n",
       "    <tr>\n",
       "      <th>12417</th>\n",
       "      <td>(Mon-Sun)</td>\n",
       "    </tr>\n",
       "    <tr>\n",
       "      <th>12418</th>\n",
       "      <td>(Mon-Sun)</td>\n",
       "    </tr>\n",
       "    <tr>\n",
       "      <th>12419</th>\n",
       "      <td>(Mon-Sun)</td>\n",
       "    </tr>\n",
       "  </tbody>\n",
       "</table>\n",
       "<p>12420 rows × 1 columns</p>\n",
       "</div>"
      ],
      "text/plain": [
       "                               0\n",
       "0                      (Mon-Sun)\n",
       "1                      (Mon-Sun)\n",
       "2                      (Mon-Sun)\n",
       "3                      (Mon-Sun)\n",
       "4                      (Mon-Sun)\n",
       "...                          ...\n",
       "12415  (Mon, Tue, Wed, Thu, Sun)\n",
       "12416                  (Mon-Fri)\n",
       "12417                  (Mon-Sun)\n",
       "12418                  (Mon-Sun)\n",
       "12419                  (Mon-Sun)\n",
       "\n",
       "[12420 rows x 1 columns]"
      ]
     },
     "execution_count": 98,
     "metadata": {},
     "output_type": "execute_result"
    }
   ],
   "source": [
    "lis=[]\n",
    "for i in df.index:\n",
    "    time=df['TIME'][i]\n",
    "    a = re.findall(\"\\(.*\\)\", time)\n",
    "    if a:\n",
    "        lis.append(a[0])\n",
    "# print(lis)\n",
    "x=pd.Series(lis)\n",
    "x=pd.DataFrame(x)\n",
    "x\n",
    "# x[0].value_counts()"
   ]
  },
  {
   "cell_type": "code",
   "execution_count": 99,
   "metadata": {},
   "outputs": [
    {
     "data": {
      "text/plain": [
       "['(Mon-Sun)']"
      ]
     },
     "execution_count": 99,
     "metadata": {},
     "output_type": "execute_result"
    }
   ],
   "source": [
    "s=\"11am – 4pm, 7:30pm – 11:30pm (Mon-Sun) anything\"\n",
    "x = re.findall(\"\\(.*\\)\", s)\n",
    "x"
   ]
  },
  {
   "cell_type": "code",
   "execution_count": 100,
   "metadata": {},
   "outputs": [
    {
     "data": {
      "text/plain": [
       "['The rain in Spain']"
      ]
     },
     "execution_count": 100,
     "metadata": {},
     "output_type": "execute_result"
    }
   ],
   "source": [
    "\n",
    "txt = \"The rain in Spain\"\n",
    "x = re.findall(\"^The.*Spain$\", txt)\n",
    "x"
   ]
  },
  {
   "cell_type": "code",
   "execution_count": 101,
   "metadata": {},
   "outputs": [
    {
     "data": {
      "text/plain": [
       "0                  11am – 4pm, 7:30pm – 11:30pm (Mon-Sun)\n",
       "1                                    6pm – 11pm (Mon-Sun)\n",
       "2                     11am – 3:30pm, 7pm – 11pm (Mon-Sun)\n",
       "3                                 11:30am – 1am (Mon-Sun)\n",
       "4                                    11am – 1am (Mon-Sun)\n",
       "                               ...                       \n",
       "12685    12noon – 12midnight (Mon, Tue, Wed, Thu, Sun)...\n",
       "12686     12noon – 1am (Mon-Fri),11am – 5pm, 7pm – 1am...\n",
       "12687                          12noon – 12:30AM (Mon-Sun)\n",
       "12688                             6am – 10:45pm (Mon-Sun)\n",
       "12689                            12:30pm – 11pm (Mon-Sun)\n",
       "Name: TIME, Length: 12688, dtype: object"
      ]
     },
     "execution_count": 101,
     "metadata": {},
     "output_type": "execute_result"
    }
   ],
   "source": [
    "df['TIME']"
   ]
  },
  {
   "cell_type": "code",
   "execution_count": 102,
   "metadata": {},
   "outputs": [
    {
     "name": "stdout",
     "output_type": "stream",
     "text": [
      "\n",
      "\n",
      "Maximum cuisines in a Cell :  8\n",
      "\n",
      "\n",
      "Number of Unique Cuisines :  125\n",
      "\n",
      "\n",
      "Unique Cuisines:\n",
      " ['MALWANI' 'GOAN' 'NORTH INDIAN' 'ASIAN' 'MODERN INDIAN' 'JAPANESE'\n",
      " 'CHINESE' 'BIRYANI' 'HYDERABADI' 'TIBETAN' 'DESSERTS' 'SEAFOOD' 'CAFE'\n",
      " 'PIZZA' 'BURGER' 'BAR FOOD' 'SOUTH INDIAN' 'FAST FOOD' 'BEVERAGES'\n",
      " 'ARABIAN' 'MUGHLAI' 'MAHARASHTRIAN' 'PARSI' 'THAI' 'BAKERY' 'MOMOS'\n",
      " 'CONTINENTAL' 'EUROPEAN' 'ROLLS' 'ANDHRA' 'ITALIAN' 'BBQ' 'FINGER FOOD'\n",
      " 'TEA' 'AMERICAN' 'HEALTHY FOOD' 'COFFEE' 'INDONESIAN' 'KOREAN' 'NEPALESE'\n",
      " 'ICE CREAM' 'MEXICAN' 'KERALA' 'INDIAN' 'MITHAI' 'STREET FOOD'\n",
      " 'MALAYSIAN' 'VIETNAMESE' 'IRANIAN' 'KEBAB' 'JUICES' 'SANDWICH'\n",
      " 'MEDITERRANEAN' 'SALAD' 'GUJARATI' 'RAJASTHANI' 'TEX-MEX' 'ROAST CHICKEN'\n",
      " 'BURMESE' 'CHETTINAD' 'NORTH EASTERN' 'LEBANESE' 'COFFEE AND TEA' 'GRILL'\n",
      " '' 'BIHARI' 'BENGALI' 'LUCKNOWI' 'AWADHI' 'STEAK' 'FRENCH' 'PORTUGUESE'\n",
      " 'WRAPS' 'SRI LANKAN' 'ORIYA' 'ETHIOPIAN' 'KONKAN' 'SUSHI' 'SPANISH'\n",
      " 'RUSSIAN' 'MANGALOREAN' 'TURKISH' 'BUBBLE TEA' 'AFGHAN' 'NAGA'\n",
      " 'SINGAPOREAN' 'GERMAN' 'MIDDLE EASTERN' 'SINDHI' 'CANTONESE' 'HOT POT'\n",
      " 'PAN ASIAN' 'SATAY' 'DUMPLINGS' 'KASHMIRI' 'RAW MEATS' 'DRINKS ONLY'\n",
      " 'MOROCCAN' 'PANINI' 'CAFE FOOD' 'CHARCOAL CHICKEN' 'BELGIAN' 'MONGOLIAN'\n",
      " 'TAMIL' 'AFRICAN' 'PAAN' 'ASSAMESE' 'HOT DOGS' 'POKÉ' 'BRITISH' 'BOHRI'\n",
      " 'FUSION' 'ARMENIAN' 'SOUTH AMERICAN' 'GREEK' 'PAKISTANI' 'PERUVIAN'\n",
      " 'CUISINE VARIES' 'IRISH' 'MULTI CUISINE' 'JEWISH' 'VEGAN' 'ORIENTAL'\n",
      " 'MODERN AUSTRALIAN' 'EGYPTIAN']\n"
     ]
    }
   ],
   "source": [
    "cuisines = list(df['CUISINES'])\n",
    "\n",
    "maxim = 1\n",
    "for i in cuisines :\n",
    "    if len(i.split(',')) > maxim:\n",
    "         maxim = len(i.split(','))\n",
    "         \n",
    "print(\"\\n\\nMaximum cuisines in a Cell : \", maxim)    \n",
    "\n",
    "all_cuisines = []\n",
    "\n",
    "for i in cuisines :\n",
    "    if len(i.split(',')) == 1:\n",
    "        #print(i.split(',')[0])\n",
    "         all_cuisines.append(i.split(',')[0].strip().upper())\n",
    "    else :\n",
    "        for it in range(len(i.split(','))):\n",
    "#             print(i.split(',')[it])\n",
    "            all_cuisines.append(i.split(',')[it].strip().upper())\n",
    "\n",
    "print(\"\\n\\nNumber of Unique Cuisines : \", len(pd.Series(all_cuisines).unique()))\n",
    "print(\"\\n\\nUnique Cuisines:\\n\", pd.Series(all_cuisines).unique())\n",
    "\n",
    "all_cuisines = list(pd.Series(all_cuisines).unique())"
   ]
  },
  {
   "cell_type": "code",
   "execution_count": 103,
   "metadata": {},
   "outputs": [
    {
     "data": {
      "text/html": [
       "<div>\n",
       "<style scoped>\n",
       "    .dataframe tbody tr th:only-of-type {\n",
       "        vertical-align: middle;\n",
       "    }\n",
       "\n",
       "    .dataframe tbody tr th {\n",
       "        vertical-align: top;\n",
       "    }\n",
       "\n",
       "    .dataframe thead th {\n",
       "        text-align: right;\n",
       "    }\n",
       "</style>\n",
       "<table border=\"1\" class=\"dataframe\">\n",
       "  <thead>\n",
       "    <tr style=\"text-align: right;\">\n",
       "      <th></th>\n",
       "      <th>CUISINES</th>\n",
       "      <th>TITLE</th>\n",
       "    </tr>\n",
       "  </thead>\n",
       "  <tbody>\n",
       "    <tr>\n",
       "      <th>0</th>\n",
       "      <td>Malwani, Goan, North Indian</td>\n",
       "      <td>CASUAL DINING</td>\n",
       "    </tr>\n",
       "    <tr>\n",
       "      <th>1</th>\n",
       "      <td>Asian, Modern Indian, Japanese</td>\n",
       "      <td>CASUAL DINING,BAR</td>\n",
       "    </tr>\n",
       "    <tr>\n",
       "      <th>2</th>\n",
       "      <td>North Indian, Chinese, Biryani, Hyderabadi</td>\n",
       "      <td>CASUAL DINING</td>\n",
       "    </tr>\n",
       "    <tr>\n",
       "      <th>3</th>\n",
       "      <td>Tibetan, Chinese</td>\n",
       "      <td>QUICK BITES</td>\n",
       "    </tr>\n",
       "    <tr>\n",
       "      <th>4</th>\n",
       "      <td>Desserts</td>\n",
       "      <td>DESSERT PARLOR</td>\n",
       "    </tr>\n",
       "    <tr>\n",
       "      <th>...</th>\n",
       "      <td>...</td>\n",
       "      <td>...</td>\n",
       "    </tr>\n",
       "    <tr>\n",
       "      <th>12685</th>\n",
       "      <td>North Indian, Burger, Kebab</td>\n",
       "      <td>QUICK BITES</td>\n",
       "    </tr>\n",
       "    <tr>\n",
       "      <th>12686</th>\n",
       "      <td>Goan, Continental</td>\n",
       "      <td>CASUAL DINING,BAR</td>\n",
       "    </tr>\n",
       "    <tr>\n",
       "      <th>12687</th>\n",
       "      <td>Finger Food, Continental, Asian, Chinese</td>\n",
       "      <td>LOUNGE</td>\n",
       "    </tr>\n",
       "    <tr>\n",
       "      <th>12688</th>\n",
       "      <td>North Indian, South Indian, Chinese, Street Food</td>\n",
       "      <td>CASUAL DINING</td>\n",
       "    </tr>\n",
       "    <tr>\n",
       "      <th>12689</th>\n",
       "      <td>North Indian, Chinese</td>\n",
       "      <td>CASUAL DINING</td>\n",
       "    </tr>\n",
       "  </tbody>\n",
       "</table>\n",
       "<p>12688 rows × 2 columns</p>\n",
       "</div>"
      ],
      "text/plain": [
       "                                               CUISINES              TITLE\n",
       "0                           Malwani, Goan, North Indian      CASUAL DINING\n",
       "1                        Asian, Modern Indian, Japanese  CASUAL DINING,BAR\n",
       "2            North Indian, Chinese, Biryani, Hyderabadi      CASUAL DINING\n",
       "3                                      Tibetan, Chinese        QUICK BITES\n",
       "4                                              Desserts     DESSERT PARLOR\n",
       "...                                                 ...                ...\n",
       "12685                       North Indian, Burger, Kebab        QUICK BITES\n",
       "12686                                 Goan, Continental  CASUAL DINING,BAR\n",
       "12687          Finger Food, Continental, Asian, Chinese             LOUNGE\n",
       "12688  North Indian, South Indian, Chinese, Street Food      CASUAL DINING\n",
       "12689                             North Indian, Chinese      CASUAL DINING\n",
       "\n",
       "[12688 rows x 2 columns]"
      ]
     },
     "execution_count": 103,
     "metadata": {},
     "output_type": "execute_result"
    }
   ],
   "source": [
    "df[['CUISINES','TITLE']]"
   ]
  },
  {
   "cell_type": "code",
   "execution_count": 104,
   "metadata": {},
   "outputs": [
    {
     "name": "stdout",
     "output_type": "stream",
     "text": [
      "\n",
      "\n",
      "Maximum Title in a Cell :  2\n"
     ]
    }
   ],
   "source": [
    "maxim = 1\n",
    "for i in df['TITLE'] :\n",
    "    if len(i.split(',')) > maxim:\n",
    "         maxim = len(i.split(','))\n",
    "print(\"\\n\\nMaximum Title in a Cell : \", maxim)  "
   ]
  },
  {
   "cell_type": "code",
   "execution_count": 105,
   "metadata": {},
   "outputs": [
    {
     "name": "stdout",
     "output_type": "stream",
     "text": [
      "\n",
      "\n",
      "Maximum Title in a Cell :  1\n"
     ]
    }
   ],
   "source": [
    "maxim = 1\n",
    "for i in df['LOCALITY'] :\n",
    "    if len(i.split(',')) > maxim:\n",
    "         maxim = len(i.split(','))\n",
    "print(\"\\n\\nMaximum Title in a Cell : \", maxim)  "
   ]
  },
  {
   "cell_type": "code",
   "execution_count": 106,
   "metadata": {},
   "outputs": [
    {
     "name": "stdout",
     "output_type": "stream",
     "text": [
      "\n",
      "\n",
      "Maximum Title in a Cell :  1\n"
     ]
    }
   ],
   "source": [
    "maxim = 1\n",
    "for i in df['CITY'] :\n",
    "    if len(i.split(',')) > maxim:\n",
    "         maxim = len(i.split(','))\n",
    "print(\"\\n\\nMaximum Title in a Cell : \", maxim)  "
   ]
  },
  {
   "cell_type": "code",
   "execution_count": 107,
   "metadata": {},
   "outputs": [
    {
     "name": "stdout",
     "output_type": "stream",
     "text": [
      "\n",
      "\n",
      "Maximum cuisines in a Cell :  8\n"
     ]
    }
   ],
   "source": [
    "maxim = 1\n",
    "for i in df['CUISINES'] :\n",
    "    if len(i.split(',')) > maxim:\n",
    "         maxim = len(i.split(','))\n",
    "print(\"\\n\\nMaximum cuisines in a Cell : \", maxim)  "
   ]
  },
  {
   "cell_type": "code",
   "execution_count": 108,
   "metadata": {},
   "outputs": [],
   "source": [
    "Ti1=[]\n",
    "Ti2=[]\n",
    "for i in df['TITLE'] :\n",
    "    Ti1.append(i.split(',')[0])\n",
    "    try:\n",
    "        Ti2.append(i.split(',')[1])\n",
    "    except:\n",
    "        Ti2.append('NONE')"
   ]
  },
  {
   "cell_type": "code",
   "execution_count": 109,
   "metadata": {},
   "outputs": [],
   "source": [
    "new_df={}"
   ]
  },
  {
   "cell_type": "code",
   "execution_count": 110,
   "metadata": {},
   "outputs": [],
   "source": [
    "new_df['Title1']=Ti1"
   ]
  },
  {
   "cell_type": "code",
   "execution_count": 111,
   "metadata": {},
   "outputs": [],
   "source": [
    "new_df['Title2']=Ti2"
   ]
  },
  {
   "cell_type": "code",
   "execution_count": 112,
   "metadata": {},
   "outputs": [
    {
     "data": {
      "text/html": [
       "<div>\n",
       "<style scoped>\n",
       "    .dataframe tbody tr th:only-of-type {\n",
       "        vertical-align: middle;\n",
       "    }\n",
       "\n",
       "    .dataframe tbody tr th {\n",
       "        vertical-align: top;\n",
       "    }\n",
       "\n",
       "    .dataframe thead th {\n",
       "        text-align: right;\n",
       "    }\n",
       "</style>\n",
       "<table border=\"1\" class=\"dataframe\">\n",
       "  <thead>\n",
       "    <tr style=\"text-align: right;\">\n",
       "      <th></th>\n",
       "      <th>Title1</th>\n",
       "      <th>Title2</th>\n",
       "    </tr>\n",
       "  </thead>\n",
       "  <tbody>\n",
       "    <tr>\n",
       "      <th>0</th>\n",
       "      <td>CASUAL DINING</td>\n",
       "      <td>NONE</td>\n",
       "    </tr>\n",
       "    <tr>\n",
       "      <th>1</th>\n",
       "      <td>CASUAL DINING</td>\n",
       "      <td>BAR</td>\n",
       "    </tr>\n",
       "    <tr>\n",
       "      <th>2</th>\n",
       "      <td>CASUAL DINING</td>\n",
       "      <td>NONE</td>\n",
       "    </tr>\n",
       "    <tr>\n",
       "      <th>3</th>\n",
       "      <td>QUICK BITES</td>\n",
       "      <td>NONE</td>\n",
       "    </tr>\n",
       "    <tr>\n",
       "      <th>4</th>\n",
       "      <td>DESSERT PARLOR</td>\n",
       "      <td>NONE</td>\n",
       "    </tr>\n",
       "    <tr>\n",
       "      <th>...</th>\n",
       "      <td>...</td>\n",
       "      <td>...</td>\n",
       "    </tr>\n",
       "    <tr>\n",
       "      <th>12683</th>\n",
       "      <td>QUICK BITES</td>\n",
       "      <td>NONE</td>\n",
       "    </tr>\n",
       "    <tr>\n",
       "      <th>12684</th>\n",
       "      <td>CASUAL DINING</td>\n",
       "      <td>BAR</td>\n",
       "    </tr>\n",
       "    <tr>\n",
       "      <th>12685</th>\n",
       "      <td>LOUNGE</td>\n",
       "      <td>NONE</td>\n",
       "    </tr>\n",
       "    <tr>\n",
       "      <th>12686</th>\n",
       "      <td>CASUAL DINING</td>\n",
       "      <td>NONE</td>\n",
       "    </tr>\n",
       "    <tr>\n",
       "      <th>12687</th>\n",
       "      <td>CASUAL DINING</td>\n",
       "      <td>NONE</td>\n",
       "    </tr>\n",
       "  </tbody>\n",
       "</table>\n",
       "<p>12688 rows × 2 columns</p>\n",
       "</div>"
      ],
      "text/plain": [
       "               Title1 Title2\n",
       "0       CASUAL DINING   NONE\n",
       "1       CASUAL DINING    BAR\n",
       "2       CASUAL DINING   NONE\n",
       "3         QUICK BITES   NONE\n",
       "4      DESSERT PARLOR   NONE\n",
       "...               ...    ...\n",
       "12683     QUICK BITES   NONE\n",
       "12684   CASUAL DINING    BAR\n",
       "12685          LOUNGE   NONE\n",
       "12686   CASUAL DINING   NONE\n",
       "12687   CASUAL DINING   NONE\n",
       "\n",
       "[12688 rows x 2 columns]"
      ]
     },
     "execution_count": 112,
     "metadata": {},
     "output_type": "execute_result"
    }
   ],
   "source": [
    "pd.DataFrame(new_df)"
   ]
  },
  {
   "cell_type": "code",
   "execution_count": 113,
   "metadata": {},
   "outputs": [],
   "source": [
    "cu1=[]\n",
    "cu2=[]\n",
    "cu3=[]\n",
    "cu4=[]\n",
    "cu5=[]\n",
    "cu6=[]\n",
    "cu7=[]\n",
    "cu8=[]\n",
    "for i in df['CUISINES'] :\n",
    "    try:\n",
    "        cu1.append(i.split(',')[0])\n",
    "    except:\n",
    "        cu1.append('NONE')\n",
    "    try:\n",
    "        cu2.append(i.split(',')[1])\n",
    "    except:\n",
    "        cu2.append('NONE')\n",
    "    try:\n",
    "        cu3.append(i.split(',')[2])\n",
    "    except:\n",
    "        cu3.append('NONE')\n",
    "    try:\n",
    "        cu4.append(i.split(',')[3])\n",
    "    except:\n",
    "        cu4.append('NONE')\n",
    "    try:\n",
    "        cu5.append(i.split(',')[4])\n",
    "    except:\n",
    "        cu5.append('NONE')\n",
    "    try:\n",
    "        cu6.append(i.split(',')[5])\n",
    "    except:\n",
    "        cu6.append('NONE')\n",
    "    try:\n",
    "        cu7.append(i.split(',')[6])\n",
    "    except:\n",
    "        cu7.append('NONE')\n",
    "    try:\n",
    "        cu8.append(i.split(',')[7])\n",
    "    except:\n",
    "        cu8.append('NONE')"
   ]
  },
  {
   "cell_type": "code",
   "execution_count": 114,
   "metadata": {},
   "outputs": [
    {
     "data": {
      "text/html": [
       "<div>\n",
       "<style scoped>\n",
       "    .dataframe tbody tr th:only-of-type {\n",
       "        vertical-align: middle;\n",
       "    }\n",
       "\n",
       "    .dataframe tbody tr th {\n",
       "        vertical-align: top;\n",
       "    }\n",
       "\n",
       "    .dataframe thead th {\n",
       "        text-align: right;\n",
       "    }\n",
       "</style>\n",
       "<table border=\"1\" class=\"dataframe\">\n",
       "  <thead>\n",
       "    <tr style=\"text-align: right;\">\n",
       "      <th></th>\n",
       "      <th>Title1</th>\n",
       "      <th>Title2</th>\n",
       "      <th>Cosiness1</th>\n",
       "      <th>Cosiness2</th>\n",
       "      <th>Cosiness3</th>\n",
       "      <th>Cosiness4</th>\n",
       "      <th>Cosiness5</th>\n",
       "      <th>Cosiness6</th>\n",
       "      <th>Cosiness7</th>\n",
       "      <th>Cosiness8</th>\n",
       "    </tr>\n",
       "  </thead>\n",
       "  <tbody>\n",
       "    <tr>\n",
       "      <th>0</th>\n",
       "      <td>CASUAL DINING</td>\n",
       "      <td>NONE</td>\n",
       "      <td>Malwani</td>\n",
       "      <td>Goan</td>\n",
       "      <td>North Indian</td>\n",
       "      <td>NONE</td>\n",
       "      <td>NONE</td>\n",
       "      <td>NONE</td>\n",
       "      <td>NONE</td>\n",
       "      <td>NONE</td>\n",
       "    </tr>\n",
       "    <tr>\n",
       "      <th>1</th>\n",
       "      <td>CASUAL DINING</td>\n",
       "      <td>BAR</td>\n",
       "      <td>Asian</td>\n",
       "      <td>Modern Indian</td>\n",
       "      <td>Japanese</td>\n",
       "      <td>NONE</td>\n",
       "      <td>NONE</td>\n",
       "      <td>NONE</td>\n",
       "      <td>NONE</td>\n",
       "      <td>NONE</td>\n",
       "    </tr>\n",
       "    <tr>\n",
       "      <th>2</th>\n",
       "      <td>CASUAL DINING</td>\n",
       "      <td>NONE</td>\n",
       "      <td>North Indian</td>\n",
       "      <td>Chinese</td>\n",
       "      <td>Biryani</td>\n",
       "      <td>Hyderabadi</td>\n",
       "      <td>NONE</td>\n",
       "      <td>NONE</td>\n",
       "      <td>NONE</td>\n",
       "      <td>NONE</td>\n",
       "    </tr>\n",
       "    <tr>\n",
       "      <th>3</th>\n",
       "      <td>QUICK BITES</td>\n",
       "      <td>NONE</td>\n",
       "      <td>Tibetan</td>\n",
       "      <td>Chinese</td>\n",
       "      <td>NONE</td>\n",
       "      <td>NONE</td>\n",
       "      <td>NONE</td>\n",
       "      <td>NONE</td>\n",
       "      <td>NONE</td>\n",
       "      <td>NONE</td>\n",
       "    </tr>\n",
       "    <tr>\n",
       "      <th>4</th>\n",
       "      <td>DESSERT PARLOR</td>\n",
       "      <td>NONE</td>\n",
       "      <td>Desserts</td>\n",
       "      <td>NONE</td>\n",
       "      <td>NONE</td>\n",
       "      <td>NONE</td>\n",
       "      <td>NONE</td>\n",
       "      <td>NONE</td>\n",
       "      <td>NONE</td>\n",
       "      <td>NONE</td>\n",
       "    </tr>\n",
       "    <tr>\n",
       "      <th>...</th>\n",
       "      <td>...</td>\n",
       "      <td>...</td>\n",
       "      <td>...</td>\n",
       "      <td>...</td>\n",
       "      <td>...</td>\n",
       "      <td>...</td>\n",
       "      <td>...</td>\n",
       "      <td>...</td>\n",
       "      <td>...</td>\n",
       "      <td>...</td>\n",
       "    </tr>\n",
       "    <tr>\n",
       "      <th>12683</th>\n",
       "      <td>QUICK BITES</td>\n",
       "      <td>NONE</td>\n",
       "      <td>North Indian</td>\n",
       "      <td>Burger</td>\n",
       "      <td>Kebab</td>\n",
       "      <td>NONE</td>\n",
       "      <td>NONE</td>\n",
       "      <td>NONE</td>\n",
       "      <td>NONE</td>\n",
       "      <td>NONE</td>\n",
       "    </tr>\n",
       "    <tr>\n",
       "      <th>12684</th>\n",
       "      <td>CASUAL DINING</td>\n",
       "      <td>BAR</td>\n",
       "      <td>Goan</td>\n",
       "      <td>Continental</td>\n",
       "      <td>NONE</td>\n",
       "      <td>NONE</td>\n",
       "      <td>NONE</td>\n",
       "      <td>NONE</td>\n",
       "      <td>NONE</td>\n",
       "      <td>NONE</td>\n",
       "    </tr>\n",
       "    <tr>\n",
       "      <th>12685</th>\n",
       "      <td>LOUNGE</td>\n",
       "      <td>NONE</td>\n",
       "      <td>Finger Food</td>\n",
       "      <td>Continental</td>\n",
       "      <td>Asian</td>\n",
       "      <td>Chinese</td>\n",
       "      <td>NONE</td>\n",
       "      <td>NONE</td>\n",
       "      <td>NONE</td>\n",
       "      <td>NONE</td>\n",
       "    </tr>\n",
       "    <tr>\n",
       "      <th>12686</th>\n",
       "      <td>CASUAL DINING</td>\n",
       "      <td>NONE</td>\n",
       "      <td>North Indian</td>\n",
       "      <td>South Indian</td>\n",
       "      <td>Chinese</td>\n",
       "      <td>Street Food</td>\n",
       "      <td>NONE</td>\n",
       "      <td>NONE</td>\n",
       "      <td>NONE</td>\n",
       "      <td>NONE</td>\n",
       "    </tr>\n",
       "    <tr>\n",
       "      <th>12687</th>\n",
       "      <td>CASUAL DINING</td>\n",
       "      <td>NONE</td>\n",
       "      <td>North Indian</td>\n",
       "      <td>Chinese</td>\n",
       "      <td>NONE</td>\n",
       "      <td>NONE</td>\n",
       "      <td>NONE</td>\n",
       "      <td>NONE</td>\n",
       "      <td>NONE</td>\n",
       "      <td>NONE</td>\n",
       "    </tr>\n",
       "  </tbody>\n",
       "</table>\n",
       "<p>12688 rows × 10 columns</p>\n",
       "</div>"
      ],
      "text/plain": [
       "               Title1 Title2     Cosiness1       Cosiness2      Cosiness3  \\\n",
       "0       CASUAL DINING   NONE       Malwani            Goan   North Indian   \n",
       "1       CASUAL DINING    BAR         Asian   Modern Indian       Japanese   \n",
       "2       CASUAL DINING   NONE  North Indian         Chinese        Biryani   \n",
       "3         QUICK BITES   NONE       Tibetan         Chinese           NONE   \n",
       "4      DESSERT PARLOR   NONE      Desserts            NONE           NONE   \n",
       "...               ...    ...           ...             ...            ...   \n",
       "12683     QUICK BITES   NONE  North Indian          Burger          Kebab   \n",
       "12684   CASUAL DINING    BAR          Goan     Continental           NONE   \n",
       "12685          LOUNGE   NONE   Finger Food     Continental          Asian   \n",
       "12686   CASUAL DINING   NONE  North Indian    South Indian        Chinese   \n",
       "12687   CASUAL DINING   NONE  North Indian         Chinese           NONE   \n",
       "\n",
       "          Cosiness4 Cosiness5 Cosiness6 Cosiness7 Cosiness8  \n",
       "0              NONE      NONE      NONE      NONE      NONE  \n",
       "1              NONE      NONE      NONE      NONE      NONE  \n",
       "2        Hyderabadi      NONE      NONE      NONE      NONE  \n",
       "3              NONE      NONE      NONE      NONE      NONE  \n",
       "4              NONE      NONE      NONE      NONE      NONE  \n",
       "...             ...       ...       ...       ...       ...  \n",
       "12683          NONE      NONE      NONE      NONE      NONE  \n",
       "12684          NONE      NONE      NONE      NONE      NONE  \n",
       "12685       Chinese      NONE      NONE      NONE      NONE  \n",
       "12686   Street Food      NONE      NONE      NONE      NONE  \n",
       "12687          NONE      NONE      NONE      NONE      NONE  \n",
       "\n",
       "[12688 rows x 10 columns]"
      ]
     },
     "execution_count": 114,
     "metadata": {},
     "output_type": "execute_result"
    }
   ],
   "source": [
    "new_df['Cosiness1']=cu1\n",
    "new_df['Cosiness2']=cu2\n",
    "new_df['Cosiness3']=cu3\n",
    "new_df['Cosiness4']=cu4\n",
    "new_df['Cosiness5']=cu5\n",
    "new_df['Cosiness6']=cu6\n",
    "new_df['Cosiness7']=cu7\n",
    "new_df['Cosiness8']=cu8\n",
    "new_df=pd.DataFrame(new_df)\n",
    "new_df"
   ]
  },
  {
   "cell_type": "code",
   "execution_count": 115,
   "metadata": {},
   "outputs": [
    {
     "data": {
      "text/plain": [
       "(12688, 9)"
      ]
     },
     "execution_count": 115,
     "metadata": {},
     "output_type": "execute_result"
    }
   ],
   "source": [
    "df.shape"
   ]
  },
  {
   "cell_type": "code",
   "execution_count": 116,
   "metadata": {},
   "outputs": [
    {
     "data": {
      "text/html": [
       "<div>\n",
       "<style scoped>\n",
       "    .dataframe tbody tr th:only-of-type {\n",
       "        vertical-align: middle;\n",
       "    }\n",
       "\n",
       "    .dataframe tbody tr th {\n",
       "        vertical-align: top;\n",
       "    }\n",
       "\n",
       "    .dataframe thead th {\n",
       "        text-align: right;\n",
       "    }\n",
       "</style>\n",
       "<table border=\"1\" class=\"dataframe\">\n",
       "  <thead>\n",
       "    <tr style=\"text-align: right;\">\n",
       "      <th></th>\n",
       "      <th>TITLE</th>\n",
       "      <th>RESTAURANT_ID</th>\n",
       "      <th>CUISINES</th>\n",
       "      <th>TIME</th>\n",
       "      <th>CITY</th>\n",
       "      <th>LOCALITY</th>\n",
       "      <th>RATING</th>\n",
       "      <th>VOTES</th>\n",
       "      <th>COST</th>\n",
       "      <th>Title1</th>\n",
       "      <th>Title2</th>\n",
       "      <th>Cosiness1</th>\n",
       "      <th>Cosiness2</th>\n",
       "      <th>Cosiness3</th>\n",
       "      <th>Cosiness4</th>\n",
       "      <th>Cosiness5</th>\n",
       "      <th>Cosiness6</th>\n",
       "      <th>Cosiness7</th>\n",
       "      <th>Cosiness8</th>\n",
       "    </tr>\n",
       "  </thead>\n",
       "  <tbody>\n",
       "    <tr>\n",
       "      <th>0</th>\n",
       "      <td>CASUAL DINING</td>\n",
       "      <td>9438.0</td>\n",
       "      <td>Malwani, Goan, North Indian</td>\n",
       "      <td>11am – 4pm, 7:30pm – 11:30pm (Mon-Sun)</td>\n",
       "      <td>Thane</td>\n",
       "      <td>Dombivali East</td>\n",
       "      <td>3.6</td>\n",
       "      <td>49</td>\n",
       "      <td>1200.0</td>\n",
       "      <td>CASUAL DINING</td>\n",
       "      <td>NONE</td>\n",
       "      <td>Malwani</td>\n",
       "      <td>Goan</td>\n",
       "      <td>North Indian</td>\n",
       "      <td>NONE</td>\n",
       "      <td>NONE</td>\n",
       "      <td>NONE</td>\n",
       "      <td>NONE</td>\n",
       "      <td>NONE</td>\n",
       "    </tr>\n",
       "    <tr>\n",
       "      <th>1</th>\n",
       "      <td>CASUAL DINING,BAR</td>\n",
       "      <td>13198.0</td>\n",
       "      <td>Asian, Modern Indian, Japanese</td>\n",
       "      <td>6pm – 11pm (Mon-Sun)</td>\n",
       "      <td>Chennai</td>\n",
       "      <td>Ramapuram</td>\n",
       "      <td>4.2</td>\n",
       "      <td>30</td>\n",
       "      <td>1500.0</td>\n",
       "      <td>CASUAL DINING</td>\n",
       "      <td>BAR</td>\n",
       "      <td>Asian</td>\n",
       "      <td>Modern Indian</td>\n",
       "      <td>Japanese</td>\n",
       "      <td>NONE</td>\n",
       "      <td>NONE</td>\n",
       "      <td>NONE</td>\n",
       "      <td>NONE</td>\n",
       "      <td>NONE</td>\n",
       "    </tr>\n",
       "    <tr>\n",
       "      <th>2</th>\n",
       "      <td>CASUAL DINING</td>\n",
       "      <td>10915.0</td>\n",
       "      <td>North Indian, Chinese, Biryani, Hyderabadi</td>\n",
       "      <td>11am – 3:30pm, 7pm – 11pm (Mon-Sun)</td>\n",
       "      <td>Chennai</td>\n",
       "      <td>Saligramam</td>\n",
       "      <td>3.8</td>\n",
       "      <td>221</td>\n",
       "      <td>800.0</td>\n",
       "      <td>CASUAL DINING</td>\n",
       "      <td>NONE</td>\n",
       "      <td>North Indian</td>\n",
       "      <td>Chinese</td>\n",
       "      <td>Biryani</td>\n",
       "      <td>Hyderabadi</td>\n",
       "      <td>NONE</td>\n",
       "      <td>NONE</td>\n",
       "      <td>NONE</td>\n",
       "      <td>NONE</td>\n",
       "    </tr>\n",
       "    <tr>\n",
       "      <th>3</th>\n",
       "      <td>QUICK BITES</td>\n",
       "      <td>6346.0</td>\n",
       "      <td>Tibetan, Chinese</td>\n",
       "      <td>11:30am – 1am (Mon-Sun)</td>\n",
       "      <td>Mumbai</td>\n",
       "      <td>Bandra West</td>\n",
       "      <td>4.1</td>\n",
       "      <td>24</td>\n",
       "      <td>800.0</td>\n",
       "      <td>QUICK BITES</td>\n",
       "      <td>NONE</td>\n",
       "      <td>Tibetan</td>\n",
       "      <td>Chinese</td>\n",
       "      <td>NONE</td>\n",
       "      <td>NONE</td>\n",
       "      <td>NONE</td>\n",
       "      <td>NONE</td>\n",
       "      <td>NONE</td>\n",
       "      <td>NONE</td>\n",
       "    </tr>\n",
       "    <tr>\n",
       "      <th>4</th>\n",
       "      <td>DESSERT PARLOR</td>\n",
       "      <td>15387.0</td>\n",
       "      <td>Desserts</td>\n",
       "      <td>11am – 1am (Mon-Sun)</td>\n",
       "      <td>Mumbai</td>\n",
       "      <td>Lower Parel</td>\n",
       "      <td>3.8</td>\n",
       "      <td>165</td>\n",
       "      <td>300.0</td>\n",
       "      <td>DESSERT PARLOR</td>\n",
       "      <td>NONE</td>\n",
       "      <td>Desserts</td>\n",
       "      <td>NONE</td>\n",
       "      <td>NONE</td>\n",
       "      <td>NONE</td>\n",
       "      <td>NONE</td>\n",
       "      <td>NONE</td>\n",
       "      <td>NONE</td>\n",
       "      <td>NONE</td>\n",
       "    </tr>\n",
       "    <tr>\n",
       "      <th>...</th>\n",
       "      <td>...</td>\n",
       "      <td>...</td>\n",
       "      <td>...</td>\n",
       "      <td>...</td>\n",
       "      <td>...</td>\n",
       "      <td>...</td>\n",
       "      <td>...</td>\n",
       "      <td>...</td>\n",
       "      <td>...</td>\n",
       "      <td>...</td>\n",
       "      <td>...</td>\n",
       "      <td>...</td>\n",
       "      <td>...</td>\n",
       "      <td>...</td>\n",
       "      <td>...</td>\n",
       "      <td>...</td>\n",
       "      <td>...</td>\n",
       "      <td>...</td>\n",
       "      <td>...</td>\n",
       "    </tr>\n",
       "    <tr>\n",
       "      <th>12685</th>\n",
       "      <td>QUICK BITES</td>\n",
       "      <td>13228.0</td>\n",
       "      <td>North Indian, Burger, Kebab</td>\n",
       "      <td>12noon – 12midnight (Mon, Tue, Wed, Thu, Sun)...</td>\n",
       "      <td>Hyderabad</td>\n",
       "      <td>Gachibowli</td>\n",
       "      <td>3.8</td>\n",
       "      <td>546</td>\n",
       "      <td>500.0</td>\n",
       "      <td>LOUNGE</td>\n",
       "      <td>NONE</td>\n",
       "      <td>Finger Food</td>\n",
       "      <td>Continental</td>\n",
       "      <td>Asian</td>\n",
       "      <td>Chinese</td>\n",
       "      <td>NONE</td>\n",
       "      <td>NONE</td>\n",
       "      <td>NONE</td>\n",
       "      <td>NONE</td>\n",
       "    </tr>\n",
       "    <tr>\n",
       "      <th>12686</th>\n",
       "      <td>CASUAL DINING,BAR</td>\n",
       "      <td>9686.0</td>\n",
       "      <td>Goan, Continental</td>\n",
       "      <td>12noon – 1am (Mon-Fri),11am – 5pm, 7pm – 1am...</td>\n",
       "      <td>Mumbai</td>\n",
       "      <td>Bandra Kurla Complex</td>\n",
       "      <td>4.3</td>\n",
       "      <td>1214</td>\n",
       "      <td>1800.0</td>\n",
       "      <td>CASUAL DINING</td>\n",
       "      <td>NONE</td>\n",
       "      <td>North Indian</td>\n",
       "      <td>South Indian</td>\n",
       "      <td>Chinese</td>\n",
       "      <td>Street Food</td>\n",
       "      <td>NONE</td>\n",
       "      <td>NONE</td>\n",
       "      <td>NONE</td>\n",
       "      <td>NONE</td>\n",
       "    </tr>\n",
       "    <tr>\n",
       "      <th>12687</th>\n",
       "      <td>LOUNGE</td>\n",
       "      <td>11133.0</td>\n",
       "      <td>Finger Food, Continental, Asian, Chinese</td>\n",
       "      <td>12noon – 12:30AM (Mon-Sun)</td>\n",
       "      <td>Navi Mumbai</td>\n",
       "      <td>Vashi</td>\n",
       "      <td>4.0</td>\n",
       "      <td>608</td>\n",
       "      <td>1300.0</td>\n",
       "      <td>CASUAL DINING</td>\n",
       "      <td>NONE</td>\n",
       "      <td>North Indian</td>\n",
       "      <td>Chinese</td>\n",
       "      <td>NONE</td>\n",
       "      <td>NONE</td>\n",
       "      <td>NONE</td>\n",
       "      <td>NONE</td>\n",
       "      <td>NONE</td>\n",
       "      <td>NONE</td>\n",
       "    </tr>\n",
       "    <tr>\n",
       "      <th>12688</th>\n",
       "      <td>CASUAL DINING</td>\n",
       "      <td>6134.0</td>\n",
       "      <td>North Indian, South Indian, Chinese, Street Food</td>\n",
       "      <td>6am – 10:45pm (Mon-Sun)</td>\n",
       "      <td>Chennai</td>\n",
       "      <td>Maduravoyal</td>\n",
       "      <td>3.5</td>\n",
       "      <td>32 votes</td>\n",
       "      <td>400.0</td>\n",
       "      <td>NaN</td>\n",
       "      <td>NaN</td>\n",
       "      <td>NaN</td>\n",
       "      <td>NaN</td>\n",
       "      <td>NaN</td>\n",
       "      <td>NaN</td>\n",
       "      <td>NaN</td>\n",
       "      <td>NaN</td>\n",
       "      <td>NaN</td>\n",
       "      <td>NaN</td>\n",
       "    </tr>\n",
       "    <tr>\n",
       "      <th>12689</th>\n",
       "      <td>CASUAL DINING</td>\n",
       "      <td>6430.0</td>\n",
       "      <td>North Indian, Chinese</td>\n",
       "      <td>12:30pm – 11pm (Mon-Sun)</td>\n",
       "      <td>Hyderabad</td>\n",
       "      <td>Vanasthalipuram</td>\n",
       "      <td>3.4</td>\n",
       "      <td>677 votes</td>\n",
       "      <td>600.0</td>\n",
       "      <td>NaN</td>\n",
       "      <td>NaN</td>\n",
       "      <td>NaN</td>\n",
       "      <td>NaN</td>\n",
       "      <td>NaN</td>\n",
       "      <td>NaN</td>\n",
       "      <td>NaN</td>\n",
       "      <td>NaN</td>\n",
       "      <td>NaN</td>\n",
       "      <td>NaN</td>\n",
       "    </tr>\n",
       "  </tbody>\n",
       "</table>\n",
       "<p>12690 rows × 19 columns</p>\n",
       "</div>"
      ],
      "text/plain": [
       "                   TITLE  RESTAURANT_ID  \\\n",
       "0          CASUAL DINING         9438.0   \n",
       "1      CASUAL DINING,BAR        13198.0   \n",
       "2          CASUAL DINING        10915.0   \n",
       "3            QUICK BITES         6346.0   \n",
       "4         DESSERT PARLOR        15387.0   \n",
       "...                  ...            ...   \n",
       "12685        QUICK BITES        13228.0   \n",
       "12686  CASUAL DINING,BAR         9686.0   \n",
       "12687             LOUNGE        11133.0   \n",
       "12688      CASUAL DINING         6134.0   \n",
       "12689      CASUAL DINING         6430.0   \n",
       "\n",
       "                                               CUISINES  \\\n",
       "0                           Malwani, Goan, North Indian   \n",
       "1                        Asian, Modern Indian, Japanese   \n",
       "2            North Indian, Chinese, Biryani, Hyderabadi   \n",
       "3                                      Tibetan, Chinese   \n",
       "4                                              Desserts   \n",
       "...                                                 ...   \n",
       "12685                       North Indian, Burger, Kebab   \n",
       "12686                                 Goan, Continental   \n",
       "12687          Finger Food, Continental, Asian, Chinese   \n",
       "12688  North Indian, South Indian, Chinese, Street Food   \n",
       "12689                             North Indian, Chinese   \n",
       "\n",
       "                                                   TIME         CITY  \\\n",
       "0                11am – 4pm, 7:30pm – 11:30pm (Mon-Sun)        Thane   \n",
       "1                                  6pm – 11pm (Mon-Sun)      Chennai   \n",
       "2                   11am – 3:30pm, 7pm – 11pm (Mon-Sun)      Chennai   \n",
       "3                               11:30am – 1am (Mon-Sun)       Mumbai   \n",
       "4                                  11am – 1am (Mon-Sun)       Mumbai   \n",
       "...                                                 ...          ...   \n",
       "12685  12noon – 12midnight (Mon, Tue, Wed, Thu, Sun)...    Hyderabad   \n",
       "12686   12noon – 1am (Mon-Fri),11am – 5pm, 7pm – 1am...       Mumbai   \n",
       "12687                        12noon – 12:30AM (Mon-Sun)  Navi Mumbai   \n",
       "12688                           6am – 10:45pm (Mon-Sun)      Chennai   \n",
       "12689                          12:30pm – 11pm (Mon-Sun)    Hyderabad   \n",
       "\n",
       "                   LOCALITY  RATING      VOTES    COST          Title1 Title2  \\\n",
       "0            Dombivali East     3.6         49  1200.0   CASUAL DINING   NONE   \n",
       "1                 Ramapuram     4.2         30  1500.0   CASUAL DINING    BAR   \n",
       "2                Saligramam     3.8        221   800.0   CASUAL DINING   NONE   \n",
       "3               Bandra West     4.1         24   800.0     QUICK BITES   NONE   \n",
       "4               Lower Parel     3.8        165   300.0  DESSERT PARLOR   NONE   \n",
       "...                     ...     ...        ...     ...             ...    ...   \n",
       "12685            Gachibowli     3.8        546   500.0          LOUNGE   NONE   \n",
       "12686  Bandra Kurla Complex     4.3       1214  1800.0   CASUAL DINING   NONE   \n",
       "12687                 Vashi     4.0        608  1300.0   CASUAL DINING   NONE   \n",
       "12688           Maduravoyal     3.5   32 votes   400.0             NaN    NaN   \n",
       "12689       Vanasthalipuram     3.4  677 votes   600.0             NaN    NaN   \n",
       "\n",
       "          Cosiness1       Cosiness2      Cosiness3     Cosiness4 Cosiness5  \\\n",
       "0           Malwani            Goan   North Indian          NONE      NONE   \n",
       "1             Asian   Modern Indian       Japanese          NONE      NONE   \n",
       "2      North Indian         Chinese        Biryani    Hyderabadi      NONE   \n",
       "3           Tibetan         Chinese           NONE          NONE      NONE   \n",
       "4          Desserts            NONE           NONE          NONE      NONE   \n",
       "...             ...             ...            ...           ...       ...   \n",
       "12685   Finger Food     Continental          Asian       Chinese      NONE   \n",
       "12686  North Indian    South Indian        Chinese   Street Food      NONE   \n",
       "12687  North Indian         Chinese           NONE          NONE      NONE   \n",
       "12688           NaN             NaN            NaN           NaN       NaN   \n",
       "12689           NaN             NaN            NaN           NaN       NaN   \n",
       "\n",
       "      Cosiness6 Cosiness7 Cosiness8  \n",
       "0          NONE      NONE      NONE  \n",
       "1          NONE      NONE      NONE  \n",
       "2          NONE      NONE      NONE  \n",
       "3          NONE      NONE      NONE  \n",
       "4          NONE      NONE      NONE  \n",
       "...         ...       ...       ...  \n",
       "12685      NONE      NONE      NONE  \n",
       "12686      NONE      NONE      NONE  \n",
       "12687      NONE      NONE      NONE  \n",
       "12688       NaN       NaN       NaN  \n",
       "12689       NaN       NaN       NaN  \n",
       "\n",
       "[12690 rows x 19 columns]"
      ]
     },
     "execution_count": 116,
     "metadata": {},
     "output_type": "execute_result"
    }
   ],
   "source": [
    "df = pd.concat([df, new_df], axis=1)\n",
    "df"
   ]
  },
  {
   "cell_type": "code",
   "execution_count": 117,
   "metadata": {},
   "outputs": [
    {
     "data": {
      "text/plain": [
       "TITLE            2\n",
       "RESTAURANT_ID    2\n",
       "CUISINES         2\n",
       "TIME             2\n",
       "CITY             2\n",
       "LOCALITY         2\n",
       "RATING           2\n",
       "VOTES            2\n",
       "COST             2\n",
       "Title1           2\n",
       "Title2           2\n",
       "Cosiness1        2\n",
       "Cosiness2        2\n",
       "Cosiness3        2\n",
       "Cosiness4        2\n",
       "Cosiness5        2\n",
       "Cosiness6        2\n",
       "Cosiness7        2\n",
       "Cosiness8        2\n",
       "dtype: int64"
      ]
     },
     "execution_count": 117,
     "metadata": {},
     "output_type": "execute_result"
    }
   ],
   "source": [
    "df.isnull().sum()"
   ]
  },
  {
   "cell_type": "code",
   "execution_count": 118,
   "metadata": {},
   "outputs": [
    {
     "data": {
      "text/html": [
       "<div>\n",
       "<style scoped>\n",
       "    .dataframe tbody tr th:only-of-type {\n",
       "        vertical-align: middle;\n",
       "    }\n",
       "\n",
       "    .dataframe tbody tr th {\n",
       "        vertical-align: top;\n",
       "    }\n",
       "\n",
       "    .dataframe thead th {\n",
       "        text-align: right;\n",
       "    }\n",
       "</style>\n",
       "<table border=\"1\" class=\"dataframe\">\n",
       "  <thead>\n",
       "    <tr style=\"text-align: right;\">\n",
       "      <th></th>\n",
       "      <th>TITLE</th>\n",
       "      <th>RESTAURANT_ID</th>\n",
       "      <th>CUISINES</th>\n",
       "      <th>TIME</th>\n",
       "      <th>CITY</th>\n",
       "      <th>LOCALITY</th>\n",
       "      <th>RATING</th>\n",
       "      <th>VOTES</th>\n",
       "      <th>COST</th>\n",
       "      <th>Title1</th>\n",
       "      <th>Title2</th>\n",
       "      <th>Cosiness1</th>\n",
       "      <th>Cosiness2</th>\n",
       "      <th>Cosiness3</th>\n",
       "      <th>Cosiness4</th>\n",
       "      <th>Cosiness5</th>\n",
       "      <th>Cosiness6</th>\n",
       "      <th>Cosiness7</th>\n",
       "      <th>Cosiness8</th>\n",
       "    </tr>\n",
       "  </thead>\n",
       "  <tbody>\n",
       "    <tr>\n",
       "      <th>204</th>\n",
       "      <td>NaN</td>\n",
       "      <td>NaN</td>\n",
       "      <td>NaN</td>\n",
       "      <td>NaN</td>\n",
       "      <td>NaN</td>\n",
       "      <td>NaN</td>\n",
       "      <td>NaN</td>\n",
       "      <td>NaN</td>\n",
       "      <td>NaN</td>\n",
       "      <td>None</td>\n",
       "      <td>NONE</td>\n",
       "      <td>Beverages</td>\n",
       "      <td>NONE</td>\n",
       "      <td>NONE</td>\n",
       "      <td>NONE</td>\n",
       "      <td>NONE</td>\n",
       "      <td>NONE</td>\n",
       "      <td>NONE</td>\n",
       "      <td>NONE</td>\n",
       "    </tr>\n",
       "    <tr>\n",
       "      <th>421</th>\n",
       "      <td>NaN</td>\n",
       "      <td>NaN</td>\n",
       "      <td>NaN</td>\n",
       "      <td>NaN</td>\n",
       "      <td>NaN</td>\n",
       "      <td>NaN</td>\n",
       "      <td>NaN</td>\n",
       "      <td>NaN</td>\n",
       "      <td>NaN</td>\n",
       "      <td>QUICK BITES</td>\n",
       "      <td>NONE</td>\n",
       "      <td>North Indian</td>\n",
       "      <td>Chinese</td>\n",
       "      <td>NONE</td>\n",
       "      <td>NONE</td>\n",
       "      <td>NONE</td>\n",
       "      <td>NONE</td>\n",
       "      <td>NONE</td>\n",
       "      <td>NONE</td>\n",
       "    </tr>\n",
       "  </tbody>\n",
       "</table>\n",
       "</div>"
      ],
      "text/plain": [
       "    TITLE  RESTAURANT_ID CUISINES TIME CITY LOCALITY  RATING VOTES  COST  \\\n",
       "204   NaN            NaN      NaN  NaN  NaN      NaN     NaN   NaN   NaN   \n",
       "421   NaN            NaN      NaN  NaN  NaN      NaN     NaN   NaN   NaN   \n",
       "\n",
       "          Title1 Title2     Cosiness1 Cosiness2 Cosiness3 Cosiness4 Cosiness5  \\\n",
       "204         None   NONE     Beverages      NONE      NONE      NONE      NONE   \n",
       "421  QUICK BITES   NONE  North Indian   Chinese      NONE      NONE      NONE   \n",
       "\n",
       "    Cosiness6 Cosiness7 Cosiness8  \n",
       "204      NONE      NONE      NONE  \n",
       "421      NONE      NONE      NONE  "
      ]
     },
     "execution_count": 118,
     "metadata": {},
     "output_type": "execute_result"
    }
   ],
   "source": [
    "df.loc[df['LOCALITY'].isnull(),:]"
   ]
  },
  {
   "cell_type": "code",
   "execution_count": 119,
   "metadata": {},
   "outputs": [],
   "source": [
    "df.dropna(axis=0,inplace=True)"
   ]
  },
  {
   "cell_type": "code",
   "execution_count": 120,
   "metadata": {},
   "outputs": [
    {
     "data": {
      "text/html": [
       "<div>\n",
       "<style scoped>\n",
       "    .dataframe tbody tr th:only-of-type {\n",
       "        vertical-align: middle;\n",
       "    }\n",
       "\n",
       "    .dataframe tbody tr th {\n",
       "        vertical-align: top;\n",
       "    }\n",
       "\n",
       "    .dataframe thead th {\n",
       "        text-align: right;\n",
       "    }\n",
       "</style>\n",
       "<table border=\"1\" class=\"dataframe\">\n",
       "  <thead>\n",
       "    <tr style=\"text-align: right;\">\n",
       "      <th></th>\n",
       "      <th>RESTAURANT_ID</th>\n",
       "      <th>CITY</th>\n",
       "      <th>LOCALITY</th>\n",
       "      <th>RATING</th>\n",
       "      <th>VOTES</th>\n",
       "      <th>COST</th>\n",
       "      <th>Title1</th>\n",
       "      <th>Title2</th>\n",
       "      <th>Cosiness1</th>\n",
       "      <th>Cosiness2</th>\n",
       "      <th>Cosiness3</th>\n",
       "      <th>Cosiness4</th>\n",
       "      <th>Cosiness5</th>\n",
       "      <th>Cosiness6</th>\n",
       "      <th>Cosiness7</th>\n",
       "      <th>Cosiness8</th>\n",
       "    </tr>\n",
       "  </thead>\n",
       "  <tbody>\n",
       "    <tr>\n",
       "      <th>0</th>\n",
       "      <td>9438.0</td>\n",
       "      <td>Thane</td>\n",
       "      <td>Dombivali East</td>\n",
       "      <td>3.6</td>\n",
       "      <td>49</td>\n",
       "      <td>1200.0</td>\n",
       "      <td>CASUAL DINING</td>\n",
       "      <td>NONE</td>\n",
       "      <td>Malwani</td>\n",
       "      <td>Goan</td>\n",
       "      <td>North Indian</td>\n",
       "      <td>NONE</td>\n",
       "      <td>NONE</td>\n",
       "      <td>NONE</td>\n",
       "      <td>NONE</td>\n",
       "      <td>NONE</td>\n",
       "    </tr>\n",
       "    <tr>\n",
       "      <th>1</th>\n",
       "      <td>13198.0</td>\n",
       "      <td>Chennai</td>\n",
       "      <td>Ramapuram</td>\n",
       "      <td>4.2</td>\n",
       "      <td>30</td>\n",
       "      <td>1500.0</td>\n",
       "      <td>CASUAL DINING</td>\n",
       "      <td>BAR</td>\n",
       "      <td>Asian</td>\n",
       "      <td>Modern Indian</td>\n",
       "      <td>Japanese</td>\n",
       "      <td>NONE</td>\n",
       "      <td>NONE</td>\n",
       "      <td>NONE</td>\n",
       "      <td>NONE</td>\n",
       "      <td>NONE</td>\n",
       "    </tr>\n",
       "    <tr>\n",
       "      <th>2</th>\n",
       "      <td>10915.0</td>\n",
       "      <td>Chennai</td>\n",
       "      <td>Saligramam</td>\n",
       "      <td>3.8</td>\n",
       "      <td>221</td>\n",
       "      <td>800.0</td>\n",
       "      <td>CASUAL DINING</td>\n",
       "      <td>NONE</td>\n",
       "      <td>North Indian</td>\n",
       "      <td>Chinese</td>\n",
       "      <td>Biryani</td>\n",
       "      <td>Hyderabadi</td>\n",
       "      <td>NONE</td>\n",
       "      <td>NONE</td>\n",
       "      <td>NONE</td>\n",
       "      <td>NONE</td>\n",
       "    </tr>\n",
       "    <tr>\n",
       "      <th>3</th>\n",
       "      <td>6346.0</td>\n",
       "      <td>Mumbai</td>\n",
       "      <td>Bandra West</td>\n",
       "      <td>4.1</td>\n",
       "      <td>24</td>\n",
       "      <td>800.0</td>\n",
       "      <td>QUICK BITES</td>\n",
       "      <td>NONE</td>\n",
       "      <td>Tibetan</td>\n",
       "      <td>Chinese</td>\n",
       "      <td>NONE</td>\n",
       "      <td>NONE</td>\n",
       "      <td>NONE</td>\n",
       "      <td>NONE</td>\n",
       "      <td>NONE</td>\n",
       "      <td>NONE</td>\n",
       "    </tr>\n",
       "    <tr>\n",
       "      <th>4</th>\n",
       "      <td>15387.0</td>\n",
       "      <td>Mumbai</td>\n",
       "      <td>Lower Parel</td>\n",
       "      <td>3.8</td>\n",
       "      <td>165</td>\n",
       "      <td>300.0</td>\n",
       "      <td>DESSERT PARLOR</td>\n",
       "      <td>NONE</td>\n",
       "      <td>Desserts</td>\n",
       "      <td>NONE</td>\n",
       "      <td>NONE</td>\n",
       "      <td>NONE</td>\n",
       "      <td>NONE</td>\n",
       "      <td>NONE</td>\n",
       "      <td>NONE</td>\n",
       "      <td>NONE</td>\n",
       "    </tr>\n",
       "    <tr>\n",
       "      <th>...</th>\n",
       "      <td>...</td>\n",
       "      <td>...</td>\n",
       "      <td>...</td>\n",
       "      <td>...</td>\n",
       "      <td>...</td>\n",
       "      <td>...</td>\n",
       "      <td>...</td>\n",
       "      <td>...</td>\n",
       "      <td>...</td>\n",
       "      <td>...</td>\n",
       "      <td>...</td>\n",
       "      <td>...</td>\n",
       "      <td>...</td>\n",
       "      <td>...</td>\n",
       "      <td>...</td>\n",
       "      <td>...</td>\n",
       "    </tr>\n",
       "    <tr>\n",
       "      <th>12683</th>\n",
       "      <td>5430.0</td>\n",
       "      <td>New Delhi</td>\n",
       "      <td>Pitampura</td>\n",
       "      <td>4.1</td>\n",
       "      <td>1426</td>\n",
       "      <td>500.0</td>\n",
       "      <td>QUICK BITES</td>\n",
       "      <td>NONE</td>\n",
       "      <td>North Indian</td>\n",
       "      <td>Burger</td>\n",
       "      <td>Kebab</td>\n",
       "      <td>NONE</td>\n",
       "      <td>NONE</td>\n",
       "      <td>NONE</td>\n",
       "      <td>NONE</td>\n",
       "      <td>NONE</td>\n",
       "    </tr>\n",
       "    <tr>\n",
       "      <th>12684</th>\n",
       "      <td>8324.0</td>\n",
       "      <td>New Delhi</td>\n",
       "      <td>Moti Nagar</td>\n",
       "      <td>3.8</td>\n",
       "      <td>492</td>\n",
       "      <td>550.0</td>\n",
       "      <td>CASUAL DINING</td>\n",
       "      <td>BAR</td>\n",
       "      <td>Goan</td>\n",
       "      <td>Continental</td>\n",
       "      <td>NONE</td>\n",
       "      <td>NONE</td>\n",
       "      <td>NONE</td>\n",
       "      <td>NONE</td>\n",
       "      <td>NONE</td>\n",
       "      <td>NONE</td>\n",
       "    </tr>\n",
       "    <tr>\n",
       "      <th>12685</th>\n",
       "      <td>13228.0</td>\n",
       "      <td>Hyderabad</td>\n",
       "      <td>Gachibowli</td>\n",
       "      <td>3.8</td>\n",
       "      <td>546</td>\n",
       "      <td>500.0</td>\n",
       "      <td>LOUNGE</td>\n",
       "      <td>NONE</td>\n",
       "      <td>Finger Food</td>\n",
       "      <td>Continental</td>\n",
       "      <td>Asian</td>\n",
       "      <td>Chinese</td>\n",
       "      <td>NONE</td>\n",
       "      <td>NONE</td>\n",
       "      <td>NONE</td>\n",
       "      <td>NONE</td>\n",
       "    </tr>\n",
       "    <tr>\n",
       "      <th>12686</th>\n",
       "      <td>9686.0</td>\n",
       "      <td>Mumbai</td>\n",
       "      <td>Bandra Kurla Complex</td>\n",
       "      <td>4.3</td>\n",
       "      <td>1214</td>\n",
       "      <td>1800.0</td>\n",
       "      <td>CASUAL DINING</td>\n",
       "      <td>NONE</td>\n",
       "      <td>North Indian</td>\n",
       "      <td>South Indian</td>\n",
       "      <td>Chinese</td>\n",
       "      <td>Street Food</td>\n",
       "      <td>NONE</td>\n",
       "      <td>NONE</td>\n",
       "      <td>NONE</td>\n",
       "      <td>NONE</td>\n",
       "    </tr>\n",
       "    <tr>\n",
       "      <th>12687</th>\n",
       "      <td>11133.0</td>\n",
       "      <td>Navi Mumbai</td>\n",
       "      <td>Vashi</td>\n",
       "      <td>4.0</td>\n",
       "      <td>608</td>\n",
       "      <td>1300.0</td>\n",
       "      <td>CASUAL DINING</td>\n",
       "      <td>NONE</td>\n",
       "      <td>North Indian</td>\n",
       "      <td>Chinese</td>\n",
       "      <td>NONE</td>\n",
       "      <td>NONE</td>\n",
       "      <td>NONE</td>\n",
       "      <td>NONE</td>\n",
       "      <td>NONE</td>\n",
       "      <td>NONE</td>\n",
       "    </tr>\n",
       "  </tbody>\n",
       "</table>\n",
       "<p>12686 rows × 16 columns</p>\n",
       "</div>"
      ],
      "text/plain": [
       "       RESTAURANT_ID         CITY              LOCALITY  RATING VOTES    COST  \\\n",
       "0             9438.0        Thane        Dombivali East     3.6    49  1200.0   \n",
       "1            13198.0      Chennai             Ramapuram     4.2    30  1500.0   \n",
       "2            10915.0      Chennai            Saligramam     3.8   221   800.0   \n",
       "3             6346.0       Mumbai           Bandra West     4.1    24   800.0   \n",
       "4            15387.0       Mumbai           Lower Parel     3.8   165   300.0   \n",
       "...              ...          ...                   ...     ...   ...     ...   \n",
       "12683         5430.0    New Delhi             Pitampura     4.1  1426   500.0   \n",
       "12684         8324.0    New Delhi            Moti Nagar     3.8   492   550.0   \n",
       "12685        13228.0    Hyderabad            Gachibowli     3.8   546   500.0   \n",
       "12686         9686.0       Mumbai  Bandra Kurla Complex     4.3  1214  1800.0   \n",
       "12687        11133.0  Navi Mumbai                 Vashi     4.0   608  1300.0   \n",
       "\n",
       "               Title1 Title2     Cosiness1       Cosiness2      Cosiness3  \\\n",
       "0       CASUAL DINING   NONE       Malwani            Goan   North Indian   \n",
       "1       CASUAL DINING    BAR         Asian   Modern Indian       Japanese   \n",
       "2       CASUAL DINING   NONE  North Indian         Chinese        Biryani   \n",
       "3         QUICK BITES   NONE       Tibetan         Chinese           NONE   \n",
       "4      DESSERT PARLOR   NONE      Desserts            NONE           NONE   \n",
       "...               ...    ...           ...             ...            ...   \n",
       "12683     QUICK BITES   NONE  North Indian          Burger          Kebab   \n",
       "12684   CASUAL DINING    BAR          Goan     Continental           NONE   \n",
       "12685          LOUNGE   NONE   Finger Food     Continental          Asian   \n",
       "12686   CASUAL DINING   NONE  North Indian    South Indian        Chinese   \n",
       "12687   CASUAL DINING   NONE  North Indian         Chinese           NONE   \n",
       "\n",
       "          Cosiness4 Cosiness5 Cosiness6 Cosiness7 Cosiness8  \n",
       "0              NONE      NONE      NONE      NONE      NONE  \n",
       "1              NONE      NONE      NONE      NONE      NONE  \n",
       "2        Hyderabadi      NONE      NONE      NONE      NONE  \n",
       "3              NONE      NONE      NONE      NONE      NONE  \n",
       "4              NONE      NONE      NONE      NONE      NONE  \n",
       "...             ...       ...       ...       ...       ...  \n",
       "12683          NONE      NONE      NONE      NONE      NONE  \n",
       "12684          NONE      NONE      NONE      NONE      NONE  \n",
       "12685       Chinese      NONE      NONE      NONE      NONE  \n",
       "12686   Street Food      NONE      NONE      NONE      NONE  \n",
       "12687          NONE      NONE      NONE      NONE      NONE  \n",
       "\n",
       "[12686 rows x 16 columns]"
      ]
     },
     "execution_count": 120,
     "metadata": {},
     "output_type": "execute_result"
    }
   ],
   "source": [
    "df.drop(['TITLE','CUISINES','TIME'],axis=1,inplace=True)\n",
    "df"
   ]
  },
  {
   "cell_type": "markdown",
   "metadata": {},
   "source": [
    "### Lable Encoding"
   ]
  },
  {
   "cell_type": "code",
   "execution_count": 121,
   "metadata": {},
   "outputs": [],
   "source": [
    "from sklearn.preprocessing import LabelEncoder\n",
    "le=LabelEncoder()"
   ]
  },
  {
   "cell_type": "code",
   "execution_count": 122,
   "metadata": {},
   "outputs": [
    {
     "data": {
      "text/plain": [
       "RESTAURANT_ID    float64\n",
       "CITY              object\n",
       "LOCALITY          object\n",
       "RATING           float64\n",
       "VOTES             object\n",
       "COST             float64\n",
       "Title1            object\n",
       "Title2            object\n",
       "Cosiness1         object\n",
       "Cosiness2         object\n",
       "Cosiness3         object\n",
       "Cosiness4         object\n",
       "Cosiness5         object\n",
       "Cosiness6         object\n",
       "Cosiness7         object\n",
       "Cosiness8         object\n",
       "dtype: object"
      ]
     },
     "execution_count": 122,
     "metadata": {},
     "output_type": "execute_result"
    }
   ],
   "source": [
    "df.dtypes"
   ]
  },
  {
   "cell_type": "code",
   "execution_count": 123,
   "metadata": {},
   "outputs": [],
   "source": [
    "for i in df.select_dtypes('object'):\n",
    "    df[i]=le.fit_transform(df[i])"
   ]
  },
  {
   "cell_type": "markdown",
   "metadata": {},
   "source": [
    "### Summery Statistics"
   ]
  },
  {
   "cell_type": "code",
   "execution_count": 124,
   "metadata": {},
   "outputs": [
    {
     "data": {
      "text/html": [
       "<div>\n",
       "<style scoped>\n",
       "    .dataframe tbody tr th:only-of-type {\n",
       "        vertical-align: middle;\n",
       "    }\n",
       "\n",
       "    .dataframe tbody tr th {\n",
       "        vertical-align: top;\n",
       "    }\n",
       "\n",
       "    .dataframe thead th {\n",
       "        text-align: right;\n",
       "    }\n",
       "</style>\n",
       "<table border=\"1\" class=\"dataframe\">\n",
       "  <thead>\n",
       "    <tr style=\"text-align: right;\">\n",
       "      <th></th>\n",
       "      <th>RESTAURANT_ID</th>\n",
       "      <th>CITY</th>\n",
       "      <th>LOCALITY</th>\n",
       "      <th>RATING</th>\n",
       "      <th>VOTES</th>\n",
       "      <th>COST</th>\n",
       "      <th>Title1</th>\n",
       "      <th>Title2</th>\n",
       "      <th>Cosiness1</th>\n",
       "      <th>Cosiness2</th>\n",
       "      <th>Cosiness3</th>\n",
       "      <th>Cosiness4</th>\n",
       "      <th>Cosiness5</th>\n",
       "      <th>Cosiness6</th>\n",
       "      <th>Cosiness7</th>\n",
       "      <th>Cosiness8</th>\n",
       "    </tr>\n",
       "  </thead>\n",
       "  <tbody>\n",
       "    <tr>\n",
       "      <th>count</th>\n",
       "      <td>12686.000000</td>\n",
       "      <td>12686.000000</td>\n",
       "      <td>12686.000000</td>\n",
       "      <td>12686.000000</td>\n",
       "      <td>12686.000000</td>\n",
       "      <td>12686.000000</td>\n",
       "      <td>12686.000000</td>\n",
       "      <td>12686.000000</td>\n",
       "      <td>12686.000000</td>\n",
       "      <td>12686.000000</td>\n",
       "      <td>12686.000000</td>\n",
       "      <td>12686.000000</td>\n",
       "      <td>12686.000000</td>\n",
       "      <td>12686.000000</td>\n",
       "      <td>12686.000000</td>\n",
       "      <td>12686.000000</td>\n",
       "    </tr>\n",
       "    <tr>\n",
       "      <th>mean</th>\n",
       "      <td>7758.289374</td>\n",
       "      <td>144.027589</td>\n",
       "      <td>656.905723</td>\n",
       "      <td>3.482563</td>\n",
       "      <td>309.123758</td>\n",
       "      <td>655.336670</td>\n",
       "      <td>11.563692</td>\n",
       "      <td>14.067791</td>\n",
       "      <td>49.278969</td>\n",
       "      <td>55.763992</td>\n",
       "      <td>68.943402</td>\n",
       "      <td>75.091912</td>\n",
       "      <td>74.613905</td>\n",
       "      <td>67.872931</td>\n",
       "      <td>46.593489</td>\n",
       "      <td>18.901781</td>\n",
       "    </tr>\n",
       "    <tr>\n",
       "      <th>std</th>\n",
       "      <td>4504.724328</td>\n",
       "      <td>84.420241</td>\n",
       "      <td>399.087771</td>\n",
       "      <td>1.030122</td>\n",
       "      <td>404.614244</td>\n",
       "      <td>627.079212</td>\n",
       "      <td>8.227309</td>\n",
       "      <td>3.471327</td>\n",
       "      <td>28.480964</td>\n",
       "      <td>32.492718</td>\n",
       "      <td>31.543896</td>\n",
       "      <td>22.065940</td>\n",
       "      <td>13.161790</td>\n",
       "      <td>6.949115</td>\n",
       "      <td>3.836392</td>\n",
       "      <td>1.314652</td>\n",
       "    </tr>\n",
       "    <tr>\n",
       "      <th>min</th>\n",
       "      <td>0.000000</td>\n",
       "      <td>0.000000</td>\n",
       "      <td>0.000000</td>\n",
       "      <td>0.000000</td>\n",
       "      <td>0.000000</td>\n",
       "      <td>20.000000</td>\n",
       "      <td>0.000000</td>\n",
       "      <td>0.000000</td>\n",
       "      <td>0.000000</td>\n",
       "      <td>0.000000</td>\n",
       "      <td>0.000000</td>\n",
       "      <td>0.000000</td>\n",
       "      <td>0.000000</td>\n",
       "      <td>0.000000</td>\n",
       "      <td>0.000000</td>\n",
       "      <td>0.000000</td>\n",
       "    </tr>\n",
       "    <tr>\n",
       "      <th>25%</th>\n",
       "      <td>3862.250000</td>\n",
       "      <td>67.000000</td>\n",
       "      <td>337.000000</td>\n",
       "      <td>3.400000</td>\n",
       "      <td>40.000000</td>\n",
       "      <td>300.000000</td>\n",
       "      <td>4.000000</td>\n",
       "      <td>15.000000</td>\n",
       "      <td>25.000000</td>\n",
       "      <td>23.000000</td>\n",
       "      <td>37.000000</td>\n",
       "      <td>85.000000</td>\n",
       "      <td>78.000000</td>\n",
       "      <td>69.000000</td>\n",
       "      <td>47.000000</td>\n",
       "      <td>19.000000</td>\n",
       "    </tr>\n",
       "    <tr>\n",
       "      <th>50%</th>\n",
       "      <td>7740.000000</td>\n",
       "      <td>131.000000</td>\n",
       "      <td>590.000000</td>\n",
       "      <td>3.800000</td>\n",
       "      <td>130.000000</td>\n",
       "      <td>500.000000</td>\n",
       "      <td>9.000000</td>\n",
       "      <td>15.000000</td>\n",
       "      <td>48.000000</td>\n",
       "      <td>61.000000</td>\n",
       "      <td>93.000000</td>\n",
       "      <td>85.000000</td>\n",
       "      <td>78.000000</td>\n",
       "      <td>69.000000</td>\n",
       "      <td>47.000000</td>\n",
       "      <td>19.000000</td>\n",
       "    </tr>\n",
       "    <tr>\n",
       "      <th>75%</th>\n",
       "      <td>11687.500000</td>\n",
       "      <td>222.000000</td>\n",
       "      <td>1010.000000</td>\n",
       "      <td>4.000000</td>\n",
       "      <td>403.000000</td>\n",
       "      <td>800.000000</td>\n",
       "      <td>21.000000</td>\n",
       "      <td>15.000000</td>\n",
       "      <td>72.000000</td>\n",
       "      <td>93.000000</td>\n",
       "      <td>93.000000</td>\n",
       "      <td>85.000000</td>\n",
       "      <td>78.000000</td>\n",
       "      <td>69.000000</td>\n",
       "      <td>47.000000</td>\n",
       "      <td>19.000000</td>\n",
       "    </tr>\n",
       "    <tr>\n",
       "      <th>max</th>\n",
       "      <td>15573.000000</td>\n",
       "      <td>359.000000</td>\n",
       "      <td>1416.000000</td>\n",
       "      <td>4.900000</td>\n",
       "      <td>1846.000000</td>\n",
       "      <td>14000.000000</td>\n",
       "      <td>22.000000</td>\n",
       "      <td>19.000000</td>\n",
       "      <td>103.000000</td>\n",
       "      <td>98.000000</td>\n",
       "      <td>93.000000</td>\n",
       "      <td>85.000000</td>\n",
       "      <td>78.000000</td>\n",
       "      <td>69.000000</td>\n",
       "      <td>47.000000</td>\n",
       "      <td>19.000000</td>\n",
       "    </tr>\n",
       "  </tbody>\n",
       "</table>\n",
       "</div>"
      ],
      "text/plain": [
       "       RESTAURANT_ID          CITY      LOCALITY        RATING         VOTES  \\\n",
       "count   12686.000000  12686.000000  12686.000000  12686.000000  12686.000000   \n",
       "mean     7758.289374    144.027589    656.905723      3.482563    309.123758   \n",
       "std      4504.724328     84.420241    399.087771      1.030122    404.614244   \n",
       "min         0.000000      0.000000      0.000000      0.000000      0.000000   \n",
       "25%      3862.250000     67.000000    337.000000      3.400000     40.000000   \n",
       "50%      7740.000000    131.000000    590.000000      3.800000    130.000000   \n",
       "75%     11687.500000    222.000000   1010.000000      4.000000    403.000000   \n",
       "max     15573.000000    359.000000   1416.000000      4.900000   1846.000000   \n",
       "\n",
       "               COST        Title1        Title2     Cosiness1     Cosiness2  \\\n",
       "count  12686.000000  12686.000000  12686.000000  12686.000000  12686.000000   \n",
       "mean     655.336670     11.563692     14.067791     49.278969     55.763992   \n",
       "std      627.079212      8.227309      3.471327     28.480964     32.492718   \n",
       "min       20.000000      0.000000      0.000000      0.000000      0.000000   \n",
       "25%      300.000000      4.000000     15.000000     25.000000     23.000000   \n",
       "50%      500.000000      9.000000     15.000000     48.000000     61.000000   \n",
       "75%      800.000000     21.000000     15.000000     72.000000     93.000000   \n",
       "max    14000.000000     22.000000     19.000000    103.000000     98.000000   \n",
       "\n",
       "          Cosiness3     Cosiness4     Cosiness5     Cosiness6     Cosiness7  \\\n",
       "count  12686.000000  12686.000000  12686.000000  12686.000000  12686.000000   \n",
       "mean      68.943402     75.091912     74.613905     67.872931     46.593489   \n",
       "std       31.543896     22.065940     13.161790      6.949115      3.836392   \n",
       "min        0.000000      0.000000      0.000000      0.000000      0.000000   \n",
       "25%       37.000000     85.000000     78.000000     69.000000     47.000000   \n",
       "50%       93.000000     85.000000     78.000000     69.000000     47.000000   \n",
       "75%       93.000000     85.000000     78.000000     69.000000     47.000000   \n",
       "max       93.000000     85.000000     78.000000     69.000000     47.000000   \n",
       "\n",
       "          Cosiness8  \n",
       "count  12686.000000  \n",
       "mean      18.901781  \n",
       "std        1.314652  \n",
       "min        0.000000  \n",
       "25%       19.000000  \n",
       "50%       19.000000  \n",
       "75%       19.000000  \n",
       "max       19.000000  "
      ]
     },
     "execution_count": 124,
     "metadata": {},
     "output_type": "execute_result"
    }
   ],
   "source": [
    "df.describe()"
   ]
  },
  {
   "cell_type": "markdown",
   "metadata": {},
   "source": [
    "#### Correlation Table"
   ]
  },
  {
   "cell_type": "code",
   "execution_count": 125,
   "metadata": {},
   "outputs": [
    {
     "data": {
      "text/html": [
       "<div>\n",
       "<style scoped>\n",
       "    .dataframe tbody tr th:only-of-type {\n",
       "        vertical-align: middle;\n",
       "    }\n",
       "\n",
       "    .dataframe tbody tr th {\n",
       "        vertical-align: top;\n",
       "    }\n",
       "\n",
       "    .dataframe thead th {\n",
       "        text-align: right;\n",
       "    }\n",
       "</style>\n",
       "<table border=\"1\" class=\"dataframe\">\n",
       "  <thead>\n",
       "    <tr style=\"text-align: right;\">\n",
       "      <th></th>\n",
       "      <th>RESTAURANT_ID</th>\n",
       "      <th>CITY</th>\n",
       "      <th>LOCALITY</th>\n",
       "      <th>RATING</th>\n",
       "      <th>VOTES</th>\n",
       "      <th>COST</th>\n",
       "      <th>Title1</th>\n",
       "      <th>Title2</th>\n",
       "      <th>Cosiness1</th>\n",
       "      <th>Cosiness2</th>\n",
       "      <th>Cosiness3</th>\n",
       "      <th>Cosiness4</th>\n",
       "      <th>Cosiness5</th>\n",
       "      <th>Cosiness6</th>\n",
       "      <th>Cosiness7</th>\n",
       "      <th>Cosiness8</th>\n",
       "    </tr>\n",
       "  </thead>\n",
       "  <tbody>\n",
       "    <tr>\n",
       "      <th>RESTAURANT_ID</th>\n",
       "      <td>1.000000</td>\n",
       "      <td>0.005581</td>\n",
       "      <td>-0.003704</td>\n",
       "      <td>0.034304</td>\n",
       "      <td>0.015859</td>\n",
       "      <td>0.040853</td>\n",
       "      <td>-0.007297</td>\n",
       "      <td>-0.007809</td>\n",
       "      <td>0.002216</td>\n",
       "      <td>-0.011774</td>\n",
       "      <td>-0.004225</td>\n",
       "      <td>0.004568</td>\n",
       "      <td>0.010535</td>\n",
       "      <td>0.004027</td>\n",
       "      <td>0.015759</td>\n",
       "      <td>0.005777</td>\n",
       "    </tr>\n",
       "    <tr>\n",
       "      <th>CITY</th>\n",
       "      <td>0.005581</td>\n",
       "      <td>1.000000</td>\n",
       "      <td>0.042904</td>\n",
       "      <td>-0.051725</td>\n",
       "      <td>0.079251</td>\n",
       "      <td>0.041049</td>\n",
       "      <td>0.014157</td>\n",
       "      <td>-0.003311</td>\n",
       "      <td>0.008421</td>\n",
       "      <td>-0.000384</td>\n",
       "      <td>0.015830</td>\n",
       "      <td>0.005420</td>\n",
       "      <td>0.005251</td>\n",
       "      <td>-0.002928</td>\n",
       "      <td>-0.014155</td>\n",
       "      <td>-0.012367</td>\n",
       "    </tr>\n",
       "    <tr>\n",
       "      <th>LOCALITY</th>\n",
       "      <td>-0.003704</td>\n",
       "      <td>0.042904</td>\n",
       "      <td>1.000000</td>\n",
       "      <td>-0.020983</td>\n",
       "      <td>-0.045028</td>\n",
       "      <td>-0.016877</td>\n",
       "      <td>0.006894</td>\n",
       "      <td>0.003158</td>\n",
       "      <td>0.022857</td>\n",
       "      <td>-0.001228</td>\n",
       "      <td>-0.001987</td>\n",
       "      <td>-0.009488</td>\n",
       "      <td>-0.019893</td>\n",
       "      <td>-0.013675</td>\n",
       "      <td>-0.006777</td>\n",
       "      <td>0.001981</td>\n",
       "    </tr>\n",
       "    <tr>\n",
       "      <th>RATING</th>\n",
       "      <td>0.034304</td>\n",
       "      <td>-0.051725</td>\n",
       "      <td>-0.020983</td>\n",
       "      <td>1.000000</td>\n",
       "      <td>0.367140</td>\n",
       "      <td>0.248810</td>\n",
       "      <td>-0.001836</td>\n",
       "      <td>0.000862</td>\n",
       "      <td>-0.006625</td>\n",
       "      <td>-0.000042</td>\n",
       "      <td>-0.005538</td>\n",
       "      <td>-0.005846</td>\n",
       "      <td>-0.007498</td>\n",
       "      <td>0.008018</td>\n",
       "      <td>0.013151</td>\n",
       "      <td>0.006786</td>\n",
       "    </tr>\n",
       "    <tr>\n",
       "      <th>VOTES</th>\n",
       "      <td>0.015859</td>\n",
       "      <td>0.079251</td>\n",
       "      <td>-0.045028</td>\n",
       "      <td>0.367140</td>\n",
       "      <td>1.000000</td>\n",
       "      <td>0.362231</td>\n",
       "      <td>-0.004104</td>\n",
       "      <td>-0.004053</td>\n",
       "      <td>-0.006008</td>\n",
       "      <td>-0.009258</td>\n",
       "      <td>-0.005575</td>\n",
       "      <td>-0.012353</td>\n",
       "      <td>-0.025726</td>\n",
       "      <td>-0.014938</td>\n",
       "      <td>-0.007469</td>\n",
       "      <td>-0.019341</td>\n",
       "    </tr>\n",
       "    <tr>\n",
       "      <th>COST</th>\n",
       "      <td>0.040853</td>\n",
       "      <td>0.041049</td>\n",
       "      <td>-0.016877</td>\n",
       "      <td>0.248810</td>\n",
       "      <td>0.362231</td>\n",
       "      <td>1.000000</td>\n",
       "      <td>0.001096</td>\n",
       "      <td>-0.006342</td>\n",
       "      <td>-0.007597</td>\n",
       "      <td>0.000534</td>\n",
       "      <td>-0.007686</td>\n",
       "      <td>0.003417</td>\n",
       "      <td>-0.010016</td>\n",
       "      <td>0.010287</td>\n",
       "      <td>0.016719</td>\n",
       "      <td>0.004384</td>\n",
       "    </tr>\n",
       "    <tr>\n",
       "      <th>Title1</th>\n",
       "      <td>-0.007297</td>\n",
       "      <td>0.014157</td>\n",
       "      <td>0.006894</td>\n",
       "      <td>-0.001836</td>\n",
       "      <td>-0.004104</td>\n",
       "      <td>0.001096</td>\n",
       "      <td>1.000000</td>\n",
       "      <td>0.174730</td>\n",
       "      <td>0.209255</td>\n",
       "      <td>0.142691</td>\n",
       "      <td>0.179821</td>\n",
       "      <td>0.152791</td>\n",
       "      <td>0.108170</td>\n",
       "      <td>0.059408</td>\n",
       "      <td>0.033221</td>\n",
       "      <td>0.023399</td>\n",
       "    </tr>\n",
       "    <tr>\n",
       "      <th>Title2</th>\n",
       "      <td>-0.007809</td>\n",
       "      <td>-0.003311</td>\n",
       "      <td>0.003158</td>\n",
       "      <td>0.000862</td>\n",
       "      <td>-0.004053</td>\n",
       "      <td>-0.006342</td>\n",
       "      <td>0.174730</td>\n",
       "      <td>1.000000</td>\n",
       "      <td>0.089930</td>\n",
       "      <td>0.131057</td>\n",
       "      <td>0.133043</td>\n",
       "      <td>0.141576</td>\n",
       "      <td>0.106492</td>\n",
       "      <td>0.084496</td>\n",
       "      <td>0.048071</td>\n",
       "      <td>0.038893</td>\n",
       "    </tr>\n",
       "    <tr>\n",
       "      <th>Cosiness1</th>\n",
       "      <td>0.002216</td>\n",
       "      <td>0.008421</td>\n",
       "      <td>0.022857</td>\n",
       "      <td>-0.006625</td>\n",
       "      <td>-0.006008</td>\n",
       "      <td>-0.007597</td>\n",
       "      <td>0.209255</td>\n",
       "      <td>0.089930</td>\n",
       "      <td>1.000000</td>\n",
       "      <td>0.038466</td>\n",
       "      <td>-0.018431</td>\n",
       "      <td>0.035322</td>\n",
       "      <td>0.032968</td>\n",
       "      <td>0.040768</td>\n",
       "      <td>0.038214</td>\n",
       "      <td>0.034606</td>\n",
       "    </tr>\n",
       "    <tr>\n",
       "      <th>Cosiness2</th>\n",
       "      <td>-0.011774</td>\n",
       "      <td>-0.000384</td>\n",
       "      <td>-0.001228</td>\n",
       "      <td>-0.000042</td>\n",
       "      <td>-0.009258</td>\n",
       "      <td>0.000534</td>\n",
       "      <td>0.142691</td>\n",
       "      <td>0.131057</td>\n",
       "      <td>0.038466</td>\n",
       "      <td>1.000000</td>\n",
       "      <td>0.264791</td>\n",
       "      <td>0.157458</td>\n",
       "      <td>0.102935</td>\n",
       "      <td>0.088364</td>\n",
       "      <td>0.056078</td>\n",
       "      <td>0.047831</td>\n",
       "    </tr>\n",
       "    <tr>\n",
       "      <th>Cosiness3</th>\n",
       "      <td>-0.004225</td>\n",
       "      <td>0.015830</td>\n",
       "      <td>-0.001987</td>\n",
       "      <td>-0.005538</td>\n",
       "      <td>-0.005575</td>\n",
       "      <td>-0.007686</td>\n",
       "      <td>0.179821</td>\n",
       "      <td>0.133043</td>\n",
       "      <td>-0.018431</td>\n",
       "      <td>0.264791</td>\n",
       "      <td>1.000000</td>\n",
       "      <td>0.388668</td>\n",
       "      <td>0.215481</td>\n",
       "      <td>0.141683</td>\n",
       "      <td>0.097306</td>\n",
       "      <td>0.078113</td>\n",
       "    </tr>\n",
       "    <tr>\n",
       "      <th>Cosiness4</th>\n",
       "      <td>0.004568</td>\n",
       "      <td>0.005420</td>\n",
       "      <td>-0.009488</td>\n",
       "      <td>-0.005846</td>\n",
       "      <td>-0.012353</td>\n",
       "      <td>0.003417</td>\n",
       "      <td>0.152791</td>\n",
       "      <td>0.141576</td>\n",
       "      <td>0.035322</td>\n",
       "      <td>0.157458</td>\n",
       "      <td>0.388668</td>\n",
       "      <td>1.000000</td>\n",
       "      <td>0.415335</td>\n",
       "      <td>0.278399</td>\n",
       "      <td>0.179963</td>\n",
       "      <td>0.132463</td>\n",
       "    </tr>\n",
       "    <tr>\n",
       "      <th>Cosiness5</th>\n",
       "      <td>0.010535</td>\n",
       "      <td>0.005251</td>\n",
       "      <td>-0.019893</td>\n",
       "      <td>-0.007498</td>\n",
       "      <td>-0.025726</td>\n",
       "      <td>-0.010016</td>\n",
       "      <td>0.108170</td>\n",
       "      <td>0.106492</td>\n",
       "      <td>0.032968</td>\n",
       "      <td>0.102935</td>\n",
       "      <td>0.215481</td>\n",
       "      <td>0.415335</td>\n",
       "      <td>1.000000</td>\n",
       "      <td>0.491151</td>\n",
       "      <td>0.322653</td>\n",
       "      <td>0.216278</td>\n",
       "    </tr>\n",
       "    <tr>\n",
       "      <th>Cosiness6</th>\n",
       "      <td>0.004027</td>\n",
       "      <td>-0.002928</td>\n",
       "      <td>-0.013675</td>\n",
       "      <td>0.008018</td>\n",
       "      <td>-0.014938</td>\n",
       "      <td>0.010287</td>\n",
       "      <td>0.059408</td>\n",
       "      <td>0.084496</td>\n",
       "      <td>0.040768</td>\n",
       "      <td>0.088364</td>\n",
       "      <td>0.141683</td>\n",
       "      <td>0.278399</td>\n",
       "      <td>0.491151</td>\n",
       "      <td>1.000000</td>\n",
       "      <td>0.515044</td>\n",
       "      <td>0.318172</td>\n",
       "    </tr>\n",
       "    <tr>\n",
       "      <th>Cosiness7</th>\n",
       "      <td>0.015759</td>\n",
       "      <td>-0.014155</td>\n",
       "      <td>-0.006777</td>\n",
       "      <td>0.013151</td>\n",
       "      <td>-0.007469</td>\n",
       "      <td>0.016719</td>\n",
       "      <td>0.033221</td>\n",
       "      <td>0.048071</td>\n",
       "      <td>0.038214</td>\n",
       "      <td>0.056078</td>\n",
       "      <td>0.097306</td>\n",
       "      <td>0.179963</td>\n",
       "      <td>0.322653</td>\n",
       "      <td>0.515044</td>\n",
       "      <td>1.000000</td>\n",
       "      <td>0.582716</td>\n",
       "    </tr>\n",
       "    <tr>\n",
       "      <th>Cosiness8</th>\n",
       "      <td>0.005777</td>\n",
       "      <td>-0.012367</td>\n",
       "      <td>0.001981</td>\n",
       "      <td>0.006786</td>\n",
       "      <td>-0.019341</td>\n",
       "      <td>0.004384</td>\n",
       "      <td>0.023399</td>\n",
       "      <td>0.038893</td>\n",
       "      <td>0.034606</td>\n",
       "      <td>0.047831</td>\n",
       "      <td>0.078113</td>\n",
       "      <td>0.132463</td>\n",
       "      <td>0.216278</td>\n",
       "      <td>0.318172</td>\n",
       "      <td>0.582716</td>\n",
       "      <td>1.000000</td>\n",
       "    </tr>\n",
       "  </tbody>\n",
       "</table>\n",
       "</div>"
      ],
      "text/plain": [
       "               RESTAURANT_ID      CITY  LOCALITY    RATING     VOTES  \\\n",
       "RESTAURANT_ID       1.000000  0.005581 -0.003704  0.034304  0.015859   \n",
       "CITY                0.005581  1.000000  0.042904 -0.051725  0.079251   \n",
       "LOCALITY           -0.003704  0.042904  1.000000 -0.020983 -0.045028   \n",
       "RATING              0.034304 -0.051725 -0.020983  1.000000  0.367140   \n",
       "VOTES               0.015859  0.079251 -0.045028  0.367140  1.000000   \n",
       "COST                0.040853  0.041049 -0.016877  0.248810  0.362231   \n",
       "Title1             -0.007297  0.014157  0.006894 -0.001836 -0.004104   \n",
       "Title2             -0.007809 -0.003311  0.003158  0.000862 -0.004053   \n",
       "Cosiness1           0.002216  0.008421  0.022857 -0.006625 -0.006008   \n",
       "Cosiness2          -0.011774 -0.000384 -0.001228 -0.000042 -0.009258   \n",
       "Cosiness3          -0.004225  0.015830 -0.001987 -0.005538 -0.005575   \n",
       "Cosiness4           0.004568  0.005420 -0.009488 -0.005846 -0.012353   \n",
       "Cosiness5           0.010535  0.005251 -0.019893 -0.007498 -0.025726   \n",
       "Cosiness6           0.004027 -0.002928 -0.013675  0.008018 -0.014938   \n",
       "Cosiness7           0.015759 -0.014155 -0.006777  0.013151 -0.007469   \n",
       "Cosiness8           0.005777 -0.012367  0.001981  0.006786 -0.019341   \n",
       "\n",
       "                   COST    Title1    Title2  Cosiness1  Cosiness2  Cosiness3  \\\n",
       "RESTAURANT_ID  0.040853 -0.007297 -0.007809   0.002216  -0.011774  -0.004225   \n",
       "CITY           0.041049  0.014157 -0.003311   0.008421  -0.000384   0.015830   \n",
       "LOCALITY      -0.016877  0.006894  0.003158   0.022857  -0.001228  -0.001987   \n",
       "RATING         0.248810 -0.001836  0.000862  -0.006625  -0.000042  -0.005538   \n",
       "VOTES          0.362231 -0.004104 -0.004053  -0.006008  -0.009258  -0.005575   \n",
       "COST           1.000000  0.001096 -0.006342  -0.007597   0.000534  -0.007686   \n",
       "Title1         0.001096  1.000000  0.174730   0.209255   0.142691   0.179821   \n",
       "Title2        -0.006342  0.174730  1.000000   0.089930   0.131057   0.133043   \n",
       "Cosiness1     -0.007597  0.209255  0.089930   1.000000   0.038466  -0.018431   \n",
       "Cosiness2      0.000534  0.142691  0.131057   0.038466   1.000000   0.264791   \n",
       "Cosiness3     -0.007686  0.179821  0.133043  -0.018431   0.264791   1.000000   \n",
       "Cosiness4      0.003417  0.152791  0.141576   0.035322   0.157458   0.388668   \n",
       "Cosiness5     -0.010016  0.108170  0.106492   0.032968   0.102935   0.215481   \n",
       "Cosiness6      0.010287  0.059408  0.084496   0.040768   0.088364   0.141683   \n",
       "Cosiness7      0.016719  0.033221  0.048071   0.038214   0.056078   0.097306   \n",
       "Cosiness8      0.004384  0.023399  0.038893   0.034606   0.047831   0.078113   \n",
       "\n",
       "               Cosiness4  Cosiness5  Cosiness6  Cosiness7  Cosiness8  \n",
       "RESTAURANT_ID   0.004568   0.010535   0.004027   0.015759   0.005777  \n",
       "CITY            0.005420   0.005251  -0.002928  -0.014155  -0.012367  \n",
       "LOCALITY       -0.009488  -0.019893  -0.013675  -0.006777   0.001981  \n",
       "RATING         -0.005846  -0.007498   0.008018   0.013151   0.006786  \n",
       "VOTES          -0.012353  -0.025726  -0.014938  -0.007469  -0.019341  \n",
       "COST            0.003417  -0.010016   0.010287   0.016719   0.004384  \n",
       "Title1          0.152791   0.108170   0.059408   0.033221   0.023399  \n",
       "Title2          0.141576   0.106492   0.084496   0.048071   0.038893  \n",
       "Cosiness1       0.035322   0.032968   0.040768   0.038214   0.034606  \n",
       "Cosiness2       0.157458   0.102935   0.088364   0.056078   0.047831  \n",
       "Cosiness3       0.388668   0.215481   0.141683   0.097306   0.078113  \n",
       "Cosiness4       1.000000   0.415335   0.278399   0.179963   0.132463  \n",
       "Cosiness5       0.415335   1.000000   0.491151   0.322653   0.216278  \n",
       "Cosiness6       0.278399   0.491151   1.000000   0.515044   0.318172  \n",
       "Cosiness7       0.179963   0.322653   0.515044   1.000000   0.582716  \n",
       "Cosiness8       0.132463   0.216278   0.318172   0.582716   1.000000  "
      ]
     },
     "execution_count": 125,
     "metadata": {},
     "output_type": "execute_result"
    }
   ],
   "source": [
    "df.corr()"
   ]
  },
  {
   "cell_type": "code",
   "execution_count": 126,
   "metadata": {},
   "outputs": [
    {
     "data": {
      "text/plain": [
       "<matplotlib.axes._subplots.AxesSubplot at 0x7f7c34586400>"
      ]
     },
     "execution_count": 126,
     "metadata": {},
     "output_type": "execute_result"
    },
    {
     "data": {
      "image/png": "[encoded data removed]",
      "text/plain": [
       "<Figure size 1296x576 with 2 Axes>"
      ]
     },
     "metadata": {
      "needs_background": "light"
     },
     "output_type": "display_data"
    }
   ],
   "source": [
    "plt.figure(figsize=(18,8))\n",
    "sns.heatmap(df.corr(),linewidths=.5,fmt='0.2%',annot=True)"
   ]
  },
  {
   "cell_type": "markdown",
   "metadata": {},
   "source": [
    "##### Heatmap shows that RATING and VOTING are more correalating with cost"
   ]
  },
  {
   "cell_type": "code",
   "execution_count": null,
   "metadata": {},
   "outputs": [],
   "source": []
  },
  {
   "cell_type": "code",
   "execution_count": 134,
   "metadata": {},
   "outputs": [
    {
     "data": {
      "text/plain": [
       "<matplotlib.axes._subplots.AxesSubplot at 0x7f7c2cc4beb0>"
      ]
     },
     "execution_count": 134,
     "metadata": {},
     "output_type": "execute_result"
    },
    {
     "data": {
      "image/png": "[encoded data removed]",
      "text/plain": [
       "<Figure size 1296x648 with 1 Axes>"
      ]
     },
     "metadata": {
      "needs_background": "light"
     },
     "output_type": "display_data"
    }
   ],
   "source": [
    "df.boxplot(figsize=(18,9))"
   ]
  },
  {
   "cell_type": "code",
   "execution_count": 135,
   "metadata": {},
   "outputs": [
    {
     "data": {
      "text/plain": [
       "<matplotlib.axes._subplots.AxesSubplot at 0x7f7c2c5b6df0>"
      ]
     },
     "execution_count": 135,
     "metadata": {},
     "output_type": "execute_result"
    },
    {
     "data": {
      "image/png": "[encoded data removed]",
      "text/plain": [
       "<Figure size 432x288 with 1 Axes>"
      ]
     },
     "metadata": {
      "needs_background": "light"
     },
     "output_type": "display_data"
    }
   ],
   "source": [
    "sns.distplot(df['VOTES'])"
   ]
  },
  {
   "cell_type": "code",
   "execution_count": 136,
   "metadata": {},
   "outputs": [
    {
     "data": {
      "text/plain": [
       "1.8807664988495814"
      ]
     },
     "execution_count": 136,
     "metadata": {},
     "output_type": "execute_result"
    }
   ],
   "source": [
    "df['VOTES'].skew()"
   ]
  },
  {
   "cell_type": "code",
   "execution_count": null,
   "metadata": {},
   "outputs": [],
   "source": []
  },
  {
   "cell_type": "code",
   "execution_count": 140,
   "metadata": {},
   "outputs": [],
   "source": [
    "from sklearn.preprocessing import PowerTransformer\n",
    "pt=PowerTransformer()\n",
    "df['VOTES']=pt.fit_transform(pd.DataFrame(df['VOTES']))"
   ]
  },
  {
   "cell_type": "code",
   "execution_count": 141,
   "metadata": {},
   "outputs": [
    {
     "data": {
      "text/plain": [
       "<matplotlib.axes._subplots.AxesSubplot at 0x7f7c277f2790>"
      ]
     },
     "execution_count": 141,
     "metadata": {},
     "output_type": "execute_result"
    },
    {
     "data": {
      "image/png": "[encoded data removed]",
      "text/plain": [
       "<Figure size 432x288 with 1 Axes>"
      ]
     },
     "metadata": {
      "needs_background": "light"
     },
     "output_type": "display_data"
    }
   ],
   "source": [
    "sns.distplot(df['VOTES'])"
   ]
  },
  {
   "cell_type": "code",
   "execution_count": 142,
   "metadata": {},
   "outputs": [
    {
     "data": {
      "text/plain": [
       "-0.02080727719916589"
      ]
     },
     "execution_count": 142,
     "metadata": {},
     "output_type": "execute_result"
    }
   ],
   "source": [
    "df['VOTES'].skew()"
   ]
  },
  {
   "cell_type": "code",
   "execution_count": 143,
   "metadata": {},
   "outputs": [
    {
     "data": {
      "text/html": [
       "<div>\n",
       "<style scoped>\n",
       "    .dataframe tbody tr th:only-of-type {\n",
       "        vertical-align: middle;\n",
       "    }\n",
       "\n",
       "    .dataframe tbody tr th {\n",
       "        vertical-align: top;\n",
       "    }\n",
       "\n",
       "    .dataframe thead th {\n",
       "        text-align: right;\n",
       "    }\n",
       "</style>\n",
       "<table border=\"1\" class=\"dataframe\">\n",
       "  <thead>\n",
       "    <tr style=\"text-align: right;\">\n",
       "      <th></th>\n",
       "      <th>RESTAURANT_ID</th>\n",
       "      <th>CITY</th>\n",
       "      <th>LOCALITY</th>\n",
       "      <th>RATING</th>\n",
       "      <th>VOTES</th>\n",
       "      <th>Title1</th>\n",
       "      <th>Title2</th>\n",
       "      <th>Cosiness1</th>\n",
       "      <th>Cosiness2</th>\n",
       "      <th>Cosiness3</th>\n",
       "      <th>Cosiness4</th>\n",
       "      <th>Cosiness5</th>\n",
       "      <th>Cosiness6</th>\n",
       "      <th>Cosiness7</th>\n",
       "      <th>Cosiness8</th>\n",
       "    </tr>\n",
       "  </thead>\n",
       "  <tbody>\n",
       "    <tr>\n",
       "      <th>0</th>\n",
       "      <td>9438.0</td>\n",
       "      <td>321</td>\n",
       "      <td>285</td>\n",
       "      <td>3.6</td>\n",
       "      <td>-0.735967</td>\n",
       "      <td>4</td>\n",
       "      <td>15</td>\n",
       "      <td>59</td>\n",
       "      <td>32</td>\n",
       "      <td>66</td>\n",
       "      <td>85</td>\n",
       "      <td>78</td>\n",
       "      <td>69</td>\n",
       "      <td>47</td>\n",
       "      <td>19</td>\n",
       "    </tr>\n",
       "    <tr>\n",
       "      <th>1</th>\n",
       "      <td>13198.0</td>\n",
       "      <td>67</td>\n",
       "      <td>1047</td>\n",
       "      <td>4.2</td>\n",
       "      <td>-1.067769</td>\n",
       "      <td>4</td>\n",
       "      <td>1</td>\n",
       "      <td>6</td>\n",
       "      <td>60</td>\n",
       "      <td>41</td>\n",
       "      <td>85</td>\n",
       "      <td>78</td>\n",
       "      <td>69</td>\n",
       "      <td>47</td>\n",
       "      <td>19</td>\n",
       "    </tr>\n",
       "    <tr>\n",
       "      <th>2</th>\n",
       "      <td>10915.0</td>\n",
       "      <td>67</td>\n",
       "      <td>1102</td>\n",
       "      <td>3.8</td>\n",
       "      <td>0.314798</td>\n",
       "      <td>4</td>\n",
       "      <td>15</td>\n",
       "      <td>72</td>\n",
       "      <td>23</td>\n",
       "      <td>12</td>\n",
       "      <td>32</td>\n",
       "      <td>78</td>\n",
       "      <td>69</td>\n",
       "      <td>47</td>\n",
       "      <td>19</td>\n",
       "    </tr>\n",
       "    <tr>\n",
       "      <th>3</th>\n",
       "      <td>6346.0</td>\n",
       "      <td>222</td>\n",
       "      <td>136</td>\n",
       "      <td>4.1</td>\n",
       "      <td>-1.219603</td>\n",
       "      <td>21</td>\n",
       "      <td>15</td>\n",
       "      <td>100</td>\n",
       "      <td>23</td>\n",
       "      <td>93</td>\n",
       "      <td>85</td>\n",
       "      <td>78</td>\n",
       "      <td>69</td>\n",
       "      <td>47</td>\n",
       "      <td>19</td>\n",
       "    </tr>\n",
       "    <tr>\n",
       "      <th>4</th>\n",
       "      <td>15387.0</td>\n",
       "      <td>222</td>\n",
       "      <td>620</td>\n",
       "      <td>3.8</td>\n",
       "      <td>0.104426</td>\n",
       "      <td>8</td>\n",
       "      <td>15</td>\n",
       "      <td>28</td>\n",
       "      <td>98</td>\n",
       "      <td>93</td>\n",
       "      <td>85</td>\n",
       "      <td>78</td>\n",
       "      <td>69</td>\n",
       "      <td>47</td>\n",
       "      <td>19</td>\n",
       "    </tr>\n",
       "    <tr>\n",
       "      <th>...</th>\n",
       "      <td>...</td>\n",
       "      <td>...</td>\n",
       "      <td>...</td>\n",
       "      <td>...</td>\n",
       "      <td>...</td>\n",
       "      <td>...</td>\n",
       "      <td>...</td>\n",
       "      <td>...</td>\n",
       "      <td>...</td>\n",
       "      <td>...</td>\n",
       "      <td>...</td>\n",
       "      <td>...</td>\n",
       "      <td>...</td>\n",
       "      <td>...</td>\n",
       "      <td>...</td>\n",
       "    </tr>\n",
       "    <tr>\n",
       "      <th>12683</th>\n",
       "      <td>5430.0</td>\n",
       "      <td>252</td>\n",
       "      <td>1004</td>\n",
       "      <td>4.1</td>\n",
       "      <td>1.655370</td>\n",
       "      <td>21</td>\n",
       "      <td>15</td>\n",
       "      <td>72</td>\n",
       "      <td>17</td>\n",
       "      <td>44</td>\n",
       "      <td>85</td>\n",
       "      <td>78</td>\n",
       "      <td>69</td>\n",
       "      <td>47</td>\n",
       "      <td>19</td>\n",
       "    </tr>\n",
       "    <tr>\n",
       "      <th>12684</th>\n",
       "      <td>8324.0</td>\n",
       "      <td>252</td>\n",
       "      <td>723</td>\n",
       "      <td>3.8</td>\n",
       "      <td>0.912232</td>\n",
       "      <td>4</td>\n",
       "      <td>1</td>\n",
       "      <td>37</td>\n",
       "      <td>25</td>\n",
       "      <td>93</td>\n",
       "      <td>85</td>\n",
       "      <td>78</td>\n",
       "      <td>69</td>\n",
       "      <td>47</td>\n",
       "      <td>19</td>\n",
       "    </tr>\n",
       "    <tr>\n",
       "      <th>12685</th>\n",
       "      <td>13228.0</td>\n",
       "      <td>131</td>\n",
       "      <td>342</td>\n",
       "      <td>3.8</td>\n",
       "      <td>0.992457</td>\n",
       "      <td>14</td>\n",
       "      <td>15</td>\n",
       "      <td>34</td>\n",
       "      <td>25</td>\n",
       "      <td>4</td>\n",
       "      <td>18</td>\n",
       "      <td>78</td>\n",
       "      <td>69</td>\n",
       "      <td>47</td>\n",
       "      <td>19</td>\n",
       "    </tr>\n",
       "    <tr>\n",
       "      <th>12686</th>\n",
       "      <td>9686.0</td>\n",
       "      <td>222</td>\n",
       "      <td>133</td>\n",
       "      <td>4.3</td>\n",
       "      <td>1.567935</td>\n",
       "      <td>4</td>\n",
       "      <td>15</td>\n",
       "      <td>72</td>\n",
       "      <td>84</td>\n",
       "      <td>21</td>\n",
       "      <td>76</td>\n",
       "      <td>78</td>\n",
       "      <td>69</td>\n",
       "      <td>47</td>\n",
       "      <td>19</td>\n",
       "    </tr>\n",
       "    <tr>\n",
       "      <th>12687</th>\n",
       "      <td>11133.0</td>\n",
       "      <td>239</td>\n",
       "      <td>1343</td>\n",
       "      <td>4.0</td>\n",
       "      <td>1.075948</td>\n",
       "      <td>4</td>\n",
       "      <td>15</td>\n",
       "      <td>72</td>\n",
       "      <td>23</td>\n",
       "      <td>93</td>\n",
       "      <td>85</td>\n",
       "      <td>78</td>\n",
       "      <td>69</td>\n",
       "      <td>47</td>\n",
       "      <td>19</td>\n",
       "    </tr>\n",
       "  </tbody>\n",
       "</table>\n",
       "<p>12686 rows × 15 columns</p>\n",
       "</div>"
      ],
      "text/plain": [
       "       RESTAURANT_ID  CITY  LOCALITY  RATING     VOTES  Title1  Title2  \\\n",
       "0             9438.0   321       285     3.6 -0.735967       4      15   \n",
       "1            13198.0    67      1047     4.2 -1.067769       4       1   \n",
       "2            10915.0    67      1102     3.8  0.314798       4      15   \n",
       "3             6346.0   222       136     4.1 -1.219603      21      15   \n",
       "4            15387.0   222       620     3.8  0.104426       8      15   \n",
       "...              ...   ...       ...     ...       ...     ...     ...   \n",
       "12683         5430.0   252      1004     4.1  1.655370      21      15   \n",
       "12684         8324.0   252       723     3.8  0.912232       4       1   \n",
       "12685        13228.0   131       342     3.8  0.992457      14      15   \n",
       "12686         9686.0   222       133     4.3  1.567935       4      15   \n",
       "12687        11133.0   239      1343     4.0  1.075948       4      15   \n",
       "\n",
       "       Cosiness1  Cosiness2  Cosiness3  Cosiness4  Cosiness5  Cosiness6  \\\n",
       "0             59         32         66         85         78         69   \n",
       "1              6         60         41         85         78         69   \n",
       "2             72         23         12         32         78         69   \n",
       "3            100         23         93         85         78         69   \n",
       "4             28         98         93         85         78         69   \n",
       "...          ...        ...        ...        ...        ...        ...   \n",
       "12683         72         17         44         85         78         69   \n",
       "12684         37         25         93         85         78         69   \n",
       "12685         34         25          4         18         78         69   \n",
       "12686         72         84         21         76         78         69   \n",
       "12687         72         23         93         85         78         69   \n",
       "\n",
       "       Cosiness7  Cosiness8  \n",
       "0             47         19  \n",
       "1             47         19  \n",
       "2             47         19  \n",
       "3             47         19  \n",
       "4             47         19  \n",
       "...          ...        ...  \n",
       "12683         47         19  \n",
       "12684         47         19  \n",
       "12685         47         19  \n",
       "12686         47         19  \n",
       "12687         47         19  \n",
       "\n",
       "[12686 rows x 15 columns]"
      ]
     },
     "execution_count": 143,
     "metadata": {},
     "output_type": "execute_result"
    }
   ],
   "source": [
    "target=df['COST']\n",
    "x=df.drop('COST',axis=1)\n",
    "x"
   ]
  },
  {
   "cell_type": "code",
   "execution_count": 144,
   "metadata": {},
   "outputs": [
    {
     "name": "stdout",
     "output_type": "stream",
     "text": [
      "Final accuracy is 17.652396565317886 \n",
      " Cross Validate score is 14.208617389703113 \n",
      "# difference is 3.4437791756147735 \n",
      " best random state is246\n"
     ]
    }
   ],
   "source": [
    "# for best random state\n",
    "best_state=0\n",
    "accu=0\n",
    "for i in range(30,250):\n",
    "    X_train, X_test, y_train, y_test = train_test_split(x,target, test_size=0.25,random_state=i)\n",
    "    lr = LinearRegression()\n",
    "    lr.fit(X_train,y_train)\n",
    "    pred = lr.predict(X_test)\n",
    "    rscrore=r2_score(y_test,pred)\n",
    "    crv=cross_val_score(LinearRegression(),X_train,y_train,cv=10).mean()\n",
    "    if rscrore>accu:\n",
    "        accu=rscrore\n",
    "        best_state=i\n",
    "print(f\"Final accuracy is {accu*100} \\n Cross Validate score is {(crv*100)} \\n# difference is {(accu*100)-(crv*100)} \\n best random state is{best_state}\")"
   ]
  },
  {
   "cell_type": "code",
   "execution_count": null,
   "metadata": {},
   "outputs": [],
   "source": []
  },
  {
   "cell_type": "code",
   "execution_count": null,
   "metadata": {},
   "outputs": [],
   "source": []
  },
  {
   "cell_type": "code",
   "execution_count": null,
   "metadata": {},
   "outputs": [],
   "source": []
  },
  {
   "cell_type": "code",
   "execution_count": null,
   "metadata": {},
   "outputs": [],
   "source": []
  },
  {
   "cell_type": "code",
   "execution_count": null,
   "metadata": {},
   "outputs": [],
   "source": []
  },
  {
   "cell_type": "markdown",
   "metadata": {},
   "source": [
    "### Standard Scaller"
   ]
  },
  {
   "cell_type": "code",
   "execution_count": 128,
   "metadata": {},
   "outputs": [],
   "source": [
    "from sklearn.preprocessing import StandardScaler\n",
    "ss=StandardScaler()"
   ]
  },
  {
   "cell_type": "code",
   "execution_count": 129,
   "metadata": {},
   "outputs": [],
   "source": [
    "x=ss.fit_transform(x)"
   ]
  },
  {
   "cell_type": "code",
   "execution_count": 130,
   "metadata": {},
   "outputs": [],
   "source": [
    "x=pd.DataFrame(x)"
   ]
  },
  {
   "cell_type": "markdown",
   "metadata": {},
   "source": [
    "#### Model Generation"
   ]
  },
  {
   "cell_type": "code",
   "execution_count": 129,
   "metadata": {},
   "outputs": [],
   "source": [
    "from sklearn.naive_bayes import GaussianNB,MultinomialNB\n",
    "from sklearn.svm import SVR\n",
    "from sklearn.linear_model import LinearRegression\n",
    "from sklearn.ensemble import RandomForestRegressor\n",
    "from sklearn.ensemble import AdaBoostRegressor\n",
    "from sklearn.linear_model import SGDRegressor\n",
    "from sklearn.tree import DecisionTreeRegressor\n",
    "from sklearn.neighbors import KNeighborsRegressor\n",
    "from sklearn.model_selection import cross_val_score\n",
    "from sklearn.metrics import mean_squared_error, mean_absolute_error,accuracy_score,r2_score\n",
    "from sklearn.model_selection import train_test_split\n",
    "from sklearn.model_selection import GridSearchCV"
   ]
  },
  {
   "cell_type": "code",
   "execution_count": 132,
   "metadata": {},
   "outputs": [
    {
     "name": "stdout",
     "output_type": "stream",
     "text": [
      "Final accuracy is 18.856986719857048 \n",
      " Cross Validate score is 15.230627841410676 \n",
      "# difference is 3.6263588784463714 \n",
      " best random state is246\n"
     ]
    }
   ],
   "source": [
    "# for best random state\n",
    "best_state=0\n",
    "accu=0\n",
    "for i in range(30,250):\n",
    "    X_train, X_test, y_train, y_test = train_test_split(x,target, test_size=0.25,random_state=i)\n",
    "    lr = LinearRegression()\n",
    "    lr.fit(X_train,y_train)\n",
    "    pred = lr.predict(X_test)\n",
    "    rscrore=r2_score(y_test,pred)\n",
    "    crv=cross_val_score(LinearRegression(),X_train,y_train,cv=10).mean()\n",
    "    if rscrore>accu:\n",
    "        accu=rscrore\n",
    "        best_state=i\n",
    "print(f\"Final accuracy is {accu*100} \\n Cross Validate score is {(crv*100)} \\n# difference is {(accu*100)-(crv*100)} \\n best random state is{best_state}\")"
   ]
  },
  {
   "cell_type": "markdown",
   "metadata": {},
   "source": [
    "### Pipeline"
   ]
  },
  {
   "cell_type": "code",
   "execution_count": 133,
   "metadata": {},
   "outputs": [],
   "source": [
    "X_train, X_test, y_train, y_test = train_test_split(x,target, test_size=0.25,random_state=246)"
   ]
  },
  {
   "cell_type": "code",
   "execution_count": 134,
   "metadata": {},
   "outputs": [],
   "source": [
    "from sklearn.pipeline import Pipeline"
   ]
  },
  {
   "cell_type": "code",
   "execution_count": 135,
   "metadata": {},
   "outputs": [],
   "source": [
    "parameters_sgd={\n",
    " 'penalty': ['l1','l2','elasticnet'],\n",
    " 'alpha': [0.0001,0.001,0.01,0.1,1],\n",
    "    'max_iter':[1000,2000],\n",
    "}\n",
    "parameters_rndf={\n",
    " 'criterion': ['mse','mae'],\n",
    " 'max_features': ['auto','sqrt'],\n",
    " 'n_estimators': list(np.arange(100,150)),\n",
    " 'random_state': [246],\n",
    "    'max_depth':[5],\n",
    "}\n",
    "parameters_deci_tree={\n",
    " 'criterion': ['mse','mae'],\n",
    "#  'splitter':['best','random'],\n",
    " 'max_features': ['auto','sqrt'],\n",
    " 'max_depth':[5],\n",
    " 'random_state': [246]}\n",
    "parameters_knn_reg={\n",
    "    'n_neighbors': list(np.arange(5,10)),\n",
    "    'weights':['uniform','distance'],\n",
    "    \n",
    "}\n",
    "parameters_svr_reg={\n",
    "    'kernel': ['linear','poly','rbf'],\n",
    "#     'gamma':['auto','scale'],\n",
    "#     'max_iter':[500,700,900,1100,1300,1500,1700],\n",
    "    'max_iter':[500,700],\n",
    "    \n",
    "}\n",
    "parameters_linear_reg = {'fit_intercept':[True,False], 'normalize':[True,False], 'copy_X':[True, False]}"
   ]
  },
  {
   "cell_type": "code",
   "execution_count": 136,
   "metadata": {},
   "outputs": [
    {
     "name": "stdout",
     "output_type": "stream",
     "text": [
      "Final accuracy is 18.856986719857048 \n",
      "\n",
      "Cross Validate score is 13.301737130076196\n",
      "\n",
      "LinearRegression()\n",
      "\n",
      "{'copy_X': True, 'fit_intercept': True, 'normalize': False}\n",
      "\n",
      "=====================================================\n",
      "Final accuracy is 10.070920521567716 \n",
      "\n",
      "Cross Validate score is 5.046396444402768\n",
      "\n",
      "KNeighborsRegressor(n_neighbors=9)\n",
      "\n",
      "{'n_neighbors': 9, 'weights': 'uniform'}\n",
      "\n",
      "=====================================================\n",
      "Final accuracy is 12.677114963495661 \n",
      "\n",
      "Cross Validate score is 0.5124894560979198\n",
      "\n",
      "SVR(kernel='linear', max_iter=500)\n",
      "\n",
      "{'kernel': 'linear', 'max_iter': 500}\n",
      "\n",
      "=====================================================\n",
      "Final accuracy is 22.031352989121878 \n",
      "\n",
      "Cross Validate score is 11.225654147115366\n",
      "\n",
      "DecisionTreeRegressor(max_depth=5, max_features='auto', random_state=246)\n",
      "\n",
      "{'criterion': 'mse', 'max_depth': 5, 'max_features': 'auto', 'random_state': 246}\n",
      "\n",
      "=====================================================\n",
      "Final accuracy is 18.575420783254202 \n",
      "\n",
      "Cross Validate score is 13.369194050607014\n",
      "\n",
      "SGDRegressor(alpha=0.01, max_iter=2000, penalty='l1')\n",
      "\n",
      "{'alpha': 0.01, 'max_iter': 2000, 'penalty': 'l1'}\n",
      "\n",
      "=====================================================\n",
      "Best model name is :  GridSearchCV(cv=5, estimator=DecisionTreeRegressor(),\n",
      "             param_grid={'criterion': ['mse', 'mae'], 'max_depth': [5],\n",
      "                         'max_features': ['auto', 'sqrt'],\n",
      "                         'random_state': [246]},\n",
      "             scoring='r2')\n"
     ]
    }
   ],
   "source": [
    "parameter_lis=[parameters_linear_reg,parameters_knn_reg,parameters_svr_reg,parameters_deci_tree,parameters_sgd]\n",
    "models=[LinearRegression(),KNeighborsRegressor(),SVR(),DecisionTreeRegressor(),SGDRegressor()]\n",
    "models_name=['LinearRegression','KNeighborsRegressor','SVR','DecisionTreeRegressor','SGDRegressor']\n",
    "lis_pipes=[]    \n",
    "best_score=0\n",
    "best_model_name=''\n",
    "cv_score=0\n",
    "for n,model,model_name,parameter in zip(np.arange(1,6),models,models_name,parameter_lis):\n",
    "    lis_pipes.append(Pipeline([(model_name,GridSearchCV(estimator=model,param_grid=parameter,cv=5,scoring='r2'))]))\n",
    "\n",
    "for model in lis_pipes:\n",
    "    gsv=model.fit(X_train,y_train)\n",
    "    pred=gsv[0].best_estimator_.predict(X_test)\n",
    "    r2score=r2_score(y_test,pred)\n",
    "    crv=cross_val_score(model,X_train,y_train,cv=2).mean()\n",
    "    print(f\"Final accuracy is {r2score*100} \\n\\nCross Validate score is {(crv*100)}\\n\\n{gsv[0].best_estimator_}\\n\\n{gsv[0].best_params_}\\n\\n=====================================================\")\n",
    "    if r2score>best_score and crv>0:\n",
    "        best_score=r2score\n",
    "        best_model_name=[]\n",
    "        best_model_name.append(gsv[0])\n",
    "        \n",
    "print(f\"Best model name is :  {best_model_name[0]}\")"
   ]
  },
  {
   "cell_type": "code",
   "execution_count": 137,
   "metadata": {},
   "outputs": [],
   "source": [
    "######  criterion{“mse”, “mae”}, default=”mse”\n",
    "def rndtree(a,b):\n",
    "    accu=0\n",
    "    best_n=0\n",
    "    for i in a:\n",
    "        mod=RandomForestRegressor(n_estimators=i,random_state=b)\n",
    "        mod.fit(X_train,y_train)\n",
    "        pred = mod.predict(X_test)\n",
    "        accuracy=r2_score(y_test,pred)\n",
    "        if accuracy>accu:\n",
    "            accu=accuracy\n",
    "            best_n=i\n",
    "    mod=RandomForestRegressor(n_estimators=best_n,random_state=b)\n",
    "    mod.fit(X_train,y_train)\n",
    "    predictions = mod.predict(X_test)\n",
    "    print(r2_score(y_test,predictions)*100)\n",
    "    print((cross_val_score(RandomForestRegressor(),X_train,y_train,cv=5).mean()*100))\n",
    "    print(\"best n is \", best_n)"
   ]
  },
  {
   "cell_type": "code",
   "execution_count": 138,
   "metadata": {},
   "outputs": [
    {
     "name": "stdout",
     "output_type": "stream",
     "text": [
      "20.244467262856624\n",
      "14.214191016925698\n",
      "best n is  169\n"
     ]
    }
   ],
   "source": [
    "rndtree(list(np.arange(120,170)),246)"
   ]
  },
  {
   "cell_type": "code",
   "execution_count": 139,
   "metadata": {},
   "outputs": [],
   "source": [
    "def rftree(a,b,c):\n",
    "    mod=RandomForestRegressor(n_estimators=i,random_state=b,criterion=c)\n",
    "    mod.fit(X_train,y_train)\n",
    "    pred = mod.predict(X_test)\n",
    "    print(r2_score(y_test,pred)*100)\n",
    "    print((cross_val_score(RandomForestRegressor(n_estimators=i,random_state=b,criterion=c),X_train,y_train,cv=5).mean()*100))"
   ]
  },
  {
   "cell_type": "code",
   "execution_count": 140,
   "metadata": {},
   "outputs": [
    {
     "name": "stdout",
     "output_type": "stream",
     "text": [
      "20.492231151890984\n",
      "14.85474257649769\n"
     ]
    }
   ],
   "source": [
    "rftree(169,246,'mae')"
   ]
  },
  {
   "cell_type": "code",
   "execution_count": 141,
   "metadata": {},
   "outputs": [
    {
     "name": "stdout",
     "output_type": "stream",
     "text": [
      "20.26701089096864\n",
      "14.370532757768265\n"
     ]
    }
   ],
   "source": [
    "rftree(169,246,'mse')"
   ]
  },
  {
   "cell_type": "code",
   "execution_count": 142,
   "metadata": {},
   "outputs": [
    {
     "data": {
      "text/plain": [
       "RandomForestRegressor(n_estimators=155, random_state=133)"
      ]
     },
     "execution_count": 142,
     "metadata": {},
     "output_type": "execute_result"
    }
   ],
   "source": [
    "rfc=RandomForestRegressor(n_estimators=155,random_state=133,criterion='mae')\n",
    "rfc.fit(X_train,y_train)"
   ]
  },
  {
   "cell_type": "code",
   "execution_count": null,
   "metadata": {},
   "outputs": [],
   "source": []
  },
  {
   "cell_type": "code",
   "execution_count": null,
   "metadata": {},
   "outputs": [],
   "source": []
  },
  {
   "cell_type": "code",
   "execution_count": null,
   "metadata": {},
   "outputs": [],
   "source": []
  },
  {
   "cell_type": "code",
   "execution_count": null,
   "metadata": {},
   "outputs": [],
   "source": []
  },
  {
   "cell_type": "markdown",
   "metadata": {},
   "source": [
    "# Conclusion: Best Model DescisionRegressor from all above models"
   ]
  },
  {
   "cell_type": "code",
   "execution_count": 143,
   "metadata": {},
   "outputs": [],
   "source": [
    "import pickle\n",
    "file_name='restaurant_cost.pkl'\n",
    "pickle.dump(rfc,open(file_name,'wb'))"
   ]
  }
 ],
 "metadata": {
  "kernelspec": {
   "display_name": "Python 3",
   "language": "python",
   "name": "python3"
  },
  "language_info": {
   "codemirror_mode": {
    "name": "ipython",
    "version": 3
   },
   "file_extension": ".py",
   "mimetype": "text/x-python",
   "name": "python",
   "nbconvert_exporter": "python",
   "pygments_lexer": "ipython3",
   "version": "3.8.3"
  }
 },
 "nbformat": 4,
 "nbformat_minor": 4
}
